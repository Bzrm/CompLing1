{
  "nbformat": 4,
  "nbformat_minor": 0,
  "metadata": {
    "colab": {
      "name": "Untitled27.ipynb",
      "provenance": []
    },
    "kernelspec": {
      "name": "python3",
      "display_name": "Python 3"
    }
  },
  "cells": [
    {
      "cell_type": "markdown",
      "metadata": {
        "id": "Uqsju7aUrKDd",
        "colab_type": "text"
      },
      "source": [
        "###Данные"
      ]
    },
    {
      "cell_type": "code",
      "metadata": {
        "id": "H0y9vHaCdERj",
        "colab_type": "code",
        "outputId": "a5d75361-b068-460e-a9d8-a0b0d4256a3e",
        "colab": {
          "base_uri": "https://localhost:8080/",
          "height": 124
        }
      },
      "source": [
        "from google.colab import drive\n",
        "drive.mount('/content/drive')"
      ],
      "execution_count": 1,
      "outputs": [
        {
          "output_type": "stream",
          "text": [
            "Go to this URL in a browser: https://accounts.google.com/o/oauth2/auth?client_id=947318989803-6bn6qk8qdgf4n4g3pfee6491hc0brc4i.apps.googleusercontent.com&redirect_uri=urn%3aietf%3awg%3aoauth%3a2.0%3aoob&response_type=code&scope=email%20https%3a%2f%2fwww.googleapis.com%2fauth%2fdocs.test%20https%3a%2f%2fwww.googleapis.com%2fauth%2fdrive%20https%3a%2f%2fwww.googleapis.com%2fauth%2fdrive.photos.readonly%20https%3a%2f%2fwww.googleapis.com%2fauth%2fpeopleapi.readonly\n",
            "\n",
            "Enter your authorization code:\n",
            "··········\n",
            "Mounted at /content/drive\n"
          ],
          "name": "stdout"
        }
      ]
    },
    {
      "cell_type": "code",
      "metadata": {
        "id": "XhFSY3AqdNiD",
        "colab_type": "code",
        "outputId": "bedfffa3-ac3f-4885-d3c6-ff89d1479fb2",
        "colab": {
          "base_uri": "https://localhost:8080/",
          "height": 87
        }
      },
      "source": [
        "!unzip '/content/drive/My Drive/data.zip'"
      ],
      "execution_count": 2,
      "outputs": [
        {
          "output_type": "stream",
          "text": [
            "Archive:  /content/drive/My Drive/data.zip\n",
            "  inflating: avito_data.csv          \n",
            "  inflating: quora.csv               \n",
            "  inflating: __MACOSX/._quora.csv    \n"
          ],
          "name": "stdout"
        }
      ]
    },
    {
      "cell_type": "code",
      "metadata": {
        "id": "419afkWCrOzY",
        "colab_type": "code",
        "colab": {}
      },
      "source": [
        "!pip install pandas scikit-learn gensim matplotlib"
      ],
      "execution_count": 0,
      "outputs": []
    },
    {
      "cell_type": "code",
      "metadata": {
        "id": "4OpfZjwWrUII",
        "colab_type": "code",
        "colab": {}
      },
      "source": [
        "import pandas as pd\n",
        "import numpy as np\n",
        "from string import punctuation\n",
        "from sklearn.model_selection import train_test_split\n",
        "from collections import Counter\n",
        "import matplotlib.pyplot as plt\n",
        "%matplotlib inline"
      ],
      "execution_count": 0,
      "outputs": []
    },
    {
      "cell_type": "code",
      "metadata": {
        "id": "Iid9D28ss-Tw",
        "colab_type": "code",
        "colab": {}
      },
      "source": [
        "from sklearn.metrics import classification_report"
      ],
      "execution_count": 0,
      "outputs": []
    },
    {
      "cell_type": "code",
      "metadata": {
        "id": "cvNx0nd-rQkX",
        "colab_type": "code",
        "colab": {}
      },
      "source": [
        "import tensorflow as tf"
      ],
      "execution_count": 0,
      "outputs": []
    },
    {
      "cell_type": "code",
      "metadata": {
        "id": "A6WikndQrebm",
        "colab_type": "code",
        "colab": {}
      },
      "source": [
        "avito = pd.read_csv('avito_data.csv').dropna()"
      ],
      "execution_count": 0,
      "outputs": []
    },
    {
      "cell_type": "code",
      "metadata": {
        "id": "itEnqNoArziw",
        "colab_type": "code",
        "outputId": "064648ba-ad94-4582-85ab-481118eb2fe0",
        "colab": {
          "base_uri": "https://localhost:8080/",
          "height": 415
        }
      },
      "source": [
        "avito"
      ],
      "execution_count": 7,
      "outputs": [
        {
          "output_type": "execute_result",
          "data": {
            "text/html": [
              "<div>\n",
              "<style scoped>\n",
              "    .dataframe tbody tr th:only-of-type {\n",
              "        vertical-align: middle;\n",
              "    }\n",
              "\n",
              "    .dataframe tbody tr th {\n",
              "        vertical-align: top;\n",
              "    }\n",
              "\n",
              "    .dataframe thead th {\n",
              "        text-align: right;\n",
              "    }\n",
              "</style>\n",
              "<table border=\"1\" class=\"dataframe\">\n",
              "  <thead>\n",
              "    <tr style=\"text-align: right;\">\n",
              "      <th></th>\n",
              "      <th>description</th>\n",
              "      <th>deal_probability</th>\n",
              "    </tr>\n",
              "  </thead>\n",
              "  <tbody>\n",
              "    <tr>\n",
              "      <th>0</th>\n",
              "      <td>Кокон для сна малыша,пользовались меньше месяц...</td>\n",
              "      <td>0.12789</td>\n",
              "    </tr>\n",
              "    <tr>\n",
              "      <th>1</th>\n",
              "      <td>Стойка для одежды, под вешалки. С бутика.</td>\n",
              "      <td>0.00000</td>\n",
              "    </tr>\n",
              "    <tr>\n",
              "      <th>2</th>\n",
              "      <td>В хорошем состоянии, домашний кинотеатр с blu ...</td>\n",
              "      <td>0.43177</td>\n",
              "    </tr>\n",
              "    <tr>\n",
              "      <th>3</th>\n",
              "      <td>Продам кресло от0-25кг</td>\n",
              "      <td>0.80323</td>\n",
              "    </tr>\n",
              "    <tr>\n",
              "      <th>4</th>\n",
              "      <td>Все вопросы по телефону.</td>\n",
              "      <td>0.20797</td>\n",
              "    </tr>\n",
              "    <tr>\n",
              "      <th>...</th>\n",
              "      <td>...</td>\n",
              "      <td>...</td>\n",
              "    </tr>\n",
              "    <tr>\n",
              "      <th>1503418</th>\n",
              "      <td>В хорошем состоянии,  ткань плотная (рисунок т...</td>\n",
              "      <td>0.12869</td>\n",
              "    </tr>\n",
              "    <tr>\n",
              "      <th>1503420</th>\n",
              "      <td>Произведем бесплатный замер, изготовим и устан...</td>\n",
              "      <td>0.60000</td>\n",
              "    </tr>\n",
              "    <tr>\n",
              "      <th>1503421</th>\n",
              "      <td>Продам квартиру с отличным ремонтом , две лодж...</td>\n",
              "      <td>0.39569</td>\n",
              "    </tr>\n",
              "    <tr>\n",
              "      <th>1503422</th>\n",
              "      <td>Продам красивые туфли в хорошем состоянии!</td>\n",
              "      <td>0.00000</td>\n",
              "    </tr>\n",
              "    <tr>\n",
              "      <th>1503423</th>\n",
              "      <td>ПРЕДЛАГАЕМ ВАШЕМУ ВНИМАНИЮ УНИКАЛЬНЫЕ ИГРУШКИ ...</td>\n",
              "      <td>0.00000</td>\n",
              "    </tr>\n",
              "  </tbody>\n",
              "</table>\n",
              "<p>1387148 rows × 2 columns</p>\n",
              "</div>"
            ],
            "text/plain": [
              "                                               description  deal_probability\n",
              "0        Кокон для сна малыша,пользовались меньше месяц...           0.12789\n",
              "1                Стойка для одежды, под вешалки. С бутика.           0.00000\n",
              "2        В хорошем состоянии, домашний кинотеатр с blu ...           0.43177\n",
              "3                                   Продам кресло от0-25кг           0.80323\n",
              "4                                 Все вопросы по телефону.           0.20797\n",
              "...                                                    ...               ...\n",
              "1503418  В хорошем состоянии,  ткань плотная (рисунок т...           0.12869\n",
              "1503420  Произведем бесплатный замер, изготовим и устан...           0.60000\n",
              "1503421  Продам квартиру с отличным ремонтом , две лодж...           0.39569\n",
              "1503422         Продам красивые туфли в хорошем состоянии!           0.00000\n",
              "1503423  ПРЕДЛАГАЕМ ВАШЕМУ ВНИМАНИЮ УНИКАЛЬНЫЕ ИГРУШКИ ...           0.00000\n",
              "\n",
              "[1387148 rows x 2 columns]"
            ]
          },
          "metadata": {
            "tags": []
          },
          "execution_count": 7
        }
      ]
    },
    {
      "cell_type": "markdown",
      "metadata": {
        "id": "4FBUTsrir3B5",
        "colab_type": "text"
      },
      "source": [
        "Предобработка"
      ]
    },
    {
      "cell_type": "code",
      "metadata": {
        "id": "ralYv8zer1ge",
        "colab_type": "code",
        "colab": {}
      },
      "source": [
        "def preprocess(text):\n",
        "    tokens = text.lower().split()\n",
        "    tokens = [token.strip(punctuation) for token in tokens]\n",
        "    return tokens"
      ],
      "execution_count": 0,
      "outputs": []
    },
    {
      "cell_type": "code",
      "metadata": {
        "id": "CeS_A1o7r5wh",
        "colab_type": "code",
        "colab": {}
      },
      "source": [
        "vocab = Counter()\n",
        "\n",
        "for text in avito.description:\n",
        "    vocab.update(preprocess(text))"
      ],
      "execution_count": 0,
      "outputs": []
    },
    {
      "cell_type": "code",
      "metadata": {
        "id": "-NHBj4btr7Vf",
        "colab_type": "code",
        "outputId": "e6f52f18-62d1-422a-d49c-58420e079509",
        "colab": {
          "base_uri": "https://localhost:8080/",
          "height": 35
        }
      },
      "source": [
        "len(vocab)"
      ],
      "execution_count": 10,
      "outputs": [
        {
          "output_type": "execute_result",
          "data": {
            "text/plain": [
              "1429855"
            ]
          },
          "metadata": {
            "tags": []
          },
          "execution_count": 10
        }
      ]
    },
    {
      "cell_type": "code",
      "metadata": {
        "id": "gN9YuCv9r8vR",
        "colab_type": "code",
        "colab": {}
      },
      "source": [
        "filtered_vocab = set()\n",
        "\n",
        "for word in vocab:\n",
        "    if vocab[word] > 30:\n",
        "        filtered_vocab.add(word)"
      ],
      "execution_count": 0,
      "outputs": []
    },
    {
      "cell_type": "code",
      "metadata": {
        "id": "uznMD1DEr-ZQ",
        "colab_type": "code",
        "outputId": "df9b6296-15f9-4179-a64c-3c98d60d4cee",
        "colab": {
          "base_uri": "https://localhost:8080/",
          "height": 35
        }
      },
      "source": [
        "len(filtered_vocab)"
      ],
      "execution_count": 12,
      "outputs": [
        {
          "output_type": "execute_result",
          "data": {
            "text/plain": [
              "54266"
            ]
          },
          "metadata": {
            "tags": []
          },
          "execution_count": 12
        }
      ]
    },
    {
      "cell_type": "code",
      "metadata": {
        "id": "RLL1lrpGsA2p",
        "colab_type": "code",
        "colab": {}
      },
      "source": [
        "word2id = {'UNK':1, 'PAD':0}\n",
        "\n",
        "for word in filtered_vocab:\n",
        "    word2id[word] = len(word2id)"
      ],
      "execution_count": 0,
      "outputs": []
    },
    {
      "cell_type": "code",
      "metadata": {
        "id": "7gR3JhZXsDPA",
        "colab_type": "code",
        "colab": {}
      },
      "source": [
        "id2word = {i:word for word, i in word2id.items()}"
      ],
      "execution_count": 0,
      "outputs": []
    },
    {
      "cell_type": "code",
      "metadata": {
        "id": "_UYAxsNisEhu",
        "colab_type": "code",
        "colab": {}
      },
      "source": [
        "\n",
        "X = []\n",
        "\n",
        "for text in avito.description:\n",
        "    tokens = preprocess(text)\n",
        "    ids = [word2id.get(token, 1) for token in tokens]\n",
        "    X.append(ids)"
      ],
      "execution_count": 0,
      "outputs": []
    },
    {
      "cell_type": "code",
      "metadata": {
        "id": "PPKK7ZMHsGWh",
        "colab_type": "code",
        "colab": {}
      },
      "source": [
        "MAX_LEN = max(len(x) for x in X)"
      ],
      "execution_count": 0,
      "outputs": []
    },
    {
      "cell_type": "code",
      "metadata": {
        "id": "0pRKrBRSsIcR",
        "colab_type": "code",
        "outputId": "63deb91a-6754-47a5-9910-b668ff46ccb4",
        "colab": {
          "base_uri": "https://localhost:8080/",
          "height": 35
        }
      },
      "source": [
        "MAX_LEN"
      ],
      "execution_count": 17,
      "outputs": [
        {
          "output_type": "execute_result",
          "data": {
            "text/plain": [
              "711"
            ]
          },
          "metadata": {
            "tags": []
          },
          "execution_count": 17
        }
      ]
    },
    {
      "cell_type": "code",
      "metadata": {
        "id": "qUD_ODoysKL4",
        "colab_type": "code",
        "colab": {}
      },
      "source": [
        "MAX_LEN = 100"
      ],
      "execution_count": 0,
      "outputs": []
    },
    {
      "cell_type": "code",
      "metadata": {
        "id": "BNlyZoCZsLxB",
        "colab_type": "code",
        "colab": {}
      },
      "source": [
        "X = tf.keras.preprocessing.sequence.pad_sequences(X, maxlen=MAX_LEN)"
      ],
      "execution_count": 0,
      "outputs": []
    },
    {
      "cell_type": "code",
      "metadata": {
        "id": "q7-DQEJwsO6A",
        "colab_type": "code",
        "outputId": "320a876e-db02-420d-cea9-727f1cc96bae",
        "colab": {
          "base_uri": "https://localhost:8080/",
          "height": 35
        }
      },
      "source": [
        "X.shape"
      ],
      "execution_count": 20,
      "outputs": [
        {
          "output_type": "execute_result",
          "data": {
            "text/plain": [
              "(1387148, 100)"
            ]
          },
          "metadata": {
            "tags": []
          },
          "execution_count": 20
        }
      ]
    },
    {
      "cell_type": "code",
      "metadata": {
        "id": "tuIlc-D2sPSJ",
        "colab_type": "code",
        "colab": {}
      },
      "source": [
        "y = avito.deal_probability.values"
      ],
      "execution_count": 0,
      "outputs": []
    },
    {
      "cell_type": "code",
      "metadata": {
        "id": "8T-3ivYnsUpp",
        "colab_type": "code",
        "colab": {}
      },
      "source": [
        "X_train, X_valid, y_train, y_valid = train_test_split(X, y, test_size=0.05, random_state = 12) "
      ],
      "execution_count": 0,
      "outputs": []
    },
    {
      "cell_type": "code",
      "metadata": {
        "id": "K_yKgOvjsgJ_",
        "colab_type": "code",
        "colab": {}
      },
      "source": [
        ""
      ],
      "execution_count": 0,
      "outputs": []
    },
    {
      "cell_type": "markdown",
      "metadata": {
        "id": "ZfQIPcz1snSm",
        "colab_type": "text"
      },
      "source": [
        "###Первое задание"
      ]
    },
    {
      "cell_type": "markdown",
      "metadata": {
        "id": "nsMbti9dswNp",
        "colab_type": "text"
      },
      "source": [
        "Склеивание"
      ]
    },
    {
      "cell_type": "code",
      "metadata": {
        "id": "G--z4qaAsgap",
        "colab_type": "code",
        "colab": {}
      },
      "source": [
        "model = tf.keras.Sequential()\n",
        "# первым добавляем эмбединг слой\n",
        "# он каждому слову сопоставит вектор заданой размерности\n",
        "# также нам нужно передать параметры нашей выборки - размер словаря (input_dim) и длинну текста (input_length)\n",
        "model.add(tf.keras.layers.Embedding(input_dim=len(word2id), \n",
        "                                    input_length=MAX_LEN, output_dim=100))\n",
        "\n",
        "# вообще для работы с последовательностями нужно использовать рекурентные или сверточные слои\n",
        "# но с ними мы познакомимся в следующий раз\n",
        "# Пока, чтобы получить один вектор из последовательности векторов,\n",
        "# просто склеим их в один \n",
        "model.add(tf.keras.layers.Flatten())\n",
        "\n",
        "# теперь можно добавить любое количество полносвязных слоев, но не обязательно\n",
        "# model.add(tf.keras.layers.Dense(100, activation='relu'))\n",
        "\n",
        "# теперь последний слой, выход которого и будет предсказанием\n",
        "# тут нужно указать количество классов и функцию активации\n",
        "# в задаче регрессии мы предсказываем одно число == один класс, \n",
        "# а активация в задаче регрессии должна быть linear или sigmoid, если число от 0 до 1 (как у нас в задаче)\n",
        "model.add(tf.keras.layers.Dense(1, activation='sigmoid'))\n",
        "#model.add(tf.keras.layers.Dense(1, activation='linear'))\n",
        "\n",
        "# компилируем модель\n",
        "# выбираем лосс - функция, по которой модель будет оценивать качество и обновлять веса\n",
        "# для регрессии стандартно используется mean_squared_error\n",
        "# выбираем оптимизатор - он влияет на то, как будет обновляться модель \n",
        "# (подробнее вот тут - \n",
        "# https://medium.com/datadriveninvestor/overview-of-different-optimizers-for-neural-networks-e0ed119440c3 ).\n",
        "# По умолчанию можно ставить adam и менять только learning_rate\n",
        "\n",
        "# также можно указать метрики, по которым уже мы будет оценивать качество модели и принимать решения о смене параметров\n",
        "# мы используем метрику соревнования RMSE\n",
        "adam_optimizer = tf.keras.optimizers.Adam(learning_rate=0.001)\n",
        "model.compile(optimizer=adam_optimizer, loss='mse', metrics=[tf.keras.metrics.RootMeanSquaredError()])"
      ],
      "execution_count": 0,
      "outputs": []
    },
    {
      "cell_type": "code",
      "metadata": {
        "id": "22jGBoN1szk5",
        "colab_type": "code",
        "outputId": "965cee94-826d-43f8-8ae2-5e58fd770865",
        "colab": {
          "base_uri": "https://localhost:8080/",
          "height": 401
        }
      },
      "source": [
        "model.fit(X_train, y_train, \n",
        "          validation_data=(X_valid, y_valid),\n",
        "          batch_size=512,\n",
        "         epochs=10)"
      ],
      "execution_count": 25,
      "outputs": [
        {
          "output_type": "stream",
          "text": [
            "Epoch 1/10\n",
            "2574/2574 [==============================] - 201s 78ms/step - loss: 0.0599 - root_mean_squared_error: 0.2447 - val_loss: 0.0582 - val_root_mean_squared_error: 0.2413\n",
            "Epoch 2/10\n",
            "2574/2574 [==============================] - 201s 78ms/step - loss: 0.0528 - root_mean_squared_error: 0.2298 - val_loss: 0.0601 - val_root_mean_squared_error: 0.2451\n",
            "Epoch 3/10\n",
            "2574/2574 [==============================] - 205s 80ms/step - loss: 0.0423 - root_mean_squared_error: 0.2058 - val_loss: 0.0642 - val_root_mean_squared_error: 0.2533\n",
            "Epoch 4/10\n",
            "2574/2574 [==============================] - 201s 78ms/step - loss: 0.0365 - root_mean_squared_error: 0.1910 - val_loss: 0.0683 - val_root_mean_squared_error: 0.2612\n",
            "Epoch 5/10\n",
            "2574/2574 [==============================] - 201s 78ms/step - loss: 0.0334 - root_mean_squared_error: 0.1828 - val_loss: 0.0716 - val_root_mean_squared_error: 0.2676\n",
            "Epoch 6/10\n",
            "2574/2574 [==============================] - 204s 79ms/step - loss: 0.0315 - root_mean_squared_error: 0.1774 - val_loss: 0.0732 - val_root_mean_squared_error: 0.2705\n",
            "Epoch 7/10\n",
            "2574/2574 [==============================] - 204s 79ms/step - loss: 0.0302 - root_mean_squared_error: 0.1738 - val_loss: 0.0776 - val_root_mean_squared_error: 0.2785\n",
            "Epoch 8/10\n",
            "2574/2574 [==============================] - 206s 80ms/step - loss: 0.0292 - root_mean_squared_error: 0.1710 - val_loss: 0.0785 - val_root_mean_squared_error: 0.2802\n",
            "Epoch 9/10\n",
            "2574/2574 [==============================] - 208s 81ms/step - loss: 0.0285 - root_mean_squared_error: 0.1688 - val_loss: 0.0794 - val_root_mean_squared_error: 0.2818\n",
            "Epoch 10/10\n",
            "2574/2574 [==============================] - 207s 80ms/step - loss: 0.0279 - root_mean_squared_error: 0.1670 - val_loss: 0.0808 - val_root_mean_squared_error: 0.2842\n"
          ],
          "name": "stdout"
        },
        {
          "output_type": "execute_result",
          "data": {
            "text/plain": [
              "<tensorflow.python.keras.callbacks.History at 0x7fd121226588>"
            ]
          },
          "metadata": {
            "tags": []
          },
          "execution_count": 25
        }
      ]
    },
    {
      "cell_type": "code",
      "metadata": {
        "id": "lEv5-24fs39u",
        "colab_type": "code",
        "outputId": "88c63658-631f-4d8b-c037-17f3a529e911",
        "colab": {
          "base_uri": "https://localhost:8080/",
          "height": 313
        }
      },
      "source": [
        "print(model.history.history.keys())\n",
        "# summarize history for accuracy\n",
        "plt.plot(model.history.history['root_mean_squared_error'])\n",
        "plt.plot(model.history.history['val_root_mean_squared_error'])\n",
        "plt.title('model RMSE')\n",
        "plt.ylabel('RMSE')\n",
        "plt.xlabel('epoch')\n",
        "plt.legend(['train', 'val'], loc='upper left')\n",
        "plt.show()"
      ],
      "execution_count": 26,
      "outputs": [
        {
          "output_type": "stream",
          "text": [
            "dict_keys(['loss', 'root_mean_squared_error', 'val_loss', 'val_root_mean_squared_error'])\n"
          ],
          "name": "stdout"
        },
        {
          "output_type": "display_data",
          "data": {
            "image/png": "[encoded data removed]",
            "text/plain": [
              "<Figure size 432x288 with 1 Axes>"
            ]
          },
          "metadata": {
            "tags": [],
            "needs_background": "light"
          }
        }
      ]
    },
    {
      "cell_type": "markdown",
      "metadata": {
        "id": "pCByfYmijzMC",
        "colab_type": "text"
      },
      "source": [
        "Плохо"
      ]
    },
    {
      "cell_type": "markdown",
      "metadata": {
        "id": "toh0E3k8s74O",
        "colab_type": "text"
      },
      "source": [
        "Усреднение"
      ]
    },
    {
      "cell_type": "code",
      "metadata": {
        "id": "6xfALSHbs4ho",
        "colab_type": "code",
        "colab": {}
      },
      "source": [
        "# input можно не задавать и указывать параметры в эмбединг слое,\n",
        "# но это может пригодиться, когда мы хотим сделать больше входных слоев\n",
        "inputs = tf.keras.layers.Input(shape=(100,)) \n",
        "\n",
        "\n",
        "embeddings = tf.keras.layers.Embedding(input_dim=len(word2id), output_dim=10)(inputs) \n",
        "mean = tf.keras.layers.Lambda(lambda x: tf.keras.backend.mean(x,  axis=1))(embeddings)\n",
        "dense1 = tf.keras.layers.Dense(64, activation='sigmoid')(mean)\n",
        "dense2 = tf.keras.layers.Dense(64, activation='sigmoid')(dense1) \n",
        "outputs = tf.keras.layers.Dense(1, activation='linear')(dense2)\n",
        "\n",
        "model2 = tf.keras.Model(inputs=inputs, outputs=outputs)\n",
        "optimizer = tf.keras.optimizers.Adam(learning_rate=0.0001)\n",
        "model2.compile(optimizer=optimizer,\n",
        "              loss='mse',\n",
        "              metrics=[tf.keras.metrics.RootMeanSquaredError()])"
      ],
      "execution_count": 0,
      "outputs": []
    },
    {
      "cell_type": "code",
      "metadata": {
        "id": "i2ouxSlis-di",
        "colab_type": "code",
        "outputId": "43a72473-cf81-4b1e-eeba-dd9c40f95164",
        "colab": {
          "base_uri": "https://localhost:8080/",
          "height": 401
        }
      },
      "source": [
        "model2.fit(X_train, y_train, \n",
        "          validation_data=(X_valid, y_valid),\n",
        "          batch_size=512,\n",
        "         epochs=10)"
      ],
      "execution_count": 41,
      "outputs": [
        {
          "output_type": "stream",
          "text": [
            "Epoch 1/10\n",
            "2574/2574 [==============================] - 34s 13ms/step - loss: 0.0695 - root_mean_squared_error: 0.2636 - val_loss: 0.0680 - val_root_mean_squared_error: 0.2607\n",
            "Epoch 2/10\n",
            "2574/2574 [==============================] - 35s 14ms/step - loss: 0.0655 - root_mean_squared_error: 0.2559 - val_loss: 0.0635 - val_root_mean_squared_error: 0.2519\n",
            "Epoch 3/10\n",
            "2574/2574 [==============================] - 33s 13ms/step - loss: 0.0626 - root_mean_squared_error: 0.2502 - val_loss: 0.0621 - val_root_mean_squared_error: 0.2492\n",
            "Epoch 4/10\n",
            "2574/2574 [==============================] - 33s 13ms/step - loss: 0.0616 - root_mean_squared_error: 0.2481 - val_loss: 0.0614 - val_root_mean_squared_error: 0.2478\n",
            "Epoch 5/10\n",
            "2574/2574 [==============================] - 34s 13ms/step - loss: 0.0608 - root_mean_squared_error: 0.2467 - val_loss: 0.0609 - val_root_mean_squared_error: 0.2468\n",
            "Epoch 6/10\n",
            "2574/2574 [==============================] - 33s 13ms/step - loss: 0.0603 - root_mean_squared_error: 0.2455 - val_loss: 0.0606 - val_root_mean_squared_error: 0.2462\n",
            "Epoch 7/10\n",
            "2574/2574 [==============================] - 34s 13ms/step - loss: 0.0598 - root_mean_squared_error: 0.2446 - val_loss: 0.0603 - val_root_mean_squared_error: 0.2456\n",
            "Epoch 8/10\n",
            "2574/2574 [==============================] - 35s 14ms/step - loss: 0.0595 - root_mean_squared_error: 0.2439 - val_loss: 0.0603 - val_root_mean_squared_error: 0.2455\n",
            "Epoch 9/10\n",
            "2574/2574 [==============================] - 37s 14ms/step - loss: 0.0592 - root_mean_squared_error: 0.2433 - val_loss: 0.0601 - val_root_mean_squared_error: 0.2451\n",
            "Epoch 10/10\n",
            "2574/2574 [==============================] - 34s 13ms/step - loss: 0.0589 - root_mean_squared_error: 0.2428 - val_loss: 0.0601 - val_root_mean_squared_error: 0.2451\n"
          ],
          "name": "stdout"
        },
        {
          "output_type": "execute_result",
          "data": {
            "text/plain": [
              "<tensorflow.python.keras.callbacks.History at 0x7fd11b07d668>"
            ]
          },
          "metadata": {
            "tags": []
          },
          "execution_count": 41
        }
      ]
    },
    {
      "cell_type": "code",
      "metadata": {
        "id": "5CRFMIsGtAHh",
        "colab_type": "code",
        "outputId": "bb21507b-e05b-42e3-8de3-0904955d09b4",
        "colab": {
          "base_uri": "https://localhost:8080/",
          "height": 313
        }
      },
      "source": [
        "print(model2.history.history.keys())\n",
        "# summarize history for accuracy\n",
        "plt.plot(model2.history.history['root_mean_squared_error'])\n",
        "plt.plot(model2.history.history['val_root_mean_squared_error'])\n",
        "plt.title('model RMSE')\n",
        "plt.ylabel('RMSE')\n",
        "plt.xlabel('epoch')\n",
        "plt.legend(['train', 'val'], loc='upper left')\n",
        "plt.show()"
      ],
      "execution_count": 42,
      "outputs": [
        {
          "output_type": "stream",
          "text": [
            "dict_keys(['loss', 'root_mean_squared_error', 'val_loss', 'val_root_mean_squared_error'])\n"
          ],
          "name": "stdout"
        },
        {
          "output_type": "display_data",
          "data": {
            "image/png": "[encoded data removed]",
            "text/plain": [
              "<Figure size 432x288 with 1 Axes>"
            ]
          },
          "metadata": {
            "tags": [],
            "needs_background": "light"
          }
        }
      ]
    },
    {
      "cell_type": "markdown",
      "metadata": {
        "id": "J8wBLVadmeas",
        "colab_type": "text"
      },
      "source": [
        "loss: 0.0589 - root_mean_squared_error: 0.2428 - val_loss: 0.0601 - val_root_mean_squared_error: 0.2451\n",
        "\n",
        "С усреднением лучше, чем со склеиванием, но до уровня конкатенации не дотягивает. "
      ]
    },
    {
      "cell_type": "markdown",
      "metadata": {
        "id": "RxFEXcHhwCpd",
        "colab_type": "text"
      },
      "source": [
        "Конкатенация"
      ]
    },
    {
      "cell_type": "code",
      "metadata": {
        "id": "4v9l4NC0wPoB",
        "colab_type": "code",
        "colab": {}
      },
      "source": [
        "# input можно не задавать и указывать параметры в эмбединг слое,\n",
        "# но это может пригодиться, когда мы хотим сделать больше входных слоев\n",
        "inputs = tf.keras.layers.Input(shape=(100,)) \n",
        "\n",
        "\n",
        "embeddings = tf.keras.layers.Embedding(input_dim=len(word2id), output_dim=10)(inputs) \n",
        "mean = tf.keras.layers.Lambda(lambda x: tf.keras.backend.sum(x,  axis=1))(embeddings) \n",
        "dense1 = tf.keras.layers.Dense(64, activation='linear')(mean)\n",
        "dense2 = tf.keras.layers.Dense(64, activation='sigmoid')(dense1) \n",
        "outputs = tf.keras.layers.Dense(1, activation='sigmoid')(dense2)\n",
        "\n",
        "model3 = tf.keras.Model(inputs=inputs, outputs=outputs)\n",
        "optimizer = tf.keras.optimizers.Adam(learning_rate=0.0001)\n",
        "model3.compile(optimizer=optimizer,\n",
        "              loss='mse',\n",
        "              metrics=[tf.keras.metrics.RootMeanSquaredError()])"
      ],
      "execution_count": 0,
      "outputs": []
    },
    {
      "cell_type": "code",
      "metadata": {
        "id": "o9dmdfqFtB0J",
        "colab_type": "code",
        "outputId": "daee2efd-7597-4579-a5dc-9fc12227e6c1",
        "colab": {
          "base_uri": "https://localhost:8080/",
          "height": 401
        }
      },
      "source": [
        "model3.fit(X_train, y_train, \n",
        "          validation_data=(X_valid, y_valid),\n",
        "          batch_size=512,\n",
        "         epochs=10)"
      ],
      "execution_count": 98,
      "outputs": [
        {
          "output_type": "stream",
          "text": [
            "Epoch 1/10\n",
            "2574/2574 [==============================] - 33s 13ms/step - loss: 0.0728 - root_mean_squared_error: 0.2698 - val_loss: 0.0607 - val_root_mean_squared_error: 0.2463\n",
            "Epoch 2/10\n",
            "2574/2574 [==============================] - 34s 13ms/step - loss: 0.0593 - root_mean_squared_error: 0.2434 - val_loss: 0.0592 - val_root_mean_squared_error: 0.2432\n",
            "Epoch 3/10\n",
            "2574/2574 [==============================] - 32s 13ms/step - loss: 0.0577 - root_mean_squared_error: 0.2402 - val_loss: 0.0586 - val_root_mean_squared_error: 0.2420\n",
            "Epoch 4/10\n",
            "2574/2574 [==============================] - 34s 13ms/step - loss: 0.0567 - root_mean_squared_error: 0.2382 - val_loss: 0.0586 - val_root_mean_squared_error: 0.2420\n",
            "Epoch 5/10\n",
            "2574/2574 [==============================] - 33s 13ms/step - loss: 0.0560 - root_mean_squared_error: 0.2366 - val_loss: 0.0583 - val_root_mean_squared_error: 0.2414\n",
            "Epoch 6/10\n",
            "2574/2574 [==============================] - 32s 13ms/step - loss: 0.0555 - root_mean_squared_error: 0.2355 - val_loss: 0.0582 - val_root_mean_squared_error: 0.2412\n",
            "Epoch 7/10\n",
            "2574/2574 [==============================] - 35s 13ms/step - loss: 0.0550 - root_mean_squared_error: 0.2346 - val_loss: 0.0583 - val_root_mean_squared_error: 0.2414\n",
            "Epoch 8/10\n",
            "2574/2574 [==============================] - 37s 14ms/step - loss: 0.0547 - root_mean_squared_error: 0.2338 - val_loss: 0.0587 - val_root_mean_squared_error: 0.2422\n",
            "Epoch 9/10\n",
            "2574/2574 [==============================] - 35s 13ms/step - loss: 0.0544 - root_mean_squared_error: 0.2331 - val_loss: 0.0585 - val_root_mean_squared_error: 0.2419\n",
            "Epoch 10/10\n",
            "2574/2574 [==============================] - 34s 13ms/step - loss: 0.0541 - root_mean_squared_error: 0.2325 - val_loss: 0.0585 - val_root_mean_squared_error: 0.2418\n"
          ],
          "name": "stdout"
        },
        {
          "output_type": "execute_result",
          "data": {
            "text/plain": [
              "<tensorflow.python.keras.callbacks.History at 0x7fd10ebcb2b0>"
            ]
          },
          "metadata": {
            "tags": []
          },
          "execution_count": 98
        }
      ]
    },
    {
      "cell_type": "code",
      "metadata": {
        "id": "vSinPvVCwf4D",
        "colab_type": "code",
        "outputId": "8ee8783d-bc72-4294-88da-871a02dae731",
        "colab": {
          "base_uri": "https://localhost:8080/",
          "height": 313
        }
      },
      "source": [
        "print(model3.history.history.keys())\n",
        "# summarize history for accuracy\n",
        "plt.plot(model3.history.history['root_mean_squared_error'])\n",
        "plt.plot(model3.history.history['val_root_mean_squared_error'])\n",
        "plt.title('model RMSE')\n",
        "plt.ylabel('RMSE')\n",
        "plt.xlabel('epoch')\n",
        "plt.legend(['train', 'val'], loc='upper left')\n",
        "plt.show()"
      ],
      "execution_count": 99,
      "outputs": [
        {
          "output_type": "stream",
          "text": [
            "dict_keys(['loss', 'root_mean_squared_error', 'val_loss', 'val_root_mean_squared_error'])\n"
          ],
          "name": "stdout"
        },
        {
          "output_type": "display_data",
          "data": {
            "image/png": "[encoded data removed]",
            "text/plain": [
              "<Figure size 432x288 with 1 Axes>"
            ]
          },
          "metadata": {
            "tags": [],
            "needs_background": "light"
          }
        }
      ]
    },
    {
      "cell_type": "markdown",
      "metadata": {
        "id": "4mBGE5J8pQjc",
        "colab_type": "text"
      },
      "source": [
        "loss: 0.0541 - root_mean_squared_error: 0.2325 - val_loss: 0.0585 - val_root_mean_squared_error: 0.2418 \n",
        "\n",
        "Это на последней эпохе. С конкатенацией лучше, чем с другими - loss rmse меньше. После шестой иттерации качество упало, но потом опять начало расти. Пробовал ставить меньше эпох, но тогда вообще не сходилась. "
      ]
    },
    {
      "cell_type": "code",
      "metadata": {
        "id": "Mb8owqkXrJ-0",
        "colab_type": "code",
        "colab": {}
      },
      "source": [
        ""
      ],
      "execution_count": 0,
      "outputs": []
    },
    {
      "cell_type": "code",
      "metadata": {
        "id": "-SDvKRErwiuz",
        "colab_type": "code",
        "colab": {}
      },
      "source": [
        ""
      ],
      "execution_count": 0,
      "outputs": []
    },
    {
      "cell_type": "markdown",
      "metadata": {
        "id": "fld5lYjDwhuK",
        "colab_type": "text"
      },
      "source": [
        "##Второе задание"
      ]
    },
    {
      "cell_type": "markdown",
      "metadata": {
        "id": "NYW575Bkww6T",
        "colab_type": "text"
      },
      "source": [
        "Свои эмбеддинги"
      ]
    },
    {
      "cell_type": "markdown",
      "metadata": {
        "id": "_FXlHpDKxOPa",
        "colab_type": "text"
      },
      "source": [
        "Первый"
      ]
    },
    {
      "cell_type": "code",
      "metadata": {
        "id": "HxWuRQTSwokL",
        "colab_type": "code",
        "colab": {}
      },
      "source": [
        "import gensim"
      ],
      "execution_count": 0,
      "outputs": []
    },
    {
      "cell_type": "code",
      "metadata": {
        "id": "-WhTa5cXw6f8",
        "colab_type": "code",
        "colab": {}
      },
      "source": [
        "texts = avito.description.apply(preprocess).tolist()"
      ],
      "execution_count": 0,
      "outputs": []
    },
    {
      "cell_type": "code",
      "metadata": {
        "id": "TGBPo3Bbw-5S",
        "colab_type": "code",
        "outputId": "90b538e9-be94-415c-db86-846d4ae8c83c",
        "colab": {
          "base_uri": "https://localhost:8080/",
          "height": 52
        }
      },
      "source": [
        "%%time\n",
        "ft1 = gensim.models.FastText(texts, size=100, iter=2, word_ngrams=3, min_count = 3)"
      ],
      "execution_count": 0,
      "outputs": [
        {
          "output_type": "stream",
          "text": [
            "CPU times: user 18min 3s, sys: 3.24 s, total: 18min 6s\n",
            "Wall time: 10min 8s\n"
          ],
          "name": "stdout"
        }
      ]
    },
    {
      "cell_type": "code",
      "metadata": {
        "id": "cWswk8xTxHkj",
        "colab_type": "code",
        "colab": {}
      },
      "source": [
        ""
      ],
      "execution_count": 0,
      "outputs": []
    },
    {
      "cell_type": "code",
      "metadata": {
        "id": "f0yHmJxRxEcy",
        "colab_type": "code",
        "outputId": "bec16e6e-4115-43a9-c745-3902629a134f",
        "colab": {
          "base_uri": "https://localhost:8080/",
          "height": 107
        }
      },
      "source": [
        "weights1 = np.zeros((len(word2id), 100))\n",
        "\n",
        "for word, i in word2id.items():\n",
        "    # вектор паддинга оставим нулевым\n",
        "    if word == 'PAD':\n",
        "        continue\n",
        "    \n",
        "    # для UNK будем использовать какой-то рандомный вектор\n",
        "    if word == 'UNK':\n",
        "        weights1[i] = ft1['какоераоваыпаопрвлоа']\n",
        "    \n",
        "    try:\n",
        "        weights1[i] = ft1[word]\n",
        "    \n",
        "    \n",
        "    except KeyError:\n",
        "        # для слов, которых нет в модели тоже возьмем какой-то  рандомный вектор\n",
        "        weights1[i] = ft1['опрагпллирао']"
      ],
      "execution_count": 0,
      "outputs": [
        {
          "output_type": "stream",
          "text": [
            "/usr/local/lib/python3.6/dist-packages/ipykernel_launcher.py:10: DeprecationWarning: Call to deprecated `__getitem__` (Method will be removed in 4.0.0, use self.wv.__getitem__() instead).\n",
            "  # Remove the CWD from sys.path while we load stuff.\n",
            "/usr/local/lib/python3.6/dist-packages/ipykernel_launcher.py:13: DeprecationWarning: Call to deprecated `__getitem__` (Method will be removed in 4.0.0, use self.wv.__getitem__() instead).\n",
            "  del sys.path[0]\n"
          ],
          "name": "stderr"
        }
      ]
    },
    {
      "cell_type": "markdown",
      "metadata": {
        "id": "rzRud2DPxP7R",
        "colab_type": "text"
      },
      "source": [
        "Второй"
      ]
    },
    {
      "cell_type": "code",
      "metadata": {
        "id": "eGedEb3ZxL7q",
        "colab_type": "code",
        "outputId": "a8debda9-3f70-411f-b285-e85d30ba2fcb",
        "colab": {
          "base_uri": "https://localhost:8080/",
          "height": 52
        }
      },
      "source": [
        "%%time\n",
        "ft2 = gensim.models.FastText(texts, size=100, iter=2, word_ngrams=2, min_count = 6)"
      ],
      "execution_count": 0,
      "outputs": [
        {
          "output_type": "stream",
          "text": [
            "CPU times: user 17min 4s, sys: 3.37 s, total: 17min 8s\n",
            "Wall time: 9min 16s\n"
          ],
          "name": "stdout"
        }
      ]
    },
    {
      "cell_type": "code",
      "metadata": {
        "id": "FcAgluOyxTli",
        "colab_type": "code",
        "outputId": "0e8ef31c-94e4-4be1-92f7-f6a508d040c0",
        "colab": {
          "base_uri": "https://localhost:8080/",
          "height": 107
        }
      },
      "source": [
        "weights2 = np.zeros((len(word2id), 100))\n",
        "\n",
        "for word, i in word2id.items():\n",
        "    # вектор паддинга оставим нулевым\n",
        "    if word == 'PAD':\n",
        "        continue\n",
        "    \n",
        "    # для UNK будем использовать какой-то рандомный вектор\n",
        "    if word == 'UNK':\n",
        "        weights2[i] = ft2['какоераоваыпаопрвлоа']\n",
        "    \n",
        "    try:\n",
        "        weights2[i] = ft2[word]\n",
        "    \n",
        "    \n",
        "    except KeyError:\n",
        "        # для слов, которых нет в модели тоже возьмем какой-то  рандомный вектор\n",
        "        weights2[i] = ft2['опрагпллирао']"
      ],
      "execution_count": 0,
      "outputs": [
        {
          "output_type": "stream",
          "text": [
            "/usr/local/lib/python3.6/dist-packages/ipykernel_launcher.py:10: DeprecationWarning: Call to deprecated `__getitem__` (Method will be removed in 4.0.0, use self.wv.__getitem__() instead).\n",
            "  # Remove the CWD from sys.path while we load stuff.\n",
            "/usr/local/lib/python3.6/dist-packages/ipykernel_launcher.py:13: DeprecationWarning: Call to deprecated `__getitem__` (Method will be removed in 4.0.0, use self.wv.__getitem__() instead).\n",
            "  del sys.path[0]\n"
          ],
          "name": "stderr"
        }
      ]
    },
    {
      "cell_type": "markdown",
      "metadata": {
        "id": "e9Ai8jgBxyNd",
        "colab_type": "text"
      },
      "source": [
        "Модели"
      ]
    },
    {
      "cell_type": "code",
      "metadata": {
        "id": "MDwJcecsxzK6",
        "colab_type": "code",
        "colab": {}
      },
      "source": [
        "#Это для одного фт\n",
        "inputs = tf.keras.layers.Input(shape=(100,))\n",
        "\n",
        "# передаем матрицу в эмбединг слой\n",
        "# указываем параметр trainable=False, чтобы вектора не обучались\n",
        "# Пояснение: кажется, что обучение векторов отключать не стоит, так как модель должна взять готовые \n",
        "# эмбединги и подогнать их к нашей задаче. На практитке это однако не работает - эмбединги просто \n",
        "# обучатся заново\n",
        "embedding1 = tf.keras.layers.Embedding(input_dim=len(word2id), output_dim=100, trainable=False,\n",
        "                                      weights=[weights1])(inputs, ) \n",
        "embedding2 = tf.keras.layers.Embedding(input_dim=len(word2id), output_dim=100, trainable=False,\n",
        "                                      weights=[weights2])(inputs, )\n",
        "embeddings = tf.keras.layers.concatenate((embedding1, embedding2), axis=1)\n",
        "mean = tf.keras.layers.Lambda(lambda x: tf.keras.backend.mean(x,  axis=1))(embeddings) \n",
        "dense1 = tf.keras.layers.Dense(64, activation='relu')(mean)\n",
        "dense2 = tf.keras.layers.Dense(64, activation='relu')(dense1) \n",
        "outputs = tf.keras.layers.Dense(1, activation='linear')(dense2)\n",
        "\n",
        "model = tf.keras.Model(inputs=inputs, outputs=outputs)\n",
        "optimizer = tf.keras.optimizers.Adam(learning_rate=0.0001)\n",
        "model.compile(optimizer=optimizer,\n",
        "              loss='mse',\n",
        "              metrics=[tf.keras.metrics.RootMeanSquaredError()])"
      ],
      "execution_count": 0,
      "outputs": []
    },
    {
      "cell_type": "code",
      "metadata": {
        "id": "lRqrmkdKy0nW",
        "colab_type": "code",
        "colab": {}
      },
      "source": [
        "model.fit(X_train, y_train, \n",
        "          validation_data=(X_valid, y_valid),\n",
        "          batch_size=512,\n",
        "         epochs=30)"
      ],
      "execution_count": 0,
      "outputs": []
    },
    {
      "cell_type": "code",
      "metadata": {
        "id": "jj1MW7Ljy2vy",
        "colab_type": "code",
        "outputId": "69b6adef-dfbf-4df7-d9c8-e424e87fe2c0",
        "colab": {
          "base_uri": "https://localhost:8080/",
          "height": 313
        }
      },
      "source": [
        "print(model.history.history.keys())\n",
        "# summarize history for accuracy\n",
        "plt.plot(model.history.history['root_mean_squared_error'])\n",
        "plt.plot(model.history.history['val_root_mean_squared_error'])\n",
        "plt.title('model RMSE')\n",
        "plt.ylabel('RMSE')\n",
        "plt.xlabel('epoch')\n",
        "plt.legend(['train', 'val'], loc='upper left')\n",
        "plt.show()"
      ],
      "execution_count": 0,
      "outputs": [
        {
          "output_type": "stream",
          "text": [
            "dict_keys(['loss', 'root_mean_squared_error', 'val_loss', 'val_root_mean_squared_error'])\n"
          ],
          "name": "stdout"
        },
        {
          "output_type": "display_data",
          "data": {
            "image/png": "[encoded data removed]",
            "text/plain": [
              "<Figure size 432x288 with 1 Axes>"
            ]
          },
          "metadata": {
            "tags": [],
            "needs_background": "light"
          }
        }
      ]
    },
    {
      "cell_type": "markdown",
      "metadata": {
        "id": "dHatH9JfB38k",
        "colab_type": "text"
      },
      "source": [
        "loss: 0.0588 - root_mean_squared_error: 0.2425 - val_loss: 0.0593 - val_root_mean_squared_error: 0.2435\n",
        "\n",
        "Очень даже сносно. Немного похуже, чем в предыдущем варианте, но, если судить по графику, увеличение иттераций может здесь и качество повысить. "
      ]
    },
    {
      "cell_type": "code",
      "metadata": {
        "id": "UgQtq2W1y4ya",
        "colab_type": "code",
        "colab": {}
      },
      "source": [
        ""
      ],
      "execution_count": 0,
      "outputs": []
    }
  ]
}
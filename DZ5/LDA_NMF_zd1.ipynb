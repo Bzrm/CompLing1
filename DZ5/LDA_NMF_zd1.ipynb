{
  "nbformat": 4,
  "nbformat_minor": 0,
  "metadata": {
    "colab": {
      "name": "Untitled18.ipynb",
      "provenance": []
    },
    "kernelspec": {
      "name": "python3",
      "display_name": "Python 3"
    }
  },
  "cells": [
    {
      "cell_type": "markdown",
      "metadata": {
        "id": "S8Ok2of1bqKK",
        "colab_type": "text"
      },
      "source": [
        "#Задание 1: LDA, NMF"
      ]
    },
    {
      "cell_type": "code",
      "metadata": {
        "id": "xM4SDWStKfZZ",
        "colab_type": "code",
        "outputId": "fee535bb-8bc4-461b-c5b3-215503b632fa",
        "colab": {
          "resources": {
            "http://localhost:8080/nbextensions/google.colab/files.js": {
              "data": "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",
              "ok": true,
              "headers": [
                [
                  "content-type",
                  "application/javascript"
                ]
              ],
              "status": 200,
              "status_text": ""
            }
          },
          "base_uri": "https://localhost:8080/",
          "height": 75
        }
      },
      "source": [
        "from google.colab import files \n",
        "uploaded = files.upload()"
      ],
      "execution_count": 1,
      "outputs": [
        {
          "output_type": "display_data",
          "data": {
            "text/html": [
              "\n",
              "     <input type=\"file\" id=\"files-4c87a7d4-5a1b-44da-82ac-60406b916435\" name=\"files[]\" multiple disabled />\n",
              "     <output id=\"result-4c87a7d4-5a1b-44da-82ac-60406b916435\">\n",
              "      Upload widget is only available when the cell has been executed in the\n",
              "      current browser session. Please rerun this cell to enable.\n",
              "      </output>\n",
              "      <script src=\"/nbextensions/google.colab/files.js\"></script> "
            ],
            "text/plain": [
              "<IPython.core.display.HTML object>"
            ]
          },
          "metadata": {
            "tags": []
          }
        },
        {
          "output_type": "stream",
          "text": [
            "Saving habr_texts.txt to habr_texts.txt\n"
          ],
          "name": "stdout"
        }
      ]
    },
    {
      "cell_type": "code",
      "metadata": {
        "id": "Nj4Y5NVXPVrJ",
        "colab_type": "code",
        "outputId": "94276a58-26d9-4ee7-c3db-c8865bfea9aa",
        "colab": {
          "base_uri": "https://localhost:8080/",
          "height": 367
        }
      },
      "source": [
        "!pip install pymorphy2[fast]"
      ],
      "execution_count": 2,
      "outputs": [
        {
          "output_type": "stream",
          "text": [
            "Collecting pymorphy2[fast]\n",
            "\u001b[?25l  Downloading https://files.pythonhosted.org/packages/a3/33/fff9675c68b5f6c63ec8c6e6ff57827dda28a1fa5b2c2d727dffff92dd47/pymorphy2-0.8-py2.py3-none-any.whl (46kB)\n",
            "\u001b[K     |████████████████████████████████| 51kB 2.8MB/s \n",
            "\u001b[?25hCollecting pymorphy2-dicts<3.0,>=2.4\n",
            "\u001b[?25l  Downloading https://files.pythonhosted.org/packages/02/51/2465fd4f72328ab50877b54777764d928da8cb15b74e2680fc1bd8cb3173/pymorphy2_dicts-2.4.393442.3710985-py2.py3-none-any.whl (7.1MB)\n",
            "\u001b[K     |████████████████████████████████| 7.1MB 13.6MB/s \n",
            "\u001b[?25hCollecting dawg-python>=0.7\n",
            "  Downloading https://files.pythonhosted.org/packages/6a/84/ff1ce2071d4c650ec85745766c0047ccc3b5036f1d03559fd46bb38b5eeb/DAWG_Python-0.7.2-py2.py3-none-any.whl\n",
            "Requirement already satisfied: docopt>=0.6 in /usr/local/lib/python3.6/dist-packages (from pymorphy2[fast]) (0.6.2)\n",
            "Collecting DAWG>=0.7.3; extra == \"fast\"\n",
            "\u001b[?25l  Downloading https://files.pythonhosted.org/packages/29/c0/d8d967bcaa0b572f9dc1d878bbf5a7bfd5afa2102a5ae426731f6ce3bc26/DAWG-0.7.8.tar.gz (255kB)\n",
            "\u001b[K     |████████████████████████████████| 256kB 55.1MB/s \n",
            "\u001b[?25hBuilding wheels for collected packages: DAWG\n",
            "  Building wheel for DAWG (setup.py) ... \u001b[?25l\u001b[?25hdone\n",
            "  Created wheel for DAWG: filename=DAWG-0.7.8-cp36-cp36m-linux_x86_64.whl size=768238 sha256=ba89847d6ea4d9e1abfda139541a416b3214ed72703f8a40a765f898b145a941\n",
            "  Stored in directory: /root/.cache/pip/wheels/d4/88/d0/4e4abc83eb8f59a71e8dbd8ba99fd5615a3af1fac1ef7f8825\n",
            "Successfully built DAWG\n",
            "Installing collected packages: pymorphy2-dicts, dawg-python, DAWG, pymorphy2\n",
            "Successfully installed DAWG-0.7.8 dawg-python-0.7.2 pymorphy2-0.8 pymorphy2-dicts-2.4.393442.3710985\n"
          ],
          "name": "stdout"
        }
      ]
    },
    {
      "cell_type": "code",
      "metadata": {
        "id": "7n52xlxlbv6c",
        "colab_type": "code",
        "colab": {
          "base_uri": "https://localhost:8080/",
          "height": 644
        },
        "outputId": "d961aaea-3292-49f3-9187-74cfd81efd71"
      },
      "source": [
        "!pip install pyLDAvis"
      ],
      "execution_count": 3,
      "outputs": [
        {
          "output_type": "stream",
          "text": [
            "Collecting pyLDAvis\n",
            "\u001b[?25l  Downloading https://files.pythonhosted.org/packages/a5/3a/af82e070a8a96e13217c8f362f9a73e82d61ac8fff3a2561946a97f96266/pyLDAvis-2.1.2.tar.gz (1.6MB)\n",
            "\u001b[K     |████████████████████████████████| 1.6MB 4.9MB/s \n",
            "\u001b[?25hRequirement already satisfied: wheel>=0.23.0 in /usr/local/lib/python3.6/dist-packages (from pyLDAvis) (0.33.6)\n",
            "Requirement already satisfied: numpy>=1.9.2 in /usr/local/lib/python3.6/dist-packages (from pyLDAvis) (1.17.5)\n",
            "Requirement already satisfied: scipy>=0.18.0 in /usr/local/lib/python3.6/dist-packages (from pyLDAvis) (1.4.1)\n",
            "Requirement already satisfied: pandas>=0.17.0 in /usr/local/lib/python3.6/dist-packages (from pyLDAvis) (0.25.3)\n",
            "Requirement already satisfied: joblib>=0.8.4 in /usr/local/lib/python3.6/dist-packages (from pyLDAvis) (0.14.1)\n",
            "Requirement already satisfied: jinja2>=2.7.2 in /usr/local/lib/python3.6/dist-packages (from pyLDAvis) (2.10.3)\n",
            "Requirement already satisfied: numexpr in /usr/local/lib/python3.6/dist-packages (from pyLDAvis) (2.7.1)\n",
            "Requirement already satisfied: pytest in /usr/local/lib/python3.6/dist-packages (from pyLDAvis) (3.6.4)\n",
            "Requirement already satisfied: future in /usr/local/lib/python3.6/dist-packages (from pyLDAvis) (0.16.0)\n",
            "Collecting funcy\n",
            "\u001b[?25l  Downloading https://files.pythonhosted.org/packages/ce/4b/6ffa76544e46614123de31574ad95758c421aae391a1764921b8a81e1eae/funcy-1.14.tar.gz (548kB)\n",
            "\u001b[K     |████████████████████████████████| 552kB 57.9MB/s \n",
            "\u001b[?25hRequirement already satisfied: python-dateutil>=2.6.1 in /usr/local/lib/python3.6/dist-packages (from pandas>=0.17.0->pyLDAvis) (2.6.1)\n",
            "Requirement already satisfied: pytz>=2017.2 in /usr/local/lib/python3.6/dist-packages (from pandas>=0.17.0->pyLDAvis) (2018.9)\n",
            "Requirement already satisfied: MarkupSafe>=0.23 in /usr/local/lib/python3.6/dist-packages (from jinja2>=2.7.2->pyLDAvis) (1.1.1)\n",
            "Requirement already satisfied: py>=1.5.0 in /usr/local/lib/python3.6/dist-packages (from pytest->pyLDAvis) (1.8.1)\n",
            "Requirement already satisfied: attrs>=17.4.0 in /usr/local/lib/python3.6/dist-packages (from pytest->pyLDAvis) (19.3.0)\n",
            "Requirement already satisfied: more-itertools>=4.0.0 in /usr/local/lib/python3.6/dist-packages (from pytest->pyLDAvis) (8.0.2)\n",
            "Requirement already satisfied: atomicwrites>=1.0 in /usr/local/lib/python3.6/dist-packages (from pytest->pyLDAvis) (1.3.0)\n",
            "Requirement already satisfied: pluggy<0.8,>=0.5 in /usr/local/lib/python3.6/dist-packages (from pytest->pyLDAvis) (0.7.1)\n",
            "Requirement already satisfied: setuptools in /usr/local/lib/python3.6/dist-packages (from pytest->pyLDAvis) (42.0.2)\n",
            "Requirement already satisfied: six>=1.10.0 in /usr/local/lib/python3.6/dist-packages (from pytest->pyLDAvis) (1.12.0)\n",
            "Building wheels for collected packages: pyLDAvis, funcy\n",
            "  Building wheel for pyLDAvis (setup.py) ... \u001b[?25l\u001b[?25hdone\n",
            "  Created wheel for pyLDAvis: filename=pyLDAvis-2.1.2-py2.py3-none-any.whl size=97711 sha256=4ef8147c0e9238135c4469338c558e61e01766a9d8afbc4d7907807dcaae21a3\n",
            "  Stored in directory: /root/.cache/pip/wheels/98/71/24/513a99e58bb6b8465bae4d2d5e9dba8f0bef8179e3051ac414\n",
            "  Building wheel for funcy (setup.py) ... \u001b[?25l\u001b[?25hdone\n",
            "  Created wheel for funcy: filename=funcy-1.14-py2.py3-none-any.whl size=32040 sha256=41e9e23f7c0fc84d4ff6a9e79464592952f35cee2c948895983b1ebef3928b3d\n",
            "  Stored in directory: /root/.cache/pip/wheels/20/5a/d8/1d875df03deae6f178dfdf70238cca33f948ef8a6f5209f2eb\n",
            "Successfully built pyLDAvis funcy\n",
            "Installing collected packages: funcy, pyLDAvis\n",
            "Successfully installed funcy-1.14 pyLDAvis-2.1.2\n"
          ],
          "name": "stdout"
        }
      ]
    },
    {
      "cell_type": "code",
      "metadata": {
        "id": "F8IPLpY2Ityh",
        "colab_type": "code",
        "colab": {}
      },
      "source": [
        "import gensim\n",
        "import json\n",
        "import re\n",
        "import pandas as pd\n",
        "from nltk.tokenize import word_tokenize\n",
        "from nltk.corpus import stopwords\n",
        "from pymorphy2 import MorphAnalyzer\n",
        "import pyLDAvis.gensim\n",
        "import string\n",
        "from collections import Counter\n",
        "import warnings\n",
        "warnings.filterwarnings(\"ignore\")\n",
        "\n",
        "morph = MorphAnalyzer()"
      ],
      "execution_count": 0,
      "outputs": []
    },
    {
      "cell_type": "code",
      "metadata": {
        "id": "LXpLDFxGQZZP",
        "colab_type": "code",
        "outputId": "d5bc56ef-66a7-457d-fc76-ab5db00f311d",
        "colab": {
          "base_uri": "https://localhost:8080/",
          "height": 69
        }
      },
      "source": [
        "import nltk\n",
        "nltk.download('stopwords')"
      ],
      "execution_count": 5,
      "outputs": [
        {
          "output_type": "stream",
          "text": [
            "[nltk_data] Downloading package stopwords to /root/nltk_data...\n",
            "[nltk_data]   Unzipping corpora/stopwords.zip.\n"
          ],
          "name": "stdout"
        },
        {
          "output_type": "execute_result",
          "data": {
            "text/plain": [
              "True"
            ]
          },
          "metadata": {
            "tags": []
          },
          "execution_count": 5
        }
      ]
    },
    {
      "cell_type": "code",
      "metadata": {
        "id": "EgsczMFLIty1",
        "colab_type": "code",
        "colab": {}
      },
      "source": [
        "stops = set(stopwords.words('russian')) | {'gt',}\n",
        "def remove_tags(text):\n",
        "    return re.sub(r'<[^>]+|\\d+>', '', text)\n",
        "\n",
        "def opt_normalize(texts, top=None):\n",
        "    uniq = Counter()\n",
        "    for text in texts:\n",
        "        uniq.update(text)\n",
        "    \n",
        "    norm_uniq = {word:morph.parse(word)[0].normal_form for word, _ in uniq.most_common(top)}\n",
        "    \n",
        "    norm_texts = []\n",
        "    for text in texts:\n",
        "        \n",
        "        norm_words = [norm_uniq.get(word) for word in text]\n",
        "        norm_words = [word for word in norm_words if word and word not in stops]\n",
        "        norm_texts.append(norm_words)\n",
        "        \n",
        "    return norm_texts\n",
        "\n",
        "def tokenize(text):\n",
        "    words = [word.strip(string.punctuation) for word in text.split()]\n",
        "    words = [word for word in words if word]\n",
        "    \n",
        "    return words"
      ],
      "execution_count": 0,
      "outputs": []
    },
    {
      "cell_type": "code",
      "metadata": {
        "id": "UNI9t8_eIty_",
        "colab_type": "code",
        "colab": {}
      },
      "source": [
        "texts = open('habr_texts.txt').read().splitlines()\n",
        "texts = opt_normalize([tokenize(remove_tags(text.lower())) for text in texts], 30000)"
      ],
      "execution_count": 0,
      "outputs": []
    },
    {
      "cell_type": "code",
      "metadata": {
        "id": "2eVqP-pAItzg",
        "colab_type": "code",
        "colab": {}
      },
      "source": [
        "\n",
        "ph = gensim.models.Phrases(texts, scoring='npmi', threshold=0.3) \n",
        "p = gensim.models.phrases.Phraser(ph)\n",
        "ngrammed_texts = p[texts]"
      ],
      "execution_count": 0,
      "outputs": []
    },
    {
      "cell_type": "code",
      "metadata": {
        "id": "ebArzMjPtmHX",
        "colab_type": "code",
        "colab": {}
      },
      "source": [
        "dictinary = gensim.corpora.Dictionary(ngrammed_texts)"
      ],
      "execution_count": 0,
      "outputs": []
    },
    {
      "cell_type": "code",
      "metadata": {
        "id": "hp-12HXktmR7",
        "colab_type": "code",
        "colab": {}
      },
      "source": [
        "dictinary.filter_extremes(no_above=0.2, no_below=15)\n",
        "dictinary.compactify()"
      ],
      "execution_count": 0,
      "outputs": []
    },
    {
      "cell_type": "code",
      "metadata": {
        "id": "h-72z06otmb2",
        "colab_type": "code",
        "colab": {}
      },
      "source": [
        "corpus = [dictinary.doc2bow(text) for text in ngrammed_texts]"
      ],
      "execution_count": 0,
      "outputs": []
    },
    {
      "cell_type": "markdown",
      "metadata": {
        "id": "nfAT6BSO8SOZ",
        "colab_type": "text"
      },
      "source": [
        "#LDA"
      ]
    },
    {
      "cell_type": "markdown",
      "metadata": {
        "id": "39bWbBiXcBtb",
        "colab_type": "text"
      },
      "source": [
        "1 модель"
      ]
    },
    {
      "cell_type": "code",
      "metadata": {
        "id": "-faCewS4cbOl",
        "colab_type": "code",
        "colab": {}
      },
      "source": [
        "lda = gensim.models.LdaMulticore(corpus, 200, id2word=dictinary, eval_every=0)"
      ],
      "execution_count": 0,
      "outputs": []
    },
    {
      "cell_type": "code",
      "metadata": {
        "id": "lPKV10crcdfl",
        "colab_type": "code",
        "colab": {
          "base_uri": "https://localhost:8080/",
          "height": 731
        },
        "outputId": "57e938a9-51cb-492d-afed-8510606c5b36"
      },
      "source": [
        "lda.print_topics()"
      ],
      "execution_count": 13,
      "outputs": [
        {
          "output_type": "execute_result",
          "data": {
            "text/plain": [
              "[(156,\n",
              "  '0.014*\"расширение\" + 0.011*\"сообщение\" + 0.006*\"компонент\" + 0.005*\"message\" + 0.005*\"паттерн\" + 0.005*\"исследователь\" + 0.005*\"инициализация\" + 0.005*\"token\" + 0.005*\"нативный\" + 0.004*\"произвольный\"'),\n",
              " (105,\n",
              "  '0.020*\"игра\" + 0.007*\"игрок\" + 0.004*\"исследование\" + 0.003*\"играть\" + 0.003*\"адрес\" + 0.003*\"строка\" + 0.003*\"прямоугольник\" + 0.003*\"тест\" + 0.003*\"текст\" + 0.002*\"платформа\"'),\n",
              " (171,\n",
              "  '0.018*\"вакансия\" + 0.008*\"yahoo\" + 0.006*\"язык\" + 0.005*\"опыт_работа\" + 0.004*\"миллиард\" + 0.003*\"игра\" + 0.003*\"выборка\" + 0.003*\"событие\" + 0.003*\"знание\" + 0.003*\"расследование\"'),\n",
              " (50,\n",
              "  '0.011*\"фсб\" + 0.010*\"законопроект\" + 0.007*\"обсуждение\" + 0.006*\"закон\" + 0.005*\"сотрудник\" + 0.005*\"студент\" + 0.005*\"российский\" + 0.004*\"опубликовать\" + 0.004*\"принять\" + 0.004*\"связать\"'),\n",
              " (94,\n",
              "  '0.014*\"дефект\" + 0.008*\"выражение\" + 0.005*\"if\" + 0.004*\"пароль\" + 0.004*\"пакет\" + 0.004*\"скрипт\" + 0.004*\"контекст\" + 0.004*\"return\" + 0.003*\"данный\" + 0.003*\"id\"'),\n",
              " (108,\n",
              "  '0.021*\"электроника\" + 0.013*\"олимпиада\" + 0.011*\"класс\" + 0.008*\"схема\" + 0.008*\"школьник\" + 0.006*\"физика\" + 0.006*\"литература\" + 0.005*\"задание\" + 0.005*\"этап\" + 0.005*\"кампания\"'),\n",
              " (125,\n",
              "  '0.006*\"доклад\" + 0.005*\"return\" + 0.004*\"кнут\" + 0.004*\"компонент\" + 0.004*\"0\" + 0.003*\"домен\" + 0.003*\"return_result\" + 0.003*\"структура\" + 0.003*\"профессиональный\" + 0.003*\"успех\"'),\n",
              " (145,\n",
              "  '0.008*\"машина\" + 0.007*\"прибор\" + 0.005*\"0\" + 0.005*\"класс\" + 0.004*\"cookie\" + 0.004*\"свойство\" + 0.003*\"координата\" + 0.003*\"return\" + 0.003*\"return_result\" + 0.003*\"режим\"'),\n",
              " (199,\n",
              "  '0.020*\"игра\" + 0.005*\"return\" + 0.005*\"доклад\" + 0.005*\"страница\" + 0.005*\"игрок\" + 0.004*\"messages\" + 0.004*\"язык\" + 0.003*\"сообщение\" + 0.003*\"платформа\" + 0.003*\"движок\"'),\n",
              " (179,\n",
              "  '0.010*\"компонент\" + 0.007*\"контекст\" + 0.007*\"боль\" + 0.007*\"0\" + 0.005*\"return_result\" + 0.005*\"машина\" + 0.005*\"память\" + 0.004*\"класс\" + 0.004*\"new\" + 0.004*\"логика\"'),\n",
              " (193,\n",
              "  '0.009*\"библиотека\" + 0.008*\"16\" + 0.006*\"сотрудник\" + 0.006*\"февраль\" + 0.006*\"it-специалист\" + 0.006*\"встреча\" + 0.005*\"контроль\" + 0.005*\"пообщаться\" + 0.004*\"приходить\" + 0.004*\"защита\"'),\n",
              " (33,\n",
              "  '0.009*\"контейнер\" + 0.004*\"библиотека\" + 0.003*\"настроить\" + 0.003*\"консоль\" + 0.003*\"сборка\" + 0.003*\"a\" + 0.003*\"nginx\" + 0.003*\"ключ\" + 0.003*\"компьютер\" + 0.002*\"машина\"'),\n",
              " (19,\n",
              "  '0.004*\"the\" + 0.004*\"0\" + 0.003*\"вакансия\" + 0.003*\"строка\" + 0.003*\"for\" + 0.003*\"id\" + 0.003*\"to\" + 0.002*\"запрос\" + 0.002*\"компьютер\" + 0.002*\"конфигурация\"'),\n",
              " (63,\n",
              "  '0.007*\"событие\" + 0.006*\"инцидент\" + 0.005*\"машина\" + 0.004*\"свойство\" + 0.003*\"сотрудник\" + 0.003*\"усилитель\" + 0.003*\"срабатывание\" + 0.003*\"пароль\" + 0.003*\"автомобиль\" + 0.003*\"режим\"'),\n",
              " (42,\n",
              "  '0.006*\"внутренний\" + 0.005*\"подключение\" + 0.005*\"публичный\" + 0.005*\"бизнес\" + 0.004*\"точка\" + 0.004*\"ия\" + 0.004*\"внутри\" + 0.003*\"запрос\" + 0.003*\"нижний\" + 0.003*\"заказчик\"'),\n",
              " (85,\n",
              "  '0.005*\"обратный\" + 0.004*\"сообщение\" + 0.004*\"страница\" + 0.003*\"оптимизация\" + 0.003*\"база\" + 0.003*\"мозг\" + 0.003*\"товар\" + 0.003*\"канал\" + 0.003*\"контент\" + 0.003*\"диск\"'),\n",
              " (10,\n",
              "  '0.013*\"событие\" + 0.004*\"источник\" + 0.004*\"инцидент\" + 0.004*\"срабатывание\" + 0.004*\"профиль\" + 0.003*\"южный_корея\" + 0.003*\"лист\" + 0.003*\"firebase\" + 0.003*\"интернет\" + 0.002*\"обработка\"'),\n",
              " (135,\n",
              "  '0.011*\"температура\" + 0.008*\"корпус\" + 0.006*\"питание\" + 0.006*\"станция\" + 0.005*\"резистор\" + 0.003*\"микроконтроллер\" + 0.003*\"схема\" + 0.003*\"домен\" + 0.003*\"установка\" + 0.003*\"алгоритм\"'),\n",
              " (5,\n",
              "  '0.015*\"кампания\" + 0.007*\"объявление\" + 0.007*\"c\" + 0.006*\"запрос\" + 0.006*\"группа\" + 0.005*\"запись\" + 0.005*\"строка\" + 0.004*\"ключ\" + 0.004*\"заголовок\" + 0.004*\"выражение\"'),\n",
              " (190,\n",
              "  '0.012*\"подключение\" + 0.011*\"точка\" + 0.009*\"публичный\" + 0.009*\"стиль\" + 0.008*\"сеть_интернет\" + 0.007*\"документ\" + 0.007*\"страница\" + 0.007*\"внутренний\" + 0.005*\"dom\" + 0.005*\"корпоративный_сеть\"')]"
            ]
          },
          "metadata": {
            "tags": []
          },
          "execution_count": 13
        }
      ]
    },
    {
      "cell_type": "markdown",
      "metadata": {
        "id": "CqCb4FeycfAk",
        "colab_type": "text"
      },
      "source": [
        "Под каждой моделью вынесены более-менее удачные темы, но на них можно не обращать внимание. Сравнение будет в конце блока.\n",
        "\n",
        "\n",
        "'0.011*\"температура\" + 0.008*\"корпус\" + 0.006*\"питание\" + 0.006*\"станция\" + 0.005*\"резистор\" + 0.003*\"микроконтроллер\" + 0.003*\"схема\" + 0.003*\"домен\" + 0.003*\"установка\" + 0.003*\"алгоритм\"')\n",
        "\n",
        "0.012*\"подключение\" + 0.011*\"точка\" + 0.009*\"публичный\" + 0.009*\"стиль\" + 0.008*\"сеть_интернет\" + 0.007*\"документ\" + 0.007*\"страница\" + 0.007*\"внутренний\" + 0.005*\"dom\" + 0.005*\"корпоративный_сеть\"')]\n",
        "\n",
        "  '0.011*\"фсб\" + 0.010*\"законопроект\" + 0.007*\"обсуждение\" + 0.006*\"закон\" + 0.005*\"сотрудник\" + 0.005*\"студент\" + 0.005*\"российский\" + 0.004*\"опубликовать\" + 0.004*\"принять\" + 0.004*\"связать\"')"
      ]
    },
    {
      "cell_type": "markdown",
      "metadata": {
        "id": "bBaZAuxWcfWk",
        "colab_type": "text"
      },
      "source": [
        "2 модель"
      ]
    },
    {
      "cell_type": "code",
      "metadata": {
        "id": "Utr6ItebcuUG",
        "colab_type": "code",
        "colab": {}
      },
      "source": [
        "lda = gensim.models.LdaModel(corpus, 200, id2word=dictinary, passes=6, alpha= 'auto')"
      ],
      "execution_count": 0,
      "outputs": []
    },
    {
      "cell_type": "code",
      "metadata": {
        "id": "zPA5CszZcvO9",
        "colab_type": "code",
        "colab": {
          "base_uri": "https://localhost:8080/",
          "height": 731
        },
        "outputId": "85db1a33-2942-410b-f97d-5c01ba49143b"
      },
      "source": [
        "lda.print_topics()"
      ],
      "execution_count": 15,
      "outputs": [
        {
          "output_type": "execute_result",
          "data": {
            "text/plain": [
              "[(173,\n",
              "  '0.000*\"•\" + 0.000*\"изображение\" + 0.000*\"текстура\" + 0.000*\"сотрудник\" + 0.000*\"камера\" + 0.000*\"модуль\" + 0.000*\"нейросеть\" + 0.000*\"страна\" + 0.000*\"внутренний\" + 0.000*\"точка\"'),\n",
              " (146,\n",
              "  '0.166*\"решение_уравнение\" + 0.000*\"директива\" + 0.000*\"вика\" + 0.000*\"поток\" + 0.000*\"массив\" + 0.000*\"регион\" + 0.000*\"синхронизация\" + 0.000*\"итерация_цикл\" + 0.000*\"алгоритм\" + 0.000*\"for\"'),\n",
              " (154,\n",
              "  '0.407*\"communication\" + 0.206*\"e_e\" + 0.000*\"1с\" + 0.000*\"cluster\" + 0.000*\"узел\" + 0.000*\"свойство\" + 0.000*\"фотография\" + 0.000*\"iot\" + 0.000*\"автор\" + 0.000*\"база\"'),\n",
              " (127,\n",
              "  '0.303*\"зарегистрироваться\" + 0.103*\"19:00\" + 0.098*\"познакомить\" + 0.074*\"принципиально_новый\" + 0.018*\"гость\" + 0.002*\"слишком_велик\" + 0.000*\"соблазн\" + 0.000*\"очередной\" + 0.000*\"тестирование\" + 0.000*\"написание_тест\"'),\n",
              " (14,\n",
              "  '0.277*\"руководитель_отдел\" + 0.150*\"деплоить\" + 0.134*\"деплый\" + 0.081*\"positive_technologies\" + 0.000*\"мочь_посоветовать\" + 0.000*\"байт\" + 0.000*\"сообщение\" + 0.000*\"запрос\" + 0.000*\"датчик\" + 0.000*\"ответ\"'),\n",
              " (3,\n",
              "  '0.181*\"старение\" + 0.160*\"наступление\" + 0.117*\"200_000\" + 0.047*\"“в\" + 0.032*\"продлить\" + 0.018*\"отдать\" + 0.006*\"изобрести\" + 0.000*\"принтер\" + 0.000*\"занимать_около\" + 0.000*\"наступить\"'),\n",
              " (89,\n",
              "  '0.176*\"cmd\" + 0.175*\"adam\" + 0.127*\"4096\" + 0.103*\"del\" + 0.090*\"realtime\" + 0.029*\"env\" + 0.021*\"82\" + 0.002*\"ex\" + 0.000*\"79\" + 0.000*\"•\"'),\n",
              " (37,\n",
              "  '0.286*\"iot\" + 0.230*\"raspberry_pi\" + 0.166*\"температура\" + 0.085*\"лёд\" + 0.017*\"показатель\" + 0.016*\"высокий_температура\" + 0.015*\"ниже\" + 0.008*\"углекислый_газа\" + 0.007*\"беспроводный\" + 0.007*\"плата\"'),\n",
              " (130,\n",
              "  '0.263*\"solid\" + 0.213*\"грузовик\" + 0.101*\"apt-get_install\" + 0.070*\"тревога\" + 0.062*\"дайджест\" + 0.026*\"просьба\" + 0.005*\"шутка\" + 0.005*\"маршрут\" + 0.000*\"временной\" + 0.000*\"потреблять_мощность\"'),\n",
              " (35,\n",
              "  '0.296*\"valve\" + 0.180*\"скриншот\" + 0.078*\"ключ\" + 0.078*\"крутиться\" + 0.065*\"каталог\" + 0.061*\"текстура\" + 0.057*\"установленный\" + 0.031*\"включить\" + 0.025*\"реальный\" + 0.013*\"адрес\"'),\n",
              " (63,\n",
              "  '0.028*\"скрипт\" + 0.013*\"папка\" + 0.013*\"пакет\" + 0.007*\"выполнить\" + 0.007*\"запуск\" + 0.007*\"подключить\" + 0.006*\"do\" + 0.006*\"echo\" + 0.005*\"updated\" + 0.005*\"установить\"'),\n",
              " (176,\n",
              "  '0.031*\"тест\" + 0.030*\"тестирование\" + 0.011*\"тестировщик\" + 0.009*\"проверить\" + 0.009*\"этап\" + 0.009*\"тестировать\" + 0.009*\"фич\" + 0.008*\"сценарий\" + 0.007*\"стадия\" + 0.007*\"кейс\"'),\n",
              " (128,\n",
              "  '0.016*\"сотрудник\" + 0.015*\"бизнес\" + 0.012*\"рынок\" + 0.008*\"офис\" + 0.007*\"крупный\" + 0.007*\"инвестиция\" + 0.007*\"менеджер\" + 0.007*\"стартап\" + 0.006*\"конкурент\" + 0.006*\"инвестор\"'),\n",
              " (194,\n",
              "  '0.011*\"строка\" + 0.009*\"поток\" + 0.008*\"контекст\" + 0.007*\"возвращать\" + 0.007*\"верхний_уровень\" + 0.006*\"request\" + 0.006*\"amount\" + 0.006*\"буфер\" + 0.006*\"добавление\" + 0.006*\"statement\"'),\n",
              " (79,\n",
              "  '0.008*\"слайд\" + 0.007*\"знание\" + 0.006*\"знакомый\" + 0.006*\"физика\" + 0.006*\"школьник\" + 0.006*\"компьютер\" + 0.006*\"заниматься\" + 0.005*\"рассказывать\" + 0.005*\"кнут\" + 0.005*\"профессиональный\"'),\n",
              " (121,\n",
              "  '0.024*\"заказчик\" + 0.017*\"предприятие\" + 0.017*\"документ\" + 0.011*\"руководство\" + 0.009*\"эксплуатация\" + 0.008*\"сотрудник\" + 0.008*\"внедрение\" + 0.008*\"организация\" + 0.007*\"контроль\" + 0.007*\"срок\"'),\n",
              " (65,\n",
              "  '0.013*\"анализ\" + 0.006*\"оценка\" + 0.006*\"определить\" + 0.006*\"группа\" + 0.005*\"исследование\" + 0.005*\"определять\" + 0.005*\"требоваться\" + 0.004*\"определение\" + 0.004*\"приводить\" + 0.004*\"фактор\"'),\n",
              " (181,\n",
              "  '0.008*\"архитектура\" + 0.007*\"требование\" + 0.005*\"платформа\" + 0.005*\"необходимость\" + 0.004*\"запрос\" + 0.004*\"структура\" + 0.004*\"обновление\" + 0.003*\"проектирование\" + 0.003*\"механизм\" + 0.003*\"храниться\"'),\n",
              " (1,\n",
              "  '0.006*\"аудитория\" + 0.006*\"игра\" + 0.005*\"программист\" + 0.004*\"рассказать\" + 0.004*\"кто-то\" + 0.004*\"помнить\" + 0.004*\"язык\" + 0.004*\"кажется\" + 0.003*\"учиться\" + 0.003*\"никто\"'),\n",
              " (17,\n",
              "  '0.004*\"компьютер\" + 0.004*\"далёкий\" + 0.003*\"довольно\" + 0.003*\"загадка\" + 0.003*\"примерно\" + 0.003*\"никакой\" + 0.003*\"хотеться\" + 0.003*\"вроде\" + 0.003*\"минимум\" + 0.003*\"скорее\"')]"
            ]
          },
          "metadata": {
            "tags": []
          },
          "execution_count": 15
        }
      ]
    },
    {
      "cell_type": "markdown",
      "metadata": {
        "id": "mgOUcXjxzG0a",
        "colab_type": "text"
      },
      "source": [
        "  '0.296*\"valve\" + 0.180*\"скриншот\" + 0.078*\"ключ\" + 0.078*\"крутиться\" + 0.065*\"каталог\" + 0.061*\"текстура\" + 0.057*\"установленный\" + 0.031*\"включить\" + 0.025*\"реальный\" + 0.013*\"адрес\"')\n",
        "\n",
        "  '0.031*\"тест\" + 0.030*\"тестирование\" + 0.011*\"тестировщик\" + 0.009*\"проверить\" + 0.009*\"этап\" + 0.009*\"тестировать\" + 0.009*\"фич\" + 0.008*\"сценарий\" + 0.007*\"стадия\" + 0.007*\"кейс\"')\n",
        "\n",
        "  '0.016*\"сотрудник\" + 0.015*\"бизнес\" + 0.012*\"рынок\" + 0.008*\"офис\" + 0.007*\"крупный\" + 0.007*\"инвестиция\" + 0.007*\"менеджер\" + 0.007*\"стартап\" + 0.006*\"конкурент\" + 0.006*\"инвестор\"'),\n",
        "\n",
        "'0.013*\"анализ\" + 0.006*\"оценка\" + 0.006*\"определить\" + 0.006*\"группа\" + 0.005*\"исследование\" + 0.005*\"определять\" + 0.005*\"требоваться\" + 0.004*\"определение\" + 0.004*\"приводить\" + 0.004*\"фактор\"'),"
      ]
    },
    {
      "cell_type": "markdown",
      "metadata": {
        "id": "sA7VaDLkcyPl",
        "colab_type": "text"
      },
      "source": [
        "3 модель"
      ]
    },
    {
      "cell_type": "code",
      "metadata": {
        "id": "919Ty4ipc7AU",
        "colab_type": "code",
        "colab": {}
      },
      "source": [
        "lda = gensim.models.LdaModel(corpus, 200, id2word=dictinary, passes=6, alpha= 'asymmetric')"
      ],
      "execution_count": 0,
      "outputs": []
    },
    {
      "cell_type": "code",
      "metadata": {
        "id": "H50iWdsPdCvs",
        "colab_type": "code",
        "colab": {
          "base_uri": "https://localhost:8080/",
          "height": 731
        },
        "outputId": "97d61424-5af8-4a8d-b819-4510d3657bb1"
      },
      "source": [
        "lda.print_topics()"
      ],
      "execution_count": 17,
      "outputs": [
        {
          "output_type": "execute_result",
          "data": {
            "text/plain": [
              "[(199,\n",
              "  '0.116*\"наблюдение\" + 0.071*\"z\" + 0.065*\"background\" + 0.055*\"замедление\" + 0.037*\"t\" + 0.036*\"trust\" + 0.035*\"телескоп\" + 0.034*\"тест\" + 0.029*\"tdd\" + 0.024*\"граф\"'),\n",
              " (198,\n",
              "  '0.112*\"видео\" + 0.048*\"регистратор\" + 0.032*\"стекло\" + 0.025*\"салон\" + 0.023*\"бренд\" + 0.020*\"запись\" + 0.020*\"камера\" + 0.020*\"ролик\" + 0.019*\"gps\" + 0.018*\"китайский\"'),\n",
              " (196,\n",
              "  '0.367*\"наушник\" + 0.102*\"гарнитур\" + 0.057*\"симулятор\" + 0.051*\"ухо\" + 0.048*\"гц\" + 0.038*\"audio\" + 0.035*\"пульс\" + 0.027*\"bluetooth\" + 0.023*\"динамический\" + 0.023*\"режим_реальный\"'),\n",
              " (194,\n",
              "  '0.168*\"шарик\" + 0.106*\"лампа\" + 0.073*\"black\" + 0.061*\"solid\" + 0.047*\"вход\" + 0.046*\"лампочка\" + 0.035*\"высота\" + 0.035*\"узор\" + 0.031*\"выход\" + 0.030*\"выгода\"'),\n",
              " (197,\n",
              "  '0.356*\"робот\" + 0.042*\"машина\" + 0.037*\"мощный\" + 0.026*\"движение\" + 0.023*\"яйцо\" + 0.023*\"робототехника\" + 0.022*\"огромный\" + 0.021*\"некий\" + 0.016*\"платформа\" + 0.016*\"реальность\"'),\n",
              " (195,\n",
              "  '0.163*\"опросить\" + 0.149*\"защититься\" + 0.136*\"поэтапно\" + 0.050*\"респондент\" + 0.043*\"справляться_задача\" + 0.043*\"последовать\" + 0.039*\"стадия_разработка\" + 0.028*\"идти_речь\" + 0.018*\"стоить_упомянуть\" + 0.011*\"каждый_днём\"'),\n",
              " (192,\n",
              "  '0.341*\"php\" + 0.084*\"laravel\" + 0.040*\"curl\" + 0.034*\"qa\" + 0.031*\"тестирование\" + 0.030*\"symfony\" + 0.030*\"rust\" + 0.029*\"никита\" + 0.024*\"16\" + 0.020*\"yii2\"'),\n",
              " (189,\n",
              "  '0.038*\"квеста\" + 0.023*\"with\" + 0.020*\"зона\" + 0.018*\"w\" + 0.016*\"8\" + 0.015*\"response\" + 0.014*\"35\" + 0.013*\"to\" + 0.012*\"плата\" + 0.012*\"16\"'),\n",
              " (186,\n",
              "  '0.046*\"mvp\" + 0.032*\"джон\" + 0.032*\"russia\" + 0.031*\"nosql\" + 0.030*\"декабрь_2016\" + 0.026*\"будущее\" + 0.024*\"фотон\" + 0.023*\"stack_overflow\" + 0.021*\"«когда\" + 0.019*\"devops\"'),\n",
              " (188,\n",
              "  '0.410*\"карта\" + 0.083*\"линия\" + 0.037*\"стрелка\" + 0.032*\"угол\" + 0.024*\"меню\" + 0.018*\"центр\" + 0.017*\"благополучно\" + 0.017*\"canvas\" + 0.015*\"окно\" + 0.014*\"круг\"'),\n",
              " (9,\n",
              "  '0.022*\"страна\" + 0.009*\"специалист\" + 0.008*\"км/ч\" + 0.007*\"развитие\" + 0.007*\"помещение\" + 0.006*\"бюджет\" + 0.006*\"наличие\" + 0.006*\"план\" + 0.005*\"высокий\" + 0.005*\"сша\"'),\n",
              " (8,\n",
              "  '0.051*\"0\" + 0.042*\"if\" + 0.037*\"int\" + 0.022*\"x\" + 0.020*\"a\" + 0.018*\"return\" + 0.018*\"i\" + 0.015*\"lt\" + 0.015*\"void\" + 0.013*\"define\"'),\n",
              " (7,\n",
              "  '0.126*\"товар\" + 0.074*\"покупатель\" + 0.071*\"покупка\" + 0.071*\"магазин\" + 0.066*\"заказ\" + 0.054*\"скидка\" + 0.037*\"цена\" + 0.036*\"продажа\" + 0.030*\"продавец\" + 0.025*\"предложение\"'),\n",
              " (6,\n",
              "  '0.020*\"глаз\" + 0.016*\"т.е\" + 0.014*\"смотреть\" + 0.009*\"цифра\" + 0.009*\"хабра\" + 0.008*\"вконтакте\" + 0.008*\"современный\" + 0.008*\"город\" + 0.007*\"страна\" + 0.007*\"тысяча\"'),\n",
              " (5,\n",
              "  '0.029*\"закон\" + 0.027*\"интернет\" + 0.019*\"страна\" + 0.019*\"российский\" + 0.013*\"государство\" + 0.012*\"рф\" + 0.011*\"государственный\" + 0.011*\"провайдер\" + 0.010*\"партнёр\" + 0.009*\"распространение\"'),\n",
              " (4,\n",
              "  '0.027*\"выражение\" + 0.020*\"сравнение\" + 0.019*\"фрагмент_код\" + 0.017*\"статический\" + 0.016*\"рассмотреть\" + 0.015*\"анализатор\" + 0.013*\"язык\" + 0.013*\"серьёзный\" + 0.012*\"cms\" + 0.012*\"встречаться\"'),\n",
              " (3,\n",
              "  '0.102*\"маячок\" + 0.049*\"визуальный\" + 0.040*\"критика\" + 0.033*\"вверх\" + 0.033*\"бесполезный\" + 0.028*\"слух\" + 0.026*\"машина\" + 0.024*\"инструментарий\" + 0.022*\"якобы\" + 0.021*\"словно\"'),\n",
              " (2,\n",
              "  '0.028*\"иконка\" + 0.023*\"обновление\" + 0.022*\"окно\" + 0.017*\"ui\" + 0.014*\"jetbrains\" + 0.010*\"текущий\" + 0.009*\"ide\" + 0.009*\"несколько_минута\" + 0.009*\"навигация\" + 0.009*\"интерфейс\"'),\n",
              " (1,\n",
              "  '0.016*\"сотрудник\" + 0.006*\"стратегия\" + 0.005*\"информационный_безопасность\" + 0.005*\"организация\" + 0.005*\"технический\" + 0.005*\"безопасность\" + 0.005*\"корпоративный_сеть\" + 0.005*\"администратор\" + 0.004*\"профиль\" + 0.004*\"переадресация\"'),\n",
              " (0,\n",
              "  '0.019*\"студент\" + 0.018*\"курс\" + 0.015*\"заказчик\" + 0.008*\"лекция\" + 0.007*\"ожидание\" + 0.007*\"читать\" + 0.006*\"обучение\" + 0.006*\"преподаватель\" + 0.005*\"заниматься\" + 0.005*\"открытый\"')]"
            ]
          },
          "metadata": {
            "tags": []
          },
          "execution_count": 17
        }
      ]
    },
    {
      "cell_type": "markdown",
      "metadata": {
        "id": "16v9EyGR0YoE",
        "colab_type": "text"
      },
      "source": [
        "'0.112*\"видео\" + 0.048*\"регистратор\" + 0.032*\"стекло\" + 0.025*\"салон\" + 0.023*\"бренд\" + 0.020*\"запись\" + 0.020*\"камера\" + 0.020*\"ролик\" + 0.019*\"gps\" + 0.018*\"китайский\"'\n",
        "\n",
        "  '0.126*\"товар\" + 0.074*\"покупатель\" + 0.071*\"покупка\" + 0.071*\"магазин\" + 0.066*\"заказ\" + 0.054*\"скидка\" + 0.037*\"цена\" + 0.036*\"продажа\" + 0.030*\"продавец\" + 0.025*\"предложение\"')\n",
        "\n",
        "'0.016*\"сотрудник\" + 0.006*\"стратегия\" + 0.005*\"информационный_безопасность\" + 0.005*\"организация\" + 0.005*\"технический\" + 0.005*\"безопасность\" + 0.005*\"корпоративный_сеть\" + 0.005*\"администратор\" + 0.004*\"профиль\" + 0.004*\"переадресация\"'\n",
        "\n",
        "  '0.028*\"иконка\" + 0.023*\"обновление\" + 0.022*\"окно\" + 0.017*\"ui\" + 0.014*\"jetbrains\" + 0.010*\"текущий\" + 0.009*\"ide\" + 0.009*\"несколько_минута\" + 0.009*\"навигация\" + 0.009*\"интерфейс\"'"
      ]
    },
    {
      "cell_type": "markdown",
      "metadata": {
        "id": "XNUxxMHJ-RQN",
        "colab_type": "text"
      },
      "source": [
        "Результаты LDA\n",
        "\n",
        "Лучше всего, на мой взгяд, справилась третья модель. LdaModel, 6 проходов, alpha= 'asymmetric'. Первая в некоторых случаях выдавала неплохие топики, но остальные были уж слишком размазанными и непонятными. Вторая справлялась уже лучше, неплохих тем было значительно больше, но, в целом, темы недостаточно конкретные. Например, вот: '0.016*\"сотрудник\" + 0.015*\"бизнес\" + 0.012*\"рынок\" + 0.008*\"офис\" + 0.007*\"крупный\" + 0.007*\"инвестиция\" + 0.007*\"менеджер\" + 0.007*\"стартап\" + 0.006*\"конкурент\" + 0.006*\"инвестор\"\n",
        "\n",
        "Третья же модель выделяет нормальные темы, достаточно конкретные, а там, где не справляется с конкретикой, хотя бы не слишком сильно залезает в чужие области. Наиболее удачные на мой взгяд: \n",
        "\n",
        "Автомобильные аксессуары:\n",
        "'0.112*\"видео\" + 0.048*\"регистратор\" + 0.032*\"стекло\" + 0.025*\"салон\" + 0.023*\"бренд\" + 0.020*\"запись\" + 0.020*\"камера\" + 0.020*\"ролик\" + 0.019*\"gps\" + 0.018*\"китайский\"'\n",
        "\n",
        "(Корпоративная) информационная безопасность:\n",
        "'0.016*\"сотрудник\" + 0.006*\"стратегия\" + 0.005*\"информационный_безопасность\" + 0.005*\"организация\" + 0.005*\"технический\" + 0.005*\"безопасность\" + 0.005*\"корпоративный_сеть\" + 0.005*\"администратор\" + 0.004*\"профиль\" + 0.004*\"переадресация\"\n",
        "\n",
        "Обновления IDE(возможно, конкретно пайчарма):\n",
        "'0.028*\"иконка\" + 0.023*\"обновление\" + 0.022*\"окно\" + 0.017*\"ui\" + 0.014*\"jetbrains\" + 0.010*\"текущий\" + 0.009*\"ide\" + 0.009*\"несколько_минута\" + 0.009*\"навигация\" + 0.009*\"интерфейс\"'\n",
        "\n"
      ]
    },
    {
      "cell_type": "markdown",
      "metadata": {
        "id": "UL0rjlRy-mm6",
        "colab_type": "text"
      },
      "source": [
        "1 модель + tfidf"
      ]
    },
    {
      "cell_type": "code",
      "metadata": {
        "colab_type": "code",
        "id": "6VGEqjTMXbCZ",
        "colab": {}
      },
      "source": [
        "tfidf = gensim.models.TfidfModel(corpus, id2word=dictinary)\n",
        "corpus = tfidf[corpus]"
      ],
      "execution_count": 0,
      "outputs": []
    },
    {
      "cell_type": "code",
      "metadata": {
        "colab_type": "code",
        "id": "ALpN4Yes_QDo",
        "colab": {}
      },
      "source": [
        "lda = gensim.models.LdaMulticore(corpus, 200, id2word=dictinary, eval_every=0)"
      ],
      "execution_count": 0,
      "outputs": []
    },
    {
      "cell_type": "code",
      "metadata": {
        "colab_type": "code",
        "id": "MkwWdYdF_Ss3",
        "colab": {
          "base_uri": "https://localhost:8080/",
          "height": 731
        },
        "outputId": "48539e02-11fc-45a2-9e21-247e1e02bb09"
      },
      "source": [
        "lda.print_topics()"
      ],
      "execution_count": 20,
      "outputs": [
        {
          "output_type": "execute_result",
          "data": {
            "text/plain": [
              "[(16,\n",
              "  '0.012*\"предприятие\" + 0.009*\"документ\" + 0.009*\"автоматизировать\" + 0.008*\"бюджет\" + 0.008*\"эксплуатация\" + 0.007*\"заявка\" + 0.007*\"руководство\" + 0.007*\"исполнитель\" + 0.007*\"дисциплина\" + 0.006*\"согласование\"'),\n",
              " (57,\n",
              "  '0.036*\"java\" + 0.024*\"вносить\" + 0.020*\"конфликт\" + 0.016*\"вестись\" + 0.014*\"статус\" + 0.012*\"локальный_переменный\" + 0.012*\"прототипирование\" + 0.012*\"mark\" + 0.011*\"избежание\" + 0.011*\"приближение\"'),\n",
              " (71,\n",
              "  '0.004*\"станция\" + 0.003*\"webpack\" + 0.003*\"игра\" + 0.003*\"иначе\" + 0.002*\"погода\" + 0.002*\"билд\" + 0.002*\"генератор\" + 0.002*\"смартфон\" + 0.002*\"for\" + 0.002*\"linux\"'),\n",
              " (78,\n",
              "  '0.003*\"скидка\" + 0.003*\"hpe\" + 0.003*\"huawei\" + 0.003*\"ddr4\" + 0.002*\"бэкап\" + 0.002*\"видеокарта\" + 0.002*\"dns\" + 0.002*\"новогодний\" + 0.002*\"проложить\" + 0.002*\"вт\"'),\n",
              " (11,\n",
              "  '0.004*\"dell\" + 0.003*\"умный_дом\" + 0.003*\"билет\" + 0.002*\"teamcity\" + 0.002*\"pi\" + 0.002*\"raspberry_pi\" + 0.002*\"датчик\" + 0.002*\"debian\" + 0.002*\"интервью\" + 0.002*\"хозяин\"'),\n",
              " (37,\n",
              "  '0.009*\"статический\" + 0.008*\"иконка\" + 0.008*\"•\" + 0.007*\"сообщение\" + 0.005*\"android\" + 0.005*\"отображаться\" + 0.004*\"добавление\" + 0.004*\"короткий\" + 0.004*\"удалять\" + 0.004*\"упасть\"'),\n",
              " (161,\n",
              "  '0.015*\"советский\" + 0.014*\"музыкант\" + 0.012*\"фильтр\" + 0.010*\"министерство\" + 0.009*\"усилитель\" + 0.007*\"звучание\" + 0.007*\"создатель\" + 0.007*\"звук\" + 0.006*\"производство\" + 0.006*\"искажение\"'),\n",
              " (147,\n",
              "  '0.017*\"azure\" + 0.016*\"vpn\" + 0.011*\"microsoft_azure\" + 0.010*\"vps\" + 0.009*\"to_this\" + 0.007*\"please\" + 0.007*\"машина\" + 0.006*\"deployment\" + 0.006*\"act\" + 0.006*\"take\"'),\n",
              " (179,\n",
              "  '0.003*\"игра\" + 0.003*\"отклик\" + 0.003*\"дыхание\" + 0.002*\"аккумулятор\" + 0.002*\"рабочий_день\" + 0.002*\"вакансия\" + 0.002*\"яйцо\" + 0.002*\"identifier\" + 0.002*\"стресс\" + 0.002*\"соцсеть\"'),\n",
              " (144,\n",
              "  '0.005*\"new\" + 0.003*\"фотография\" + 0.002*\"unity\" + 0.002*\"безопасность\" + 0.002*\"возраст\" + 0.002*\"вредоносный_программа\" + 0.002*\"книга\" + 0.002*\"лампочка\" + 0.002*\"интерфейс\" + 0.002*\"pi\"'),\n",
              " (30,\n",
              "  '0.039*\"cookie\" + 0.016*\"партнёр\" + 0.014*\"трафик\" + 0.008*\"посетитель\" + 0.007*\"метка\" + 0.007*\"партнерский\" + 0.007*\"рекламодатель\" + 0.007*\"пиксель\" + 0.006*\"страница\" + 0.006*\"конверсия\"'),\n",
              " (63,\n",
              "  '0.003*\"yahoo\" + 0.003*\"триггер\" + 0.002*\"точка_доступ\" + 0.002*\"crm\" + 0.002*\"смартфон\" + 0.002*\"vmware\" + 0.002*\"игра\" + 0.002*\"интеграция\" + 0.002*\"игрушка\" + 0.002*\"доклад\"'),\n",
              " (106,\n",
              "  '0.005*\"r\" + 0.003*\"операция\" + 0.003*\"цод\" + 0.002*\"виртуальный_сервер\" + 0.002*\"фриланс\" + 0.002*\"накопитель\" + 0.002*\"raid\" + 0.002*\"подложка\" + 0.002*\"дата-центр\" + 0.002*\"rails\"'),\n",
              " (99,\n",
              "  '0.004*\"транзакция\" + 0.003*\"приёмник\" + 0.003*\"трек\" + 0.003*\"script\" + 0.003*\"ндс\" + 0.003*\"1_январь\" + 0.003*\"bitcoin\" + 0.003*\"бот\" + 0.002*\"btc\" + 0.002*\"антенна\"'),\n",
              " (25,\n",
              "  '0.017*\"браузер\" + 0.017*\"messages\" + 0.012*\"edge\" + 0.011*\"lt;?php\" + 0.010*\"microsoft\" + 0.009*\"return\" + 0.008*\"умолчание\" + 0.008*\"windows_10\" + 0.007*\"логин\" + 0.007*\"двигать\"'),\n",
              " (42,\n",
              "  '0.011*\"public_void\" + 0.005*\"длина\" + 0.004*\"спрайт\" + 0.003*\"презентация\" + 0.003*\"блок\" + 0.002*\"en\" + 0.002*\"равный\" + 0.002*\"слайд\" + 0.002*\"выступление\" + 0.002*\"ит\"'),\n",
              " (149,\n",
              "  '0.003*\"художник\" + 0.003*\"игра\" + 0.003*\"подарок\" + 0.002*\"ноутбук\" + 0.002*\"active_directory\" + 0.002*\"девайс\" + 0.002*\"join\" + 0.002*\"тз\" + 0.002*\"провайдер\" + 0.002*\"2d\"'),\n",
              " (168,\n",
              "  '0.018*\"игра\" + 0.016*\"игрок\" + 0.013*\"прямоугольник\" + 0.010*\"foo\" + 0.008*\"•\" + 0.008*\"исследование\" + 0.007*\"играть\" + 0.007*\"content\" + 0.006*\"строка\" + 0.005*\"лицензия\"'),\n",
              " (65,\n",
              "  '0.007*\"true\" + 0.005*\"python\" + 0.003*\"переводчик\" + 0.002*\"перевод\" + 0.002*\"slack\" + 0.002*\"модуль\" + 0.002*\"предложение\" + 0.002*\"документация\" + 0.002*\"dpi\" + 0.002*\"class\"'),\n",
              " (43,\n",
              "  '0.004*\"бот\" + 0.003*\"планирование\" + 0.003*\"робот\" + 0.003*\"youtube\" + 0.003*\"свет\" + 0.002*\"ребро\" + 0.002*\"план\" + 0.002*\"сотрудник\" + 0.002*\"рынок\" + 0.002*\"сущность\"')]"
            ]
          },
          "metadata": {
            "tags": []
          },
          "execution_count": 20
        }
      ]
    },
    {
      "cell_type": "markdown",
      "metadata": {
        "id": "ZA5CRIBT3mSn",
        "colab_type": "text"
      },
      "source": [
        "'0.015*\"советский\" + 0.014*\"музыкант\" + 0.012*\"фильтр\" + 0.010*\"министерство\" + 0.009*\"усилитель\" + 0.007*\"звучание\" + 0.007*\"создатель\" + 0.007*\"звук\" + 0.006*\"производство\" + 0.006*\"искажение\"\n",
        "\n",
        "'0.017*\"браузер\" + 0.017*\"messages\" + 0.012*\"edge\" + 0.011*\"lt;?php\" + 0.010*\"microsoft\" + 0.009*\"return\" + 0.008*\"умолчание\" + 0.008*\"windows_10\" + 0.007*\"логин\" + 0.007*\"двигать\""
      ]
    },
    {
      "cell_type": "markdown",
      "metadata": {
        "id": "MJzWb1ry_VX0",
        "colab_type": "text"
      },
      "source": [
        "2 модель + tfidif"
      ]
    },
    {
      "cell_type": "code",
      "metadata": {
        "colab_type": "code",
        "id": "xDHQ3JiG_yyJ",
        "colab": {}
      },
      "source": [
        "lda = gensim.models.LdaModel(corpus, 200, id2word=dictinary, passes=6, alpha= 'auto')"
      ],
      "execution_count": 0,
      "outputs": []
    },
    {
      "cell_type": "code",
      "metadata": {
        "colab_type": "code",
        "id": "SRVDvMCv_TVD",
        "colab": {
          "base_uri": "https://localhost:8080/",
          "height": 731
        },
        "outputId": "2f580271-54bb-4c92-e514-9410ff22ac55"
      },
      "source": [
        "lda.print_topics()"
      ],
      "execution_count": 22,
      "outputs": [
        {
          "output_type": "execute_result",
          "data": {
            "text/plain": [
              "[(174,\n",
              "  '0.014*\"devops\" + 0.000*\"scala\" + 0.000*\"вакансия\" + 0.000*\"progress\" + 0.000*\"региональный\" + 0.000*\"зарплата\" + 0.000*\"набирать_оборот\" + 0.000*\"разрыв\" + 0.000*\"вырасти\" + 0.000*\"java\"'),\n",
              " (54,\n",
              "  '0.000*\"15_000\" + 0.000*\"потомок\" + 0.000*\"storage\" + 0.000*\"вм\" + 0.000*\"защита\" + 0.000*\"удаление\" + 0.000*\"уничтожение\" + 0.000*\"акция\" + 0.000*\"узел\" + 0.000*\"диск\"'),\n",
              " (87,\n",
              "  '0.021*\"office_365\" + 0.001*\"office\" + 0.000*\"фигура\" + 0.000*\"составной\" + 0.000*\"microsoft_office\" + 0.000*\"ход\" + 0.000*\"доска\" + 0.000*\"аргумент_польза\" + 0.000*\"running\" + 0.000*\"последний_версия\"'),\n",
              " (199,\n",
              "  '0.011*\"раствор\" + 0.007*\"медь\" + 0.000*\"вольт\" + 0.000*\"цивилизация\" + 0.000*\"ui\" + 0.000*\"поддаваться\" + 0.000*\"учитель\" + 0.000*\"ux\" + 0.000*\"отдел\" + 0.000*\"личный_кабинет\"'),\n",
              " (166,\n",
              "  '0.010*\"просить_кат\" + 0.000*\"gdb\" + 0.000*\"старение\" + 0.000*\"сан-франциско\" + 0.000*\"резервный_копирование\" + 0.000*\"авторизоваться\" + 0.000*\"void_void\" + 0.000*\"указываться\" + 0.000*\"убить\" + 0.000*\"monitor\"'),\n",
              " (136,\n",
              "  '0.006*\"товар_магазин\" + 0.000*\"madrobots\" + 0.000*\"haskell\" + 0.000*\"sum\" + 0.000*\"let\" + 0.000*\"nothing\" + 0.000*\"map\" + 0.000*\"square\" + 0.000*\"бесконечный\" + 0.000*\"elements\"'),\n",
              " (107,\n",
              "  '0.028*\"reverse\" + 0.005*\"compare\" + 0.000*\"left_right\" + 0.000*\"любовь\" + 0.000*\"t\" + 0.000*\"v\" + 0.000*\"мс\" + 0.000*\"аргумент\" + 0.000*\"аппарат\" + 0.000*\"struct\"'),\n",
              " (23,\n",
              "  '0.016*\"эпидемия\" + 0.016*\"maven\" + 0.001*\"groovy\" + 0.000*\"michael\" + 0.000*\"pipeline\" + 0.000*\"манифест\" + 0.000*\"llvm\" + 0.000*\"james\" + 0.000*\"данный_подход\" + 0.000*\"john\"'),\n",
              " (68,\n",
              "  '0.024*\"значение_полый\" + 0.000*\"микроорганизм\" + 0.000*\"погода\" + 0.000*\"камень\" + 0.000*\"полоса\" + 0.000*\"pass\" + 0.000*\"now\" + 0.000*\"ru\" + 0.000*\"for_int\" + 0.000*\"бактерия\"'),\n",
              " (4,\n",
              "  '0.108*\"аккумулятор\" + 0.096*\"батарея\" + 0.050*\"ячейка\" + 0.035*\"производство\" + 0.014*\"вверху\" + 0.010*\"внизу\" + 0.010*\"рекурсия\" + 0.007*\"тонкий\" + 0.005*\"корпорация\" + 0.004*\"нагреваться\"'),\n",
              " (153,\n",
              "  '0.013*\"java\" + 0.013*\"users\" + 0.012*\"cmake\" + 0.011*\"стандарт\" + 0.010*\"скачать\" + 0.010*\"репозиторий\" + 0.008*\"php\" + 0.008*\"c\" + 0.008*\"тестирование\" + 0.008*\"доска\"'),\n",
              " (58,\n",
              "  '0.032*\"доклад\" + 0.011*\"родитель\" + 0.011*\"конференция\" + 0.009*\"альтернатива\" + 0.008*\"производительность\" + 0.008*\"визуализация\" + 0.008*\"rate\" + 0.008*\"робот\" + 0.008*\"business\" + 0.007*\"дисциплина\"'),\n",
              " (143,\n",
              "  '0.013*\"атрибут\" + 0.010*\"страница\" + 0.009*\"state\" + 0.009*\"модуль\" + 0.008*\"браузер\" + 0.008*\"узел\" + 0.008*\"пиксель\" + 0.008*\"индекс\" + 0.008*\"html\" + 0.008*\"api\"'),\n",
              " (193,\n",
              "  '0.018*\"студент\" + 0.014*\"ия\" + 0.009*\"→\" + 0.008*\"system\" + 0.007*\"обеспечивать\" + 0.007*\"современный\" + 0.007*\"сеть_интернет\" + 0.007*\"ibm\" + 0.006*\"искусственный_интеллект\" + 0.006*\"костя\"'),\n",
              " (111,\n",
              "  '0.010*\"координата\" + 0.010*\"шифрование\" + 0.007*\"временной\" + 0.007*\"асинхронный\" + 0.007*\"набор_дать\" + 0.007*\"виртуальный\" + 0.007*\"диапазон\" + 0.007*\"эффективный\" + 0.007*\"let\" + 0.006*\"термин\"'),\n",
              " (65,\n",
              "  '0.010*\"материал\" + 0.007*\"программист\" + 0.006*\"программирование\" + 0.006*\"план\" + 0.006*\"google\" + 0.006*\"автомобиль\" + 0.006*\"датчик\" + 0.006*\"предмет\" + 0.005*\"техника\" + 0.005*\"центр\"'),\n",
              " (66,\n",
              "  '0.007*\"сообщение\" + 0.007*\"бот\" + 0.006*\"помещение\" + 0.006*\"ключ\" + 0.006*\"компьютер\" + 0.006*\"•\" + 0.006*\"страница\" + 0.005*\"необходимость\" + 0.005*\"кнопка\" + 0.005*\"комментарий\"'),\n",
              " (145,\n",
              "  '0.007*\"запрос\" + 0.006*\"поток\" + 0.005*\"пакет\" + 0.005*\"интерфейс\" + 0.005*\"трафик\" + 0.005*\"база\" + 0.005*\"проверка\" + 0.005*\"строка\" + 0.004*\"скрипт\" + 0.004*\"услуга\"'),\n",
              " (42,\n",
              "  '0.005*\"язык\" + 0.005*\"класс\" + 0.004*\"алгоритм\" + 0.004*\"событие\" + 0.004*\"заказчик\" + 0.004*\"компонент\" + 0.003*\"приходить\" + 0.003*\"знание\" + 0.003*\"c\" + 0.003*\"раздел\"'),\n",
              " (141,\n",
              "  '0.004*\"безопасность\" + 0.004*\"сотрудник\" + 0.004*\"группа\" + 0.003*\"организация\" + 0.003*\"связь\" + 0.003*\"машина\" + 0.003*\"исследование\" + 0.003*\"цифровой\" + 0.003*\"документ\" + 0.003*\"услуга\"')]"
            ]
          },
          "metadata": {
            "tags": []
          },
          "execution_count": 22
        }
      ]
    },
    {
      "cell_type": "markdown",
      "metadata": {
        "id": "aQioAc2D46nx",
        "colab_type": "text"
      },
      "source": [
        "'0.108*\"аккумулятор\" + 0.096*\"батарея\" + 0.050*\"ячейка\" + 0.035*\"производство\" + 0.014*\"вверху\" + 0.010*\"внизу\" + 0.010*\"рекурсия\" + 0.007*\"тонкий\" + 0.005*\"корпорация\" + 0.004*\"нагреваться\"\n",
        "\n",
        "'0.013*\"атрибут\" + 0.010*\"страница\" + 0.009*\"state\" + 0.009*\"модуль\" + 0.008*\"браузер\" + 0.008*\"узел\" + 0.008*\"пиксель\" + 0.008*\"индекс\" + 0.008*\"html\" + 0.008*\"api\"\n",
        "\n",
        "'0.007*\"запрос\" + 0.006*\"поток\" + 0.005*\"пакет\" + 0.005*\"интерфейс\" + 0.005*\"трафик\" + 0.005*\"база\" + 0.005*\"проверка\" + 0.005*\"строка\" + 0.004*\"скрипт\" + 0.004*\"услуга\""
      ]
    },
    {
      "cell_type": "markdown",
      "metadata": {
        "id": "lbJB6TzE_rqr",
        "colab_type": "text"
      },
      "source": [
        "3 модель + tfidf"
      ]
    },
    {
      "cell_type": "code",
      "metadata": {
        "colab_type": "code",
        "id": "JzCW71xoADgi",
        "colab": {}
      },
      "source": [
        "lda = gensim.models.LdaModel(corpus, 200, id2word=dictinary, passes=6, alpha= 'asymmetric')"
      ],
      "execution_count": 0,
      "outputs": []
    },
    {
      "cell_type": "code",
      "metadata": {
        "colab_type": "code",
        "id": "RzWaVJVv_T1_",
        "colab": {
          "base_uri": "https://localhost:8080/",
          "height": 731
        },
        "outputId": "f5240aa2-728c-4fe4-b4a3-acd25d0b3af0"
      },
      "source": [
        "lda.print_topics()"
      ],
      "execution_count": 25,
      "outputs": [
        {
          "output_type": "execute_result",
          "data": {
            "text/plain": [
              "[(198,\n",
              "  '0.000*\"ученик\" + 0.000*\"индивидуальный_подход\" + 0.000*\"watson\" + 0.000*\"преподаватель\" + 0.000*\"ibm\" + 0.000*\"учитель\" + 0.000*\"школьный\" + 0.000*\"образование\" + 0.000*\"школа\" + 0.000*\"школьник\"'),\n",
              " (196,\n",
              "  '0.000*\"прелесть\" + 0.000*\"разблокировать\" + 0.000*\"альтернативный_вариант\" + 0.000*\"взломать\" + 0.000*\"время_сутки\" + 0.000*\"денежный\" + 0.000*\"детализация\" + 0.000*\"окей\" + 0.000*\"переадресация\" + 0.000*\"gmail\"'),\n",
              " (199,\n",
              "  '0.000*\"станция\" + 0.000*\"ux\" + 0.000*\"ui\" + 0.000*\"космический\" + 0.000*\"звонок\" + 0.000*\"марс\" + 0.000*\"диаметр\" + 0.000*\"видео\" + 0.000*\"взаимодействие\" + 0.000*\"километр\"'),\n",
              " (191,\n",
              "  '0.009*\"деплоить\" + 0.000*\"деплый\" + 0.000*\"iis\" + 0.000*\"дизайнер\" + 0.000*\"релиз\" + 0.000*\"достижение_цель\" + 0.000*\"книга\" + 0.000*\"портфолио\" + 0.000*\"хост\" + 0.000*\"сущность\"'),\n",
              " (194,\n",
              "  '0.000*\"ассет\" + 0.000*\"заголовок\" + 0.000*\"запрос\" + 0.000*\"игра\" + 0.000*\"префикс\" + 0.000*\"u\" + 0.000*\"подстановка\" + 0.000*\"модификатор\" + 0.000*\"документ\" + 0.000*\"игрок\"'),\n",
              " (197,\n",
              "  '0.000*\"vmware\" + 0.000*\"уязвимость\" + 0.000*\"x1\" + 0.000*\"pro\" + 0.000*\"рутина\" + 0.000*\"and\" + 0.000*\"player\" + 0.000*\"защититься\" + 0.000*\"виртуальный_машина\" + 0.000*\"the\"'),\n",
              " (187,\n",
              "  '0.000*\"прелесть\" + 0.000*\"разблокировать\" + 0.000*\"альтернативный_вариант\" + 0.000*\"взломать\" + 0.000*\"время_сутки\" + 0.000*\"денежный\" + 0.000*\"детализация\" + 0.000*\"окей\" + 0.000*\"переадресация\" + 0.000*\"gmail\"'),\n",
              " (193,\n",
              "  '0.012*\"антивирус\" + 0.000*\"антивирусный\" + 0.000*\"специалист_безопасность\" + 0.000*\"язык\" + 0.000*\"google\" + 0.000*\"открытый_ключ\" + 0.000*\"аудит\" + 0.000*\"конференция\" + 0.000*\"информационный_безопасность\" + 0.000*\"компьютер\"'),\n",
              " (192,\n",
              "  '0.000*\"прелесть\" + 0.000*\"разблокировать\" + 0.000*\"альтернативный_вариант\" + 0.000*\"взломать\" + 0.000*\"время_сутки\" + 0.000*\"денежный\" + 0.000*\"детализация\" + 0.000*\"окей\" + 0.000*\"переадресация\" + 0.000*\"gmail\"'),\n",
              " (195,\n",
              "  '0.000*\"unreal\" + 0.000*\"агент\" + 0.000*\"нейросеть\" + 0.000*\"ия\" + 0.000*\"вознаграждение\" + 0.000*\"предсказание\" + 0.000*\"обучаться\" + 0.000*\"игра\" + 0.000*\"очки\" + 0.000*\"объяснять\"'),\n",
              " (9,\n",
              "  '0.055*\"астероид\" + 0.000*\"юпитер\" + 0.000*\"results\" + 0.000*\"rule\" + 0.000*\"частота_кадр\" + 0.000*\"кортеж\" + 0.000*\"precision\" + 0.000*\"i2c\" + 0.000*\"резервный_копия\" + 0.000*\"спутник\"'),\n",
              " (8,\n",
              "  '0.057*\"галактика\" + 0.043*\"i=0_i\" + 0.019*\"материя\" + 0.014*\"тёмный_материя\" + 0.011*\"i\" + 0.011*\"гравитация\" + 0.010*\"исходный_положение\" + 0.008*\"cortana\" + 0.000*\"std::cout_lt;&lt\" + 0.000*\"ревить\"'),\n",
              " (7,\n",
              "  '0.046*\"public_void\" + 0.031*\"if\" + 0.030*\"int_x\" + 0.026*\"сколь_угодный\" + 0.011*\"direction\" + 0.011*\"null_null\" + 0.010*\"g\" + 0.009*\"end_if\" + 0.008*\"index.php\" + 0.007*\"болеть\"'),\n",
              " (6,\n",
              "  '0.031*\"анимировать\" + 0.025*\"yii\" + 0.019*\"new_public\" + 0.012*\"перестановка\" + 0.011*\"субъективно\" + 0.011*\"ваш_аккаунт\" + 0.009*\"виток\" + 0.009*\"начальство\" + 0.008*\"completed\" + 0.007*\"откуда-то\"'),\n",
              " (5,\n",
              "  '0.044*\"мириться\" + 0.029*\"а-ля\" + 0.025*\"±\" + 0.018*\"частота_кадр\" + 0.017*\"самый_яркий\" + 0.014*\"триггер\" + 0.010*\"бизнесмен\" + 0.010*\"9_10\" + 0.010*\"samsung_galaxy\" + 0.008*\"природный\"'),\n",
              " (4,\n",
              "  '0.068*\"ip_address\" + 0.039*\"results\" + 0.035*\"выключаться\" + 0.028*\"прикрепить\" + 0.025*\"корпоративный_культура\" + 0.023*\"катушка\" + 0.022*\"r3\" + 0.020*\"closed\" + 0.017*\"усложнение\" + 0.017*\"фейсбук\"'),\n",
              " (3,\n",
              "  '0.044*\"yahoo\" + 0.035*\"public_function\" + 0.020*\"tesla\" + 0.020*\"dom\" + 0.015*\"apache\" + 0.015*\"use_use\" + 0.014*\"балансировка_нагрузка\" + 0.014*\"бар\" + 0.014*\"мотор\" + 0.013*\"haproxy\"'),\n",
              " (2,\n",
              "  '0.035*\"усилитель\" + 0.016*\"foreach\" + 0.015*\"министерство\" + 0.014*\"подкаста\" + 0.013*\"amp;&amp_amp;&amp\" + 0.013*\"реле\" + 0.012*\"нативный_приложение\" + 0.012*\"музыкант\" + 0.009*\"датчик_температура\" + 0.009*\"rw\"'),\n",
              " (1,\n",
              "  '0.004*\"игра\" + 0.003*\"мозг\" + 0.003*\"заказчик\" + 0.002*\"российский\" + 0.002*\"ия\" + 0.002*\"игрок\" + 0.002*\"боль\" + 0.002*\"рабочий_место\" + 0.002*\"vpn\" + 0.002*\"сотрудник\"'),\n",
              " (0,\n",
              "  '0.002*\"игра\" + 0.001*\"браузер\" + 0.001*\"услуга\" + 0.001*\"сообщение\" + 0.001*\"запрос\" + 0.001*\"документ\" + 0.001*\"return\" + 0.001*\"c\" + 0.001*\"страница\" + 0.001*\"безопасность\"')]"
            ]
          },
          "metadata": {
            "tags": []
          },
          "execution_count": 25
        }
      ]
    },
    {
      "cell_type": "markdown",
      "metadata": {
        "id": "2wxJFIm5558g",
        "colab_type": "text"
      },
      "source": [
        "'0.000*\"ученик\" + 0.000*\"индивидуальный_подход\" + 0.000*\"watson\" + 0.000*\"преподаватель\" + 0.000*\"ibm\" + 0.000*\"учитель\" + 0.000*\"школьный\" + 0.000*\"образование\" + 0.000*\"школа\" + 0.000*\"школьник\"\n",
        "\n",
        "'0.012*\"антивирус\" + 0.000*\"антивирусный\" + 0.000*\"специалист_безопасность\" + 0.000*\"язык\" + 0.000*\"google\" + 0.000*\"открытый_ключ\" + 0.000*\"аудит\" + 0.000*\"конференция\" + 0.000*\"информационный_безопасность\" + 0.000*\"компьютер\"\n",
        "\n",
        "'0.057*\"галактика\" + 0.043*\"i=0_i\" + 0.019*\"материя\" + 0.014*\"тёмный_материя\" + 0.011*\"i\" + 0.011*\"гравитация\" + 0.010*\"исходный_положение\" + 0.008*\"cortana\" + 0.000*\"std::cout_lt;&lt\" + 0.000*\"ревить\""
      ]
    },
    {
      "cell_type": "markdown",
      "metadata": {
        "id": "NV5nkR5KAEtt",
        "colab_type": "text"
      },
      "source": [
        "Результаты LDA + tfidf\n",
        "\n",
        "C tfidf результаты ухудшились, однако интересно то, что с таким подходом хотя бы видна какая-то логика размазывания. Темы, даже не самые хорошие, всё равно более точны (темы с играми обросли словами типа 'конференция', 'доклад', а значит в текстах речь, скорее всего, шла о конференции разработчиков игр). Третья модель на этот раз тоже выделила вполне нормальные темы, но сильнее размазалась в и без того не самых удачных вариантах. Тем не менее, другие модели показали результаты ещё хуже. Список наиоболее удачных тем для третьей модели: \n",
        "\n",
        "Образование:\n",
        "'0.000*\"ученик\" + 0.000*\"индивидуальный_подход\" + 0.000*\"watson\" + 0.000*\"преподаватель\" + 0.000*\"ibm\" + 0.000*\"учитель\" + 0.000*\"школьный\" + 0.000*\"образование\" + 0.000*\"школа\" + 0.000*\"школьник\"\n",
        "\n",
        "Информационная безопасность:\n",
        "'0.012*\"антивирус\" + 0.000*\"антивирусный\" + 0.000*\"специалист_безопасность\" + 0.000*\"язык\" + 0.000*\"google\" + 0.000*\"открытый_ключ\" + 0.000*\"аудит\" + 0.000*\"конференция\" + 0.000*\"информационный_безопасность\" + 0.000*\"компьютер\"\n",
        "\n",
        "Космос, физика (ещё и Halo приплела):\n",
        "'0.057*\"галактика\" + 0.043*\"i=0_i\" + 0.019*\"материя\" + 0.014*\"тёмный_материя\" + 0.011*\"i\" + 0.011*\"гравитация\" + 0.010*\"исходный_положение\" + 0.008*\"cortana\" + 0.000*\"std::cout_lt;&lt\" + 0.000*\"ревить\""
      ]
    },
    {
      "cell_type": "markdown",
      "metadata": {
        "id": "0itDWro9AXgc",
        "colab_type": "text"
      },
      "source": [
        "#NMF"
      ]
    },
    {
      "cell_type": "code",
      "metadata": {
        "id": "skUGL8whIt21",
        "colab_type": "code",
        "colab": {}
      },
      "source": [
        "from sklearn.decomposition import NMF\n",
        "from sklearn.feature_extraction.text import CountVectorizer, TfidfVectorizer\n",
        "import pandas as pd"
      ],
      "execution_count": 0,
      "outputs": []
    },
    {
      "cell_type": "code",
      "metadata": {
        "id": "nqP90fm5It2_",
        "colab_type": "code",
        "colab": {}
      },
      "source": [
        "stexts = [' '.join(text) for text in texts]"
      ],
      "execution_count": 0,
      "outputs": []
    },
    {
      "cell_type": "markdown",
      "metadata": {
        "id": "hNFKqBsaBLKH",
        "colab_type": "text"
      },
      "source": [
        "1 модель"
      ]
    },
    {
      "cell_type": "code",
      "metadata": {
        "id": "QMOQUyqrIt3G",
        "colab_type": "code",
        "colab": {}
      },
      "source": [
        "vectorizer = TfidfVectorizer(max_features=750, min_df=6, max_df=0.2, ngram_range=(1,3))\n",
        "X = vectorizer.fit_transform(stexts)"
      ],
      "execution_count": 0,
      "outputs": []
    },
    {
      "cell_type": "code",
      "metadata": {
        "id": "z4rzKrKcIt3U",
        "colab_type": "code",
        "colab": {}
      },
      "source": [
        "model = NMF(n_components=30)"
      ],
      "execution_count": 0,
      "outputs": []
    },
    {
      "cell_type": "code",
      "metadata": {
        "id": "d0Coy48cIt3b",
        "colab_type": "code",
        "outputId": "d036eff5-06c0-49d2-9a5d-8bcdb8589a5a",
        "colab": {
          "base_uri": "https://localhost:8080/",
          "height": 69
        }
      },
      "source": [
        "model.fit(X)"
      ],
      "execution_count": 31,
      "outputs": [
        {
          "output_type": "execute_result",
          "data": {
            "text/plain": [
              "NMF(alpha=0.0, beta_loss='frobenius', init=None, l1_ratio=0.0, max_iter=200,\n",
              "    n_components=30, random_state=None, shuffle=False, solver='cd', tol=0.0001,\n",
              "    verbose=0)"
            ]
          },
          "metadata": {
            "tags": []
          },
          "execution_count": 31
        }
      ]
    },
    {
      "cell_type": "code",
      "metadata": {
        "id": "nTR5WDJt87jl",
        "colab_type": "code",
        "colab": {}
      },
      "source": [
        "feat_names = vectorizer.get_feature_names()"
      ],
      "execution_count": 0,
      "outputs": []
    },
    {
      "cell_type": "code",
      "metadata": {
        "id": "uwVOJ_5sIt3t",
        "colab_type": "code",
        "colab": {}
      },
      "source": [
        "pd.set_option('display.max_columns', 100)\n",
        "pd.set_option('display.max_rows', 100)"
      ],
      "execution_count": 0,
      "outputs": []
    },
    {
      "cell_type": "code",
      "metadata": {
        "scrolled": true,
        "id": "wcFS4YgnIt39",
        "colab_type": "code",
        "outputId": "39e8ca06-09d4-4d02-c9a9-99b6c82a599a",
        "colab": {
          "base_uri": "https://localhost:8080/",
          "height": 537
        }
      },
      "source": [
        "top_words = model.components_.argsort()[:,:-5:-1]\n",
        "\n",
        "for i in range(top_words.shape[0]):\n",
        "    words = [feat_names[j] for j in top_words[i]]\n",
        "    print(i, \"  \".join(words))"
      ],
      "execution_count": 36,
      "outputs": [
        {
          "output_type": "stream",
          "text": [
            "0 сотрудник  бизнес  заказчик  деньга\n",
            "1 public  new  void  класс\n",
            "2 игра  игрок  игровой  играть\n",
            "3 космический  аппарат  земля  станция\n",
            "4 процессор  память  intel  диск\n",
            "5 the  to  of  and\n",
            "6 рынок  российский  страна  миллион\n",
            "7 lt  gt  div  lt div\n",
            "8 смартфон  мобильный  телефон  android\n",
            "9 адрес  ip  ключ  пакет\n",
            "10 google  android  реклама  api\n",
            "11 доклад  конференция  участник  видео\n",
            "12 атака  безопасность  уязвимость  защита\n",
            "13 обучение  алгоритм  программирование  изображение\n",
            "14 сигнал  частота  канал  диапазон\n",
            "15 камера  видео  изображение  кадр\n",
            "16 дата центр  центр  дата  оборудование\n",
            "17 учёный  мозг  исследование  университет\n",
            "18 тест  тестирование  end  тестовый\n",
            "19 windows  microsoft  linux  studio\n",
            "20 if  int  return  amp\n",
            "21 печать  3d  материал  производство\n",
            "22 javascript  страница  браузер  react\n",
            "23 бот  сообщение  канал  робот\n",
            "24 запрос  таблица  строка  запись\n",
            "25 виртуальный  машина  автомобиль  реальность\n",
            "26 книга  читать  часы  профессиональный\n",
            "27 вселенная  энергия  свет  теория\n",
            "28 товар  скидка  магазин  цена\n",
            "29 звук  материал  читать  частота\n"
          ],
          "name": "stdout"
        }
      ]
    },
    {
      "cell_type": "code",
      "metadata": {
        "id": "IAsmpkxvIt4G",
        "colab_type": "code",
        "outputId": "493e1064-2f57-402b-d1f0-c1b80742e7b1",
        "colab": {
          "base_uri": "https://localhost:8080/",
          "height": 35
        }
      },
      "source": [
        "model.reconstruction_err_"
      ],
      "execution_count": 37,
      "outputs": [
        {
          "output_type": "execute_result",
          "data": {
            "text/plain": [
              "54.85402949571099"
            ]
          },
          "metadata": {
            "tags": []
          },
          "execution_count": 37
        }
      ]
    },
    {
      "cell_type": "markdown",
      "metadata": {
        "id": "_jjPvjkZ9Eep",
        "colab_type": "text"
      },
      "source": [
        "2 игра  игрок  игровой  играть\n",
        "\n",
        "3 космический  аппарат  земля  станция\n",
        "\n",
        "4 процессор  память  intel  диск\n",
        "\n",
        "8 смартфон  мобильный  телефон  android"
      ]
    },
    {
      "cell_type": "markdown",
      "metadata": {
        "id": "ZLes5-HWBOFN",
        "colab_type": "text"
      },
      "source": [
        "2 модель "
      ]
    },
    {
      "cell_type": "code",
      "metadata": {
        "colab_type": "code",
        "id": "_0VPfysLBQ18",
        "colab": {}
      },
      "source": [
        "vectorizer = TfidfVectorizer(max_features=1000, min_df=4, max_df=0.2, ngram_range=(1,3))\n",
        "X = vectorizer.fit_transform(stexts)"
      ],
      "execution_count": 0,
      "outputs": []
    },
    {
      "cell_type": "code",
      "metadata": {
        "colab_type": "code",
        "id": "Vn0SVdWgBTtD",
        "colab": {}
      },
      "source": [
        "model = NMF(n_components=40)"
      ],
      "execution_count": 0,
      "outputs": []
    },
    {
      "cell_type": "code",
      "metadata": {
        "colab_type": "code",
        "outputId": "b06b7e57-8614-46c5-b805-4e9894623b58",
        "id": "3OpqTOmXBXje",
        "colab": {
          "base_uri": "https://localhost:8080/",
          "height": 69
        }
      },
      "source": [
        "model.fit(X)"
      ],
      "execution_count": 47,
      "outputs": [
        {
          "output_type": "execute_result",
          "data": {
            "text/plain": [
              "NMF(alpha=0.0, beta_loss='frobenius', init=None, l1_ratio=0.0, max_iter=200,\n",
              "    n_components=40, random_state=None, shuffle=False, solver='cd', tol=0.0001,\n",
              "    verbose=0)"
            ]
          },
          "metadata": {
            "tags": []
          },
          "execution_count": 47
        }
      ]
    },
    {
      "cell_type": "code",
      "metadata": {
        "id": "1Q9Kn8cl9q_1",
        "colab_type": "code",
        "colab": {}
      },
      "source": [
        "feat_names = vectorizer.get_feature_names()"
      ],
      "execution_count": 0,
      "outputs": []
    },
    {
      "cell_type": "code",
      "metadata": {
        "scrolled": true,
        "colab_type": "code",
        "outputId": "c0fde714-5507-4dc1-887c-d0612c59a5f4",
        "id": "3vgtKNIhBdf5",
        "colab": {
          "base_uri": "https://localhost:8080/",
          "height": 711
        }
      },
      "source": [
        "top_words = model.components_.argsort()[:,:-5:-1]\n",
        "\n",
        "for i in range(top_words.shape[0]):\n",
        "    words = [feat_names[j] for j in top_words[i]]\n",
        "    print(i, \"  \".join(words))"
      ],
      "execution_count": 49,
      "outputs": [
        {
          "output_type": "stream",
          "text": [
            "0 программист  курс  кто  программирование\n",
            "1 int  amp  lt  char\n",
            "2 игра  игрок  игровой  играть\n",
            "3 учёный  клетка  исследование  исследователь\n",
            "4 процессор  память  intel  ядро\n",
            "5 lt  gt  div  lt div\n",
            "6 рынок  российский  страна  миллион\n",
            "7 public  void  string  new\n",
            "8 the  to  of  and\n",
            "9 страница  браузер  реклама  контент\n",
            "10 windows  microsoft  linux  ос\n",
            "11 доклад  конференция  участник  видео\n",
            "12 атака  уязвимость  безопасность  защита\n",
            "13 космический  спутник  аппарат  земля\n",
            "14 дата центр  центр  дата  оборудование\n",
            "15 печать  принтер  3d  материал\n",
            "16 мозг  пациент  глаз  движение\n",
            "17 обучение  алгоритм  ия  изображение\n",
            "18 тест  тестирование  тестовый  test\n",
            "19 модуль  строка  скрипт  плагин\n",
            "20 виртуальный  машина  виртуальный машина  резервный\n",
            "21 бот  сообщение  канал  api\n",
            "22 var  function  return  new\n",
            "23 автомобиль  машина  карта  метр\n",
            "24 запрос  таблица  запись  база дать\n",
            "25 вселенная  энергия  теория  свет\n",
            "26 книга  часы  читать  профессиональный\n",
            "27 google  android  мобильный  ios\n",
            "28 товар  скидка  магазин  цена\n",
            "29 php  java  программирование  go\n",
            "30 сигнал  частота  напряжение  канал\n",
            "31 ключ  сертификат  пароль  запись\n",
            "32 звук  музыка  материал  домашний\n",
            "33 робот  ребёнок  датчик  движение\n",
            "34 сотрудник  бизнес  заказчик  документ\n",
            "35 камера  смартфон  экран  видео\n",
            "36 react  css  javascript  js\n",
            "37 рубль  000  сумма  цена\n",
            "38 if  end  def  else\n",
            "39 адрес  ip  домен  трафик\n"
          ],
          "name": "stdout"
        }
      ]
    },
    {
      "cell_type": "code",
      "metadata": {
        "colab_type": "code",
        "outputId": "e7153269-f0c7-4440-c0b4-b3bcb7ab8015",
        "id": "fhyEugsIBlKP",
        "colab": {
          "base_uri": "https://localhost:8080/",
          "height": 35
        }
      },
      "source": [
        "model.reconstruction_err_"
      ],
      "execution_count": 50,
      "outputs": [
        {
          "output_type": "execute_result",
          "data": {
            "text/plain": [
              "54.40648298890789"
            ]
          },
          "metadata": {
            "tags": []
          },
          "execution_count": 50
        }
      ]
    },
    {
      "cell_type": "markdown",
      "metadata": {
        "id": "Yut3t2vWBl4l",
        "colab_type": "text"
      },
      "source": [
        "3 модель "
      ]
    },
    {
      "cell_type": "code",
      "metadata": {
        "colab_type": "code",
        "id": "IiTSPRbjBpPQ",
        "colab": {}
      },
      "source": [
        "vectorizer = CountVectorizer(max_features=500, min_df=12, max_df=0.2, ngram_range=(1,3))\n",
        "X = vectorizer.fit_transform(stexts)"
      ],
      "execution_count": 0,
      "outputs": []
    },
    {
      "cell_type": "code",
      "metadata": {
        "colab_type": "code",
        "id": "-ofLP1H8BrEx",
        "colab": {}
      },
      "source": [
        "model = NMF(n_components=30)"
      ],
      "execution_count": 0,
      "outputs": []
    },
    {
      "cell_type": "code",
      "metadata": {
        "colab_type": "code",
        "outputId": "69b51fd8-5b3b-43d1-f86a-8e36a2074ab8",
        "id": "B1aMMeVABs4F",
        "colab": {
          "base_uri": "https://localhost:8080/",
          "height": 69
        }
      },
      "source": [
        "model.fit(X)"
      ],
      "execution_count": 58,
      "outputs": [
        {
          "output_type": "execute_result",
          "data": {
            "text/plain": [
              "NMF(alpha=0.0, beta_loss='frobenius', init=None, l1_ratio=0.0, max_iter=200,\n",
              "    n_components=30, random_state=None, shuffle=False, solver='cd', tol=0.0001,\n",
              "    verbose=0)"
            ]
          },
          "metadata": {
            "tags": []
          },
          "execution_count": 58
        }
      ]
    },
    {
      "cell_type": "code",
      "metadata": {
        "id": "5nD6LWzk-pyK",
        "colab_type": "code",
        "colab": {}
      },
      "source": [
        "feat_names = vectorizer.get_feature_names()"
      ],
      "execution_count": 0,
      "outputs": []
    },
    {
      "cell_type": "code",
      "metadata": {
        "scrolled": true,
        "colab_type": "code",
        "outputId": "7e5b28b9-f6ef-4a3a-e36b-3c97c5ad4f6a",
        "id": "sMLFU5VnBzBg",
        "colab": {
          "base_uri": "https://localhost:8080/",
          "height": 537
        }
      },
      "source": [
        "top_words = model.components_.argsort()[:,:-5:-1]\n",
        "\n",
        "for i in range(top_words.shape[0]):\n",
        "    words = [feat_names[j] for j in top_words[i]]\n",
        "    print(i, \"  \".join(words))"
      ],
      "execution_count": 60,
      "outputs": [
        {
          "output_type": "stream",
          "text": [
            "0 up  11  23  50\n",
            "1 gt  lt  gt lt  function\n",
            "2 sec  ms  тест  пакет\n",
            "3 if  else  return  string\n",
            "4 the  to  is  in\n",
            "5 переменный  поль  канал  кнопка\n",
            "6 рынок  сотрудник  бизнес  деньга\n",
            "7 игра  игрок  игровой  играть\n",
            "8 public  new  void  string\n",
            "9 end  then  if  not\n",
            "10 set  as  on  null\n",
            "11 адрес  пакет  ip  трафик\n",
            "12 result  function  for  new\n",
            "13 int  for  блок  массив\n",
            "14 user  do  end  тест\n",
            "15 кнопка  char  иначе  символ\n",
            "16 страница  карта  строка  скрипт\n",
            "17 сетевой  пакет  протокол  обработка\n",
            "18 type  data  name  string\n",
            "19 класс  библиотека  строка  блок\n",
            "20 копия  объём  канал  запись\n",
            "21 запрос  from  таблица  запись\n",
            "22 центр  дата  услуга  инфраструктура\n",
            "23 of  and  for  научный\n",
            "24 amp  amp amp  null  char\n",
            "25 виртуальный  реальность  машина  windows\n",
            "26 return  if  function  var\n",
            "27 память  ядро  процессор  производительность\n",
            "28 сигнал  модуль  камера  частота\n",
            "29 lt  lt lt  gt  return\n"
          ],
          "name": "stdout"
        }
      ]
    },
    {
      "cell_type": "markdown",
      "metadata": {
        "id": "TkTyxhhzBzxK",
        "colab_type": "text"
      },
      "source": [
        "Резлуьтаты NMF\n",
        "\n",
        "Наиболее успешно справилась вторая модель (Tfidf векторизатор, 1000 фичей, min_df=4, max_df=0.2, 40 тем). От первой отличается, в основном, количеством тем. Третья модель построенная на countvectorizer выдала совсем плохие результаты.\n",
        "\n",
        "Модели NMF в данном случае справились намого лучше, чем LDA. Сложно выделить три наилучших темы, потому что процентов 60 топа - очень даже ничего. \n",
        "\n",
        "2 игра  игрок  игровой  играть\n",
        "\n",
        "3 учёный  клетка  исследование  исследователь\n",
        "\n",
        "4 процессор  память  intel  ядро\n",
        "\n",
        "12 атака  уязвимость  безопасность  защита\n",
        "\n",
        "13 космический  спутник  аппарат  земля\n",
        "\n",
        "14 дата центр  центр  дата  оборудование\n",
        "\n",
        "15 печать  принтер  3d  материал\n",
        "\n",
        "Вот такие, например. \n",
        "\n"
      ]
    }
  ]
}
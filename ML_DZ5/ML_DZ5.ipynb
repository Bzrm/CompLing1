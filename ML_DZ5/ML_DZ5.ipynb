{
  "nbformat": 4,
  "nbformat_minor": 0,
  "metadata": {
    "kernelspec": {
      "display_name": "Python 3",
      "language": "python",
      "name": "python3"
    },
    "colab": {
      "name": "ensemble_methods (dz_shabl).ipynb",
      "provenance": []
    }
  },
  "cells": [
    {
      "cell_type": "markdown",
      "metadata": {
        "id": "p_j3U7Qu8OG-",
        "colab_type": "text"
      },
      "source": [
        "## Ансамбли\n",
        "\n",
        "12 марта, Школа Лингвистики НИУ ВШЭ\n",
        "\n",
        "Татьяна Шаврина\n",
        "\n"
      ]
    },
    {
      "cell_type": "markdown",
      "metadata": {
        "id": "MiMCX5Yb8OHC",
        "colab_type": "text"
      },
      "source": [
        "Ансамблевые методы - это мета-алгоритмы, которые объединяют несколько методов машинного обучения в одну прогностическую модель, чтобы уменьшить дисперсию (bagging), смещение (boosting) или улучшить прогнозы нескольких моделей (stacking). \n",
        "\n",
        "Методы ансамбля можно разделить на две группы: *последовательные* методы ансамбля, в которых базовые модели генерируются последовательно (например, AdaBoost), и *параллельные* методы ансамбля, в которых базовые модели генерируются параллельно (например, Random Forest). \n",
        "\n",
        "Основной мотивацией последовательных методов является использование зависимости между базовыми моделями (учащимися, эстиматорами), поскольку общую производительность можно повысить путем взвешивания ранее неправильно маркированных примеров с большим весом. Основной мотивацией параллельных методов является использование независимости между базовыми учениками, поскольку ошибка может быть значительно уменьшена путем усреднения.\n",
        "\n",
        "Большинство ансамблевых методов используют единый базовый алгоритм обучения для получения однородных базовых обучающихся, то есть обучающихся того же типа, что приводит к *однородным ансамблям*. Есть также некоторые методы, которые используют гетерогенные модели, то есть модели разных типов, что приводит к *гетерогенным ансамблям*. Чтобы методы ансамбля были более точными, чем отдельные модели, базовые модели должны быть как можно более точными и максимально разнообразными.\n"
      ]
    },
    {
      "cell_type": "markdown",
      "metadata": {
        "id": "JgYnG_dSK1b4",
        "colab_type": "text"
      },
      "source": [
        "![](https://drive.google.com/uc?export=view&id=1TloyBRHqMXzx7BUMw6IXRf1i8DCt8F4s)"
      ]
    },
    {
      "cell_type": "code",
      "metadata": {
        "id": "hutXdd3J8OHF",
        "colab_type": "code",
        "colab": {}
      },
      "source": [
        "import numpy as np\n",
        "import pandas as pd\n",
        "from sklearn.pipeline import Pipeline\n",
        "from sklearn.ensemble import ExtraTreesClassifier\n",
        "from sklearn.feature_extraction.text import *\n",
        "from sklearn.metrics import *\n",
        "from sklearn.pipeline import Pipeline\n",
        "from sklearn.naive_bayes import MultinomialNB, GaussianNB\n",
        "from sklearn.linear_model import SGDClassifier, LogisticRegression, LinearRegression, LogisticRegressionCV\n",
        "from sklearn.ensemble import RandomForestClassifier,  BaggingClassifier, BaggingRegressor, RandomTreesEmbedding,GradientBoostingClassifier\n",
        "from sklearn.decomposition import TruncatedSVD\n",
        "from sklearn.svm import SVC\n",
        "from sklearn.tree import DecisionTreeClassifier, ExtraTreeClassifier\n",
        "from sklearn.model_selection import train_test_split\n",
        "from sklearn.feature_extraction.text import CountVectorizer, TfidfTransformer\n",
        "from nltk import word_tokenize"
      ],
      "execution_count": 0,
      "outputs": []
    },
    {
      "cell_type": "code",
      "metadata": {
        "id": "1GyIj4Lh8OHS",
        "colab_type": "code",
        "outputId": "a3871e86-be44-43b6-98a3-74f2eab05766",
        "colab": {
          "base_uri": "https://localhost:8080/",
          "height": 204
        }
      },
      "source": [
        "# загрузим данные, с которыми будем работать\n",
        "\n",
        "data_url = 'https://raw.githubusercontent.com/TatianaShavrina/hse_ml_m1/master/ensembles/complaints.csv'\n",
        "data = pd.read_csv(data_url, sep='\\t')\n",
        "data.head()"
      ],
      "execution_count": 0,
      "outputs": [
        {
          "output_type": "execute_result",
          "data": {
            "text/html": [
              "<div>\n",
              "<style scoped>\n",
              "    .dataframe tbody tr th:only-of-type {\n",
              "        vertical-align: middle;\n",
              "    }\n",
              "\n",
              "    .dataframe tbody tr th {\n",
              "        vertical-align: top;\n",
              "    }\n",
              "\n",
              "    .dataframe thead th {\n",
              "        text-align: right;\n",
              "    }\n",
              "</style>\n",
              "<table border=\"1\" class=\"dataframe\">\n",
              "  <thead>\n",
              "    <tr style=\"text-align: right;\">\n",
              "      <th></th>\n",
              "      <th>COMPLAINT_ID</th>\n",
              "      <th>DATE</th>\n",
              "      <th>PRODUCT_ID</th>\n",
              "      <th>ISSUE_ID</th>\n",
              "      <th>cleaned_text</th>\n",
              "    </tr>\n",
              "  </thead>\n",
              "  <tbody>\n",
              "    <tr>\n",
              "      <th>0</th>\n",
              "      <td>3178905</td>\n",
              "      <td>03/13/2019</td>\n",
              "      <td>44</td>\n",
              "      <td>318</td>\n",
              "      <td>go year . contact advis never took loan . advi...</td>\n",
              "    </tr>\n",
              "    <tr>\n",
              "      <th>1</th>\n",
              "      <td>3175952</td>\n",
              "      <td>03/12/2019</td>\n",
              "      <td>44</td>\n",
              "      <td>349</td>\n",
              "      <td>mail valid debt xx/xx/19 valid receiv , receiv...</td>\n",
              "    </tr>\n",
              "    <tr>\n",
              "      <th>2</th>\n",
              "      <td>3174747</td>\n",
              "      <td>03/09/2019</td>\n",
              "      <td>44</td>\n",
              "      <td>16</td>\n",
              "      <td>xx/xx/xxxx appli receiv onlin loan bluechip fi...</td>\n",
              "    </tr>\n",
              "    <tr>\n",
              "      <th>3</th>\n",
              "      <td>3173291</td>\n",
              "      <td>03/08/2019</td>\n",
              "      <td>44</td>\n",
              "      <td>16</td>\n",
              "      <td>xx/xx/xxxx appli receiv onlin loan . loan amou...</td>\n",
              "    </tr>\n",
              "    <tr>\n",
              "      <th>4</th>\n",
              "      <td>3172221</td>\n",
              "      <td>03/07/2019</td>\n",
              "      <td>44</td>\n",
              "      <td>48</td>\n",
              "      <td>told husband left bill . debt would pay within...</td>\n",
              "    </tr>\n",
              "  </tbody>\n",
              "</table>\n",
              "</div>"
            ],
            "text/plain": [
              "   COMPLAINT_ID  ...                                       cleaned_text\n",
              "0       3178905  ...  go year . contact advis never took loan . advi...\n",
              "1       3175952  ...  mail valid debt xx/xx/19 valid receiv , receiv...\n",
              "2       3174747  ...  xx/xx/xxxx appli receiv onlin loan bluechip fi...\n",
              "3       3173291  ...  xx/xx/xxxx appli receiv onlin loan . loan amou...\n",
              "4       3172221  ...  told husband left bill . debt would pay within...\n",
              "\n",
              "[5 rows x 5 columns]"
            ]
          },
          "metadata": {
            "tags": []
          },
          "execution_count": 50
        }
      ]
    },
    {
      "cell_type": "markdown",
      "metadata": {
        "id": "lzXmLMfU8OHg",
        "colab_type": "text"
      },
      "source": [
        "### Самое простое - Voting Classifier"
      ]
    },
    {
      "cell_type": "code",
      "metadata": {
        "id": "s47HyIqi8OHl",
        "colab_type": "code",
        "colab": {}
      },
      "source": [
        "y = data[\"PRODUCT_ID\"]\n",
        "X = data[\"cleaned_text\"]\n",
        "X_train, X_test, y_train, y_test = train_test_split(X, y, test_size=0.1, random_state=42)"
      ],
      "execution_count": 0,
      "outputs": []
    },
    {
      "cell_type": "code",
      "metadata": {
        "id": "uszu9BAy8OHt",
        "colab_type": "code",
        "colab": {}
      },
      "source": [
        "from sklearn.ensemble import RandomForestClassifier, VotingClassifier\n",
        "from sklearn.preprocessing import FunctionTransformer"
      ],
      "execution_count": 0,
      "outputs": []
    },
    {
      "cell_type": "code",
      "metadata": {
        "id": "KIQK1n428OIH",
        "colab_type": "code",
        "outputId": "4a984f1f-a3f9-4b0f-a913-4c9b599acf64",
        "colab": {
          "base_uri": "https://localhost:8080/",
          "height": 153
        }
      },
      "source": [
        "clf1 = LogisticRegression(multi_class='multinomial', solver='lbfgs', random_state=1)\n",
        "clf2 = RandomForestClassifier(n_estimators=50, random_state=1)\n",
        "clf3 = GaussianNB()\n",
        "\n",
        "eclf = VotingClassifier(estimators=[\n",
        "        ('lr', clf1), ('rf', clf2), ('gnb', clf3)], voting='soft')\n",
        "\n",
        "voting = Pipeline([\n",
        "    ('vect', CountVectorizer( analyzer='word', max_features=200)),\n",
        "    ('tfidf', TfidfTransformer(sublinear_tf=True)),\n",
        "    ('to_dense', FunctionTransformer(lambda x: x.todense(), accept_sparse=True)), \n",
        "    #('reducer', TruncatedSVD(n_components=Val3)),\n",
        "    ('clf', eclf),\n",
        "    ])\n",
        "voting = voting.fit(X_train, y_train)"
      ],
      "execution_count": 0,
      "outputs": [
        {
          "output_type": "stream",
          "text": [
            "/usr/local/lib/python3.6/dist-packages/sklearn/linear_model/_logistic.py:940: ConvergenceWarning: lbfgs failed to converge (status=1):\n",
            "STOP: TOTAL NO. of ITERATIONS REACHED LIMIT.\n",
            "\n",
            "Increase the number of iterations (max_iter) or scale the data as shown in:\n",
            "    https://scikit-learn.org/stable/modules/preprocessing.html\n",
            "Please also refer to the documentation for alternative solver options:\n",
            "    https://scikit-learn.org/stable/modules/linear_model.html#logistic-regression\n",
            "  extra_warning_msg=_LOGISTIC_SOLVER_CONVERGENCE_MSG)\n"
          ],
          "name": "stderr"
        }
      ]
    },
    {
      "cell_type": "code",
      "metadata": {
        "id": "AY7kQmHz8OIe",
        "colab_type": "code",
        "outputId": "bb7a36f8-7046-4589-b326-d39c67f46eea",
        "colab": {
          "base_uri": "https://localhost:8080/",
          "height": 85
        }
      },
      "source": [
        "predictions = voting.predict(X_test)\n",
        "print(\"Precision: {0:6.2f}\".format(precision_score(y_test, predictions, average='macro')))\n",
        "print(\"Recall: {0:6.2f}\".format(recall_score(y_test, predictions, average='macro')))\n",
        "print(\"F1-measure: {0:6.2f}\".format(f1_score(y_test, predictions, average='macro')))\n",
        "print(\"Accuracy: {0:6.2f}\".format(accuracy_score(y_test, predictions)))"
      ],
      "execution_count": 0,
      "outputs": [
        {
          "output_type": "stream",
          "text": [
            "Precision:   0.61\n",
            "Recall:   0.60\n",
            "F1-measure:   0.59\n",
            "Accuracy:   0.60\n"
          ],
          "name": "stdout"
        }
      ]
    },
    {
      "cell_type": "code",
      "metadata": {
        "scrolled": true,
        "id": "vTFVKYEa8OIv",
        "colab_type": "code",
        "outputId": "6163b33f-dbfb-43be-bf98-9f134734ef3f",
        "colab": {
          "base_uri": "https://localhost:8080/",
          "height": 221
        }
      },
      "source": [
        "clf1 = LogisticRegression(multi_class='multinomial', solver='lbfgs', random_state=1)\n",
        "clf2 = RandomForestClassifier(n_estimators=50, random_state=1)\n",
        "clf3 = GaussianNB()\n",
        "\n",
        "eclf = VotingClassifier(estimators=[\n",
        "        ('lr', clf1), ('rf', clf2), ('gnb', clf3)], voting='hard')\n",
        "\n",
        "voting = Pipeline([\n",
        "    ('vect', CountVectorizer( analyzer='word', max_features=200)),\n",
        "    ('tfidf', TfidfTransformer(sublinear_tf=True)),\n",
        "    ('to_dense', FunctionTransformer(lambda x: x.todense(), accept_sparse=True)), \n",
        "    #('reducer', TruncatedSVD(n_components=Val3)),\n",
        "    ('clf', eclf),\n",
        "    ])\n",
        "voting = voting.fit(X_train, y_train)\n",
        "predictions = voting.predict(X_test)\n",
        "print(\"Precision: {0:6.2f}\".format(precision_score(y_test, predictions, average='macro')))\n",
        "print(\"Recall: {0:6.2f}\".format(recall_score(y_test, predictions, average='macro')))\n",
        "print(\"F1-measure: {0:6.2f}\".format(f1_score(y_test, predictions, average='macro')))\n",
        "print(\"Accuracy: {0:6.2f}\".format(accuracy_score(y_test, predictions)))"
      ],
      "execution_count": 0,
      "outputs": [
        {
          "output_type": "stream",
          "text": [
            "/usr/local/lib/python3.6/dist-packages/sklearn/linear_model/_logistic.py:940: ConvergenceWarning: lbfgs failed to converge (status=1):\n",
            "STOP: TOTAL NO. of ITERATIONS REACHED LIMIT.\n",
            "\n",
            "Increase the number of iterations (max_iter) or scale the data as shown in:\n",
            "    https://scikit-learn.org/stable/modules/preprocessing.html\n",
            "Please also refer to the documentation for alternative solver options:\n",
            "    https://scikit-learn.org/stable/modules/linear_model.html#logistic-regression\n",
            "  extra_warning_msg=_LOGISTIC_SOLVER_CONVERGENCE_MSG)\n"
          ],
          "name": "stderr"
        },
        {
          "output_type": "stream",
          "text": [
            "Precision:   0.65\n",
            "Recall:   0.65\n",
            "F1-measure:   0.64\n",
            "Accuracy:   0.64\n"
          ],
          "name": "stdout"
        }
      ]
    },
    {
      "cell_type": "code",
      "metadata": {
        "id": "7O6OHcDa8OI9",
        "colab_type": "code",
        "colab": {}
      },
      "source": [
        "# подстановка новых признаков в sklearn классификатор"
      ],
      "execution_count": 0,
      "outputs": []
    },
    {
      "cell_type": "code",
      "metadata": {
        "id": "ZWvctpFN8OJI",
        "colab_type": "code",
        "colab": {}
      },
      "source": [
        "# способ 1 - через токенизацию"
      ],
      "execution_count": 0,
      "outputs": []
    },
    {
      "cell_type": "code",
      "metadata": {
        "id": "7yRzuIfx8OJe",
        "colab_type": "code",
        "colab": {}
      },
      "source": [
        "import nltk\n",
        "sno = nltk.stem.SnowballStemmer('english')"
      ],
      "execution_count": 0,
      "outputs": []
    },
    {
      "cell_type": "code",
      "metadata": {
        "id": "ZmOjkqrF-vhK",
        "colab_type": "code",
        "outputId": "c63a064f-1c66-4d8c-8462-4009edb9ee42",
        "colab": {
          "base_uri": "https://localhost:8080/",
          "height": 68
        }
      },
      "source": [
        "nltk.download('punkt')"
      ],
      "execution_count": 0,
      "outputs": [
        {
          "output_type": "stream",
          "text": [
            "[nltk_data] Downloading package punkt to /root/nltk_data...\n",
            "[nltk_data]   Unzipping tokenizers/punkt.zip.\n"
          ],
          "name": "stdout"
        },
        {
          "output_type": "execute_result",
          "data": {
            "text/plain": [
              "True"
            ]
          },
          "metadata": {
            "tags": []
          },
          "execution_count": 13
        }
      ]
    },
    {
      "cell_type": "code",
      "metadata": {
        "id": "Zce7Aha-8OJt",
        "colab_type": "code",
        "colab": {}
      },
      "source": [
        "def stem_tokenizer(text):\n",
        "    return [sno.stem(t) for t in word_tokenize(text)]"
      ],
      "execution_count": 0,
      "outputs": []
    },
    {
      "cell_type": "code",
      "metadata": {
        "id": "f-4-Dh-v8OJ4",
        "colab_type": "code",
        "colab": {}
      },
      "source": [
        "#пример как это делать с pymorphy2\n",
        "'''\n",
        "def pos_tokenizer(text):\n",
        "    return [morph.parse(t)[0].tag for t in word_tokenize(text)]\n",
        "'''"
      ],
      "execution_count": 0,
      "outputs": []
    },
    {
      "cell_type": "code",
      "metadata": {
        "id": "vFqzz-Yd8OKA",
        "colab_type": "code",
        "outputId": "2478d59e-ca1d-434a-909f-8f5c34529410",
        "colab": {
          "base_uri": "https://localhost:8080/",
          "height": 85
        }
      },
      "source": [
        "clf = Pipeline([\n",
        "    ('vect', CountVectorizer(tokenizer=stem_tokenizer, analyzer='word', max_features=200)),\n",
        "    ('tfidf', TfidfTransformer(sublinear_tf=True)),\n",
        "    #('reducer', TruncatedSVD(n_components=Val3)),\n",
        "    ('clf', SVC(class_weight=\"balanced\", random_state =42)),\n",
        "    ])\n",
        "clf = clf.fit(X_train, y_train)\n",
        "predictions = clf.predict(X_test)\n",
        "print(\"Precision: {0:6.2f}\".format(precision_score(y_test, predictions, average='macro')))\n",
        "print(\"Recall: {0:6.2f}\".format(recall_score(y_test, predictions, average='macro')))\n",
        "print(\"F1-measure: {0:6.2f}\".format(f1_score(y_test, predictions, average='macro')))\n",
        "print(\"Accuracy: {0:6.2f}\".format(accuracy_score(y_test, predictions)))"
      ],
      "execution_count": 0,
      "outputs": [
        {
          "output_type": "stream",
          "text": [
            "Precision:   0.65\n",
            "Recall:   0.65\n",
            "F1-measure:   0.65\n",
            "Accuracy:   0.65\n"
          ],
          "name": "stdout"
        }
      ]
    },
    {
      "cell_type": "code",
      "metadata": {
        "id": "KPg5FoDd8OKJ",
        "colab_type": "code",
        "colab": {}
      },
      "source": [
        "# способ 2 - через новый класс "
      ],
      "execution_count": 0,
      "outputs": []
    },
    {
      "cell_type": "code",
      "metadata": {
        "id": "qdxjFIr78OKS",
        "colab_type": "code",
        "colab": {}
      },
      "source": [
        "import gensim\n",
        "# let X be a list of tokenized texts (i.e. list of lists of tokens)\n",
        "model = gensim.models.Word2Vec(X_train, size=100)\n",
        "\n",
        "class MeanEmbeddingVectorizer(object):\n",
        "    def __init__(self, word2vec):\n",
        "        self.word2vec = word2vec\n",
        "        # if a text is empty we should return a vector of zeros\n",
        "        # with the same dimensionality as all the other vectors\n",
        "        self.dim = 100\n",
        "\n",
        "    def fit(self, X, y):\n",
        "        return self\n",
        "\n",
        "    def transform(self, X):\n",
        "        return np.array([\n",
        "            np.mean([self.word2vec[w] for w in word_tokenize(words) if w in self.word2vec]\n",
        "                    or [np.zeros(self.dim)], axis=0)\n",
        "            for words in X\n",
        "        ])\n"
      ],
      "execution_count": 0,
      "outputs": []
    },
    {
      "cell_type": "code",
      "metadata": {
        "id": "rw_YHt0g8OKc",
        "colab_type": "code",
        "outputId": "265de9cb-ad57-4106-d1e9-b10e7ddb7fb4",
        "colab": {
          "base_uri": "https://localhost:8080/",
          "height": 85
        }
      },
      "source": [
        "clf = Pipeline([\n",
        "    (\"word2vec vectorizer\", MeanEmbeddingVectorizer(w2v)),\n",
        "    (\"extra trees\", ExtraTreesClassifier(n_estimators=200))])\n",
        "clf = clf.fit(X_train, y_train)\n",
        "predictions = clf.predict(X_test)\n",
        "print(\"Precision: {0:6.2f}\".format(precision_score(y_test, predictions, average='macro')))\n",
        "print(\"Recall: {0:6.2f}\".format(recall_score(y_test, predictions, average='macro')))\n",
        "print(\"F1-measure: {0:6.2f}\".format(f1_score(y_test, predictions, average='macro')))\n",
        "print(\"Accuracy: {0:6.2f}\".format(accuracy_score(y_test, predictions)))"
      ],
      "execution_count": 0,
      "outputs": [
        {
          "output_type": "stream",
          "text": [
            "Precision:   0.31\n",
            "Recall:   0.30\n",
            "F1-measure:   0.30\n",
            "Accuracy:   0.30\n"
          ],
          "name": "stdout"
        }
      ]
    },
    {
      "cell_type": "code",
      "metadata": {
        "id": "IikR7l658OKk",
        "colab_type": "code",
        "colab": {}
      },
      "source": [
        "# feature union\n",
        "\n",
        "from sklearn.pipeline import FeatureUnion"
      ],
      "execution_count": 0,
      "outputs": []
    },
    {
      "cell_type": "code",
      "metadata": {
        "id": "lVKnvGeF8OKu",
        "colab_type": "code",
        "outputId": "88e90faf-e375-4cb0-e573-b7de00f8cdf1",
        "colab": {
          "base_uri": "https://localhost:8080/",
          "height": 85
        }
      },
      "source": [
        "clf = Pipeline([\n",
        "    ('feats', FeatureUnion([\n",
        "        ('tfidf', TfidfVectorizer(ngram_range=(1,3), analyzer='word', max_features=200)),\n",
        "        (\"word2vec vectorizer\", MeanEmbeddingVectorizer(w2v))])),\n",
        "    ('clf', SVC(class_weight=\"balanced\", random_state =42))\n",
        "    ])\n",
        "\n",
        "clf = clf.fit(X_train, y_train)\n",
        "predictions = clf.predict(X_test)\n",
        "print(\"Precision: {0:6.2f}\".format(precision_score(y_test, predictions, average='macro')))\n",
        "print(\"Recall: {0:6.2f}\".format(recall_score(y_test, predictions, average='macro')))\n",
        "print(\"F1-measure: {0:6.2f}\".format(f1_score(y_test, predictions, average='macro')))\n",
        "print(\"Accuracy: {0:6.2f}\".format(accuracy_score(y_test, predictions)))"
      ],
      "execution_count": 0,
      "outputs": [
        {
          "output_type": "stream",
          "text": [
            "Precision:   0.66\n",
            "Recall:   0.65\n",
            "F1-measure:   0.65\n",
            "Accuracy:   0.65\n"
          ],
          "name": "stdout"
        }
      ]
    },
    {
      "cell_type": "markdown",
      "metadata": {
        "id": "8yOs8xomH5fB",
        "colab_type": "text"
      },
      "source": [
        "### Задание\n",
        "\n",
        "Попробуйте поднять качество классификации до 70% с помощью известных вам методов препроцессинга и Voting"
      ]
    },
    {
      "cell_type": "code",
      "metadata": {
        "id": "Ka6TzmnYH4eL",
        "colab_type": "code",
        "colab": {}
      },
      "source": [
        ""
      ],
      "execution_count": 0,
      "outputs": []
    },
    {
      "cell_type": "code",
      "metadata": {
        "id": "6Evu8PgWIMJl",
        "colab_type": "code",
        "colab": {}
      },
      "source": [
        ""
      ],
      "execution_count": 0,
      "outputs": []
    },
    {
      "cell_type": "markdown",
      "metadata": {
        "id": "gw8H_0cx8OK0",
        "colab_type": "text"
      },
      "source": [
        "### Bagging"
      ]
    },
    {
      "cell_type": "markdown",
      "metadata": {
        "id": "KrP1ipQC8OK-",
        "colab_type": "text"
      },
      "source": [
        "Bagging означает агрегацию на разных выборках (бутстрап). Одним из способов уменьшения дисперсии оценки модели является усреднение нескольких оценок. Например, мы можем обучить $M$ разных деревьев $f_m$ на разных подмножествах данных (выбранных случайным образом с заменой) и вычислить ансамбль:\n",
        "\n",
        "\\begin{equation}\n",
        "   f(x) = \\frac{1}{M}\\sum_{m=1}^{M}f_m(x) \n",
        "\\end{equation}\n",
        "\n",
        "Bagging использует bootstrap выборок для получения подмножеств данных для обучения базовых учащихся. Для агрегирования результатов базовых моделей, в  бэггинге используется голосование для классификации и усреднение для регрессии.\n"
      ]
    },
    {
      "cell_type": "code",
      "metadata": {
        "id": "qxZ6-P-S8OLA",
        "colab_type": "code",
        "colab": {}
      },
      "source": [
        "%matplotlib inline\n",
        "\n",
        "import itertools\n",
        "import numpy as np\n",
        "\n",
        "import seaborn as sns\n",
        "import matplotlib.pyplot as plt\n",
        "import matplotlib.gridspec as gridspec\n",
        "\n",
        "from sklearn import datasets\n",
        "\n",
        "from sklearn.tree import DecisionTreeClassifier\n",
        "from sklearn.neighbors import KNeighborsClassifier\n",
        "from sklearn.linear_model import LogisticRegression\n",
        "from sklearn.ensemble import RandomForestClassifier\n",
        "\n",
        "from sklearn.ensemble import BaggingClassifier\n",
        "from sklearn.model_selection import cross_val_score, train_test_split\n",
        "\n",
        "from mlxtend.plotting import plot_learning_curves\n",
        "from mlxtend.plotting import plot_decision_regions\n",
        "\n",
        "np.random.seed(0)"
      ],
      "execution_count": 0,
      "outputs": []
    },
    {
      "cell_type": "code",
      "metadata": {
        "id": "oJJODyJ-8OLS",
        "colab_type": "code",
        "colab": {}
      },
      "source": [
        "iris = datasets.load_iris()\n",
        "X, y = iris.data[:, 0:2], iris.target\n",
        "    \n",
        "clf1 = DecisionTreeClassifier(criterion='entropy', max_depth=1)\n",
        "clf2 = KNeighborsClassifier(n_neighbors=1)    \n",
        "\n",
        "bagging1 = BaggingClassifier(base_estimator=clf1, n_estimators=10, max_samples=0.8, max_features=0.8)\n",
        "bagging2 = BaggingClassifier(base_estimator=clf2, n_estimators=10, max_samples=0.8, max_features=0.8)"
      ],
      "execution_count": 0,
      "outputs": []
    },
    {
      "cell_type": "code",
      "metadata": {
        "id": "9F24KT9s8OLb",
        "colab_type": "code",
        "outputId": "1be02c7f-ac46-49c5-fa87-74334606bd6a",
        "colab": {
          "base_uri": "https://localhost:8080/",
          "height": 567
        }
      },
      "source": [
        "label = ['Decision Tree', 'K-NN', 'Bagging Tree', 'Bagging K-NN']\n",
        "clf_list = [clf1, clf2, bagging1, bagging2]\n",
        "\n",
        "fig = plt.figure(figsize=(10, 8))\n",
        "gs = gridspec.GridSpec(2, 2)\n",
        "grid = itertools.product([0,1],repeat=2)\n",
        "\n",
        "for clf, label, grd in zip(clf_list, label, grid):        \n",
        "    scores = cross_val_score(clf, X, y, cv=3, scoring='accuracy')\n",
        "    print (\"Accuracy: %.2f (+/- %.2f) [%s]\" %(scores.mean(), scores.std(), label))\n",
        "        \n",
        "    clf.fit(X, y)\n",
        "    ax = plt.subplot(gs[grd[0], grd[1]])\n",
        "    fig = plot_decision_regions(X=X, y=y, clf=clf, legend=2)\n",
        "    plt.title(label)\n",
        "\n",
        "plt.show()"
      ],
      "execution_count": 0,
      "outputs": [
        {
          "output_type": "stream",
          "text": [
            "Accuracy: 0.63 (+/- 0.02) [Decision Tree]\n",
            "Accuracy: 0.70 (+/- 0.02) [K-NN]\n",
            "Accuracy: 0.67 (+/- 0.07) [Bagging Tree]\n",
            "Accuracy: 0.68 (+/- 0.06) [Bagging K-NN]\n"
          ],
          "name": "stdout"
        },
        {
          "output_type": "display_data",
          "data": {
            "image/png": "[encoded data removed]",
            "text/plain": [
              "<Figure size 720x576 with 4 Axes>"
            ]
          },
          "metadata": {
            "tags": []
          }
        }
      ]
    },
    {
      "cell_type": "markdown",
      "metadata": {
        "id": "C02NEsq28OLp",
        "colab_type": "text"
      },
      "source": [
        "На приведенном выше рисунке показана граница решений для decision tree и k-NN classifiers вместе с их baggibg-ансамблями, примененными к набору данных Iris. Дерево решений показывает параллельные границы осей, в то время как ближайшие соседние $k = 1$ подходят близко к точкам данных. Обучающие ансамбли были обучены с использованием базовых оценщиков в 10 базовых моделей с подвыборкой обучающих данных в размере 80%  и 80%  подвыборкой признаков. Ансамбль дерева решений достиг более высокой точности по сравнению с ансамблем на k-NN, потому что k-NN менее чувствительны к изменениям на обучающих выборках и поэтому их называют «стабильными учениками» (*stable learners*). Объединение стабильных учащихся менее выгодно, так как ансамбль не поможет улучшить производительность обобщения."
      ]
    },
    {
      "cell_type": "code",
      "metadata": {
        "id": "ZyK1K6VF8OLt",
        "colab_type": "code",
        "outputId": "6d5a1a3c-057d-4942-cd23-2ccc28309fd7",
        "colab": {
          "base_uri": "https://localhost:8080/",
          "height": 285
        }
      },
      "source": [
        "#plot learning curves\n",
        "X_train, X_test, y_train, y_test = train_test_split(X, y, test_size=0.3, random_state=42)\n",
        "    \n",
        "plt.figure()\n",
        "plot_learning_curves(X_train, y_train, X_test, y_test, bagging1, print_model=False, style='ggplot')\n",
        "plt.show()"
      ],
      "execution_count": 0,
      "outputs": [
        {
          "output_type": "display_data",
          "data": {
            "image/png": "[encoded data removed]",
            "text/plain": [
              "<Figure size 432x288 with 1 Axes>"
            ]
          },
          "metadata": {
            "tags": []
          }
        }
      ]
    },
    {
      "cell_type": "markdown",
      "metadata": {
        "id": "WQXIWGS18OL2",
        "colab_type": "text"
      },
      "source": [
        "На рисунке выше показаны кривые обучения для bagging tree ensemble. Мы можем видеть среднюю ошибку около 0,3 для кривой обучения и U-образную кривую ошибки для данных тестирования. Наименьший разрыв между ошибками в обучении и в тесте происходит около 90% от размера тренировочного набора."
      ]
    },
    {
      "cell_type": "code",
      "metadata": {
        "id": "pUllCa4g8OL6",
        "colab_type": "code",
        "colab": {}
      },
      "source": [
        "#Ensemble Size\n",
        "num_est = map(int, np.linspace(1,100,20))\n",
        "bg_clf_cv_mean = []\n",
        "bg_clf_cv_std = []\n",
        "for n_est in num_est:    \n",
        "    bg_clf = BaggingClassifier(base_estimator=clf1, n_estimators=n_est, max_samples=0.8, max_features=0.8)\n",
        "    scores = cross_val_score(bg_clf, X, y, cv=3, scoring='accuracy')\n",
        "    bg_clf_cv_mean.append(scores.mean())\n",
        "    bg_clf_cv_std.append(scores.std())"
      ],
      "execution_count": 0,
      "outputs": []
    },
    {
      "cell_type": "code",
      "metadata": {
        "id": "wpqWqhdw8OMF",
        "colab_type": "code",
        "outputId": "de4dee2a-305a-4015-d899-e99d49d5f8e7",
        "colab": {}
      },
      "source": [
        "plt.figure()\n",
        "_, caps, _ = plt.errorbar(np.linspace(1,100,20), bg_clf_cv_mean, yerr=bg_clf_cv_std, c='blue', fmt='-o', capsize=5)\n",
        "for cap in caps:\n",
        "    cap.set_markeredgewidth(1)                                                                                                                                \n",
        "plt.ylabel('Accuracy'); plt.xlabel('Ensemble Size'); plt.title('Bagging Tree Ensemble');\n",
        "plt.show()"
      ],
      "execution_count": 0,
      "outputs": [
        {
          "output_type": "display_data",
          "data": {
            "image/png": "[encoded data removed]",
            "text/plain": [
              "<Figure size 432x288 with 1 Axes>"
            ]
          },
          "metadata": {
            "tags": [],
            "needs_background": "light"
          }
        }
      ]
    },
    {
      "cell_type": "markdown",
      "metadata": {
        "id": "5S5n-W7c8OMN",
        "colab_type": "text"
      },
      "source": [
        "На рисунке выше показано, как accuracy теста улучшается с размером ансамбля. Основываясь на результатах кросс-валидации, мы можем видеть, что точность возрастает примерно до 20 эстиматоров, а затем постепенно выходит на плато. Таким образом, добавление базовых эстиматоров сверх 20 только увеличивает вычислительную сложность без увеличения точности для набора данных Iris."
      ]
    },
    {
      "cell_type": "markdown",
      "metadata": {
        "id": "0tnswCGS8OMS",
        "colab_type": "text"
      },
      "source": [
        "Часто используется такой тип ансамблевых алгоритмов как леса случайных деревьев. В **случайных лесах** каждое дерево в ансамбле строится из выборки, взятой с заменой (bootstrap sample) из обучающего набора. Кроме того, вместо использования всех признаков, случайное подмножество признаков выбирается для рандомизации дерева. В результате bias леса немного увеличивается, но из-за усреднения менее коррелированных деревьев его дисперсия уменьшается, что приводит к общей лучшей модели."
      ]
    },
    {
      "cell_type": "markdown",
      "metadata": {
        "id": "-0yKxBbL8OMU",
        "colab_type": "text"
      },
      "source": [
        "В **extremely randomized trees** алгоритмическая случайность делает еще один шаг вперед: пороги расщепления рандомизированы. Вместо того, чтобы искать самый различительный порог (discriminative threshold), пороги рисуются случайным образом для каждого признака-кандидата, и лучший из этих случайно сгенерированных порогов выбирается в качестве правила разделения. Это обычно позволяет немного уменьшить дисперсию модели за счет большего увеличения смещения."
      ]
    },
    {
      "cell_type": "markdown",
      "metadata": {
        "id": "F-IqkbSw8OMW",
        "colab_type": "text"
      },
      "source": [
        "### Boosting"
      ]
    },
    {
      "cell_type": "markdown",
      "metadata": {
        "id": "oKyD6F7S8OMY",
        "colab_type": "text"
      },
      "source": [
        "Boosting относится к семейству алгоритмов, которые способны преобразовывать слабые модели в сильные модели. Основным принципом бустинга является подбор последовательности слабых моделей (которые лишь немного лучше, чем случайные предположения -- например, небольшие деревья решений), к взвешенным версиям данных, где больший вес придается примерам, которые были ошибочно классифицированы на более ранних раундах. Прогнозы моделей затем объединяются посредством взвешенного большинства голосов (классификация) или взвешенной суммы (регрессия) для получения окончательного прогноза. Принципиальное различие между бустингом и методами комитета (committee methods), такими как bagging, состоит в том, что базовые модели обучаются последовательно на взвешенной версии данных"
      ]
    },
    {
      "cell_type": "code",
      "metadata": {
        "id": "1O8Ok8wf8OMZ",
        "colab_type": "code",
        "colab": {}
      },
      "source": [
        "import itertools\n",
        "import numpy as np\n",
        "\n",
        "import seaborn as sns\n",
        "import matplotlib.pyplot as plt\n",
        "import matplotlib.gridspec as gridspec\n",
        "\n",
        "from sklearn import datasets\n",
        "\n",
        "from sklearn.tree import DecisionTreeClassifier\n",
        "from sklearn.neighbors import KNeighborsClassifier\n",
        "from sklearn.linear_model import LogisticRegression\n",
        "\n",
        "from sklearn.ensemble import AdaBoostClassifier\n",
        "from sklearn.model_selection import cross_val_score, train_test_split\n",
        "\n",
        "from mlxtend.plotting import plot_learning_curves\n",
        "from mlxtend.plotting import plot_decision_regions"
      ],
      "execution_count": 0,
      "outputs": []
    },
    {
      "cell_type": "code",
      "metadata": {
        "id": "jq0PaKve8OMj",
        "colab_type": "code",
        "colab": {}
      },
      "source": [
        "iris = datasets.load_iris()\n",
        "X, y = iris.data[:, 0:2], iris.target\n",
        "    \n",
        "#XOR dataset\n",
        "#X = np.random.randn(200, 2)\n",
        "#y = np.array(map(int,np.logical_xor(X[:, 0] > 0, X[:, 1] > 0)))\n",
        "    \n",
        "clf = DecisionTreeClassifier(criterion='entropy', max_depth=1)\n",
        "\n",
        "num_est = [1, 2, 3, 10]\n",
        "label = ['AdaBoost (n_est=1)', 'AdaBoost (n_est=2)', 'AdaBoost (n_est=3)', 'AdaBoost (n_est=10)']"
      ],
      "execution_count": 0,
      "outputs": []
    },
    {
      "cell_type": "code",
      "metadata": {
        "id": "fgE-jYqX8OMp",
        "colab_type": "code",
        "outputId": "0221c6cc-650e-4fa0-8def-0d2bd8a3c644",
        "colab": {
          "base_uri": "https://localhost:8080/",
          "height": 499
        }
      },
      "source": [
        "fig = plt.figure(figsize=(10, 8))\n",
        "gs = gridspec.GridSpec(2, 2)\n",
        "grid = itertools.product([0,1],repeat=2)\n",
        "\n",
        "for n_est, label, grd in zip(num_est, label, grid):     \n",
        "    boosting = AdaBoostClassifier(base_estimator=clf, n_estimators=n_est)   \n",
        "    boosting.fit(X, y)\n",
        "    ax = plt.subplot(gs[grd[0], grd[1]])\n",
        "    fig = plot_decision_regions(X=X, y=y, clf=boosting, legend=2)\n",
        "    plt.title(label)\n",
        "\n",
        "plt.show()"
      ],
      "execution_count": 0,
      "outputs": [
        {
          "output_type": "display_data",
          "data": {
            "image/png": "[encoded data removed]",
            "text/plain": [
              "<Figure size 720x576 with 4 Axes>"
            ]
          },
          "metadata": {
            "tags": []
          }
        }
      ]
    },
    {
      "cell_type": "markdown",
      "metadata": {
        "id": "PEwwhJH58OM6",
        "colab_type": "text"
      },
      "source": [
        "Алгоритм AdaBoost показан на рисунке выше. Каждая базовая модель состоит из дерева решений с глубиной 1, таким образом, данные классифицируются на основе порога признака, который разделяет пространство на две области, разделенные линейной поверхностью решения, параллельной одной из осей."
      ]
    },
    {
      "cell_type": "code",
      "metadata": {
        "id": "xMKk0sD68OM8",
        "colab_type": "code",
        "outputId": "1874fd10-85cc-4f05-d713-be4dca93e6ca",
        "colab": {
          "base_uri": "https://localhost:8080/",
          "height": 285
        }
      },
      "source": [
        "#plot learning curves\n",
        "X_train, X_test, y_train, y_test = train_test_split(X, y, test_size=0.3, random_state=0)\n",
        "\n",
        "boosting = AdaBoostClassifier(base_estimator=clf, n_estimators=10)\n",
        "        \n",
        "plt.figure()\n",
        "plot_learning_curves(X_train, y_train, X_test, y_test, boosting, print_model=False, style='ggplot')\n",
        "plt.show()"
      ],
      "execution_count": 0,
      "outputs": [
        {
          "output_type": "display_data",
          "data": {
            "image/png": "[encoded data removed]",
            "text/plain": [
              "<Figure size 432x288 with 1 Axes>"
            ]
          },
          "metadata": {
            "tags": []
          }
        }
      ]
    },
    {
      "cell_type": "code",
      "metadata": {
        "id": "FQ8-QKCT8ONL",
        "colab_type": "code",
        "colab": {}
      },
      "source": [
        "#Ensemble Size\n",
        "num_est = map(int, np.linspace(1,100,20))\n",
        "bg_clf_cv_mean = []\n",
        "bg_clf_cv_std = []\n",
        "for n_est in num_est:\n",
        "    ada_clf = AdaBoostClassifier(base_estimator=clf, n_estimators=n_est)\n",
        "    scores = cross_val_score(ada_clf, X, y, cv=3, scoring='accuracy')\n",
        "    bg_clf_cv_mean.append(scores.mean())\n",
        "    bg_clf_cv_std.append(scores.std())"
      ],
      "execution_count": 0,
      "outputs": []
    },
    {
      "cell_type": "code",
      "metadata": {
        "id": "CmbhEHQo8ONb",
        "colab_type": "code",
        "outputId": "b7e9649e-e0ce-4ada-85e9-d855e0974957",
        "colab": {
          "base_uri": "https://localhost:8080/",
          "height": 295
        }
      },
      "source": [
        "plt.figure()\n",
        "(_, caps, _) = plt.errorbar(np.linspace(1,100,20), bg_clf_cv_mean, yerr=bg_clf_cv_std, c='blue', fmt='-o', capsize=5)\n",
        "for cap in caps:\n",
        "    cap.set_markeredgewidth(1)                                                                                                                                \n",
        "plt.ylabel('Accuracy'); plt.xlabel('Ensemble Size'); plt.title('AdaBoost Ensemble');\n",
        "plt.show()"
      ],
      "execution_count": 0,
      "outputs": [
        {
          "output_type": "display_data",
          "data": {
            "image/png": "[encoded data removed]",
            "text/plain": [
              "<Figure size 432x288 with 1 Axes>"
            ]
          },
          "metadata": {
            "tags": []
          }
        }
      ]
    },
    {
      "cell_type": "markdown",
      "metadata": {
        "id": "jbRKLaxF8ONs",
        "colab_type": "text"
      },
      "source": [
        "На рисунке выше показано, как точность теста улучшается с размером ансамбля.\n"
      ]
    },
    {
      "cell_type": "markdown",
      "metadata": {
        "id": "F4QJ_5UT8ONu",
        "colab_type": "text"
      },
      "source": [
        "\n",
        "**Gradient Tree Boosting** - это обобщение бустинга на произвольные дифференцируемые функции потерь. Его можно использовать как для задач регрессии, так и для задач классификации.\n",
        "\n",
        "\n",
        "Реализация алгоритма - XGBoost"
      ]
    },
    {
      "cell_type": "markdown",
      "metadata": {
        "id": "GI-Yps-CLhxq",
        "colab_type": "text"
      },
      "source": [
        "![](https://drive.google.com/uc?export=view&id=1DtdO9jh-XOWEXdzirfD3PwF-CJj6j2Gq)"
      ]
    },
    {
      "cell_type": "code",
      "metadata": {
        "id": "3jU7yzBc8ON2",
        "colab_type": "code",
        "colab": {}
      },
      "source": [
        "import xgboost as xgb"
      ],
      "execution_count": 0,
      "outputs": []
    },
    {
      "cell_type": "code",
      "metadata": {
        "id": "AouToHni8ON-",
        "colab_type": "code",
        "colab": {}
      },
      "source": [
        "clf = xgb.XGBClassifier(objective='multi:softmax')\n",
        "clf.fit(X_train,  y_train)\n",
        "predictions = clf.predict(X_test)\n",
        "print(\"Precision: {0:6.2f}\".format(precision_score(y_test, predictions, average='macro')))\n",
        "print(\"Recall: {0:6.2f}\".format(recall_score(y_test, predictions, average='macro')))\n",
        "print(\"F1-measure: {0:6.2f}\".format(f1_score(y_test, predictions, average='macro')))\n",
        "print(\"Accuracy: {0:6.2f}\".format(accuracy_score(y_test, predictions)))"
      ],
      "execution_count": 0,
      "outputs": []
    },
    {
      "cell_type": "markdown",
      "metadata": {
        "id": "os4OarLQ8OOJ",
        "colab_type": "text"
      },
      "source": [
        "### Stacking"
      ]
    },
    {
      "cell_type": "markdown",
      "metadata": {
        "id": "InhSUA1q8OOL",
        "colab_type": "text"
      },
      "source": [
        "Стекинг - это метод обучения ансамбля, который объединяет несколько моделей классификации или регрессии с помощью мета-классификатора или мета-регрессора. Модели базового уровня обучаются на основе полного обучающего набора, затем метамодель обучается на выходах модели базового уровня в качестве функций. Базовый уровень часто состоит из различных алгоритмов обучения, и поэтому стековые ансамбли часто неоднородны."
      ]
    },
    {
      "cell_type": "code",
      "metadata": {
        "id": "x4tWV2t28OON",
        "colab_type": "code",
        "outputId": "9542bf7f-9d47-4371-9096-6bd410067cc0",
        "colab": {
          "base_uri": "https://localhost:8080/",
          "height": 71
        }
      },
      "source": [
        "import itertools\n",
        "import numpy as np\n",
        "import seaborn as sns\n",
        "import matplotlib.pyplot as plt\n",
        "import matplotlib.gridspec as gridspec\n",
        "\n",
        "from sklearn import datasets\n",
        "\n",
        "from sklearn.linear_model import LogisticRegression\n",
        "from sklearn.neighbors import KNeighborsClassifier\n",
        "from sklearn.naive_bayes import GaussianNB \n",
        "from sklearn.ensemble import RandomForestClassifier\n",
        "from mlxtend.classifier import StackingClassifier\n",
        "\n",
        "from sklearn.model_selection import cross_val_score, train_test_split\n",
        "\n",
        "from mlxtend.plotting import plot_learning_curves\n",
        "from mlxtend.plotting import plot_decision_regions"
      ],
      "execution_count": 0,
      "outputs": [
        {
          "output_type": "stream",
          "text": [
            "/usr/local/lib/python3.6/dist-packages/sklearn/externals/six.py:31: FutureWarning: The module is deprecated in version 0.21 and will be removed in version 0.23 since we've dropped support for Python 2.7. Please rely on the official version of six (https://pypi.org/project/six/).\n",
            "  \"(https://pypi.org/project/six/).\", FutureWarning)\n"
          ],
          "name": "stderr"
        }
      ]
    },
    {
      "cell_type": "code",
      "metadata": {
        "id": "64U8HVdX8OOa",
        "colab_type": "code",
        "colab": {}
      },
      "source": [
        "iris = datasets.load_iris()\n",
        "X, y = iris.data[:, 1:3], iris.target\n",
        "\n",
        "clf1 = KNeighborsClassifier(n_neighbors=1)\n",
        "clf2 = RandomForestClassifier(random_state=1)\n",
        "clf3 = GaussianNB()\n",
        "lr = LogisticRegression()\n",
        "sclf = StackingClassifier(classifiers=[clf1, clf2, clf3], \n",
        "                          meta_classifier=lr)"
      ],
      "execution_count": 0,
      "outputs": []
    },
    {
      "cell_type": "code",
      "metadata": {
        "id": "-P6mbGC38OOg",
        "colab_type": "code",
        "outputId": "28334336-6e98-4460-c051-2dd6a1a3f623",
        "colab": {
          "base_uri": "https://localhost:8080/",
          "height": 567
        }
      },
      "source": [
        "label = ['KNN', 'Random Forest', 'Naive Bayes', 'Stacking Classifier']\n",
        "clf_list = [clf1, clf2, clf3, sclf]\n",
        "    \n",
        "fig = plt.figure(figsize=(10,8))\n",
        "gs = gridspec.GridSpec(2, 2)\n",
        "grid = itertools.product([0,1],repeat=2)\n",
        "\n",
        "clf_cv_mean = []\n",
        "clf_cv_std = []\n",
        "for clf, label, grd in zip(clf_list, label, grid):\n",
        "        \n",
        "    scores = cross_val_score(clf, X, y, cv=3, scoring='accuracy')\n",
        "    print (\"Accuracy: %.2f (+/- %.2f) [%s]\" %(scores.mean(), scores.std(), label))\n",
        "    clf_cv_mean.append(scores.mean())\n",
        "    clf_cv_std.append(scores.std())\n",
        "        \n",
        "    clf.fit(X, y)\n",
        "    ax = plt.subplot(gs[grd[0], grd[1]])\n",
        "    fig = plot_decision_regions(X=X, y=y, clf=clf)\n",
        "    plt.title(label)\n",
        "\n",
        "plt.show()"
      ],
      "execution_count": 0,
      "outputs": [
        {
          "output_type": "stream",
          "text": [
            "Accuracy: 0.91 (+/- 0.01) [KNN]\n",
            "Accuracy: 0.95 (+/- 0.01) [Random Forest]\n",
            "Accuracy: 0.91 (+/- 0.02) [Naive Bayes]\n",
            "Accuracy: 0.95 (+/- 0.02) [Stacking Classifier]\n"
          ],
          "name": "stdout"
        },
        {
          "output_type": "display_data",
          "data": {
            "image/png": "[encoded data removed]",
            "text/plain": [
              "<Figure size 720x576 with 4 Axes>"
            ]
          },
          "metadata": {
            "tags": []
          }
        }
      ]
    },
    {
      "cell_type": "markdown",
      "metadata": {
        "id": "-JjpliUu8OOp",
        "colab_type": "text"
      },
      "source": [
        "Ансамбль стэкинга показан на рисунке выше. Он состоит из базовых классификаторов k-NN, случайного леса и наивного байесовского алгоритма, прогнозы которых объединяются с помощью Lostic Regression в качестве метаклассификатора\n",
        "\n",
        "Мы можем видеть смешение границ решений, достигнутых классификатором стека.\n"
      ]
    },
    {
      "cell_type": "code",
      "metadata": {
        "id": "82d5TNEx8OOr",
        "colab_type": "code",
        "outputId": "8348e99f-408c-4601-a728-372ec22787f6",
        "colab": {
          "base_uri": "https://localhost:8080/",
          "height": 295
        }
      },
      "source": [
        "#plot classifier accuracy    \n",
        "plt.figure()\n",
        "(_, caps, _) = plt.errorbar(range(4), clf_cv_mean, yerr=clf_cv_std, c='blue', fmt='-o', capsize=5)\n",
        "for cap in caps:\n",
        "    cap.set_markeredgewidth(1)                                                                                                                                \n",
        "plt.xticks(range(4), ['KNN', 'RF', 'NB', 'Stacking'])        \n",
        "plt.ylabel('Accuracy'); plt.xlabel('Classifier'); plt.title('Stacking Ensemble');\n",
        "plt.show()"
      ],
      "execution_count": 0,
      "outputs": [
        {
          "output_type": "display_data",
          "data": {
            "image/png": "[encoded data removed]",
            "text/plain": [
              "<Figure size 432x288 with 1 Axes>"
            ]
          },
          "metadata": {
            "tags": []
          }
        }
      ]
    },
    {
      "cell_type": "code",
      "metadata": {
        "id": "CoecyTyy8OO4",
        "colab_type": "code",
        "outputId": "70527262-a772-4699-84e8-39828ec94960",
        "colab": {
          "base_uri": "https://localhost:8080/",
          "height": 285
        }
      },
      "source": [
        "#plot learning curves\n",
        "X_train, X_test, y_train, y_test = train_test_split(X, y, test_size=0.3, random_state=42)\n",
        "    \n",
        "plt.figure()\n",
        "plot_learning_curves(X_train, y_train, X_test, y_test, sclf, print_model=False, style='ggplot')\n",
        "plt.show()"
      ],
      "execution_count": 0,
      "outputs": [
        {
          "output_type": "display_data",
          "data": {
            "image/png": "[encoded data removed]",
            "text/plain": [
              "<Figure size 432x288 with 1 Axes>"
            ]
          },
          "metadata": {
            "tags": []
          }
        }
      ]
    },
    {
      "cell_type": "markdown",
      "metadata": {
        "id": "DJRs90uA8OPA",
        "colab_type": "text"
      },
      "source": [
        "Мы можем видеть, что stacking достигает более высокую точность, чем отдельные классификаторы, и, основываясь на кривых обучения, не показывает признаков переобучения."
      ]
    },
    {
      "cell_type": "markdown",
      "metadata": {
        "id": "CnUPGn1P8OPC",
        "colab_type": "text"
      },
      "source": [
        "## Самостоятельная работа\n",
        "\n",
        "Основываясь на своих знаниях об ансамблировании различных моделей, на данных из complaints.csv достигните наилучшего результата"
      ]
    },
    {
      "cell_type": "code",
      "metadata": {
        "id": "biWU4Hrd8OPG",
        "colab_type": "code",
        "colab": {}
      },
      "source": [
        "\n",
        "data_url = 'https://raw.githubusercontent.com/TatianaShavrina/hse_ml_m1/master/ensembles/complaints.csv'\n",
        "data = pd.read_csv(data_url, sep='\\t')\n",
        "data.head()\n",
        "y = data[\"PRODUCT_ID\"]\n",
        "X = data[\"cleaned_text\"]\n",
        "X_train, X_test, y_train, y_test = train_test_split(X, y, test_size=0.1, random_state=42)"
      ],
      "execution_count": 0,
      "outputs": []
    },
    {
      "cell_type": "markdown",
      "metadata": {
        "id": "7vttABPwhXmG",
        "colab_type": "text"
      },
      "source": [
        "Voting Classifier"
      ]
    },
    {
      "cell_type": "code",
      "metadata": {
        "id": "5KkMjT4uhf3W",
        "colab_type": "code",
        "colab": {}
      },
      "source": [
        "from sklearn.ensemble import RandomForestClassifier, VotingClassifier\n",
        "from sklearn.preprocessing import FunctionTransformer"
      ],
      "execution_count": 0,
      "outputs": []
    },
    {
      "cell_type": "code",
      "metadata": {
        "id": "pZJXf19l8OPP",
        "colab_type": "code",
        "outputId": "afdb6885-e508-4014-9919-533e1872115f",
        "colab": {
          "base_uri": "https://localhost:8080/",
          "height": 87
        }
      },
      "source": [
        "clf1 = LogisticRegression(multi_class='multinomial', solver='sag', random_state=1) \n",
        "clf2 = RandomForestClassifier(n_estimators=100, random_state=1)\n",
        "clf3 = GaussianNB()\n",
        "\n",
        "eclf = VotingClassifier(estimators=[\n",
        "        ('lr', clf1), ('rf', clf2), ('gnb', clf3)], voting='hard')\n",
        "\n",
        "voting = Pipeline([\n",
        "    ('vect', CountVectorizer( analyzer='word', max_features=200)),\n",
        "    ('tfidf', TfidfTransformer(sublinear_tf=True)),\n",
        "    ('to_dense', FunctionTransformer(lambda x: x.todense(), accept_sparse=True)), \n",
        "    ('clf', eclf),\n",
        "    ])\n",
        "voting = voting.fit(X_train, y_train)\n",
        "predictions = voting.predict(X_test)\n",
        "print(\"Precision: {0:6.2f}\".format(precision_score(y_test, predictions, average='macro')))\n",
        "print(\"Recall: {0:6.2f}\".format(recall_score(y_test, predictions, average='macro')))\n",
        "print(\"F1-measure: {0:6.2f}\".format(f1_score(y_test, predictions, average='macro')))\n",
        "print(\"Accuracy: {0:6.2f}\".format(accuracy_score(y_test, predictions)))\n",
        "\n"
      ],
      "execution_count": 0,
      "outputs": [
        {
          "output_type": "stream",
          "text": [
            "Precision:   0.66\n",
            "Recall:   0.66\n",
            "F1-measure:   0.66\n",
            "Accuracy:   0.66\n"
          ],
          "name": "stdout"
        }
      ]
    },
    {
      "cell_type": "code",
      "metadata": {
        "id": "6KmS1OCRirqL",
        "colab_type": "code",
        "colab": {}
      },
      "source": [
        ""
      ],
      "execution_count": 0,
      "outputs": []
    },
    {
      "cell_type": "code",
      "metadata": {
        "id": "lOJowEIRinCr",
        "colab_type": "code",
        "outputId": "6b8308ba-6a39-4500-b0ce-01b85c852b72",
        "colab": {
          "base_uri": "https://localhost:8080/",
          "height": 52
        }
      },
      "source": [
        "import nltk\n",
        "nltk.download('punkt')\n",
        "sno = nltk.stem.SnowballStemmer('english')"
      ],
      "execution_count": 0,
      "outputs": [
        {
          "output_type": "stream",
          "text": [
            "[nltk_data] Downloading package punkt to /root/nltk_data...\n",
            "[nltk_data]   Unzipping tokenizers/punkt.zip.\n"
          ],
          "name": "stdout"
        }
      ]
    },
    {
      "cell_type": "code",
      "metadata": {
        "id": "GdSRQw7binpF",
        "colab_type": "code",
        "colab": {}
      },
      "source": [
        "def stem_tokenizer(text):\n",
        "    return [sno.stem(t) for t in word_tokenize(text)]"
      ],
      "execution_count": 0,
      "outputs": []
    },
    {
      "cell_type": "code",
      "metadata": {
        "id": "IYiAo-jZi1jN",
        "colab_type": "code",
        "outputId": "52fa14d2-9516-453f-ded1-648bedaf08ca",
        "colab": {
          "base_uri": "https://localhost:8080/",
          "height": 87
        }
      },
      "source": [
        "clf = Pipeline([\n",
        "    ('vect', CountVectorizer(tokenizer=stem_tokenizer, analyzer='word', max_features=1000)),\n",
        "    ('tfidf', TfidfTransformer(sublinear_tf=True)),\n",
        "    ('clf', SVC(class_weight=\"balanced\", random_state =42,kernel = 'poly')),\n",
        "    ])\n",
        "clf = clf.fit(X_train, y_train)\n",
        "predictions = clf.predict(X_test)\n",
        "print(\"Precision: {0:6.2f}\".format(precision_score(y_test, predictions, average='macro')))\n",
        "print(\"Recall: {0:6.2f}\".format(recall_score(y_test, predictions, average='macro')))\n",
        "print(\"F1-measure: {0:6.2f}\".format(f1_score(y_test, predictions, average='macro')))\n",
        "print(\"Accuracy: {0:6.2f}\".format(accuracy_score(y_test, predictions)))"
      ],
      "execution_count": 0,
      "outputs": [
        {
          "output_type": "stream",
          "text": [
            "Precision:   0.74\n",
            "Recall:   0.73\n",
            "F1-measure:   0.73\n",
            "Accuracy:   0.73\n"
          ],
          "name": "stdout"
        }
      ]
    },
    {
      "cell_type": "markdown",
      "metadata": {
        "id": "FYjmxtlLEpYG",
        "colab_type": "text"
      },
      "source": [
        "Увеличение max_features у векторизатора сильнее всего увеличивает показатели, однако и время работы тоже увеличивается. Далее буду использовать векторизатор с параметром max_features=1000, так как с ним, более-менее, удалось достигнуть баланса между качеством и скоростью. Здесь, например, качество удалось повысить почти что на 10%. "
      ]
    },
    {
      "cell_type": "code",
      "metadata": {
        "id": "73jp5WaYi7i_",
        "colab_type": "code",
        "colab": {}
      },
      "source": [
        ""
      ],
      "execution_count": 0,
      "outputs": []
    },
    {
      "cell_type": "code",
      "metadata": {
        "id": "nN1CG9rxjOXv",
        "colab_type": "code",
        "colab": {}
      },
      "source": [
        "from sklearn.pipeline import FeatureUnion"
      ],
      "execution_count": 0,
      "outputs": []
    },
    {
      "cell_type": "code",
      "metadata": {
        "id": "SnGGigb3jPVS",
        "colab_type": "code",
        "outputId": "3ba4867e-dd7b-4901-e9be-0f6964b19a39",
        "colab": {
          "base_uri": "https://localhost:8080/",
          "height": 87
        }
      },
      "source": [
        "clf = Pipeline([\n",
        "    ('feats', FeatureUnion([\n",
        "        ('tfidf', TfidfVectorizer(ngram_range=(1,2), analyzer='word', max_features=1000, min_df = 4, max_df = 0.3)),\n",
        "        (\"cv\", CountVectorizer(tokenizer=stem_tokenizer, analyzer='word', max_features=1000, min_df = 4, max_df = 0.3))])),\n",
        "    ('clf1', RandomForestClassifier(n_estimators=100, random_state=1))\n",
        "    ])\n",
        "\n",
        "clf = clf.fit(X_train, y_train)\n",
        "predictions = clf.predict(X_test)\n",
        "print(\"Precision: {0:6.2f}\".format(precision_score(y_test, predictions, average='macro')))\n",
        "print(\"Recall: {0:6.2f}\".format(recall_score(y_test, predictions, average='macro')))\n",
        "print(\"F1-measure: {0:6.2f}\".format(f1_score(y_test, predictions, average='macro')))\n",
        "print(\"Accuracy: {0:6.2f}\".format(accuracy_score(y_test, predictions)))\n",
        "\n"
      ],
      "execution_count": 0,
      "outputs": [
        {
          "output_type": "stream",
          "text": [
            "Precision:   0.73\n",
            "Recall:   0.72\n",
            "F1-measure:   0.72\n",
            "Accuracy:   0.72\n"
          ],
          "name": "stdout"
        }
      ]
    },
    {
      "cell_type": "markdown",
      "metadata": {
        "id": "Ra4ECqWdjYLe",
        "colab_type": "text"
      },
      "source": [
        "Bagging"
      ]
    },
    {
      "cell_type": "code",
      "metadata": {
        "id": "NGhWfVZMkSHL",
        "colab_type": "code",
        "colab": {}
      },
      "source": [
        "%matplotlib inline\n",
        "\n",
        "import itertools\n",
        "import numpy as np\n",
        "\n",
        "import seaborn as sns\n",
        "import matplotlib.pyplot as plt\n",
        "import matplotlib.gridspec as gridspec\n",
        "\n",
        "from sklearn import datasets\n",
        "\n",
        "from sklearn.tree import DecisionTreeClassifier\n",
        "from sklearn.neighbors import KNeighborsClassifier\n",
        "from sklearn.linear_model import LogisticRegression\n",
        "from sklearn.ensemble import RandomForestClassifier\n",
        "\n",
        "from sklearn.ensemble import BaggingClassifier\n",
        "from sklearn.model_selection import cross_val_score, train_test_split\n",
        "\n",
        "from mlxtend.plotting import plot_learning_curves\n",
        "from mlxtend.plotting import plot_decision_regions\n",
        "\n",
        "np.random.seed(0)"
      ],
      "execution_count": 0,
      "outputs": []
    },
    {
      "cell_type": "code",
      "metadata": {
        "id": "p-aHktQ0jwnl",
        "colab_type": "code",
        "colab": {}
      },
      "source": [
        "tfidf = TfidfVectorizer(ngram_range=(1,3), analyzer='word', max_features=1000, min_df = 4, max_df = 0.3)\n",
        "X_tfidf = tfidf.fit_transform(X)\n",
        "X_train_tfidf = tfidf.fit_transform(X_train)\n",
        "X_test_tfidf = tfidf.fit_transform(X_test)"
      ],
      "execution_count": 0,
      "outputs": []
    },
    {
      "cell_type": "code",
      "metadata": {
        "id": "Z-0MfXHplC30",
        "colab_type": "code",
        "colab": {}
      },
      "source": [
        "cvec = CountVectorizer(tokenizer=stem_tokenizer, analyzer='word', max_features=1000, min_df = 4, max_df = 0.3)\n",
        "X_cv_train = cvec.fit_transform(X_train)\n",
        "X_cv = cvec.fit_transform(X)\n",
        "X_cv_test = cvec.fit_transform(X_test)"
      ],
      "execution_count": 0,
      "outputs": []
    },
    {
      "cell_type": "code",
      "metadata": {
        "id": "2KZ6iI2Tj5eu",
        "colab_type": "code",
        "colab": {}
      },
      "source": [
        "clf1 = LogisticRegression(multi_class='multinomial', solver='sag', random_state=1, penalty = 'l2', max_iter = 400)\n",
        "clf2 = RandomForestClassifier(max_depth = 8, min_samples_leaf = 2)    \n",
        "\n",
        "bagging1 = BaggingClassifier(base_estimator=clf1, n_estimators=15, max_samples=0.9, max_features=0.7) \n",
        "bagging2 = BaggingClassifier(base_estimator=clf2, n_estimators=15, max_samples=0.9, max_features=0.9)"
      ],
      "execution_count": 0,
      "outputs": []
    },
    {
      "cell_type": "code",
      "metadata": {
        "id": "NO56DpRPj-Os",
        "colab_type": "code",
        "outputId": "413453d9-0083-4545-eb8e-2b1f60a48ee4",
        "colab": {
          "base_uri": "https://localhost:8080/",
          "height": 87
        }
      },
      "source": [
        "label = ['LR', 'RFC', 'Bagging LR', 'Bagging RFC']\n",
        "clf_list = [clf1, clf2, bagging1, bagging2]\n",
        "\n",
        "\n",
        "for clf, label in zip(clf_list, label):        \n",
        "    scores = cross_val_score(clf, X_tfidf, y, cv=3, scoring='accuracy')\n",
        "    print (\"Accuracy: %.2f (+/- %.2f) [%s]\" %(scores.mean(), scores.std(), label))\n",
        "        \n"
      ],
      "execution_count": 0,
      "outputs": [
        {
          "output_type": "stream",
          "text": [
            "Accuracy: 0.64 (+/- 0.01) [LR]\n",
            "Accuracy: 0.60 (+/- 0.04) [RFC]\n",
            "Accuracy: 0.65 (+/- 0.02) [Bagging LR]\n",
            "Accuracy: 0.61 (+/- 0.04) [Bagging RFC]\n"
          ],
          "name": "stdout"
        }
      ]
    },
    {
      "cell_type": "code",
      "metadata": {
        "id": "VU5--qZrkvST",
        "colab_type": "code",
        "colab": {}
      },
      "source": [
        ""
      ],
      "execution_count": 0,
      "outputs": []
    },
    {
      "cell_type": "markdown",
      "metadata": {
        "id": "q30rYOkokwK4",
        "colab_type": "text"
      },
      "source": [
        "Boosting"
      ]
    },
    {
      "cell_type": "code",
      "metadata": {
        "id": "_WjvMqRXkvy1",
        "colab_type": "code",
        "colab": {}
      },
      "source": [
        "import xgboost as xgb"
      ],
      "execution_count": 0,
      "outputs": []
    },
    {
      "cell_type": "code",
      "metadata": {
        "id": "97xjLRQjk3t-",
        "colab_type": "code",
        "outputId": "13ea4346-7658-43cb-fafa-9bca939ad0de",
        "colab": {
          "base_uri": "https://localhost:8080/",
          "height": 87
        }
      },
      "source": [
        "clf = xgb.XGBClassifier(objective='multi:softmax', max_depth=8, subsample = 0.6)\n",
        "clf.fit(X_train_tfidf,  y_train)\n",
        "predictions = clf.predict(X_test_tfidf)\n",
        "print(\"Precision: {0:6.2f}\".format(precision_score(y_test, predictions, average='macro')))\n",
        "print(\"Recall: {0:6.2f}\".format(recall_score(y_test, predictions, average='macro')))\n",
        "print(\"F1-measure: {0:6.2f}\".format(f1_score(y_test, predictions, average='macro')))\n",
        "print(\"Accuracy: {0:6.2f}\".format(accuracy_score(y_test, predictions)))"
      ],
      "execution_count": 0,
      "outputs": [
        {
          "output_type": "stream",
          "text": [
            "Precision:   0.30\n",
            "Recall:   0.31\n",
            "F1-measure:   0.28\n",
            "Accuracy:   0.30\n"
          ],
          "name": "stdout"
        }
      ]
    },
    {
      "cell_type": "markdown",
      "metadata": {
        "id": "tGn-CMkTlhwe",
        "colab_type": "text"
      },
      "source": [
        "Stacking"
      ]
    },
    {
      "cell_type": "code",
      "metadata": {
        "id": "0ksMYhv2lwbR",
        "colab_type": "code",
        "outputId": "c2c104b3-58ad-485f-c63d-f1a308dfe987",
        "colab": {
          "base_uri": "https://localhost:8080/",
          "height": 72
        }
      },
      "source": [
        "import itertools\n",
        "import numpy as np\n",
        "import seaborn as sns\n",
        "import matplotlib.pyplot as plt\n",
        "import matplotlib.gridspec as gridspec\n",
        "\n",
        "from sklearn import datasets\n",
        "\n",
        "from sklearn.linear_model import LogisticRegression\n",
        "from sklearn.neighbors import KNeighborsClassifier\n",
        "from sklearn.naive_bayes import GaussianNB \n",
        "from sklearn.ensemble import RandomForestClassifier\n",
        "from mlxtend.classifier import StackingClassifier\n",
        "\n",
        "from sklearn.model_selection import cross_val_score, train_test_split\n",
        "\n",
        "from mlxtend.plotting import plot_learning_curves\n",
        "from mlxtend.plotting import plot_decision_regions"
      ],
      "execution_count": 0,
      "outputs": [
        {
          "output_type": "stream",
          "text": [
            "/usr/local/lib/python3.6/dist-packages/sklearn/externals/six.py:31: FutureWarning: The module is deprecated in version 0.21 and will be removed in version 0.23 since we've dropped support for Python 2.7. Please rely on the official version of six (https://pypi.org/project/six/).\n",
            "  \"(https://pypi.org/project/six/).\", FutureWarning)\n"
          ],
          "name": "stderr"
        }
      ]
    },
    {
      "cell_type": "code",
      "metadata": {
        "id": "ARJv5WkOlyGc",
        "colab_type": "code",
        "colab": {}
      },
      "source": [
        "clf1 = KNeighborsClassifier(n_neighbors=1)\n",
        "clf2 = RandomForestClassifier(random_state=1)\n",
        "clf3 = SVC(random_state=1, probability=True)\n",
        "lr = LogisticRegression()\n",
        "sclf = StackingClassifier(classifiers=[clf1, clf2, clf3], use_probas=True, average_probas=False,\n",
        "                          meta_classifier=lr)"
      ],
      "execution_count": 0,
      "outputs": []
    },
    {
      "cell_type": "code",
      "metadata": {
        "id": "J8dP01yOl4aS",
        "colab_type": "code",
        "outputId": "80f20ec8-a289-45b3-bab2-3bd16524bb71",
        "colab": {
          "base_uri": "https://localhost:8080/",
          "height": 87
        }
      },
      "source": [
        "label = ['KNN', 'Random Forest', 'SVC', 'Stacking Classifier']\n",
        "clf_list = [clf1, clf2, clf3, sclf]\n",
        "    \n",
        "grid = itertools.product([0,1],repeat=2)\n",
        "\n",
        "clf_cv_mean = []\n",
        "clf_cv_std = []\n",
        "for clf, label, grd in zip(clf_list, label, grid):\n",
        "        \n",
        "    scores = cross_val_score(clf, X_tfidf, y, cv=3, scoring='accuracy')\n",
        "    print (\"Accuracy: %.2f (+/- %.2f) [%s]\" %(scores.mean(), scores.std(), label))\n",
        "    clf_cv_mean.append(scores.mean())\n",
        "    clf_cv_std.append(scores.std())\n",
        "        \n",
        "   "
      ],
      "execution_count": 0,
      "outputs": [
        {
          "output_type": "stream",
          "text": [
            "Accuracy: 0.49 (+/- 0.01) [KNN]\n",
            "Accuracy: 0.63 (+/- 0.03) [Random Forest]\n",
            "Accuracy: 0.65 (+/- 0.02) [SVC]\n",
            "Accuracy: 0.50 (+/- 0.00) [Stacking Classifier]\n"
          ],
          "name": "stdout"
        }
      ]
    },
    {
      "cell_type": "markdown",
      "metadata": {
        "id": "I4jJBsqr8OPj",
        "colab_type": "text"
      },
      "source": [
        "## Что посмотреть\n",
        "\n",
        "https://m.habr.com/ru/company/ods/blog/336168/\n",
        "\n",
        "https://neurohive.io/ru/osnovy-data-science/ansamblevye-metody-begging-busting-i-steking/\n",
        "\n",
        "https://blog.statsbot.co/ensemble-learning-d1dcd548e936"
      ]
    },
    {
      "cell_type": "code",
      "metadata": {
        "id": "6aTb_oGf8OP8",
        "colab_type": "code",
        "colab": {}
      },
      "source": [
        ""
      ],
      "execution_count": 0,
      "outputs": []
    }
  ]
}
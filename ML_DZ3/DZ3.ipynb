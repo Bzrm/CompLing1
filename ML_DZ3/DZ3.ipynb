{
  "nbformat": 4,
  "nbformat_minor": 0,
  "metadata": {
    "colab": {
      "name": "dz3(~1~2).ipynb",
      "provenance": [],
      "machine_shape": "hm"
    },
    "kernelspec": {
      "name": "python3",
      "display_name": "Python 3"
    }
  },
  "cells": [
    {
      "cell_type": "markdown",
      "metadata": {
        "id": "TaMrhk2eIjte",
        "colab_type": "text"
      },
      "source": [
        "#Задание 1"
      ]
    },
    {
      "cell_type": "code",
      "metadata": {
        "id": "faHiBf8SMkiv",
        "colab_type": "code",
        "outputId": "d3538f1b-1fed-4778-ec6b-d074bcd8d8cc",
        "colab": {
          "base_uri": "https://localhost:8080/",
          "height": 17
        }
      },
      "source": [
        "import os\n",
        "import json\n",
        "import ast\n",
        "import time\n",
        "import datetime\n",
        "import numpy as np\n",
        "import pandas as pd\n",
        "pd.set_option('max_columns', None)\n",
        "import matplotlib.pyplot as plt\n",
        "import seaborn\n",
        "import plotly.offline as py\n",
        "py.init_notebook_mode(connected=True)\n",
        "import plotly.graph_objs as go\n",
        "import plotly.tools as tls"
      ],
      "execution_count": 1,
      "outputs": [
        {
          "output_type": "display_data",
          "data": {
            "text/html": [
              "        <script type=\"text/javascript\">\n",
              "        window.PlotlyConfig = {MathJaxConfig: 'local'};\n",
              "        if (window.MathJax) {MathJax.Hub.Config({SVG: {font: \"STIX-Web\"}});}\n",
              "        if (typeof require !== 'undefined') {\n",
              "        require.undef(\"plotly\");\n",
              "        requirejs.config({\n",
              "            paths: {\n",
              "                'plotly': ['https://cdn.plot.ly/plotly-latest.min']\n",
              "            }\n",
              "        });\n",
              "        require(['plotly'], function(Plotly) {\n",
              "            window._Plotly = Plotly;\n",
              "        });\n",
              "        }\n",
              "        </script>\n",
              "        "
            ]
          },
          "metadata": {
            "tags": []
          }
        }
      ]
    },
    {
      "cell_type": "code",
      "metadata": {
        "id": "ezrB-fBYMllA",
        "colab_type": "code",
        "colab": {}
      },
      "source": [
        "from scipy import stats\n",
        "from sklearn.model_selection import train_test_split, StratifiedKFold, KFold, cross_val_score, GridSearchCV, RepeatedStratifiedKFold\n",
        "from sklearn.preprocessing import StandardScaler\n",
        "from sklearn import model_selection\n",
        "from sklearn.metrics import accuracy_score, roc_auc_score\n",
        "from sklearn import linear_model\n",
        "from sklearn.neighbors import NearestNeighbors"
      ],
      "execution_count": 0,
      "outputs": []
    },
    {
      "cell_type": "code",
      "metadata": {
        "id": "lhQij5IxMxfI",
        "colab_type": "code",
        "colab": {}
      },
      "source": [
        "import warnings\n",
        "warnings.filterwarnings('ignore')"
      ],
      "execution_count": 0,
      "outputs": []
    },
    {
      "cell_type": "markdown",
      "metadata": {
        "id": "yStgdlQ7I5mn",
        "colab_type": "text"
      },
      "source": [
        "Датасет"
      ]
    },
    {
      "cell_type": "code",
      "metadata": {
        "id": "UMr9IgeWGkkL",
        "colab_type": "code",
        "outputId": "da06e675-6fe4-48a7-e5a9-fcc029711408",
        "colab": {
          "base_uri": "https://localhost:8080/",
          "height": 52
        }
      },
      "source": [
        "from sklearn.datasets import fetch_20newsgroups\n",
        "categories = ['sci.crypt', 'sci.electronics', 'sci.med', 'sci.space',] \n",
        "twenty_train = fetch_20newsgroups(subset='train', categories=categories, shuffle=True, random_state=42)"
      ],
      "execution_count": 4,
      "outputs": [
        {
          "output_type": "stream",
          "text": [
            "Downloading 20news dataset. This may take a few minutes.\n",
            "Downloading dataset from https://ndownloader.figshare.com/files/5975967 (14 MB)\n"
          ],
          "name": "stderr"
        }
      ]
    },
    {
      "cell_type": "code",
      "metadata": {
        "id": "LPad9e9rNaxp",
        "colab_type": "code",
        "colab": {}
      },
      "source": [
        "from sklearn.metrics import *\n",
        "twenty_test = fetch_20newsgroups(subset='test', categories=categories, \n",
        "                                 shuffle=True, random_state=0)"
      ],
      "execution_count": 0,
      "outputs": []
    },
    {
      "cell_type": "markdown",
      "metadata": {
        "id": "OUtBe_i3JjPI",
        "colab_type": "text"
      },
      "source": [
        "Векторизация"
      ]
    },
    {
      "cell_type": "code",
      "metadata": {
        "id": "GfMAJ85mJgR-",
        "colab_type": "code",
        "colab": {}
      },
      "source": [
        "from sklearn.feature_extraction.text import CountVectorizer\n",
        "count_vect = CountVectorizer()"
      ],
      "execution_count": 0,
      "outputs": []
    },
    {
      "cell_type": "code",
      "metadata": {
        "id": "iM2beg6pn1n6",
        "colab_type": "code",
        "colab": {}
      },
      "source": [
        "X = count_vect.fit_transform(twenty_train.data)\n",
        "y = twenty_train.target"
      ],
      "execution_count": 0,
      "outputs": []
    },
    {
      "cell_type": "code",
      "metadata": {
        "id": "xwSIAtiKKBff",
        "colab_type": "code",
        "colab": {}
      },
      "source": [
        "from sklearn.model_selection import train_test_split, StratifiedKFold, KFold, cross_val_score, GridSearchCV, RepeatedStratifiedKFold"
      ],
      "execution_count": 0,
      "outputs": []
    },
    {
      "cell_type": "code",
      "metadata": {
        "id": "3-oU3WF3NFnA",
        "colab_type": "code",
        "colab": {}
      },
      "source": [
        "X_train, X_test, y_train, y_test = train_test_split(X, y, test_size=0.70, random_state=42)"
      ],
      "execution_count": 0,
      "outputs": []
    },
    {
      "cell_type": "code",
      "metadata": {
        "id": "SGw5gz2DyF9m",
        "colab_type": "code",
        "colab": {}
      },
      "source": [
        "stratified_folds = StratifiedKFold(n_splits=5, shuffle=True, random_state=0)"
      ],
      "execution_count": 0,
      "outputs": []
    },
    {
      "cell_type": "markdown",
      "metadata": {
        "id": "B-p7OvgqLFpZ",
        "colab_type": "text"
      },
      "source": [
        "Логистическая регрессия "
      ]
    },
    {
      "cell_type": "code",
      "metadata": {
        "id": "EbsUwqX2gXD9",
        "colab_type": "code",
        "colab": {}
      },
      "source": [
        "from sklearn.metrics import f1_score"
      ],
      "execution_count": 0,
      "outputs": []
    },
    {
      "cell_type": "code",
      "metadata": {
        "id": "nT0ILZtlemQJ",
        "colab_type": "code",
        "colab": {}
      },
      "source": [
        "def cv_train_model(X, y, X_test, y_test, folds=stratified_folds, plot_feature_importance=False, model=None):\n",
        "    oof = np.zeros(len(X))\n",
        "    prediction = np.zeros(len(X_test))\n",
        "    valid_scores = []\n",
        "    feature_importance = pd.DataFrame()\n",
        "    for fold_n, (train_index, valid_index) in enumerate(folds.split(X, y)):\n",
        "        X_train, X_valid = X[train_index], X[valid_index]\n",
        "        y_train, y_valid = y[train_index], y[valid_index]\n",
        "          \n",
        "\n",
        "        model.fit(X_train, y_train)      \n",
        "        y_pred_test = model.predict_proba(X_test)[:, 1]\n",
        "        y_pred_valid = model.predict_proba(X_valid)[:, 1]\n",
        "        valid_score = f1_score(y_valid, np.round(y_pred_valid), average= 'macro')\n",
        "        \n",
        "        oof[valid_index] = y_pred_valid.reshape(-1,)\n",
        "        valid_scores.append(valid_score)\n",
        "        prediction += y_pred_test  \n",
        "        \n",
        "    prediction /= (fold_n + 1)\n",
        "    test_score = f1_score(y_test, np.round(prediction), average= 'macro')\n",
        "    print('Cross Validation mean score: {0:.4f}, std: {1:.4f}.'.format(np.mean(valid_scores), np.std(valid_scores)))\n",
        "    print(\"Score on test data: {0:.4f}\".format(test_score))\n",
        "    \n",
        "\n",
        "    return oof, prediction, valid_scores"
      ],
      "execution_count": 0,
      "outputs": []
    },
    {
      "cell_type": "code",
      "metadata": {
        "id": "0Ic4UnW6hv_C",
        "colab_type": "code",
        "outputId": "89d478bc-087f-4f9c-a7cb-bf53ae5d3065",
        "colab": {
          "base_uri": "https://localhost:8080/",
          "height": 87
        }
      },
      "source": [
        "%%time\n",
        "\n",
        "#np.arange(0,2,.5)\n",
        "#np.linspace(0,2,10)\n",
        "\n",
        "lr = linear_model.LogisticRegression()\n",
        "\n",
        "parameter_grid = {'class_weight' : ['balanced', None],\n",
        "                  'penalty' : ['l2', 'l1'],\n",
        "                  'solver' : ['liblinear', 'saga'],\n",
        "                  'C' : [0.001, 0.01, 0.08, 0.1, 0.15, 1.0, 10.0, 100.0],\n",
        "                  'max_iter': [2,10,50,100,1000]\n",
        "                 }\n",
        "\n",
        "grid_search = GridSearchCV(lr, param_grid=parameter_grid, cv=stratified_folds, scoring = 'f1_macro')\n",
        "grid_search.fit(X_train, y_train)\n",
        "print('Best score: {}'.format(grid_search.best_score_))\n",
        "print('Best parameters: {}'.format(grid_search.best_params_))"
      ],
      "execution_count": 0,
      "outputs": [
        {
          "output_type": "stream",
          "text": [
            "Best score: 0.8958928395548114\n",
            "Best parameters: {'C': 10.0, 'class_weight': None, 'max_iter': 50, 'penalty': 'l2', 'solver': 'liblinear'}\n",
            "CPU times: user 2h 15min 17s, sys: 1min 15s, total: 2h 16min 33s\n",
            "Wall time: 2h 15min 48s\n"
          ],
          "name": "stdout"
        }
      ]
    },
    {
      "cell_type": "code",
      "metadata": {
        "id": "AaLw2WxDeyd9",
        "colab_type": "code",
        "outputId": "371f6b3e-5745-462e-b58d-f01e4245376c",
        "colab": {
          "base_uri": "https://localhost:8080/",
          "height": 52
        }
      },
      "source": [
        "lr = linear_model.LogisticRegression(C = 10.0, class_weight = None, max_iter = 50, penalty = 'l2', solver = 'liblinear', multi_class= 'ovr')\n",
        "oof_lr, prediction_lr, scores = cv_train_model(X_train.toarray(), y_train, X_test.toarray(), y_test,  model=lr, folds = stratified_folds)"
      ],
      "execution_count": 14,
      "outputs": [
        {
          "output_type": "stream",
          "text": [
            "Cross Validation mean score: 0.3289, std: 0.0060.\n",
            "Score on test data: 0.3411\n"
          ],
          "name": "stdout"
        }
      ]
    },
    {
      "cell_type": "markdown",
      "metadata": {
        "id": "EMphywzLLj5Q",
        "colab_type": "text"
      },
      "source": [
        "Деревья решений"
      ]
    },
    {
      "cell_type": "code",
      "metadata": {
        "id": "9XCFRv-DYpha",
        "colab_type": "code",
        "colab": {}
      },
      "source": [
        "from sklearn.tree import DecisionTreeClassifier"
      ],
      "execution_count": 0,
      "outputs": []
    },
    {
      "cell_type": "code",
      "metadata": {
        "id": "-LT2gD3EL7Gf",
        "colab_type": "code",
        "outputId": "9a621016-d1f4-4071-c22a-6bcdd7e7564f",
        "colab": {
          "base_uri": "https://localhost:8080/",
          "height": 87
        }
      },
      "source": [
        "%%time\n",
        "\n",
        "#np.arange(0,2,.5)\n",
        "#np.linspace(0,2,10)\n",
        "\n",
        "dtc = DecisionTreeClassifier()\n",
        "\n",
        "parameter_grid = {'criterion' : ['gini', 'entropy'], 'max_depth' : [4,6,8,12,24,32]}\n",
        "\n",
        "grid_search = GridSearchCV(dtc, param_grid=parameter_grid, cv=stratified_folds, scoring = 'f1_macro')\n",
        "grid_search.fit(X_train, y_train)\n",
        "print('Best score: {}'.format(grid_search.best_score_))\n",
        "print('Best parameters: {}'.format(grid_search.best_params_))"
      ],
      "execution_count": 0,
      "outputs": [
        {
          "output_type": "stream",
          "text": [
            "Best score: 0.7042198539436261\n",
            "Best parameters: {'criterion': 'gini', 'max_depth': 24}\n",
            "CPU times: user 8.14 s, sys: 12.6 ms, total: 8.16 s\n",
            "Wall time: 8.22 s\n"
          ],
          "name": "stdout"
        }
      ]
    },
    {
      "cell_type": "code",
      "metadata": {
        "id": "G4sr0jfJjqG7",
        "colab_type": "code",
        "outputId": "3cfd7fab-cd9b-4415-c627-cc592b30a7b3",
        "colab": {
          "base_uri": "https://localhost:8080/",
          "height": 52
        }
      },
      "source": [
        "dtc = DecisionTreeClassifier(criterion = 'gini', max_depth = 24)\n",
        "oof_dtc, prediction_dtc, scores = cv_train_model(X_train.toarray(), y_train, X_test.toarray(), y_test,  model=dtc, folds = stratified_folds)"
      ],
      "execution_count": 55,
      "outputs": [
        {
          "output_type": "stream",
          "text": [
            "Cross Validation mean score: 0.2550, std: 0.0215.\n",
            "Score on test data: 0.2974\n"
          ],
          "name": "stdout"
        }
      ]
    },
    {
      "cell_type": "markdown",
      "metadata": {
        "id": "gvP3xKldLloh",
        "colab_type": "text"
      },
      "source": [
        "SGD\n",
        " "
      ]
    },
    {
      "cell_type": "code",
      "metadata": {
        "id": "fkfepJXcL7kq",
        "colab_type": "code",
        "colab": {}
      },
      "source": [
        "from sklearn.linear_model import SGDClassifier"
      ],
      "execution_count": 0,
      "outputs": []
    },
    {
      "cell_type": "code",
      "metadata": {
        "id": "VfTSB7_ePCMk",
        "colab_type": "code",
        "outputId": "982228f2-8e5a-486a-d3d5-bebb5cc971eb",
        "colab": {
          "base_uri": "https://localhost:8080/",
          "height": 87
        }
      },
      "source": [
        "%%time\n",
        "\n",
        "#np.arange(0,2,.5)\n",
        "#np.linspace(0,2,10)\n",
        "\n",
        "sgdc = SGDClassifier()\n",
        "\n",
        "parameter_grid = {'penalty' : ['l2', 'l1'], 'alpha' : [0.01,0.2,5,10], 'shuffle' : [True, False], 'n_iter_no_change' : [2, 5, 10]}\n",
        "\n",
        "grid_search = GridSearchCV(sgdc, param_grid=parameter_grid, cv=stratified_folds, scoring = 'f1_macro') \n",
        "grid_search.fit(X_train, y_train)\n",
        "print('Best score: {}'.format(grid_search.best_score_))\n",
        "print('Best parameters: {}'.format(grid_search.best_params_))"
      ],
      "execution_count": 0,
      "outputs": [
        {
          "output_type": "stream",
          "text": [
            "Best score: 0.8958114240151479\n",
            "Best parameters: {'alpha': 0.2, 'n_iter_no_change': 5, 'penalty': 'l2', 'shuffle': True}\n",
            "CPU times: user 1min 29s, sys: 1min 12s, total: 2min 41s\n",
            "Wall time: 1min 17s\n"
          ],
          "name": "stdout"
        }
      ]
    },
    {
      "cell_type": "code",
      "metadata": {
        "id": "jje3AivYuTGP",
        "colab_type": "code",
        "outputId": "febef921-4545-4f98-e830-a54b96ae1d9c",
        "colab": {
          "base_uri": "https://localhost:8080/",
          "height": 52
        }
      },
      "source": [
        "sgdc = SGDClassifier(alpha = 0.2, n_iter_no_change = 5, penalty = 'l2', shuffle = True, loss = 'log')\n",
        "oof_sgdc, prediction_sgdc, scores = cv_train_model(X_train.toarray(), y_train, X_test.toarray(), y_test,  model=sgdc, folds = stratified_folds)"
      ],
      "execution_count": 56,
      "outputs": [
        {
          "output_type": "stream",
          "text": [
            "Cross Validation mean score: 0.2554, std: 0.0210.\n",
            "Score on test data: 0.2683\n"
          ],
          "name": "stdout"
        }
      ]
    },
    {
      "cell_type": "markdown",
      "metadata": {
        "id": "cl9didl5U1az",
        "colab_type": "text"
      },
      "source": [
        "#Результаты\n",
        "Качество классификаторов оставляет желать лучшего. Лучший результат на тесте показала логистическая регрессия (0.34). "
      ]
    },
    {
      "cell_type": "markdown",
      "metadata": {
        "id": "Yti3DeUQIt6G",
        "colab_type": "text"
      },
      "source": [
        "#Задание 2"
      ]
    },
    {
      "cell_type": "code",
      "metadata": {
        "id": "KhV6B1YeIyqI",
        "colab_type": "code",
        "colab": {}
      },
      "source": [
        "!pip install eli5"
      ],
      "execution_count": 0,
      "outputs": []
    },
    {
      "cell_type": "code",
      "metadata": {
        "id": "7poYwlllZWgm",
        "colab_type": "code",
        "colab": {}
      },
      "source": [
        "import eli5"
      ],
      "execution_count": 0,
      "outputs": []
    },
    {
      "cell_type": "code",
      "metadata": {
        "id": "9y9EqBjAKSue",
        "colab_type": "code",
        "colab": {}
      },
      "source": [
        "index_to_word = {v:k for k,v in count_vect.vocabulary_.items()}"
      ],
      "execution_count": 0,
      "outputs": []
    },
    {
      "cell_type": "code",
      "metadata": {
        "id": "jkw31XpsZZ3-",
        "colab_type": "code",
        "colab": {}
      },
      "source": [
        "def analyze_features(model, n):\n",
        "\n",
        "  top_dtc = []\n",
        "  if model == dtc:\n",
        "    importances = model.feature_importances_\n",
        "    indices = np.argsort(importances)[::-1]\n",
        "    for index in indices:\n",
        "      if n:\n",
        "        print(index_to_word[index])\n",
        "        n -= 1\n",
        "      else:\n",
        "        continue\n",
        "  else:\n",
        "    feats = eli5.formatters.as_dataframe.explain_weights_df(model)\n",
        "    feats0 = feats[feats['target'] == 0]\n",
        "    feats1 = feats[feats['target'] == 1]\n",
        "    feats2 = feats[feats['target'] == 2]\n",
        "    feats3 = feats[feats['target'] == 3]\n",
        "    top_features_0 = [int(i[1:]) for i in feats0.feature if 'BIAS' not in i]\n",
        "    top_features_1 = [int(i[1:]) for i in feats1.feature if 'BIAS' not in i]\n",
        "    top_features_2 = [int(i[1:]) for i in feats2.feature if 'BIAS' not in i]\n",
        "    top_features_3 = [int(i[1:]) for i in feats3.feature if 'BIAS' not in i]\n",
        "    top0 = []\n",
        "    top1 = []\n",
        "    top2 = []\n",
        "    top3 = []\n",
        "\n",
        "    while len(top0) < n or len(top1) < n or len(top2) < n or len(top3) < n:\n",
        "      for index in top_features_0:\n",
        "        word = index_to_word[index]\n",
        "        if len(top0) < n:\n",
        "          top0.append(word)\n",
        "        else:\n",
        "          continue\n",
        "      for index in top_features_1:\n",
        "        word = index_to_word[index]\n",
        "        if len(top1) < n:\n",
        "          top1.append(word)\n",
        "        else:\n",
        "          continue\n",
        "      for index in top_features_2:\n",
        "        word = index_to_word[index]\n",
        "        if len(top2) < n:\n",
        "          top2.append(word)\n",
        "        else:\n",
        "          continue\n",
        "      for index in top_features_3:\n",
        "        word = index_to_word[index]\n",
        "        if len(top3) < n:\n",
        "          top3.append(word)\n",
        "        else:\n",
        "          continue\n",
        "\n",
        "    print('Top sci.crypt features:', [word for word in top0])\n",
        "    print('Top sci.electronics features:', [word for word in top1])\n",
        "    print('Top sci.med features:', [word for word in top2])\n",
        "    print('Top sci.space features:', [word for word in top3])\n",
        "\n",
        "\n"
      ],
      "execution_count": 0,
      "outputs": []
    },
    {
      "cell_type": "code",
      "metadata": {
        "id": "uwIejcZzTtBg",
        "colab_type": "code",
        "outputId": "741c2cd4-8913-49e8-99d4-4909eb247b6c",
        "colab": {
          "base_uri": "https://localhost:8080/",
          "height": 87
        }
      },
      "source": [
        "analyze_features(sgdc, 5)"
      ],
      "execution_count": 58,
      "outputs": [
        {
          "output_type": "stream",
          "text": [
            "Top sci.crypt features: ['key', 'encryption', 'clipper', 'chip', 'privacy']\n",
            "Top sci.electronics features: ['wire', 'use', 'wiring', 'with', 'power']\n",
            "Top sci.med features: ['msg', 'is', 'pitt', 'doctor', 'medical']\n",
            "Top sci.space features: ['space', 'launch', 'henry', 'nasa', 'orbit']\n"
          ],
          "name": "stdout"
        }
      ]
    },
    {
      "cell_type": "code",
      "metadata": {
        "id": "J2_qOu05GuW2",
        "colab_type": "code",
        "colab": {
          "base_uri": "https://localhost:8080/",
          "height": 87
        },
        "outputId": "e002e079-5c5a-488f-b048-149cbfcd352e"
      },
      "source": [
        "analyze_features(lr, 5)"
      ],
      "execution_count": 59,
      "outputs": [
        {
          "output_type": "stream",
          "text": [
            "Top sci.crypt features: ['clipper', 'key', 'encryption', 'chip', 'crypto']\n",
            "Top sci.electronics features: ['rf', 'hp', 'au', 'mike', '10']\n",
            "Top sci.med features: ['msg', 'doctor', 'health', 'treatment', 'erythromycin']\n",
            "Top sci.space features: ['space', 'orbit', 'henry', 'nasa', 'funding']\n"
          ],
          "name": "stdout"
        }
      ]
    },
    {
      "cell_type": "code",
      "metadata": {
        "id": "TN1pWVg5G05t",
        "colab_type": "code",
        "colab": {
          "base_uri": "https://localhost:8080/",
          "height": 104
        },
        "outputId": "a7c692f0-123e-4602-c452-7a139b1c25b3"
      },
      "source": [
        "analyze_features(dtc, 5)"
      ],
      "execution_count": 60,
      "outputs": [
        {
          "output_type": "stream",
          "text": [
            "clipper\n",
            "space\n",
            "key\n",
            "gordon\n",
            "foods\n"
          ],
          "name": "stdout"
        }
      ]
    },
    {
      "cell_type": "markdown",
      "metadata": {
        "id": "kSnkHh-JIuJn",
        "colab_type": "text"
      },
      "source": [
        "#Задание 3"
      ]
    },
    {
      "cell_type": "code",
      "metadata": {
        "id": "WOSFJBhYJa5w",
        "colab_type": "code",
        "colab": {}
      },
      "source": [
        "from string import punctuation"
      ],
      "execution_count": 0,
      "outputs": []
    },
    {
      "cell_type": "code",
      "metadata": {
        "id": "xTxyU8EcI__J",
        "colab_type": "code",
        "colab": {}
      },
      "source": [
        "punct = punctuation+'«»—…“”*№–'\n",
        "\n",
        "def normalize_punct(text):\n",
        "    words = [word.strip(punct) for word in text.split()]\n",
        "    return ' '.join(words)"
      ],
      "execution_count": 0,
      "outputs": []
    },
    {
      "cell_type": "code",
      "metadata": {
        "id": "6CYjzpyuKDj6",
        "colab_type": "code",
        "colab": {}
      },
      "source": [
        "twenty_train_norm = [] \n",
        "for text in twenty_train.data:\n",
        "  text_norm = normalize_punct(text)\n",
        "  twenty_train_norm.append(text_norm)\n"
      ],
      "execution_count": 0,
      "outputs": []
    },
    {
      "cell_type": "code",
      "metadata": {
        "id": "qvNmA2NaLNba",
        "colab_type": "code",
        "colab": {}
      },
      "source": [
        "count_vect2 = CountVectorizer(stop_words = 'english', max_df = 0.3, min_df = 5, ngram_range=(1,3)) "
      ],
      "execution_count": 0,
      "outputs": []
    },
    {
      "cell_type": "code",
      "metadata": {
        "id": "rfB2HVYHIzMf",
        "colab_type": "code",
        "colab": {}
      },
      "source": [
        "X_new = count_vect2.fit_transform(twenty_train_norm)\n",
        "y_new = twenty_train.target"
      ],
      "execution_count": 0,
      "outputs": []
    },
    {
      "cell_type": "code",
      "metadata": {
        "id": "wwODgvMLMPhc",
        "colab_type": "code",
        "colab": {}
      },
      "source": [
        "X_train, X_test, y_train, y_test = train_test_split(X_new, y_new, test_size=0.70, random_state=42)"
      ],
      "execution_count": 0,
      "outputs": []
    },
    {
      "cell_type": "code",
      "metadata": {
        "id": "H5NmHhiMMGiZ",
        "colab_type": "code",
        "colab": {
          "base_uri": "https://localhost:8080/",
          "height": 52
        },
        "outputId": "6f2f7ae6-6c42-417d-c3df-75f75b3b49f5"
      },
      "source": [
        "lr = linear_model.LogisticRegression(C = 10.0, class_weight = None, max_iter = 50, penalty = 'l2', solver = 'liblinear', multi_class= 'ovr')\n",
        "oof_lr, prediction_lr, scores = cv_train_model(X_train.toarray(), y_train, X_test.toarray(), y_test,  model=lr, folds = stratified_folds)\n",
        "\n",
        "#1 вариант\n",
        "#Cross Validation mean score: 0.3289, std: 0.0060.\n",
        "#Score on test data: 0.3411"
      ],
      "execution_count": 265,
      "outputs": [
        {
          "output_type": "stream",
          "text": [
            "Cross Validation mean score: 0.3347, std: 0.0056.\n",
            "Score on test data: 0.3482\n"
          ],
          "name": "stdout"
        }
      ]
    },
    {
      "cell_type": "code",
      "metadata": {
        "id": "cTapUzHPMHNf",
        "colab_type": "code",
        "colab": {
          "base_uri": "https://localhost:8080/",
          "height": 52
        },
        "outputId": "f3e44e46-a79f-4f4b-8fcd-7d328e801384"
      },
      "source": [
        "dtc = DecisionTreeClassifier(criterion = 'gini', max_depth = 24)\n",
        "oof_dtc, prediction_dtc, scores = cv_train_model(X_train.toarray(), y_train, X_test.toarray(), y_test,  model=dtc, folds = stratified_folds)\n",
        "\n",
        "#1 вариант\n",
        "#Cross Validation mean score: 0.2550, std: 0.0215.\n",
        "#Score on test data: 0.2974"
      ],
      "execution_count": 266,
      "outputs": [
        {
          "output_type": "stream",
          "text": [
            "Cross Validation mean score: 0.2477, std: 0.0403.\n",
            "Score on test data: 0.3013\n"
          ],
          "name": "stdout"
        }
      ]
    },
    {
      "cell_type": "code",
      "metadata": {
        "id": "Rn5is_89MOeg",
        "colab_type": "code",
        "colab": {
          "base_uri": "https://localhost:8080/",
          "height": 52
        },
        "outputId": "24dd862b-2726-4205-c50b-67eacde20bad"
      },
      "source": [
        "sgdc = SGDClassifier(alpha = 0.2, n_iter_no_change = 5, penalty = 'l2', shuffle = True, loss = 'log')\n",
        "oof_sgdc, prediction_sgdc, scores = cv_train_model(X_train.toarray(), y_train, X_test.toarray(), y_test,  model=sgdc, folds = stratified_folds)\n",
        "\n",
        "#1 вариант\n",
        "#Cross Validation mean score: 0.2554, std: 0.0210.\n",
        "#Score on test data: 0.2683"
      ],
      "execution_count": 267,
      "outputs": [
        {
          "output_type": "stream",
          "text": [
            "Cross Validation mean score: 0.2563, std: 0.0284.\n",
            "Score on test data: 0.2707\n"
          ],
          "name": "stdout"
        }
      ]
    },
    {
      "cell_type": "markdown",
      "metadata": {
        "id": "EniQEflMX952",
        "colab_type": "text"
      },
      "source": [
        "#Результаты\n",
        "Качество удалось повысить, однако совсем незначительно. Сначала я убрал стоп-слова, т. к. среди самых весомых фичей категории sci.med у SGDClassifier было 'is'. Затем удалил пунктуацию и подкрутил параметры max_df и min_df. Можно было бы найти показатели и получше, но в таком случае зачастую повышается качество одного классификатора, а качество других падает. Такие параметры дают пусть и небольшой прирост в качестве, зато прирост этот получают все классификаторы. "
      ]
    }
  ]
}
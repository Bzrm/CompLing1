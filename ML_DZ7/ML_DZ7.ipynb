{
  "nbformat": 4,
  "nbformat_minor": 0,
  "metadata": {
    "colab": {
      "name": "cnn3.ipynb",
      "provenance": []
    },
    "kernelspec": {
      "name": "python3",
      "display_name": "Python 3"
    }
  },
  "cells": [
    {
      "cell_type": "markdown",
      "metadata": {
        "id": "_ZjrgZGc3Y-i",
        "colab_type": "text"
      },
      "source": [
        "##Данные и библиотеки\n"
      ]
    },
    {
      "cell_type": "code",
      "metadata": {
        "id": "XQdjY44b3iZU",
        "colab_type": "code",
        "colab": {}
      },
      "source": [
        "!pip install pandas scikit-learn matplotlib"
      ],
      "execution_count": 0,
      "outputs": []
    },
    {
      "cell_type": "code",
      "metadata": {
        "id": "U3zGC07l3lM7",
        "colab_type": "code",
        "colab": {}
      },
      "source": [
        "import tensorflow as tf"
      ],
      "execution_count": 0,
      "outputs": []
    },
    {
      "cell_type": "code",
      "metadata": {
        "id": "hLAzBhOe3pXA",
        "colab_type": "code",
        "colab": {}
      },
      "source": [
        "import pandas as pd\n",
        "import numpy as np\n",
        "from string import punctuation\n",
        "from sklearn.model_selection import train_test_split\n",
        "from collections import Counter\n",
        "import matplotlib.pyplot as plt\n",
        "%matplotlib inline"
      ],
      "execution_count": 0,
      "outputs": []
    },
    {
      "cell_type": "code",
      "metadata": {
        "id": "PqPnrvKb9F_a",
        "colab_type": "code",
        "colab": {}
      },
      "source": [
        "from google.colab import drive\n",
        "drive.mount('/content/drive')\n"
      ],
      "execution_count": 0,
      "outputs": []
    },
    {
      "cell_type": "code",
      "metadata": {
        "id": "DvSfEq4V3UPW",
        "colab_type": "code",
        "outputId": "04767665-49ac-45ac-be77-2ce30aaefcf4",
        "colab": {
          "base_uri": "https://localhost:8080/",
          "height": 87
        }
      },
      "source": [
        "!unzip '/content/drive/My Drive/data.zip' "
      ],
      "execution_count": 4,
      "outputs": [
        {
          "output_type": "stream",
          "text": [
            "Archive:  /content/drive/My Drive/data.zip\n",
            "  inflating: avito_data.csv          \n",
            "  inflating: quora.csv               \n",
            "  inflating: __MACOSX/._quora.csv    \n"
          ],
          "name": "stdout"
        }
      ]
    },
    {
      "cell_type": "code",
      "metadata": {
        "id": "kG-B_T4v4COe",
        "colab_type": "code",
        "colab": {}
      },
      "source": [
        "quora = pd.read_csv('quora.csv')"
      ],
      "execution_count": 0,
      "outputs": []
    },
    {
      "cell_type": "code",
      "metadata": {
        "id": "US8a44Ij4EIH",
        "colab_type": "code",
        "colab": {}
      },
      "source": [
        "quora"
      ],
      "execution_count": 0,
      "outputs": []
    },
    {
      "cell_type": "markdown",
      "metadata": {
        "id": "tkHYFaTR3tfy",
        "colab_type": "text"
      },
      "source": [
        "## Предобработка"
      ]
    },
    {
      "cell_type": "code",
      "metadata": {
        "id": "aiJnW60K3sIk",
        "colab_type": "code",
        "colab": {}
      },
      "source": [
        "def preprocess(text): \n",
        "    tokens = list(text)\n",
        "    return tokens"
      ],
      "execution_count": 0,
      "outputs": []
    },
    {
      "cell_type": "code",
      "metadata": {
        "id": "pSgPFmgH4MWP",
        "colab_type": "code",
        "colab": {}
      },
      "source": [
        "# словарь\n",
        "vocab = Counter()\n",
        "\n",
        "for text in quora.question_text:\n",
        "    vocab.update(preprocess(text))"
      ],
      "execution_count": 0,
      "outputs": []
    },
    {
      "cell_type": "code",
      "metadata": {
        "id": "0fgPTg2Z_YqI",
        "colab_type": "code",
        "colab": {}
      },
      "source": [
        "#vocab"
      ],
      "execution_count": 0,
      "outputs": []
    },
    {
      "cell_type": "code",
      "metadata": {
        "id": "IGyHO5G74Mzj",
        "colab_type": "code",
        "outputId": "fde8ac96-6478-4090-b843-dc3a8a941d13",
        "colab": {
          "base_uri": "https://localhost:8080/",
          "height": 35
        }
      },
      "source": [
        "len(vocab)"
      ],
      "execution_count": 0,
      "outputs": [
        {
          "output_type": "execute_result",
          "data": {
            "text/plain": [
              "2047"
            ]
          },
          "metadata": {
            "tags": []
          },
          "execution_count": 20
        }
      ]
    },
    {
      "cell_type": "code",
      "metadata": {
        "id": "hXp7C96p4PDz",
        "colab_type": "code",
        "colab": {}
      },
      "source": [
        "# отфильтрованный словарь\n",
        "filtered_vocab = set()\n",
        "\n",
        "for word in vocab:\n",
        "    if vocab[word] > 3:\n",
        "        filtered_vocab.add(word)"
      ],
      "execution_count": 0,
      "outputs": []
    },
    {
      "cell_type": "code",
      "metadata": {
        "id": "wS5xhVnE4TS3",
        "colab_type": "code",
        "outputId": "5a9859ad-ad71-4521-a8e3-5b96591b1dfe",
        "colab": {
          "base_uri": "https://localhost:8080/",
          "height": 35
        }
      },
      "source": [
        "len(filtered_vocab)"
      ],
      "execution_count": 11,
      "outputs": [
        {
          "output_type": "execute_result",
          "data": {
            "text/plain": [
              "642"
            ]
          },
          "metadata": {
            "tags": []
          },
          "execution_count": 11
        }
      ]
    },
    {
      "cell_type": "code",
      "metadata": {
        "id": "DM9Ms-9K4Tb8",
        "colab_type": "code",
        "colab": {}
      },
      "source": [
        "# индексируем символы\n",
        "sym2id = {'UNK':1, 'PAD':0}\n",
        "\n",
        "for sym in filtered_vocab:\n",
        "    sym2id[sym] = len(sym2id)"
      ],
      "execution_count": 0,
      "outputs": []
    },
    {
      "cell_type": "code",
      "metadata": {
        "id": "Uy5oph9h4TjK",
        "colab_type": "code",
        "colab": {}
      },
      "source": [
        "id2sym = {i:sym for sym, i in sym2id.items()}"
      ],
      "execution_count": 0,
      "outputs": []
    },
    {
      "cell_type": "code",
      "metadata": {
        "id": "ydo0dd0L4Trr",
        "colab_type": "code",
        "colab": {}
      },
      "source": [
        "# переводим тексты в последовательности индексов\n",
        "X = []\n",
        "\n",
        "for text in quora.question_text:\n",
        "    tokens = preprocess(text)\n",
        "    ids = [sym2id.get(token, 1) for token in tokens]\n",
        "    X.append(ids)"
      ],
      "execution_count": 0,
      "outputs": []
    },
    {
      "cell_type": "code",
      "metadata": {
        "id": "Hz1-y-FM4T3D",
        "colab_type": "code",
        "colab": {}
      },
      "source": [
        "MAX_LEN = max(len(x) for x in X)"
      ],
      "execution_count": 0,
      "outputs": []
    },
    {
      "cell_type": "code",
      "metadata": {
        "id": "CS6z0Gnt4k_j",
        "colab_type": "code",
        "colab": {}
      },
      "source": [
        "MEAN_LEN = np.median([len(x) for x in X])"
      ],
      "execution_count": 0,
      "outputs": []
    },
    {
      "cell_type": "code",
      "metadata": {
        "id": "f_NM9_pa4lEQ",
        "colab_type": "code",
        "outputId": "194d0ebc-4920-4c54-b718-8ace5b35d90d",
        "colab": {
          "base_uri": "https://localhost:8080/",
          "height": 35
        }
      },
      "source": [
        "MAX_LEN, MEAN_LEN"
      ],
      "execution_count": 0,
      "outputs": [
        {
          "output_type": "execute_result",
          "data": {
            "text/plain": [
              "(1017, 60.0)"
            ]
          },
          "metadata": {
            "tags": []
          },
          "execution_count": 13
        }
      ]
    },
    {
      "cell_type": "code",
      "metadata": {
        "id": "1aNIUb3I4lJF",
        "colab_type": "code",
        "colab": {}
      },
      "source": [
        " MAX_LEN = 70"
      ],
      "execution_count": 0,
      "outputs": []
    },
    {
      "cell_type": "code",
      "metadata": {
        "id": "PUfmO3gw43ZD",
        "colab_type": "code",
        "colab": {}
      },
      "source": [
        "# паддинг\n",
        "X = tf.keras.preprocessing.sequence.pad_sequences(X, maxlen=MAX_LEN)"
      ],
      "execution_count": 0,
      "outputs": []
    },
    {
      "cell_type": "code",
      "metadata": {
        "id": "uUdTlkAw49WE",
        "colab_type": "code",
        "outputId": "8979467c-280a-4c17-d5cb-7c9a385e4ac5",
        "colab": {
          "base_uri": "https://localhost:8080/",
          "height": 35
        }
      },
      "source": [
        "X.shape"
      ],
      "execution_count": 18,
      "outputs": [
        {
          "output_type": "execute_result",
          "data": {
            "text/plain": [
              "(1306122, 70)"
            ]
          },
          "metadata": {
            "tags": []
          },
          "execution_count": 18
        }
      ]
    },
    {
      "cell_type": "code",
      "metadata": {
        "id": "ICru0QAg4_KP",
        "colab_type": "code",
        "colab": {}
      },
      "source": [
        "y = quora.target.values"
      ],
      "execution_count": 0,
      "outputs": []
    },
    {
      "cell_type": "code",
      "metadata": {
        "id": "Dghn2BPZ5BjV",
        "colab_type": "code",
        "colab": {}
      },
      "source": [
        "X_train, X_valid, y_train, y_valid = train_test_split(X, y, test_size=0.05, stratify=y)"
      ],
      "execution_count": 0,
      "outputs": []
    },
    {
      "cell_type": "markdown",
      "metadata": {
        "id": "MnoDlMrV3-OP",
        "colab_type": "text"
      },
      "source": [
        "##Метрики"
      ]
    },
    {
      "cell_type": "code",
      "metadata": {
        "id": "TbVl-2BS34AT",
        "colab_type": "code",
        "colab": {}
      },
      "source": [
        "from tensorflow.keras import backend as K\n",
        "def f1(y_true, y_pred):\n",
        "    def recall(y_true, y_pred):\n",
        "        \"\"\"Recall metric.\n",
        "\n",
        "        Only computes a batch-wise average of recall.\n",
        "\n",
        "        Computes the recall, a metric for multi-label classification of\n",
        "        how many relevant items are selected.\n",
        "        \"\"\"\n",
        "        true_positives = K.sum(K.round(K.clip(y_true * y_pred, 0, 1)))\n",
        "        possible_positives = K.sum(K.round(K.clip(y_true, 0, 1)))\n",
        "        recall = true_positives / (possible_positives + K.epsilon())\n",
        "        return recall\n",
        "\n",
        "    def precision(y_true, y_pred):\n",
        "        \"\"\"Precision metric.\n",
        "\n",
        "        Only computes a batch-wise average of precision.\n",
        "\n",
        "        Computes the precision, a metric for multi-label classification of\n",
        "        how many selected items are relevant.\n",
        "        \"\"\"\n",
        "        true_positives = K.sum(K.round(K.clip(y_true * y_pred, 0, 1)))\n",
        "        predicted_positives = K.sum(K.round(K.clip(y_pred, 0, 1)))\n",
        "        precision = true_positives / (predicted_positives + K.epsilon())\n",
        "        return precision\n",
        "    precision = precision(y_true, y_pred)\n",
        "    recall = recall(y_true, y_pred)\n",
        "    return 2*((precision*recall)/(precision+recall+K.epsilon()))"
      ],
      "execution_count": 0,
      "outputs": []
    },
    {
      "cell_type": "markdown",
      "metadata": {
        "id": "mgHdnrGiwnMV",
        "colab_type": "text"
      },
      "source": [
        "##Сеточка"
      ]
    },
    {
      "cell_type": "code",
      "metadata": {
        "id": "mvC0xJX7O5Zz",
        "colab_type": "code",
        "colab": {}
      },
      "source": [
        "inputs = tf.keras.layers.Input(shape=(MAX_LEN,))\n",
        "\n",
        "embeddings = tf.keras.layers.Embedding(input_dim=len(sym2id), output_dim=60)(inputs)\n",
        "\n",
        "conv = tf.keras.layers.Conv1D(kernel_size=5, filters=32, strides=1, \n",
        "                                               kernel_regularizer='l2',\n",
        "                                              activation='relu')(embeddings)\n",
        "\n",
        "convs1 = []\n",
        "for ks in [2,3,4,5]:\n",
        "    conv1 = tf.keras.layers.Conv1D(kernel_size=ks, filters=32, padding='same',strides=1)(conv)\n",
        "    conv2 = tf.keras.layers.Conv1D(kernel_size=ks, filters=32, padding='same',strides=1, \n",
        "                                  kernel_regularizer='l2', activation='relu')(conv1)\n",
        "    convs1.append(conv2)\n",
        "\n",
        "concat1 = tf.keras.layers.concatenate(convs1, axis=2)\n",
        "\n",
        "drop1 = tf.keras.layers.Dropout(0.2)(concat1)\n",
        "\n",
        "convs2 = []\n",
        "for ks in [2,3,4,5]:\n",
        "    conv1 = tf.keras.layers.Conv1D(kernel_size=ks, filters=32, padding='same',strides=1)(drop1)\n",
        "    conv2 = tf.keras.layers.Conv1D(kernel_size=ks, filters=32, padding='same',strides=1, \n",
        "                                  kernel_regularizer='l2', activation='relu')(conv1)\n",
        "    convs2.append(conv2)\n",
        "\n",
        "concat2 = tf.keras.layers.concatenate(convs2, axis=2)  \n",
        "\n",
        "conv3 = tf.keras.layers.Conv1D(kernel_size=5, filters=32, strides=1, \n",
        "                                               kernel_regularizer='l2',\n",
        "                                              activation='relu')(concat2)\n",
        "pool = tf.keras.layers.MaxPool1D()(conv3)\n",
        "\n",
        "conv_global = tf.keras.layers.Conv1D(kernel_size=5, filters=32, strides=1)(pool)#pool или conv3 (если второе, то поменять местами)\n",
        "flatten = tf.keras.layers.Flatten()(conv_global)\n",
        "dense = tf.keras.layers.Dense(50, activation='relu')(flatten)\n",
        "outputs = tf.keras.layers.Dense(1, activation='sigmoid')(dense)\n",
        "\n",
        "model = tf.keras.Model(inputs=inputs, outputs=outputs)\n",
        "optimizer = tf.keras.optimizers.Adam(learning_rate=0.001)\n",
        "model.compile(optimizer=optimizer,\n",
        "              loss='binary_crossentropy',\n",
        "              metrics=[f1])"
      ],
      "execution_count": 0,
      "outputs": []
    },
    {
      "cell_type": "code",
      "metadata": {
        "id": "SD1hqgog6crq",
        "colab_type": "code",
        "outputId": "971dd90a-be62-4bdb-f77e-7f1e1bcdb242",
        "colab": {
          "base_uri": "https://localhost:8080/",
          "height": 1000
        }
      },
      "source": [
        "model.summary()"
      ],
      "execution_count": 43,
      "outputs": [
        {
          "output_type": "stream",
          "text": [
            "Model: \"model_6\"\n",
            "__________________________________________________________________________________________________\n",
            "Layer (type)                    Output Shape         Param #     Connected to                     \n",
            "==================================================================================================\n",
            "input_12 (InputLayer)           [(None, 70)]         0                                            \n",
            "__________________________________________________________________________________________________\n",
            "embedding_11 (Embedding)        (None, 70, 60)       38640       input_12[0][0]                   \n",
            "__________________________________________________________________________________________________\n",
            "conv1d_136 (Conv1D)             (None, 66, 32)       9632        embedding_11[0][0]               \n",
            "__________________________________________________________________________________________________\n",
            "conv1d_137 (Conv1D)             (None, 66, 32)       2080        conv1d_136[0][0]                 \n",
            "__________________________________________________________________________________________________\n",
            "conv1d_139 (Conv1D)             (None, 66, 32)       3104        conv1d_136[0][0]                 \n",
            "__________________________________________________________________________________________________\n",
            "conv1d_141 (Conv1D)             (None, 66, 32)       4128        conv1d_136[0][0]                 \n",
            "__________________________________________________________________________________________________\n",
            "conv1d_143 (Conv1D)             (None, 66, 32)       5152        conv1d_136[0][0]                 \n",
            "__________________________________________________________________________________________________\n",
            "conv1d_138 (Conv1D)             (None, 66, 32)       2080        conv1d_137[0][0]                 \n",
            "__________________________________________________________________________________________________\n",
            "conv1d_140 (Conv1D)             (None, 66, 32)       3104        conv1d_139[0][0]                 \n",
            "__________________________________________________________________________________________________\n",
            "conv1d_142 (Conv1D)             (None, 66, 32)       4128        conv1d_141[0][0]                 \n",
            "__________________________________________________________________________________________________\n",
            "conv1d_144 (Conv1D)             (None, 66, 32)       5152        conv1d_143[0][0]                 \n",
            "__________________________________________________________________________________________________\n",
            "concatenate_11 (Concatenate)    (None, 66, 128)      0           conv1d_138[0][0]                 \n",
            "                                                                 conv1d_140[0][0]                 \n",
            "                                                                 conv1d_142[0][0]                 \n",
            "                                                                 conv1d_144[0][0]                 \n",
            "__________________________________________________________________________________________________\n",
            "dropout_15 (Dropout)            (None, 66, 128)      0           concatenate_11[0][0]             \n",
            "__________________________________________________________________________________________________\n",
            "conv1d_145 (Conv1D)             (None, 66, 32)       8224        dropout_15[0][0]                 \n",
            "__________________________________________________________________________________________________\n",
            "conv1d_147 (Conv1D)             (None, 66, 32)       12320       dropout_15[0][0]                 \n",
            "__________________________________________________________________________________________________\n",
            "conv1d_149 (Conv1D)             (None, 66, 32)       16416       dropout_15[0][0]                 \n",
            "__________________________________________________________________________________________________\n",
            "conv1d_151 (Conv1D)             (None, 66, 32)       20512       dropout_15[0][0]                 \n",
            "__________________________________________________________________________________________________\n",
            "conv1d_146 (Conv1D)             (None, 66, 32)       2080        conv1d_145[0][0]                 \n",
            "__________________________________________________________________________________________________\n",
            "conv1d_148 (Conv1D)             (None, 66, 32)       3104        conv1d_147[0][0]                 \n",
            "__________________________________________________________________________________________________\n",
            "conv1d_150 (Conv1D)             (None, 66, 32)       4128        conv1d_149[0][0]                 \n",
            "__________________________________________________________________________________________________\n",
            "conv1d_152 (Conv1D)             (None, 66, 32)       5152        conv1d_151[0][0]                 \n",
            "__________________________________________________________________________________________________\n",
            "concatenate_12 (Concatenate)    (None, 66, 128)      0           conv1d_146[0][0]                 \n",
            "                                                                 conv1d_148[0][0]                 \n",
            "                                                                 conv1d_150[0][0]                 \n",
            "                                                                 conv1d_152[0][0]                 \n",
            "__________________________________________________________________________________________________\n",
            "conv1d_153 (Conv1D)             (None, 62, 32)       20512       concatenate_12[0][0]             \n",
            "__________________________________________________________________________________________________\n",
            "max_pooling1d_9 (MaxPooling1D)  (None, 31, 32)       0           conv1d_153[0][0]                 \n",
            "__________________________________________________________________________________________________\n",
            "conv1d_154 (Conv1D)             (None, 27, 32)       5152        max_pooling1d_9[0][0]            \n",
            "__________________________________________________________________________________________________\n",
            "flatten_7 (Flatten)             (None, 864)          0           conv1d_154[0][0]                 \n",
            "__________________________________________________________________________________________________\n",
            "dense_12 (Dense)                (None, 50)           43250       flatten_7[0][0]                  \n",
            "__________________________________________________________________________________________________\n",
            "dense_13 (Dense)                (None, 1)            51          dense_12[0][0]                   \n",
            "==================================================================================================\n",
            "Total params: 218,101\n",
            "Trainable params: 218,101\n",
            "Non-trainable params: 0\n",
            "__________________________________________________________________________________________________\n"
          ],
          "name": "stdout"
        }
      ]
    },
    {
      "cell_type": "code",
      "metadata": {
        "id": "zpr57_9g6dCc",
        "colab_type": "code",
        "outputId": "9e6b6f47-1011-48b1-aa4e-b36ef502e03c",
        "colab": {
          "base_uri": "https://localhost:8080/",
          "height": 208
        }
      },
      "source": [
        "model.fit(X_train, y_train, \n",
        "          validation_data=(X_valid, y_valid),\n",
        "          batch_size=2000,\n",
        "         epochs=5)"
      ],
      "execution_count": 41,
      "outputs": [
        {
          "output_type": "stream",
          "text": [
            "Epoch 1/5\n",
            "621/621 [==============================] - 2364s 4s/step - loss: 0.4984 - f1: 1.7545e-04 - val_loss: 0.2117 - val_f1: 0.0000e+00\n",
            "Epoch 2/5\n",
            "621/621 [==============================] - 2360s 4s/step - loss: 0.1911 - f1: 0.1287 - val_loss: 0.1872 - val_f1: 0.0847\n",
            "Epoch 3/5\n",
            "621/621 [==============================] - 2340s 4s/step - loss: 0.1766 - f1: 0.2665 - val_loss: 0.1697 - val_f1: 0.2914\n",
            "Epoch 4/5\n",
            "621/621 [==============================] - 2343s 4s/step - loss: 0.1701 - f1: 0.2991 - val_loss: 0.1663 - val_f1: 0.3205\n",
            "Epoch 5/5\n",
            "621/621 [==============================] - 2349s 4s/step - loss: 0.1662 - f1: 0.3177 - val_loss: 0.1767 - val_f1: 0.1940\n"
          ],
          "name": "stdout"
        },
        {
          "output_type": "execute_result",
          "data": {
            "text/plain": [
              "<tensorflow.python.keras.callbacks.History at 0x7ff2df96f630>"
            ]
          },
          "metadata": {
            "tags": []
          },
          "execution_count": 41
        }
      ]
    },
    {
      "cell_type": "code",
      "metadata": {
        "id": "59qhEvlW6pKU",
        "colab_type": "code",
        "outputId": "7a4d80b6-2cfe-48a1-d9fe-ef7a8f481d4d",
        "colab": {
          "base_uri": "https://localhost:8080/",
          "height": 313
        }
      },
      "source": [
        "print(model.history.history.keys())\n",
        "# summarize history for accuracy\n",
        "plt.plot(model.history.history['f1'])\n",
        "plt.plot(model.history.history['val_f1'])\n",
        "plt.title('model f1')\n",
        "plt.ylabel('f1')\n",
        "plt.xlabel('epoch')\n",
        "plt.legend(['train', 'val'], loc='upper left')\n",
        "plt.show()"
      ],
      "execution_count": 42,
      "outputs": [
        {
          "output_type": "stream",
          "text": [
            "dict_keys(['loss', 'f1', 'val_loss', 'val_f1'])\n"
          ],
          "name": "stdout"
        },
        {
          "output_type": "display_data",
          "data": {
            "image/png": "[encoded data removed]",
            "text/plain": [
              "<Figure size 432x288 with 1 Axes>"
            ]
          },
          "metadata": {
            "tags": [],
            "needs_background": "light"
          }
        }
      ]
    },
    {
      "cell_type": "markdown",
      "metadata": {
        "id": "1TmJ6lMR8Xzv",
        "colab_type": "text"
      },
      "source": [
        "Переобучил\n",
        "На четвёртой эпохе f1 был побольше"
      ]
    }
  ]
}
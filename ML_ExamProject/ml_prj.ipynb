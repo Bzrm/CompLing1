{
  "nbformat": 4,
  "nbformat_minor": 0,
  "metadata": {
    "colab": {
      "name": "ml_project.ipynb",
      "provenance": [],
      "collapsed_sections": []
    },
    "kernelspec": {
      "name": "python3",
      "display_name": "Python 3"
    }
  },
  "cells": [
    {
      "cell_type": "code",
      "metadata": {
        "id": "0TKZZcWxb_b6",
        "colab_type": "code",
        "colab": {}
      },
      "source": [
        "import pandas as pd"
      ],
      "execution_count": null,
      "outputs": []
    },
    {
      "cell_type": "code",
      "metadata": {
        "id": "0_8k6L1IvfNL",
        "colab_type": "code",
        "colab": {}
      },
      "source": [
        "pd.set_option('display.max_columns', 100)\n",
        "pd.set_option('display.max_rows', 100)"
      ],
      "execution_count": null,
      "outputs": []
    },
    {
      "cell_type": "code",
      "metadata": {
        "id": "kufPbOSzhDQ-",
        "colab_type": "code",
        "colab": {}
      },
      "source": [
        "import numpy as np\n",
        "import re \n",
        "import string\n",
        "from string import punctuation\n",
        "from collections import Counter"
      ],
      "execution_count": null,
      "outputs": []
    },
    {
      "cell_type": "code",
      "metadata": {
        "id": "U8t9rbRjk6pL",
        "colab_type": "code",
        "colab": {
          "base_uri": "https://localhost:8080/",
          "height": 69
        },
        "outputId": "05baac53-123b-4e69-cb9d-14eb08c278fd"
      },
      "source": [
        "import nltk\n",
        "nltk.download('stopwords')"
      ],
      "execution_count": null,
      "outputs": [
        {
          "output_type": "stream",
          "text": [
            "[nltk_data] Downloading package stopwords to /root/nltk_data...\n",
            "[nltk_data]   Unzipping corpora/stopwords.zip.\n"
          ],
          "name": "stdout"
        },
        {
          "output_type": "execute_result",
          "data": {
            "text/plain": [
              "True"
            ]
          },
          "metadata": {
            "tags": []
          },
          "execution_count": 4
        }
      ]
    },
    {
      "cell_type": "code",
      "metadata": {
        "id": "u9rXKPJmlQd7",
        "colab_type": "code",
        "colab": {}
      },
      "source": [
        "from nltk.corpus import stopwords\n",
        "en_stops = set(stopwords.words('english'))"
      ],
      "execution_count": null,
      "outputs": []
    },
    {
      "cell_type": "markdown",
      "metadata": {
        "id": "30whms-PbOBi",
        "colab_type": "text"
      },
      "source": [
        "Data"
      ]
    },
    {
      "cell_type": "code",
      "metadata": {
        "id": "o5Qz0JglfCE-",
        "colab_type": "code",
        "colab": {
          "base_uri": "https://localhost:8080/",
          "height": 124
        },
        "outputId": "e02f9811-6b6a-4c20-bfbd-9f1dfa518765"
      },
      "source": [
        "from google.colab import drive\n",
        "drive.mount('/content/drive')"
      ],
      "execution_count": null,
      "outputs": [
        {
          "output_type": "stream",
          "text": [
            "Go to this URL in a browser: https://accounts.google.com/o/oauth2/auth?client_id=947318989803-6bn6qk8qdgf4n4g3pfee6491hc0brc4i.apps.googleusercontent.com&redirect_uri=urn%3aietf%3awg%3aoauth%3a2.0%3aoob&response_type=code&scope=email%20https%3a%2f%2fwww.googleapis.com%2fauth%2fdocs.test%20https%3a%2f%2fwww.googleapis.com%2fauth%2fdrive%20https%3a%2f%2fwww.googleapis.com%2fauth%2fdrive.photos.readonly%20https%3a%2f%2fwww.googleapis.com%2fauth%2fpeopleapi.readonly\n",
            "\n",
            "Enter your authorization code:\n",
            "··········\n",
            "Mounted at /content/drive\n"
          ],
          "name": "stdout"
        }
      ]
    },
    {
      "cell_type": "code",
      "metadata": {
        "id": "JwJWiFqfbXnM",
        "colab_type": "code",
        "colab": {
          "base_uri": "https://localhost:8080/",
          "height": 156
        },
        "outputId": "5d0042c1-5dd7-45f9-c03e-c11bde56f152"
      },
      "source": [
        "!unzip '/content/drive/My Drive/jigsaw-toxic-comment-train.csv.zip' \n",
        "!unzip '/content/drive/My Drive/jigsaw-unintended-bias-train.csv.zip' \n",
        "!unzip '/content/drive/My Drive/test.csv.zip' \n",
        "!unzip '/content/drive/My Drive/validation.csv.zip'"
      ],
      "execution_count": null,
      "outputs": [
        {
          "output_type": "stream",
          "text": [
            "Archive:  /content/drive/My Drive/jigsaw-toxic-comment-train.csv.zip\n",
            "  inflating: jigsaw-toxic-comment-train.csv  \n",
            "Archive:  /content/drive/My Drive/jigsaw-unintended-bias-train.csv.zip\n",
            "  inflating: jigsaw-unintended-bias-train.csv  \n",
            "Archive:  /content/drive/My Drive/test.csv.zip\n",
            "  inflating: test.csv                \n",
            "Archive:  /content/drive/My Drive/validation.csv.zip\n",
            "  inflating: validation.csv          \n"
          ],
          "name": "stdout"
        }
      ]
    },
    {
      "cell_type": "code",
      "metadata": {
        "id": "B_YYsWYCuPzO",
        "colab_type": "code",
        "colab": {}
      },
      "source": [
        "comment_train = pd.read_csv('jigsaw-toxic-comment-train.csv')\n",
        "\n",
        "bias_train = pd.read_csv('jigsaw-unintended-bias-train.csv')\n",
        "\n",
        "test_f = pd.read_csv('test.csv')\n",
        "\n",
        "val = pd.read_csv('validation.csv')"
      ],
      "execution_count": null,
      "outputs": []
    },
    {
      "cell_type": "markdown",
      "metadata": {
        "id": "US3mFCszHU-z",
        "colab_type": "text"
      },
      "source": [
        "###Анализ всех дополнительных колонок тональности (как проявляется тот или иной тип токсичности, как в данных это представлено, какие есть пограничные случаи) - 2.5 балла\n"
      ]
    },
    {
      "cell_type": "code",
      "metadata": {
        "id": "yHbnf8EaI30J",
        "colab_type": "code",
        "colab": {}
      },
      "source": [
        "def normalize(text):\n",
        "  text = re.sub('\\n|\\t|\\s\\\"', ' ', text)\n",
        "  text = re.sub(f'[{punctuation}]', ' ', text)\n",
        "  text = re.sub('\\d+', ' ', text)\n",
        "  text = text.lower()\n",
        "  text = re.sub('\\s+', ' ', text)\n",
        "\n",
        "  return text"
      ],
      "execution_count": null,
      "outputs": []
    },
    {
      "cell_type": "code",
      "metadata": {
        "id": "elMUHZBKvTgo",
        "colab_type": "code",
        "colab": {
          "base_uri": "https://localhost:8080/",
          "height": 355
        },
        "outputId": "6e46a9aa-993e-40e1-b109-6a73b36c8592"
      },
      "source": [
        "comment_train.head(10)"
      ],
      "execution_count": null,
      "outputs": [
        {
          "output_type": "execute_result",
          "data": {
            "text/html": [
              "<div>\n",
              "<style scoped>\n",
              "    .dataframe tbody tr th:only-of-type {\n",
              "        vertical-align: middle;\n",
              "    }\n",
              "\n",
              "    .dataframe tbody tr th {\n",
              "        vertical-align: top;\n",
              "    }\n",
              "\n",
              "    .dataframe thead th {\n",
              "        text-align: right;\n",
              "    }\n",
              "</style>\n",
              "<table border=\"1\" class=\"dataframe\">\n",
              "  <thead>\n",
              "    <tr style=\"text-align: right;\">\n",
              "      <th></th>\n",
              "      <th>id</th>\n",
              "      <th>comment_text</th>\n",
              "      <th>toxic</th>\n",
              "      <th>severe_toxic</th>\n",
              "      <th>obscene</th>\n",
              "      <th>threat</th>\n",
              "      <th>insult</th>\n",
              "      <th>identity_hate</th>\n",
              "    </tr>\n",
              "  </thead>\n",
              "  <tbody>\n",
              "    <tr>\n",
              "      <th>0</th>\n",
              "      <td>0000997932d777bf</td>\n",
              "      <td>Explanation\\nWhy the edits made under my usern...</td>\n",
              "      <td>0</td>\n",
              "      <td>0</td>\n",
              "      <td>0</td>\n",
              "      <td>0</td>\n",
              "      <td>0</td>\n",
              "      <td>0</td>\n",
              "    </tr>\n",
              "    <tr>\n",
              "      <th>1</th>\n",
              "      <td>000103f0d9cfb60f</td>\n",
              "      <td>D'aww! He matches this background colour I'm s...</td>\n",
              "      <td>0</td>\n",
              "      <td>0</td>\n",
              "      <td>0</td>\n",
              "      <td>0</td>\n",
              "      <td>0</td>\n",
              "      <td>0</td>\n",
              "    </tr>\n",
              "    <tr>\n",
              "      <th>2</th>\n",
              "      <td>000113f07ec002fd</td>\n",
              "      <td>Hey man, I'm really not trying to edit war. It...</td>\n",
              "      <td>0</td>\n",
              "      <td>0</td>\n",
              "      <td>0</td>\n",
              "      <td>0</td>\n",
              "      <td>0</td>\n",
              "      <td>0</td>\n",
              "    </tr>\n",
              "    <tr>\n",
              "      <th>3</th>\n",
              "      <td>0001b41b1c6bb37e</td>\n",
              "      <td>\"\\nMore\\nI can't make any real suggestions on ...</td>\n",
              "      <td>0</td>\n",
              "      <td>0</td>\n",
              "      <td>0</td>\n",
              "      <td>0</td>\n",
              "      <td>0</td>\n",
              "      <td>0</td>\n",
              "    </tr>\n",
              "    <tr>\n",
              "      <th>4</th>\n",
              "      <td>0001d958c54c6e35</td>\n",
              "      <td>You, sir, are my hero. Any chance you remember...</td>\n",
              "      <td>0</td>\n",
              "      <td>0</td>\n",
              "      <td>0</td>\n",
              "      <td>0</td>\n",
              "      <td>0</td>\n",
              "      <td>0</td>\n",
              "    </tr>\n",
              "    <tr>\n",
              "      <th>5</th>\n",
              "      <td>00025465d4725e87</td>\n",
              "      <td>\"\\n\\nCongratulations from me as well, use the ...</td>\n",
              "      <td>0</td>\n",
              "      <td>0</td>\n",
              "      <td>0</td>\n",
              "      <td>0</td>\n",
              "      <td>0</td>\n",
              "      <td>0</td>\n",
              "    </tr>\n",
              "    <tr>\n",
              "      <th>6</th>\n",
              "      <td>0002bcb3da6cb337</td>\n",
              "      <td>COCKSUCKER BEFORE YOU PISS AROUND ON MY WORK</td>\n",
              "      <td>1</td>\n",
              "      <td>1</td>\n",
              "      <td>1</td>\n",
              "      <td>0</td>\n",
              "      <td>1</td>\n",
              "      <td>0</td>\n",
              "    </tr>\n",
              "    <tr>\n",
              "      <th>7</th>\n",
              "      <td>00031b1e95af7921</td>\n",
              "      <td>Your vandalism to the Matt Shirvington article...</td>\n",
              "      <td>0</td>\n",
              "      <td>0</td>\n",
              "      <td>0</td>\n",
              "      <td>0</td>\n",
              "      <td>0</td>\n",
              "      <td>0</td>\n",
              "    </tr>\n",
              "    <tr>\n",
              "      <th>8</th>\n",
              "      <td>00037261f536c51d</td>\n",
              "      <td>Sorry if the word 'nonsense' was offensive to ...</td>\n",
              "      <td>0</td>\n",
              "      <td>0</td>\n",
              "      <td>0</td>\n",
              "      <td>0</td>\n",
              "      <td>0</td>\n",
              "      <td>0</td>\n",
              "    </tr>\n",
              "    <tr>\n",
              "      <th>9</th>\n",
              "      <td>00040093b2687caa</td>\n",
              "      <td>alignment on this subject and which are contra...</td>\n",
              "      <td>0</td>\n",
              "      <td>0</td>\n",
              "      <td>0</td>\n",
              "      <td>0</td>\n",
              "      <td>0</td>\n",
              "      <td>0</td>\n",
              "    </tr>\n",
              "  </tbody>\n",
              "</table>\n",
              "</div>"
            ],
            "text/plain": [
              "                 id                                       comment_text  toxic  \\\n",
              "0  0000997932d777bf  Explanation\\nWhy the edits made under my usern...      0   \n",
              "1  000103f0d9cfb60f  D'aww! He matches this background colour I'm s...      0   \n",
              "2  000113f07ec002fd  Hey man, I'm really not trying to edit war. It...      0   \n",
              "3  0001b41b1c6bb37e  \"\\nMore\\nI can't make any real suggestions on ...      0   \n",
              "4  0001d958c54c6e35  You, sir, are my hero. Any chance you remember...      0   \n",
              "5  00025465d4725e87  \"\\n\\nCongratulations from me as well, use the ...      0   \n",
              "6  0002bcb3da6cb337       COCKSUCKER BEFORE YOU PISS AROUND ON MY WORK      1   \n",
              "7  00031b1e95af7921  Your vandalism to the Matt Shirvington article...      0   \n",
              "8  00037261f536c51d  Sorry if the word 'nonsense' was offensive to ...      0   \n",
              "9  00040093b2687caa  alignment on this subject and which are contra...      0   \n",
              "\n",
              "   severe_toxic  obscene  threat  insult  identity_hate  \n",
              "0             0        0       0       0              0  \n",
              "1             0        0       0       0              0  \n",
              "2             0        0       0       0              0  \n",
              "3             0        0       0       0              0  \n",
              "4             0        0       0       0              0  \n",
              "5             0        0       0       0              0  \n",
              "6             1        1       0       1              0  \n",
              "7             0        0       0       0              0  \n",
              "8             0        0       0       0              0  \n",
              "9             0        0       0       0              0  "
            ]
          },
          "metadata": {
            "tags": []
          },
          "execution_count": 10
        }
      ]
    },
    {
      "cell_type": "code",
      "metadata": {
        "id": "WsQ2Dv8hQ1rP",
        "colab_type": "code",
        "colab": {}
      },
      "source": [
        "def oth_cols_an(df):\n",
        "  tox = df[df['toxic'] == 1]\n",
        "  LTox = len(tox)\n",
        "  non_tox = df[df['toxic'] == 0]\n",
        "  LNon_tox = len(non_tox)\n",
        "  print('TOXIC/NON-TOXIC ratio: ', LTox/LNon_tox)\n",
        "  severeTox = df[df['severe_toxic'] == 1]\n",
        "  tox_with_severeTox = severeTox[severeTox['toxic'] == 1]\n",
        "  print('Toxic comments with severe_toxic ratio: ', len(tox_with_severeTox)/len(severeTox))\n",
        "  obscene = df[df['obscene'] == 1]\n",
        "  #print(len(obscene))\n",
        "  Toxscene = obscene[obscene['toxic'] == 1]\n",
        "  print('Toxic comments with obscene ratio:', len(Toxscene)/len(obscene))\n",
        "  threat = df[df['threat'] == 1]\n",
        "  #print(len(threat))\n",
        "  Tox_threat = threat[threat['toxic'] == 1]\n",
        "  print('Toxic comments with threat ratio:', len(Tox_threat)/len(threat))\n",
        "  insult = df[df['insult'] == 1]\n",
        "  #print(len(insult))\n",
        "  Tox_insult = insult[insult['toxic'] == 1]\n",
        "  print('Toxic comments with insult ratio:', len(Tox_insult)/len(insult))\n",
        "  identity_hate = df[df['identity_hate'] == 1]\n",
        "  #print(len(identity_hate))\n",
        "  Tox_identity_hate = identity_hate[identity_hate['toxic'] == 1]\n",
        "  print('Toxic comments with identity hate ratio:', len(Tox_identity_hate)/len(identity_hate))"
      ],
      "execution_count": null,
      "outputs": []
    },
    {
      "cell_type": "code",
      "metadata": {
        "id": "1CMs_4EBnNHd",
        "colab_type": "code",
        "colab": {
          "base_uri": "https://localhost:8080/",
          "height": 121
        },
        "outputId": "1a295a6f-bb2e-4e4a-94a2-93a2a45d31a4"
      },
      "source": [
        "oth_cols_an(comment_train)"
      ],
      "execution_count": null,
      "outputs": [
        {
          "output_type": "stream",
          "text": [
            "TOXIC/NON-TOXIC ratio:  0.10577498577894294\n",
            "Toxic comments with severe_toxic ratio:  1.0\n",
            "Toxic comments with obscene ratio: 0.9515650741350906\n",
            "Toxic comments with threat ratio: 0.9492017416545718\n",
            "Toxic comments with insult ratio: 0.9453290870488322\n",
            "Toxic comments with identity hate ratio: 0.942371280113368\n"
          ],
          "name": "stdout"
        }
      ]
    },
    {
      "cell_type": "markdown",
      "metadata": {
        "id": "H9XQDb2oTmD8",
        "colab_type": "text"
      },
      "source": [
        "Как и следовало ожидать, если коммент severe_toxic, то он при этом и просто toxic. С другими же колонками всё не так однозначно. Обсценная лексика действительно не всегда указывает на токсичность, но вот угрозы и identity hate (особенно последнее) по идее должны обозначать токсичность. "
      ]
    },
    {
      "cell_type": "markdown",
      "metadata": {
        "id": "DNZH4a-sP7-H",
        "colab_type": "text"
      },
      "source": [
        "Посмотрим на самые частотные слова в комментах с тегом sever_toxic, так как появление его гарантирует, что комментарий будет токсичным"
      ]
    },
    {
      "cell_type": "code",
      "metadata": {
        "id": "P2ejuJ9lpxsY",
        "colab_type": "code",
        "colab": {}
      },
      "source": [
        "import nltk\n",
        "from nltk.corpus import stopwords\n",
        "en_stops2 = stopwords.words('english')"
      ],
      "execution_count": null,
      "outputs": []
    },
    {
      "cell_type": "code",
      "metadata": {
        "id": "Mm4jDKGYimHB",
        "colab_type": "code",
        "colab": {}
      },
      "source": [
        "def common_tok(df):\n",
        "  words = []\n",
        "  for text in df['comment_text']:\n",
        "    text = normalize(text)\n",
        "    text = text.split()\n",
        "    for word in text:\n",
        "      if word not in en_stops and word not in en_stops2:\n",
        "        words.append(word)\n",
        "      else:\n",
        "        continue\n",
        "\n",
        "  print(Counter(words).most_common(1000))\n",
        "  return words"
      ],
      "execution_count": null,
      "outputs": []
    },
    {
      "cell_type": "code",
      "metadata": {
        "id": "q9ar8CfwQbu1",
        "colab_type": "code",
        "colab": {
          "base_uri": "https://localhost:8080/",
          "height": 55
        },
        "outputId": "4e006d03-5d05-4b07-ca57-a19fa643597d"
      },
      "source": [
        "severeTox = comment_train[comment_train['severe_toxic'] == 1]\n",
        "tox_with_severeTox = severeTox[severeTox['toxic'] == 1]\n",
        "\n",
        "severe = common_tok(tox_with_severeTox)"
      ],
      "execution_count": null,
      "outputs": [
        {
          "output_type": "stream",
          "text": [
            "[('fuck', 8953), ('suck', 3010), ('ass', 2627), ('shit', 2441), ('die', 2167), ('fucking', 2131), ('bitch', 2075), ('nigger', 1992), ('u', 1884), ('faggot', 1850), ('go', 1488), ('cunt', 1146), ('sucks', 1010), ('wikipedia', 901), ('fucker', 840), ('cock', 816), ('kill', 804), ('gay', 764), ('dick', 722), ('like', 686), ('fucksex', 624), ('bastard', 622), ('yourselfgo', 621), ('must', 577), ('asshole', 557), ('penis', 545), ('fat', 540), ('mother', 538), ('eat', 529), ('piece', 524), ('cocksucker', 519), ('mothjer', 489), ('stupid', 484), ('get', 443), ('bitches', 441), ('huge', 429), ('dog', 425), ('niggerjew', 424), ('fuk', 419), ('shut', 417), ('vandal', 417), ('pussy', 416), ('damn', 413), ('traitor', 407), ('niggers', 404), ('rape', 397), ('anal', 390), ('going', 377), ('offfuck', 360), ('mexicans', 359), ('little', 354), ('pro', 350), ('hanibal', 348), ('assad', 347), ('niggas', 344), ('dickhead', 344), ('idiot', 332), ('whore', 332), ('block', 327), ('motherfucker', 318), ('bush', 297), ('wiki', 289), ('want', 288), ('motherfuckerdie', 287), ('hell', 281), ('criminalwar', 279), ('bunksteve', 278), ('cocksucking', 273), ('small', 270), ('hate', 270), ('fuckin', 265), ('chester', 261), ('marcolfuck', 260), ('cunts', 248), ('know', 246), ('f', 244), ('fags', 241), ('dumbass', 237), ('cocks', 236), ('page', 234), ('useless', 233), ('fack', 233), ('life', 229), ('homeland', 229), ('notrhbysouthbanof', 228), ('securityfuck', 227), ('fucked', 222), ('hi', 219), ('bot', 219), ('admins', 218), ('hole', 214), ('people', 213), ('god', 213), ('jewish', 213), ('veggietales', 212), ('kids', 209), ('ancestryfuck', 208), ('big', 207), ('moron', 200), ('son', 192), ('loves', 192), ('shitfuck', 183), ('anthony', 181), ('bradbury', 181), ('person', 178), ('atheist', 178), ('ballz', 173), ('nigga', 172), ('fired', 172), ('loser', 171), ('talk', 169), ('come', 168), ('keep', 168), ('fuckers', 165), ('dicks', 165), ('dirty', 163), ('fag', 160), ('jim', 160), ('wales', 157), ('pelican', 157), ('drink', 154), ('c', 153), ('lick', 148), ('bleachanhero', 148), ('anarchist', 146), ('verment', 146), ('night', 143), ('bitchmattythewhite', 139), ('thanks', 136), ('edits', 135), ('user', 134), ('slut', 133), ('njgw', 132), ('nl', 131), ('stop', 130), ('give', 130), ('nice', 130), ('ah', 130), ('one', 129), ('murder', 129), ('right', 128), ('haahhahahah', 128), ('yaaa', 128), ('yaaaa', 128), ('ugly', 127), ('motherfuckers', 126), ('balls', 126), ('arse', 125), ('mum', 124), ('real', 124), ('ban', 123), ('nigggers', 123), ('man', 122), ('work', 121), ('takes', 120), ('homo', 119), ('still', 117), ('last', 117), ('said', 115), ('shitty', 114), ('take', 113), ('face', 111), ('post', 110), ('hey', 107), ('world', 107), ('r', 105), ('ers', 105), ('edit', 104), ('burn', 103), ('tiny', 103), ('information', 102), ('computer', 102), ('removing', 102), ('ur', 101), ('itsuck', 101), ('tell', 100), ('bastards', 100), ('communism', 100), ('eats', 99), ('cant', 98), ('kk', 98), ('aids', 98), ('yet', 97), ('children', 97), ('alert', 97), ('fffff', 97), ('think', 96), ('rvv', 96), ('uuuuuu', 96), ('cccccc', 96), ('kkkkkk', 96), ('uu', 96), ('waiting', 95), ('blank', 94), ('di', 93), ('head', 92), ('king', 92), ('vandalism', 90), ('edie', 90), ('back', 88), ('rip', 88), ('hope', 87), ('reading', 87), ('likes', 87), ('shithead', 85), ('nhrhs', 85), ('mitt', 84), ('romney', 84), ('banned', 83), ('decapitate', 83), ('warning', 82), ('arrest', 81), ('san', 81), ('diego', 81), ('california', 81), ('chula', 81), ('vista', 81), ('cum', 80), ('ok', 80), ('azzholes', 80), ('never', 79), ('things', 79), ('threats', 79), ('porn', 78), ('k', 78), ('fun', 78), ('jasenm', 78), ('org', 78), ('en', 78), ('nothing', 77), ('american', 76), ('chink', 76), ('make', 75), ('ruining', 75), ('watching', 75), ('time', 74), ('dont', 74), ('weak', 74), ('lmao', 74), ('love', 73), ('havent', 73), ('need', 72), ('george', 72), ('stephen', 72), ('antandrus', 72), ('sex', 71), ('would', 71), ('gonna', 71), ('jforget', 71), ('shitonly', 71), ('even', 70), ('lion', 70), ('arrse', 70), ('raping', 69), ('bestfrozen', 69), ('raid', 69), ('hawkinghttp', 69), ('stone', 69), ('benon', 69), ('retarded', 68), ('sucking', 68), ('threads', 68), ('mom', 67), ('coward', 67), ('see', 65), ('idea', 65), ('wank', 65), ('n', 65), ('ever', 64), ('oh', 64), ('scum', 64), ('calvin', 64), ('dumb', 63), ('im', 62), ('good', 62), ('asian', 62), ('kike', 62), ('libtard', 62), ('cheese', 62), ('look', 61), ('say', 61), ('mods', 61), ('limped', 61), ('dicked', 61), ('fuckbags', 61), ('article', 60), ('\\\\', 60), ('due', 60), ('chocobos', 60), ('live', 59), ('fanny', 59), ('got', 58), ('family', 58), ('sexual', 58), ('clit', 58), ('really', 57), ('hates', 57), ('continue', 57), ('ck', 57), ('shite', 57), ('credit', 57), ('xxx', 57), ('boaby', 57), ('nate', 56), ('wrote', 56), ('filter', 56), ('cancer', 55), ('cut', 55), ('dust', 55), ('censorship', 54), ('ha', 54), ('cline', 54), ('sign', 53), ('steal', 53), ('censor', 53), ('old', 51), ('password', 51), ('day', 50), ('name', 49), ('way', 49), ('poor', 49), ('raped', 49), ('gas', 49), ('long', 48), ('leave', 48), ('delete', 48), ('shoot', 48), ('hair', 48), ('vagina', 48), ('twat', 48), ('fc', 48), ('gg', 47), ('bloody', 47), ('spread', 47), ('guys', 46), ('ya', 46), ('waste', 46), ('master', 45), ('lives', 45), ('editing', 45), ('sloppy', 45), ('well', 44), ('losers', 44), ('something', 43), ('brained', 43), ('dickless', 43), ('women', 42), ('camel', 42), ('youcaltlas', 42), ('blocks', 42), ('around', 41), ('motherfucking', 41), ('death', 41), ('school', 41), ('mean', 41), ('doging', 41), ('lump', 40), ('congealed', 40), ('shiti', 40), ('blocked', 39), ('nazi', 39), ('ip', 39), ('inhabited', 39), ('let', 38), ('beat', 38), ('please', 38), ('dare', 38), ('blow', 38), ('country', 38), ('find', 37), ('dead', 37), ('made', 37), ('better', 37), ('also', 37), ('disgusting', 37), ('smart', 37), ('thing', 36), ('mouth', 36), ('account', 36), ('wrong', 36), ('shot', 36), ('retard', 36), ('slap', 36), ('pathetic', 35), ('free', 35), ('john', 35), ('every', 35), ('white', 35), ('billcj', 35), ('phuck', 35), ('broom', 35), ('blooody', 35), ('eachother', 35), ('piss', 34), ('us', 34), ('call', 34), ('ill', 34), ('corpse', 34), ('pedo', 34), ('yellow', 34), ('curps', 34), ('asholes', 34), ('yeah', 33), ('everyone', 33), ('yo', 33), ('hard', 33), ('another', 32), ('child', 32), ('cking', 32), ('freakyou', 32), ('p', 31), ('whole', 31), ('jew', 31), ('fu', 31), ('ashol', 31), ('malusia', 31), ('gave', 31), ('douchebag', 31), ('blaaam', 31), ('new', 30), ('pray', 30), ('everyday', 30), ('jigaboo', 30), ('nip', 30), ('coon', 30), ('tied', 30), ('tortured', 30), ('job', 29), ('articles', 29), ('ersi', 29), ('hahahahahahahahahahahahaha', 29), ('devil', 29), ('deleting', 28), ('try', 28), ('away', 28), ('someone', 28), ('site', 28), ('much', 28), ('put', 28), ('bitchmother', 28), ('spreading', 28), ('dipshit', 28), ('bbb', 28), ('care', 27), ('first', 27), ('prick', 27), ('wanna', 27), ('bet', 27), ('bad', 27), ('shove', 26), ('filthy', 26), ('sucker', 26), ('outside', 26), ('fuckk', 26), ('sweet', 26), ('use', 26), ('black', 26), ('caltlas', 26), ('manfucking', 26), ('organs', 26), ('place', 25), ('could', 25), ('b', 25), ('hello', 25), ('unemployed', 25), ('rots', 25), ('earth', 25), ('human', 25), ('jerk', 24), ('nerd', 24), ('sick', 24), ('racist', 24), ('pig', 24), ('read', 24), ('assholes', 24), ('pages', 24), ('number', 24), ('failed', 24), ('wikipedians', 24), ('admin', 24), ('g', 23), ('year', 23), ('since', 23), ('deleted', 23), ('revert', 23), ('anything', 23), ('many', 23), ('asswhole', 23), ('dickface', 23), ('wigger', 23), ('oscarthecat', 23), ('sperm', 22), ('da', 22), ('house', 22), ('guy', 22), ('everything', 22), ('boys', 22), ('juicy', 22), ('goodbye', 22), ('fucken', 22), ('monkeyman', 22), ('chinese', 22), ('il', 22), ('later', 22), ('kim', 22), ('wife', 21), ('kick', 21), ('bag', 21), ('truth', 21), ('talking', 21), ('lovers', 21), ('change', 21), ('saaaaad', 21), ('jong', 21), ('gets', 20), ('problem', 20), ('bunch', 20), ('trying', 20), ('internet', 20), ('dude', 20), ('else', 20), ('e', 20), ('bullshit', 20), ('getting', 20), ('monkeys', 20), ('sorry', 20), ('idiots', 20), ('crap', 19), ('blocking', 19), ('father', 19), ('done', 19), ('butt', 19), ('whatever', 19), ('two', 19), ('stick', 19), ('fuckfuckfuckfuckfuckfuckfuckfuckfuckfuckfuckfuckfuckfuckfuckfuckfuckfuckfuckfuckfuckfuckfuckfuck', 19), ('may', 19), ('unblock', 19), ('help', 19), ('reason', 19), ('guess', 19), ('alone', 18), ('ahead', 18), ('rot', 18), ('self', 18), ('probably', 18), ('seriously', 18), ('kid', 18), ('worthless', 18), ('killed', 18), ('listen', 18), ('write', 18), ('suckersyou', 18), ('catholic', 18), ('typical', 18), ('mental', 17), ('point', 17), ('watch', 17), ('boy', 17), ('heard', 17), ('history', 17), ('personal', 17), ('making', 17), ('full', 17), ('times', 17), ('true', 17), ('com', 17), ('add', 17), ('wanker', 17), ('uck', 17), ('stink', 17), ('maybe', 17), ('swallow', 17), ('shall', 17), ('anti', 17), ('penises', 17), ('http', 17), ('hog', 17), ('nobody', 16), ('says', 16), ('fucks', 16), ('cuz', 16), ('act', 16), ('message', 16), ('yes', 16), ('money', 16), ('actually', 16), ('deserve', 16), ('evidence', 16), ('best', 16), ('always', 16), ('lol', 16), ('online', 16), ('wash', 16), ('girl', 16), ('text', 16), ('capacity', 15), ('great', 15), ('blood', 15), ('attack', 15), ('mah', 15), ('anus', 15), ('thought', 15), ('makes', 15), ('left', 15), ('loving', 15), ('geek', 15), ('power', 15), ('wipe', 15), ('goddamn', 15), ('cause', 15), ('advance', 15), ('reverting', 15), ('top', 15), ('muslim', 15), ('biggest', 15), ('australia', 15), ('soldiers', 15), ('open', 14), ('used', 14), ('ps', 14), ('quit', 14), ('game', 14), ('looking', 14), ('sad', 14), ('vandalize', 14), ('entire', 14), ('comments', 14), ('friends', 14), ('wit', 14), ('website', 14), ('using', 14), ('homosexual', 14), ('sure', 14), ('giving', 14), ('address', 14), ('enough', 14), ('end', 14), ('l', 14), ('feel', 14), ('exist', 14), ('part', 14), ('unt', 14), ('indian', 14), ('show', 14), ('anyone', 14), ('spotty', 14), ('nawlinwiki', 14), ('zzuzz', 14), ('ponyo', 14), ('sennen', 14), ('goroshi', 14), ('sez', 14), ('gene', 14), ('pool', 14), ('simian', 14), ('jism', 14), ('stuff', 13), ('told', 13), ('ground', 13), ('punk', 13), ('high', 13), ('comment', 13), ('stay', 13), ('kind', 13), ('metal', 13), ('seen', 13), ('j', 13), ('believe', 13), ('different', 13), ('second', 13), ('laugh', 13), ('onto', 13), ('destroy', 13), ('remember', 13), ('mind', 13), ('mama', 13), ('favonian', 13), ('demented', 13), ('belive', 13), ('shout', 13), ('girls', 12), ('daughter', 12), ('brain', 12), ('freak', 12), ('understand', 12), ('douche', 12), ('w', 12), ('wish', 12), ('retards', 12), ('days', 12), ('hes', 12), ('single', 12), ('correct', 12), ('islam', 12), ('you’re', 12), ('insult', 12), ('hit', 12), ('sock', 12), ('might', 12), ('editors', 12), ('war', 12), ('wheelchairi', 12), ('next', 12), ('jujube', 12), ('grannies', 12), ('games', 12), ('lucky', 12), ('stabbed', 12), ('ucking', 12), ('kirt', 12), ('quuuueeeeeer', 12), ('ure', 12), ('kfc', 12), ('armeni̇aaaaa', 12), ('abuse', 11), ('weapons', 11), ('finger', 11), ('hand', 11), ('forever', 11), ('calling', 11), ('without', 11), ('instead', 11), ('america', 11), ('th', 11), ('gun', 11), ('wtf', 11), ('grow', 11), ('side', 11), ('complete', 11), ('source', 11), ('mothers', 11), ('sister', 11), ('report', 11), ('kiss', 11), ('land', 11), ('sleep', 11), ('case', 11), ('hood', 11), ('jesus', 11), ('christ', 11), ('home', 11), ('motha', 11), ('wow', 11), ('wut', 11), ('wait', 11), ('hitler', 11), ('ask', 11), ('accounts', 11), ('already', 11), ('users', 11), ('fukin', 11), ('wants', 11), ('arab', 11), ('thou', 11), ('funny', 10), ('matter', 10), ('throat', 10), ('bit', 10), ('lover', 10), ('eating', 10), ('evil', 10), ('mr', 10), ('h', 10), ('putting', 10), ('screw', 10), ('religion', 10), ('awww', 10), ('facebook', 10), ('hours', 10), ('words', 10), ('flying', 10), ('jews', 10), ('called', 10), ('lies', 10), ('tits', 10), ('saying', 10), ('youre', 10), ('fool', 10), ('licking', 10), ('hot', 10), ('gives', 10), ('men', 10), ('whats', 10), ('start', 10), ('moms', 10), ('sack', 10), ('lying', 10), ('coming', 10), ('laid', 10), ('came', 10), ('brains', 10), ('added', 10), ('swear', 10), ('view', 10), ('gone', 10), ('gawd', 10), ('posted', 10), ('faggots', 10), ('arabs', 10), ('basement', 10), ('car', 10), ('wide', 10), ('friend', 10), ('muslims', 10), ('demolished', 10), ('athletes', 10), ('bisexual', 10), ('beast', 10), ('smell', 9), ('born', 9), ('fine', 9), ('chicken', 9), ('enjoy', 9), ('bring', 9), ('touch', 9), ('horse', 9), ('opinion', 9), ('important', 9), ('step', 9), ('aint', 9), ('least', 9), ('able', 9), ('cool', 9), ('three', 9), ('urself', 9), ('remove', 9), ('obviously', 9), ('completely', 9), ('doosh', 9), ('learn', 9), ('english', 9), ('baby', 9), ('thats', 9), ('business', 9), ('dad', 9), ('mistake', 9), ('whores', 9), ('respect', 9), ('less', 9), ('choke', 9), ('violent', 9), ('pigs', 9), ('state', 9), ('uh', 9), ('years', 9), ('ing', 9), ('serious', 9), ('jack', 9), ('means', 9), ('happy', 9), ('rapist', 9), ('gays', 9), ('haha', 9), ('south', 9), ('saw', 9), ('fuckface', 9), ('note', 9), ('male', 9), ('views', 9), ('either', 9), ('lot', 9), ('heads', 9), ('dat', 9), ('wanted', 9), ('accept', 9), ('·', 9), ('pakistanis', 9), ('slave', 9), ('redirect', 9), ('class', 9), ('secret', 9), ('mormons', 9), ('ballzniggers', 9), ('wankest', 9), ('ones', 8), ('shitting', 8), ('comes', 8), ('finally', 8), ('queer', 8), ('cares', 8), ('daddy', 8), ('girlfriend', 8), ('parents', 8), ('buy', 8), ('ng', 8), ('hairy', 8), ('others', 8), ('dies', 8), ('teacher', 8), ('virgin', 8), ('sit', 8), ('attacks', 8), ('rather', 8), ('mention', 8), ('ignorant', 8), ('straight', 8), ('holy', 8), ('liberal', 8), ('wat', 8), ('encyclopedia', 8), ('edited', 8), ('discussion', 8), ('anyway', 8), ('total', 8), ('run', 8), ('id', 8), ('splatter', 8), ('mad', 8), ('asses', 8), ('rude', 8), ('word', 8), ('section', 8), ('today', 8), ('republican', 8), ('editor', 8), ('body', 8), ('loik', 8), ('stand', 8), ('taken', 8), ('speech', 8), ('line', 8), ('york', 8), ('super', 8), ('indians', 8), ('suicide', 8), ('image', 8), ('cult', 8), ('city', 8), ('truly', 8), ('met', 8), ('woman', 8), ('known', 8), ('shitlol', 8), ('brown', 8), ('fall', 7), ('storm', 7), ('sandbox', 7), ('begin', 7), ('though', 7), ('joke', 7), ('playing', 7), ('hahaha', 7), ('deletion', 7), ('lost', 7), ('worse', 7), ('track', 7), ('niggaz', 7), ('society', 7), ('send', 7), ('cannot', 7), ('hang', 7), ('needs', 7), ('seems', 7), ('paul', 7), ('weed', 7), ('nuts', 7), ('fuking', 7), ('inch', 7), ('vandalise', 7), ('messages', 7), ('upon', 7), ('meet', 7), ('access', 7), ('set', 7), ('reality', 7), ('living', 7), ('half', 7), ('wanking', 7), ('bum', 7), ('hear', 7), ('rest', 7), ('died', 7), ('perfectly', 7), ('fuc', 7), ('happens', 7), ('list', 7), ('play', 7), ('telling', 7), ('motherfuckin', 7), ('miserable', 7), ('duck', 7), ('harry', 7), ('fagget', 7), ('utc', 7), ('speak', 7), ('race', 7), ('tonight', 7), ('biased', 7), ('nazis', 7), ('nerds', 7), ('grandma', 7), ('motherf', 7), ('rapes', 7), ('tired', 7), ('dis', 7), ('soooo', 7), ('sexy', 7), ('fair', 7), ('freedom', 7)]\n"
          ],
          "name": "stdout"
        }
      ]
    },
    {
      "cell_type": "markdown",
      "metadata": {
        "id": "_4PhTwtURcNu",
        "colab_type": "text"
      },
      "source": [
        "Вот тут неплохой список токсичных слов. Значит, если среди важных фич (далее, через eli5) попадается что-то из этого списка, их в ни коем случае не стоит подчищать. Однако если и менее однозначные токены, встречающиеся в пограничных случаях. "
      ]
    },
    {
      "cell_type": "markdown",
      "metadata": {
        "id": "KYp7ZsbGTvzB",
        "colab_type": "text"
      },
      "source": [
        "Теперь рассмотрим случаи, когда единичка во вспомогательных колонках (obscene, threat, insult, identity_hate) не делает комментарий токсичным. "
      ]
    },
    {
      "cell_type": "code",
      "metadata": {
        "id": "XWHpKt5cT2IS",
        "colab_type": "code",
        "colab": {}
      },
      "source": [
        "def non_tox_an(df):\n",
        "  obscene = df[df['obscene'] == 1]\n",
        "  #print(len(obscene))\n",
        "  Non_tox_obscene = obscene[obscene['toxic'] == 0]\n",
        "  print('Non-toxic comments with obscene ratio:', len(Non_tox_obscene)/len(obscene))\n",
        "  threat = df[df['threat'] == 1]\n",
        "  #print(len(threat))\n",
        "  Non_tox_threat = threat[threat['toxic'] == 0]\n",
        "  print('Non-toxic comments with threat ratio:', len(Non_tox_threat)/len(threat))\n",
        "  insult = df[df['insult'] == 1]\n",
        "  #print(len(insult))\n",
        "  Non_tox_insult = insult[insult['toxic'] == 0]\n",
        "  print('Non_toxic comments with insult ratio:', len(Non_tox_insult)/len(insult))\n",
        "  identity_hate = df[df['identity_hate'] == 1]\n",
        "  #print(len(identity_hate))\n",
        "  Non_tox_identity_hate = identity_hate[identity_hate['toxic'] == 0]\n",
        "  print('Non-toxic comments with identity hate ratio:', len(Non_tox_identity_hate)/len(identity_hate))\n",
        "\n",
        "  return Non_tox_obscene, Non_tox_threat, Non_tox_insult, Non_tox_identity_hate \n",
        "\n"
      ],
      "execution_count": null,
      "outputs": []
    },
    {
      "cell_type": "code",
      "metadata": {
        "id": "lKpmp-4pTodB",
        "colab_type": "code",
        "colab": {
          "base_uri": "https://localhost:8080/",
          "height": 87
        },
        "outputId": "8c98b0de-3230-4930-bb77-0901225015c9"
      },
      "source": [
        "Non_tox_obscene, Non_tox_threat, Non_tox_insult, Non_tox_identity_hate = non_tox_an(comment_train)"
      ],
      "execution_count": null,
      "outputs": [
        {
          "output_type": "stream",
          "text": [
            "Non-toxic comments with obscene ratio: 0.04843492586490939\n",
            "Non-toxic comments with threat ratio: 0.05079825834542816\n",
            "Non_toxic comments with insult ratio: 0.05467091295116773\n",
            "Non-toxic comments with identity hate ratio: 0.05762871988663203\n"
          ],
          "name": "stdout"
        }
      ]
    },
    {
      "cell_type": "code",
      "metadata": {
        "id": "EebYdZilo7g4",
        "colab_type": "code",
        "colab": {
          "base_uri": "https://localhost:8080/",
          "height": 107
        },
        "outputId": "1e6beefb-72ce-429b-8fb9-0baada54f6b8"
      },
      "source": [
        "NT_obs = common_tok(Non_tox_obscene)\n",
        "NT_thr = common_tok(Non_tox_threat)\n",
        "NT_ins = common_tok(Non_tox_insult)\n",
        "NT_ih = common_tok(Non_tox_identity_hate)"
      ],
      "execution_count": null,
      "outputs": [
        {
          "output_type": "stream",
          "text": [
            "[('twat', 475), ('like', 180), ('trevor', 171), ('thorpe', 171), ('page', 163), ('wikipedia', 158), ('article', 151), ('user', 137), ('one', 116), ('talk', 114), ('people', 112), ('think', 108), ('know', 104), ('get', 101), ('please', 96), ('dicks', 90), ('see', 89), ('would', 88), ('edit', 88), ('bbb', 88), ('neiln', 88), ('licks', 85), ('fuck', 81), ('time', 79), ('make', 78), ('shit', 78), ('even', 77), ('ass', 68), ('go', 66), ('way', 64), ('personal', 64), ('really', 62), ('also', 62), ('well', 61), ('bitch', 60), ('stop', 57), ('fucking', 56), ('right', 55), ('say', 54), ('something', 53), ('thing', 53), ('use', 53), ('want', 53), ('yeah', 53), ('information', 52), ('read', 51), ('much', 50), ('good', 50), ('back', 50), ('going', 48), ('never', 47), ('da', 46), ('said', 45), ('made', 45), ('u', 44), ('first', 44), ('wrong', 43), ('blocked', 43), ('someone', 43), ('another', 43), ('life', 43), ('look', 43), ('lucilio', 43), ('filho', 43), ('puta', 43), ('got', 42), ('mean', 41), ('word', 41), ('deal', 40), ('used', 40), ('better', 40), ('us', 40), ('call', 40), ('still', 39), ('could', 39), ('tell', 38), ('block', 38), ('put', 38), ('give', 38), ('come', 37), ('crap', 37), ('actually', 36), ('trying', 36), ('nothing', 36), ('edits', 36), ('take', 36), ('anything', 35), ('may', 35), ('little', 35), ('articles', 35), ('leave', 35), ('ever', 34), ('attacks', 34), ('keep', 34), ('thanks', 34), ('let', 34), ('discussion', 33), ('around', 33), ('vandalism', 33), ('delete', 33), ('pages', 33), ('message', 33), ('knob', 33), ('dont', 32), ('bad', 32), ('since', 32), ('dick', 32), ('comment', 32), ('understand', 32), ('wiki', 32), ('stay', 32), ('phuq', 32), ('cheese', 32), ('salt', 32), ('big', 31), ('editing', 31), ('done', 31), ('enough', 31), ('new', 30), ('cunt', 30), ('name', 30), ('things', 29), ('stupid', 29), ('many', 29), ('long', 29), ('away', 29), ('place', 29), ('anyone', 29), ('users', 29), ('reason', 29), ('wp', 29), ('home', 29), ('find', 29), ('sorry', 28), ('however', 28), ('two', 28), ('last', 27), ('man', 27), ('section', 27), ('admin', 27), ('point', 27), ('http', 27), ('need', 27), ('feel', 27), ('system', 27), ('work', 26), ('im', 26), ('hell', 26), ('called', 26), ('fact', 26), ('face', 26), ('bullshit', 26), ('though', 25), ('try', 25), ('least', 25), ('saying', 25), ('hey', 25), ('getting', 25), ('show', 25), ('god', 25), ('either', 24), ('making', 24), ('asshole', 24), ('every', 24), ('person', 24), ('whole', 24), ('attack', 24), ('oh', 24), ('part', 24), ('dave', 24), ('kind', 24), ('sure', 24), ('help', 23), ('etc', 23), ('day', 23), ('editors', 23), ('means', 23), ('remove', 23), ('dumb', 23), ('f', 23), ('great', 23), ('history', 23), ('thank', 23), ('damn', 22), ('yes', 22), ('far', 22), ('might', 22), ('instead', 22), ('years', 22), ('world', 22), ('true', 22), ('anyway', 22), ('kurt', 22), ('words', 21), ('else', 21), ('add', 21), ('probably', 21), ('must', 21), ('problem', 21), ('site', 21), ('year', 21), ('wrote', 21), ('free', 21), ('sent', 21), ('clearly', 21), ('comments', 21), ('seems', 21), ('source', 20), ('rather', 20), ('calling', 20), ('ask', 20), ('project', 19), ('days', 19), ('issue', 19), ('deleted', 19), ('old', 19), ('com', 19), ('reverted', 19), ('told', 19), ('yet', 19), ('admins', 19), ('power', 19), ('always', 19), ('hope', 19), ('aleem', 19), ('past', 18), ('simply', 18), ('others', 18), ('bit', 18), ('statement', 18), ('wtf', 18), ('care', 18), ('without', 18), ('policy', 18), ('idea', 18), ('using', 18), ('data', 18), ('war', 18), ('added', 18), ('attention', 18), ('content', 18), ('contributions', 18), ('non', 18), ('believe', 18), ('change', 18), ('dead', 17), ('already', 17), ('ip', 17), ('real', 17), ('reverting', 17), ('x', 17), ('game', 17), ('times', 17), ('allowed', 17), ('outside', 17), ('account', 17), ('matter', 17), ('obviously', 17), ('messages', 17), ('report', 17), ('thought', 17), ('sources', 16), ('clear', 16), ('talking', 16), ('reading', 16), ('editor', 16), ('death', 16), ('remarks', 16), ('en', 16), ('guys', 16), ('banned', 16), ('rules', 16), ('k', 16), ('came', 16), ('several', 16), ('comes', 16), ('different', 16), ('case', 16), ('english', 16), ('friend', 15), ('website', 15), ('found', 15), ('quite', 15), ('link', 15), ('perhaps', 15), ('telling', 15), ('course', 15), ('guess', 15), ('maybe', 15), ('agree', 15), ('guy', 15), ('head', 15), ('tried', 15), ('internet', 15), ('lot', 15), ('facts', 15), ('pov', 15), ('makes', 15), ('anymore', 15), ('expect', 14), ('forget', 14), ('start', 14), ('pretty', 14), ('write', 14), ('posting', 14), ('posted', 14), ('cause', 14), ('less', 14), ('ban', 14), ('love', 14), ('pussy', 14), ('post', 14), ('list', 14), ('everything', 14), ('signals', 14), ('hand', 14), ('rest', 14), ('continue', 14), ('american', 14), ('reasonable', 14), ('mark', 13), ('hard', 13), ('correct', 13), ('truth', 13), ('started', 13), ('www', 13), ('state', 13), ('utc', 13), ('nice', 13), ('revert', 13), ('left', 13), ('whatever', 13), ('able', 13), ('alone', 13), ('black', 13), ('nabil', 13), ('looks', 13), ('although', 13), ('meaning', 13), ('romero', 13), ('chance', 12), ('wish', 12), ('community', 12), ('went', 12), ('bunch', 12), ('sock', 12), ('along', 12), ('needs', 12), ('learn', 12), ('email', 12), ('template', 12), ('false', 12), ('following', 12), ('blocking', 12), ('view', 12), ('wow', 12), ('taking', 12), ('controversial', 12), ('e', 12), ('ago', 12), ('exactly', 12), ('next', 12), ('summary', 12), ('full', 12), ('media', 12), ('cock', 12), ('week', 12), ('working', 12), ('cum', 12), ('worth', 12), ('idiots', 12), ('ignorant', 12), ('john', 12), ('dildo', 12), ('text', 12), ('references', 12), ('hi', 12), ('okay', 12), ('act', 12), ('swift', 12), ('unblock', 11), ('ok', 11), ('common', 11), ('seem', 11), ('reliable', 11), ('today', 11), ('completely', 11), ('ridiculous', 11), ('somebody', 11), ('pick', 11), ('remember', 11), ('request', 11), ('info', 11), ('given', 11), ('opinion', 11), ('foundation', 11), ('facebook', 11), ('live', 11), ('explain', 11), ('org', 11), ('almost', 11), ('says', 11), ('warning', 11), ('question', 11), ('argument', 11), ('claims', 11), ('p', 11), ('everyone', 11), ('front', 11), ('entire', 11), ('names', 11), ('terms', 11), ('object', 11), ('refers', 11), ('placed', 11), ('mind', 11), ('term', 11), ('opinions', 11), ('abuse', 11), ('situation', 11), ('sense', 11), ('seen', 11), ('seriously', 11), ('lol', 11), ('government', 11), ('apparently', 11), ('standards', 11), ('wales', 11), ('hate', 11), ('ur', 10), ('written', 10), ('mistake', 10), ('city', 10), ('racist', 10), ('created', 10), ('views', 10), ('sad', 10), ('consider', 10), ('consensus', 10), ('zuck', 10), ('end', 10), ('book', 10), ('considered', 10), ('nobody', 10), ('needed', 10), ('fun', 10), ('event', 10), ('gone', 10), ('general', 10), ('reference', 10), ('dude', 10), ('faggot', 10), ('cannot', 10), ('girl', 10), ('mine', 10), ('moron', 10), ('fine', 10), ('related', 10), ('answer', 10), ('check', 10), ('fair', 10), ('ahead', 10), ('title', 10), ('single', 10), ('computer', 10), ('links', 10), ('idiot', 10), ('picture', 10), ('shows', 10), ('rubbish', 10), ('gave', 10), ('everybody', 10), ('certainly', 10), ('family', 10), ('hello', 10), ('changed', 10), ('whether', 10), ('stuff', 10), ('shall', 10), ('serious', 10), ('interviews', 10), ('local', 10), ('states', 10), ('max', 10), ('pumpkin', 10), ('owns', 10), ('simple', 9), ('included', 9), ('run', 9), ('suck', 9), ('notice', 9), ('quote', 9), ('band', 9), ('deletion', 9), ('pretending', 9), ('removing', 9), ('rule', 9), ('language', 9), ('version', 9), ('deleting', 9), ('social', 9), ('best', 9), ('joke', 9), ('three', 9), ('cut', 9), ('important', 9), ('c', 9), ('gonna', 9), ('later', 9), ('deserve', 9), ('removed', 9), ('major', 9), ('sex', 9), ('fight', 9), ('future', 9), ('possible', 9), ('self', 9), ('admit', 9), ('dad', 9), ('log', 9), ('hours', 9), ('living', 9), ('group', 9), ('asked', 9), ('style', 9), ('—', 9), ('em', 9), ('fat', 9), ('secret', 9), ('class', 9), ('country', 9), ('councils', 9), ('contribute', 8), ('asking', 8), ('mentioned', 8), ('similar', 8), ('lying', 8), ('goes', 8), ('honestly', 8), ('finally', 8), ('argue', 8), ('james', 8), ('interesting', 8), ('especially', 8), ('otherwise', 8), ('fucks', 8), ('zuckerberg', 8), ('evidence', 8), ('image', 8), ('lies', 8), ('research', 8), ('second', 8), ('reply', 8), ('fag', 8), ('happy', 8), ('women', 8), ('interested', 8), ('top', 8), ('normal', 8), ('provide', 8), ('become', 8), ('topic', 8), ('belong', 8), ('therefore', 8), ('piece', 8), ('output', 8), ('inside', 8), ('busy', 8), ('changes', 8), ('knowledge', 8), ('indeed', 8), ('claim', 8), ('disruptive', 8), ('story', 8), ('civil', 8), ('sentence', 8), ('nonsense', 8), ('particular', 8), ('sia', 8), ('various', 8), ('address', 8), ('encyclopedia', 8), ('writing', 8), ('example', 8), ('area', 8), ('subject', 8), ('sake', 8), ('video', 8), ('notable', 8), ('taken', 8), ('funny', 8), ('directly', 8), ('cool', 8), ('happened', 8), ('chan', 8), ('forgive', 7), ('open', 7), ('wont', 7), ('dear', 7), ('news', 7), ('apologize', 7), ('obvious', 7), ('currently', 7), ('pissed', 7), ('exist', 7), ('follow', 7), ('attempt', 7), ('suggest', 7), ('accusations', 7), ('violation', 7), ('pushing', 7), ('congratulations', 7), ('set', 7), ('order', 7), ('avoid', 7), ('college', 7), ('ear', 7), ('b', 7), ('kicked', 7), ('looked', 7), ('young', 7), ('type', 7), ('regarding', 7), ('took', 7), ('covered', 7), ('drive', 7), ('btw', 7), ('conversation', 7), ('mr', 7), ('none', 7), ('coming', 7), ('speak', 7), ('computing', 7), ('input', 7), ('communication', 7), ('processing', 7), ('inputs', 7), ('outputs', 7), ('mum', 7), ('hair', 7), ('break', 7), ('rr', 7), ('together', 7), ('dickhead', 7), ('members', 7), ('reported', 7), ('seeing', 7), ('provided', 7), ('tired', 7), ('thats', 7), ('military', 7), ('sikh', 7), ('poor', 7), ('•', 7), ('relevant', 7), ('wanted', 7), ('happens', 7), ('soon', 7), ('images', 7), ('sound', 7), ('welcome', 7), ('include', 7), ('according', 7), ('active', 7), ('vandalizing', 7), ('edited', 7), ('fucker', 7), ('contributing', 7), ('homosexuality', 7), ('w', 7), ('basically', 7), ('play', 7), ('stick', 7), ('award', 7), ('policies', 7), ('blah', 7), ('npov', 7), ('looking', 7), ('victoria', 7), ('business', 7), ('headline', 7), ('ill', 6), ('violate', 6), ('move', 6), ('present', 6), ('star', 6), ('bonds', 6), ('worst', 6), ('sort', 6), ('arrogant', 6), ('school', 6), ('university', 6), ('lead', 6), ('gets', 6), ('final', 6), ('high', 6), ('immediately', 6), ('harassment', 6), ('separate', 6), ('managed', 6), ('political', 6), ('wikimedia', 6), ('administrators', 6), ('problems', 6), ('trust', 6), ('decided', 6), ('l', 6), ('complete', 6), ('spent', 6), ('reasons', 6), ('send', 6), ('fucked', 6), ('shot', 6), ('behavior', 6), ('angry', 6), ('involved', 6), ('warnings', 6), ('vandal', 6), ('–', 6), ('based', 6), ('basis', 6), ('appreciate', 6), ('blocks', 6), ('troll', 6), ('response', 6), ('assume', 6), ('friends', 6), ('drummer', 6), ('small', 6), ('bias', 6), ('unless', 6), ('minor', 6), ('butt', 6), ('retarded', 6), ('mother', 6), ('syndrome', 6), ('society', 6), ('biased', 6), ('bother', 6), ('appropriate', 6), ('actions', 6), ('offended', 6), ('public', 6), ('scholar', 6), ('ejaculates', 6), ('plucks', 6), ('featured', 6), ('december', 6), ('inc', 6), ('organization', 6), ('saw', 6), ('wikipedians', 6), ('known', 6), ('bastard', 6), ('behaviour', 6), ('attitude', 6), ('longer', 6), ('generally', 6), ('sir', 6), ('fu', 6), ('lack', 6), ('propaganda', 6), ('contribs', 6), ('forever', 6), ('sick', 6), ('knows', 6), ('huge', 6), ('moved', 6), ('stated', 6), ('wanna', 6), ('queen', 6), ('plain', 6), ('knew', 6), ('shown', 6), ('brain', 6), ('dibo', 6), ('tancred', 6), ('accused', 6), ('warring', 6), ('actual', 6), ('dumbass', 6), ('pain', 6), ('anti', 6), ('five', 6), ('enjoy', 6), ('redirect', 6), ('constitution', 6), ('politics', 6), ('attacking', 6), ('subjects', 6), ('nerd', 6), ('biggest', 6), ('contributors', 6), ('regular', 6), ('stand', 6), ('control', 6), ('pathetic', 6), ('ya', 6), ('bro', 6), ('jerk', 6), ('hour', 6), ('balls', 6), ('verizon', 6), ('lie', 6), ('pay', 6), ('beyond', 6), ('understanding', 6), ('road', 6), ('merely', 6), ('bitches', 6), ('song', 6), ('moderators', 6), ('month', 6), ('anus', 6), ('gives', 6), ('manner', 6), ('level', 6), ('debate', 6), ('taylor', 6), ('leaving', 6), ('rose', 6), ('bothered', 6), ('climate', 6), ('quit', 5), ('worse', 5), ('violating', 5), ('cant', 5), ('uk', 5), ('r', 5), ('barry', 5), ('cheater', 5), ('honest', 5), ('ani', 5), ('lives', 5), ('ego', 5), ('communist', 5), ('posts', 5), ('piss', 5), ('original', 5), ('fit', 5), ('attempting', 5), ('often', 5), ('loser', 5), ('surprised', 5), ('blatant', 5), ('barnstar', 5), ('proven', 5), ('refer', 5), ('explicitly', 5), ('heard', 5), ('multiple', 5), ('contribution', 5), ('valid', 5), ('sites', 5), ('sections', 5), ('network', 5), ('fellow', 5), ('pictures', 5), ('thousand', 5), ('within', 5), ('somehow', 5), ('season', 5), ('spend', 5), ('certain', 5), ('naked', 5), ('referred', 5), ('possibly', 5), ('replying', 5), ('corrected', 5), ('bs', 5), ('works', 5), ('charge', 5), ('job', 5), ('frankly', 5), ('errors', 5), ('boys', 5), ('engaged', 5), ('couple', 5), ('brought', 5), ('decent', 5), ('pulled', 5), ('towards', 5), ('pants', 5), ('worked', 5), ('hear', 5), ('hands', 5), ('undo', 5), ('ended', 5), ('apply', 5), ('advice', 5), ('rock', 5), ('house', 5), ('regards', 5), ('abusive', 5), ('wishes', 5), ('annoying', 5), ('sit', 5), ('personally', 5), ('sounds', 5), ('ss', 5), ('trolling', 5), ('neither', 5), ('faith', 5), ('questions', 5), ('arse', 5), ('hindu', 5), ('unsigned', 5), ('short', 5), ('explanation', 5), ('anon', 5), ('blanking', 5), ('slang', 5), ('latest', 5), ('wants', 5), ('points', 5), ('metal', 5), ('body', 5), ('wondering', 5), ('creating', 5), ('clean', 5), ('retard', 5), ('thinking', 5), ('correctly', 5), ('reporting', 5), ('yo', 5), ('touch', 5), ('dipshit', 5), ('quality', 5), ('cited', 5), ('claimed', 5), ('result', 5), ('fighting', 5), ('side', 5), ('paragraph', 5), ('difference', 5), ('parents', 5), ('polish', 5), ('vandalize', 5), ('listen', 5), ('tv', 5), ('crazy', 5), ('tandem', 5), ('screw', 5), ('untrue', 5), ('reaction', 5), ('games', 5), ('sine', 5), ('pompous', 5), ('flame', 5), ('diety', 5), ('otherwords', 5), ('paterson', 5), ('jersey', 5), ('services', 5), ('legion', 5), ('british', 5), ('greaseman', 5), ('sensitive', 5), ('author', 5), ('woman', 5), ('whore', 5), ('album', 5), ('rude', 5), ('india', 5), ('threats', 5), ('behind', 5), ('civility', 5), ('putting', 5), ('crowd', 5), ('form', 5), ('accurate', 5), ('thomas', 5), ('penis', 5), ('proof', 5), ('blogs', 5), ('viva', 5), ('mouth', 5), ('blog', 5), ('party', 5), ('cousin', 5), ('jesus', 5), ('adam', 5), ('model', 5), ('armenian', 5), ('liberals', 5), ('exception', 5), ('likes', 5), ('warming', 5), ('shut', 5), ('yooh', 5), ('j', 5), ('upload', 4), ('begin', 4), ('ones', 4), ('lets', 4), ('promise', 4), ('noun', 4), ('kinda', 4), ('york', 4), ('america', 4)]\n",
            "[('supertr', 102), ('die', 55), ('live', 53), ('forever', 52), ('respect', 51), ('pathetic', 51), ('fool', 50), ('know', 11), ('like', 9), ('time', 8), ('really', 7), ('going', 7), ('get', 6), ('kill', 6), ('u', 6), ('see', 5), ('one', 5), ('block', 5), ('good', 5), ('look', 5), ('continue', 4), ('wikipedia', 4), ('life', 4), ('right', 4), ('hope', 4), ('something', 4), ('might', 4), ('abuse', 4), ('would', 4), ('someone', 3), ('else', 3), ('people', 3), ('think', 3), ('offended', 3), ('person', 3), ('tell', 3), ('come', 3), ('ur', 3), ('edits', 3), ('family', 3), ('soon', 3), ('anti', 3), ('vandalism', 3), ('real', 3), ('ya', 3), ('force', 3), ('others', 3), ('talk', 3), ('coming', 3), ('vandalize', 3), ('call', 3), ('feel', 3), ('mạch', 3), ('là', 3), ('một', 3), ('ignore', 2), ('policies', 2), ('pages', 2), ('editing', 2), ('next', 2), ('arrange', 2), ('yes', 2), ('ass', 2), ('whole', 2), ('world', 2), ('bad', 2), ('new', 2), ('name', 2), ('comment', 2), ('must', 2), ('least', 2), ('take', 2), ('suggest', 2), ('personal', 2), ('manner', 2), ('warning', 2), ('watch', 2), ('wtf', 2), ('institution', 2), ('promise', 2), ('anyone', 2), ('may', 2), ('harassment', 2), ('head', 2), ('painful', 2), ('award', 2), ('well', 2), ('iamthecoinman', 2), ('annoying', 2), ('barnstar', 2), ('protecting', 2), ('much', 2), ('bash', 2), ('skull', 2), ('urinate', 2), ('corpse', 2), ('talking', 2), ('executed', 2), ('treivas', 2), ('miller', 2), ('fire', 2), ('old', 2), ('fi', 2), ('hard', 2), ('threat', 2), ('telling', 2), ('us', 2), ('give', 2), ('hello', 2), ('make', 2), ('behind', 2), ('way', 2), ('never', 2), ('able', 2), ('feldspar', 2), ('use', 2), ('laws', 2), ('obviously', 2), ('designed', 2), ('open', 2), ('back', 2), ('expired', 2), ('discussion', 2), ('page', 2), ('delete', 2), ('message', 2), ('let', 2), ('edit', 2), ('could', 2), ('agree', 2), ('even', 2), ('death', 2), ('powerful', 2), ('find', 2), ('identities', 2), ('punt', 2), ('cat', 2), ('chính', 2), ('thiết', 2), ('bị', 2), ('điện', 2), ('constructive', 2), ('criticism', 2), ('please', 1), ('stop', 1), ('introducing', 1), ('inappropriate', 1), ('blocked', 1), ('lock', 1), ('bulgarian', 1), ('bullshit', 1), ('season', 1), ('fooled', 1), ('exactly', 1), ('connect', 1), ('send', 1), ('dda', 1), ('x', 1), ('article', 1), ('spend', 1), ('years', 1), ('prison', 1), ('meeting', 1), ('certain', 1), ('suspicions', 1), ('terrorism', 1), ('terror', 1), ('suspect', 1), ('nowadays', 1), ('kiss', 1), ('young', 1), ('goodbye', 1), ('file', 1), ('complaints', 1), ('banned', 1), ('naked', 1), ('cell', 1), ('went', 1), ('wrong', 1), ('funny', 1), ('personally', 1), ('things', 1), ('writer', 1), ('etc', 1), ('epithets', 1), ('website', 1), ('grow', 1), ('spiritually', 1), ('centuries', 1), ('previous', 1), ('hersef', 1), ('care', 1), ('wow', 1), ('dude', 1), ('physician', 1), ('slit', 1), ('wrists', 1), ('hey', 1), ('thank', 1), ('contributions', 1), ('kind', 1), ('bowel', 1), ('cancer', 1), ('regarding', 1), ('passing', 1), ('willfully', 1), ('violate', 1), ('copyright', 1), ('intentionally', 1), ('publish', 1), ('libel', 1), ('terminated', 1), ('attacks', 1), ('dont', 1), ('throw', 1), ('brick', 1), ('window', 1), ('beats', 1), ('knock', 1), ('tonight', 1), ('wikistalking', 1), ('unless', 1), ('wish', 1), ('targeted', 1), ('similar', 1), ('deskana', 1), ('cease', 1), ('stalking', 1), ('reverting', 1), ('weare', 1), ('afraid', 1), ('blocking', 1), ('keep', 1), ('nationalist', 1), ('propaganda', 1), ('chauvinism', 1), ('hate', 1), ('speech', 1), ('start', 1), ('looking', 1), ('face', 1), ('foo', 1), ('england', 1), ('says', 1), ('utc', 1), ('fact', 1), ('blow', 1), ('uk', 1), ('ireland', 1), ('problem', 1), ('asswipe', 1), ('educational', 1), ('eductational', 1), ('legal', 1), ('action', 1), ('continues', 1), ('loves', 1), ('sue', 1), ('harass', 1), ('violation', 1), ('federal', 1), ('law', 1), ('warn', 1), ('consequences', 1), ('shalt', 1), ('sever', 1), ('thy', 1), ('neck', 1), ('dreadfully', 1), ('slow', 1), ('accordance', 1), ('done', 1), ('multiple', 1), ('prompt', 1), ('reverts', 1), ('joke', 1), ('wiki', 1), ('important', 1), ('unimportant', 1), ('task', 1), ('wikipedians', 1), ('efforts', 1), ('appreciated', 1), ('cuts', 1), ('hands', 1), ('except', 1), ('gayreeks', 1), ('treated', 1), ('nicely', 1), ('safe', 1), ('island', 1), ('bitches', 1), ('collaborating', 1), ('adding', 1), ('content', 1), ('dubious', 1), ('import', 1), ('photos', 1), ('whore', 1), ('musta', 1), ('reamed', 1), ('associate', 1), ('despite', 1), ('ongoing', 1), ('ever', 1), ('increasing', 1), ('safety', 1), ('always', 1), ('big', 1), ('mouth', 1), ('undoing', 1), ('harder', 1), ('monkeys', 1), ('city', 1), ('around', 1), ('places', 1), ('somebody', 1), ('lay', 1), ('waiting', 1), ('fcking', 1), ('moron', 1), ('listen', 1), ('fair', 1), ('headsup', 1), ('caution', 1), ('columbia', 1), ('say', 1), ('maybe', 1), ('patient', 1), ('crossing', 1), ('street', 1), ('left', 1), ('also', 1), ('front', 1), ('cause', 1), ('shall', 1), ('put', 1), ('oh', 1), ('yeah', 1), ('dodge', 1), ('bullet', 1), ('bw', 1), ('holy', 1), ('war', 1), ('blathering', 1), ('idiot', 1), ('publicly', 1), ('attempted', 1), ('place', 1), ('honest', 1), ('debate', 1), ('reconcile', 1), ('differences', 1), ('opinion', 1), ('small', 1), ('minded', 1), ('psuedointellectuals', 1), ('hide', 1), ('violence', 1), ('become', 1), ('masters', 1), ('manipulation', 1), ('rules', 1), ('passive', 1), ('aggressive', 1), ('means', 1), ('accept', 1), ('views', 1), ('antiviolence', 1), ('protect', 1), ('behavior', 1), ('rather', 1), ('encourage', 1), ('mindedness', 1), ('towards', 1), ('viewpoints', 1), ('understanding', 1), ('noone', 1), ('wins', 1), ('forth', 1), ('overcome', 1), ('opinions', 1), ('smack', 1), ('upside', 1), ('da', 1), ('wit', 1), ('shovel', 1), ('takin', 1), ('boi', 1), ('contd', 1), ('scoundrel', 1), ('padmalskhmi', 1), ('april', 1), ('ahve', 1), ('considerable', 1), ('contribution', 1), ('without', 1), ('started', 1), ('mind', 1), ('guts', 1), ('openly', 1), ('innocent', 1), ('users', 1), ('fraud', 1), ('abused', 1), ('fault', 1), ('instead', 1), ('replying', 1), ('took', 1), ('curse', 1), ('car', 1), ('crash', 1), ('last', 1), ('summer', 1), ('better', 1), ('expect', 1), ('homey', 1), ('yo', 1), ('beat', 1), ('ignored', 1), ('normally', 1), ('mean', 1), ('earth', 1), ('merely', 1), ('added', 1), ('category', 1), ('thought', 1), ('appropriate', 1), ('absolutely', 1), ('intent', 1), ('said', 1), ('directed', 1), ('threaten', 1), ('want', 1), ('petty', 1), ('vandalizer', 1), ('usually', 1), ('lazy', 1), ('cross', 1), ('international', 1), ('lines', 1), ('thing', 1), ('glad', 1), ('signed', 1), ('warrant', 1), ('long', 1), ('guy', 1), ('reverted', 1), ('country', 1), ('forward', 1), ('shortly', 1), ('account', 1), ('away', 1), ('two', 1), ('made', 1), ('unstoppable', 1), ('enemy', 1), ('washington', 1), ('state', 1), ('destroy', 1), ('guys', 1), ('strong', 1), ('vandalizing', 1), ('everyone', 1), ('site', 1), ('invent', 1), ('cyber', 1), ('geek', 1), ('however', 1), ('proceed', 1), ('case', 1), ('still', 1), ('ambiguity', 1), ('repulsiveness', 1), ('irish', 1), ('nationalists', 1), ('deserved', 1), ('shot', 1), ('dead', 1), ('limited', 1), ('heathen', 1), ('finish', 1), ('bảng', 1), ('bản', 1), ('đóng', 1), ('vai', 1), ('trò', 1), ('trung', 1), ('gian', 1), ('giao', 1), ('tiếp', 1), ('giữa', 1), ('các', 1), ('với', 1), ('nhau', 1), ('cách', 1), ('tổng', 1), ('quát', 1), ('nó', 1), ('của', 1), ('hệ', 1), ('thống', 1), ('hay', 1), ('tử', 1), ('help', 1), ('welcome', 1), ('feedback', 1), ('starting', 1), ('fight', 1), ('insulting', 1), ('go', 1), ('xd', 1), ('remember', 1), ('polite', 1), ('sign', 1), ('four', 1), ('tildes', 1), ('claims', 1), ('substantiate', 1), ('commendations', 1), ('suppose', 1), ('lil', 1), ('loko', 1), ('n', 1), ('k', 1), ('win', 1), ('prize', 1), ('surexo', 1), ('axd', 1), ('di', 1), ('south', 1), ('homi', 1), ('lokked', 1), ('youxgshxxter', 1), ('setoff', 1), ('hurt', 1), ('mommy', 1)]\n",
            "[('twat', 474), ('like', 181), ('trevor', 171), ('thorpe', 171), ('wikipedia', 147), ('repeat', 127), ('daedalus', 127), ('biznitch', 127), ('page', 115), ('people', 111), ('supertr', 102), ('think', 100), ('know', 99), ('article', 91), ('user', 89), ('bbb', 88), ('neiln', 88), ('one', 86), ('dicks', 86), ('licks', 85), ('get', 83), ('time', 74), ('go', 70), ('see', 66), ('pathetic', 66), ('talk', 65), ('would', 65), ('even', 65), ('fool', 63), ('live', 61), ('also', 60), ('well', 57), ('please', 57), ('make', 57), ('respect', 56), ('forever', 56), ('die', 55), ('stupid', 54), ('really', 52), ('want', 52), ('edit', 52), ('stop', 50), ('life', 49), ('something', 47), ('much', 47), ('little', 46), ('u', 46), ('idiot', 46), ('read', 45), ('da', 44), ('bitch', 43), ('lucilio', 43), ('filho', 43), ('puta', 43), ('way', 42), ('back', 42), ('right', 41), ('say', 40), ('good', 39), ('put', 38), ('someone', 37), ('block', 37), ('better', 36), ('got', 36), ('come', 35), ('mean', 35), ('nothing', 35), ('information', 35), ('going', 35), ('made', 34), ('ass', 33), ('dumb', 33), ('personal', 32), ('never', 31), ('look', 31), ('first', 31), ('need', 30), ('stay', 30), ('around', 29), ('said', 29), ('understand', 29), ('name', 28), ('another', 28), ('must', 28), ('articles', 28), ('edits', 28), ('blocked', 28), ('us', 28), ('ever', 28), ('person', 28), ('since', 28), ('wiki', 28), ('world', 27), ('actually', 27), ('fact', 27), ('wrong', 27), ('wp', 27), ('home', 27), ('editing', 26), ('called', 26), ('take', 26), ('still', 26), ('feel', 26), ('real', 25), ('dont', 25), ('many', 25), ('trying', 25), ('idiots', 24), ('call', 24), ('tell', 24), ('delete', 24), ('sorry', 23), ('thanks', 23), ('oh', 23), ('moron', 23), ('thing', 23), ('saying', 23), ('shit', 22), ('day', 22), ('let', 22), ('used', 21), ('work', 21), ('reason', 21), ('anything', 21), ('two', 21), ('vandalism', 21), ('ignorant', 21), ('ip', 21), ('black', 21), ('thank', 21), ('loser', 20), ('find', 20), ('editor', 20), ('may', 20), ('fuck', 20), ('remove', 20), ('guy', 20), ('care', 20), ('part', 19), ('keep', 19), ('man', 19), ('asshole', 19), ('hell', 19), ('things', 19), ('big', 19), ('comments', 19), ('hey', 19), ('maybe', 19), ('could', 19), ('head', 19), ('comment', 19), ('change', 18), ('others', 18), ('away', 18), ('section', 18), ('done', 18), ('important', 18), ('editors', 18), ('everyone', 18), ('free', 18), ('history', 18), ('case', 18), ('enough', 17), ('discussion', 17), ('friend', 17), ('instead', 17), ('http', 17), ('pages', 17), ('leave', 17), ('use', 17), ('cause', 17), ('hi', 17), ('believe', 17), ('always', 16), ('give', 16), ('yes', 16), ('new', 16), ('bad', 16), ('last', 16), ('talking', 16), ('add', 16), ('school', 16), ('without', 16), ('guess', 16), ('deleted', 16), ('sure', 16), ('users', 15), ('either', 15), ('making', 15), ('else', 15), ('write', 15), ('place', 15), ('probably', 15), ('face', 15), ('wow', 15), ('calling', 15), ('reverting', 15), ('using', 15), ('start', 15), ('old', 15), ('ask', 15), ('great', 15), ('admin', 15), ('makes', 15), ('self', 15), ('family', 15), ('thought', 14), ('list', 14), ('every', 14), ('long', 14), ('added', 14), ('cunt', 14), ('truth', 14), ('racist', 14), ('com', 14), ('year', 14), ('message', 14), ('problem', 14), ('site', 14), ('reverted', 14), ('years', 14), ('warning', 14), ('least', 14), ('might', 14), ('hope', 14), ('vandal', 14), ('mind', 14), ('seems', 14), ('messages', 14), ('anti', 14), ('attack', 14), ('far', 13), ('bunch', 13), ('crap', 13), ('best', 13), ('sources', 13), ('guys', 13), ('blocking', 13), ('consensus', 13), ('help', 13), ('anyone', 13), ('complete', 13), ('state', 13), ('course', 13), ('less', 13), ('banned', 13), ('allowed', 13), ('try', 13), ('power', 13), ('point', 13), ('white', 13), ('hello', 13), ('seen', 13), ('sad', 13), ('post', 13), ('simple', 13), ('boy', 13), ('rules', 13), ('wait', 13), ('clearly', 12), ('times', 12), ('along', 12), ('issue', 12), ('word', 12), ('controversial', 12), ('remarks', 12), ('yet', 12), ('hate', 12), ('joke', 12), ('wrote', 12), ('revert', 12), ('game', 12), ('hours', 12), ('fat', 12), ('next', 12), ('love', 12), ('idea', 12), ('facts', 12), ('lol', 12), ('says', 12), ('kind', 12), ('content', 12), ('american', 12), ('gay', 12), ('swift', 12), ('small', 11), ('liar', 11), ('pretty', 11), ('congratulations', 11), ('tried', 11), ('simply', 11), ('etc', 11), ('needs', 11), ('suck', 11), ('facebook', 11), ('consider', 11), ('im', 11), ('words', 11), ('dude', 11), ('account', 11), ('ok', 11), ('become', 11), ('quite', 11), ('able', 11), ('reading', 11), ('ban', 11), ('hard', 11), ('known', 11), ('silly', 11), ('everything', 11), ('dick', 11), ('kids', 11), ('god', 11), ('owns', 11), ('told', 11), ('leaving', 11), ('music', 11), ('max', 11), ('reply', 10), ('reliable', 10), ('idiotic', 10), ('though', 10), ('project', 10), ('rather', 10), ('deal', 10), ('however', 10), ('yeah', 10), ('statement', 10), ('punk', 10), ('f', 10), ('zuck', 10), ('question', 10), ('b', 10), ('explain', 10), ('comes', 10), ('country', 10), ('nobody', 10), ('faggot', 10), ('mr', 10), ('sock', 10), ('troll', 10), ('friends', 10), ('whatever', 10), ('utc', 10), ('telling', 10), ('perhaps', 10), ('names', 10), ('seem', 10), ('retarded', 10), ('useful', 10), ('pov', 10), ('contributions', 10), ('english', 10), ('propaganda', 10), ('references', 10), ('video', 10), ('americans', 10), ('rest', 10), ('front', 10), ('young', 10), ('secret', 10), ('pumpkin', 10), ('anyway', 9), ('speak', 9), ('language', 9), ('jerk', 9), ('today', 9), ('lying', 9), ('sense', 9), ('obvious', 9), ('fucking', 9), ('quote', 9), ('request', 9), ('www', 9), ('link', 9), ('attacks', 9), ('half', 9), ('whole', 9), ('c', 9), ('getting', 9), ('means', 9), ('funny', 9), ('agree', 9), ('abuse', 9), ('future', 9), ('dead', 9), ('knowledge', 9), ('woman', 9), ('war', 9), ('members', 9), ('death', 9), ('grow', 9), ('disruptive', 9), ('brain', 9), ('exactly', 9), ('accurate', 9), ('meaning', 9), ('play', 9), ('looks', 9), ('john', 9), ('rose', 9), ('show', 8), ('clear', 8), ('mark', 8), ('goes', 8), ('completely', 8), ('somebody', 8), ('human', 8), ('foul', 8), ('pretending', 8), ('zuckerberg', 8), ('evidence', 8), ('end', 8), ('record', 8), ('lies', 8), ('picture', 8), ('general', 8), ('already', 8), ('fight', 8), ('bias', 8), ('muslim', 8), ('scum', 8), ('move', 8), ('wondering', 8), ('enjoy', 8), ('x', 8), ('together', 8), ('taking', 8), ('contribs', 8), ('ignorance', 8), ('true', 8), ('particular', 8), ('sia', 8), ('poor', 8), ('fag', 8), ('continue', 8), ('alone', 8), ('seriously', 8), ('listen', 8), ('stars', 8), ('rule', 8), ('obviously', 8), ('land', 8), ('coward', 8), ('interviews', 8), ('working', 7), ('source', 7), ('top', 7), ('arrogant', 7), ('written', 7), ('issues', 7), ('lives', 7), ('ridiculous', 7), ('deleting', 7), ('nice', 7), ('mate', 7), ('suggest', 7), ('false', 7), ('policy', 7), ('view', 7), ('acting', 7), ('fucks', 7), ('e', 7), ('social', 7), ('r', 7), ('image', 7), ('kicked', 7), ('three', 7), ('spend', 7), ('found', 7), ('deserve', 7), ('wasting', 7), ('low', 7), ('gave', 7), ('city', 7), ('nonsense', 7), ('puppet', 7), ('coming', 7), ('admins', 7), ('address', 7), ('event', 7), ('nazi', 7), ('started', 7), ('possibly', 7), ('belong', 7), ('bet', 7), ('ignore', 7), ('internet', 7), ('house', 7), ('mouth', 7), ('soon', 7), ('fair', 7), ('freak', 7), ('girl', 7), ('ugly', 7), ('writing', 7), ('regards', 7), ('useless', 7), ('shows', 7), ('opinion', 7), ('cannot', 7), ('sikh', 7), ('notice', 7), ('queen', 7), ('images', 7), ('metal', 7), ('relevant', 7), ('claim', 7), ('example', 7), ('censorship', 7), ('moronic', 7), ('stand', 7), ('vandalizing', 7), ('took', 7), ('watson', 7), ('realize', 7), ('fools', 7), ('empire', 7), ('muslims', 7), ('pakis', 7), ('victoria', 7), ('cena', 7), ('standard', 7), ('chinese', 6), ('matter', 6), ('decided', 6), ('computer', 6), ('correct', 6), ('bonds', 6), ('dear', 6), ('worst', 6), ('news', 6), ('based', 6), ('bit', 6), ('wonder', 6), ('run', 6), ('days', 6), ('pick', 6), ('nerd', 6), ('honestly', 6), ('remember', 6), ('finally', 6), ('unblock', 6), ('violation', 6), ('views', 6), ('prove', 6), ('version', 6), ('valid', 6), ('problems', 6), ('uk', 6), ('en', 6), ('fellow', 6), ('sockpuppet', 6), ('changed', 6), ('job', 6), ('community', 6), ('spent', 6), ('fall', 6), ('almost', 6), ('doubt', 6), ('asked', 6), ('bring', 6), ('society', 6), ('crazy', 6), ('gonna', 6), ('claims', 6), ('full', 6), ('fraud', 6), ('links', 6), ('considered', 6), ('everybody', 6), ('interesting', 6), ('night', 6), ('argument', 6), ('fine', 6), ('st', 6), ('contribute', 6), ('proud', 6), ('rock', 6), ('mother', 6), ('exist', 6), ('african', 6), ('decide', 6), ('bully', 6), ('warned', 6), ('second', 6), ('effect', 6), ('common', 6), ('sick', 6), ('bastard', 6), ('intelligent', 6), ('expert', 6), ('media', 6), ('unfortunately', 6), ('wales', 6), ('fu', 6), ('interested', 6), ('unsigned', 6), ('text', 6), ('referenced', 6), ('removing', 6), ('attention', 6), ('law', 6), ('retard', 6), ('expect', 6), ('worthless', 6), ('send', 6), ('ice', 6), ('communist', 6), ('attacking', 6), ('ur', 6), ('looking', 6), ('okay', 6), ('christian', 6), ('stuff', 6), ('supposed', 6), ('outside', 6), ('trolling', 6), ('gets', 6), ('dog', 6), ('excuse', 6), ('thomas', 6), ('pro', 6), ('wanted', 6), ('longer', 6), ('member', 6), ('fire', 6), ('talkpage', 6), ('actions', 6), ('hypocrite', 6), ('taylor', 6), ('dictator', 6), ('obama', 6), ('ideas', 6), ('award', 6), ('beyond', 6), ('climate', 6), ('french', 5), ('admit', 5), ('barry', 5), ('cheater', 5), ('sound', 5), ('bastards', 5), ('sourced', 5), ('learn', 5), ('smart', 5), ('vandalize', 5), ('accusations', 5), ('surprised', 5), ('given', 5), ('barnstar', 5), ('monkey', 5), ('pushing', 5), ('especially', 5), ('managed', 5), ('contribution', 5), ('mentioned', 5), ('brown', 5), ('james', 5), ('college', 5), ('email', 5), ('calls', 5), ('ear', 5), ('thinking', 5), ('none', 5), ('hands', 5), ('whoever', 5), ('org', 5), ('book', 5), ('reasons', 5), ('king', 5), ('battle', 5), ('looked', 5), ('mental', 5), ('insane', 5), ('usual', 5), ('douche', 5), ('nowhere', 5), ('surely', 5), ('bloody', 5), ('racism', 5), ('women', 5), ('virgin', 5), ('ahead', 5), ('range', 5), ('regular', 5), ('boys', 5), ('portion', 5), ('reference', 5), ('needed', 5), ('past', 5), ('non', 5), ('queer', 5), ('helpful', 5), ('perfectly', 5), ('include', 5), ('band', 5), ('cretins', 5), ('recently', 5), ('showing', 5), ('system', 5), ('side', 5), ('lie', 5), ('open', 5), ('refers', 5), ('act', 5), ('create', 5), ('haha', 5), ('sit', 5), ('left', 5), ('single', 5), ('living', 5), ('speed', 5), ('weak', 5), ('freedom', 5), ('fully', 5), ('explanation', 5), ('ethnic', 5), ('cock', 5), ('sir', 5), ('lack', 5), ('—preceding', 5), ('•', 5), ('lot', 5), ('biased', 5), ('possible', 5), ('turn', 5), ('worse', 5), ('german', 5), ('force', 5), ('whether', 5), ('hear', 5), ('hurt', 5), ('stalker', 5), ('touch', 5), ('report', 5), ('yo', 5), ('imbeciles', 5), ('knows', 5), ('break', 5), ('behind', 5), ('website', 5), ('friggin', 5), ('notable', 5), ('polish', 5), ('log', 5), ('accusing', 5), ('age', 5), ('naked', 5), ('warring', 5), ('drive', 5), ('body', 5), ('serious', 5), ('unlike', 5), ('went', 5), ('bother', 5), ('immature', 5), ('refuse', 5), ('authority', 5), ('constructive', 5), ('th', 5), ('youtube', 5), ('games', 5), ('anus', 5), ('forget', 5), ('attitude', 5), ('permanently', 5), ('serbs', 5), ('chetnik', 5), ('africa', 5), ('police', 5), ('legal', 5), ('defend', 5), ('voice', 5), ('answer', 5), ('neither', 5), ('justice', 5), ('rights', 5), ('armenian', 5), ('rubbish', 5), ('win', 5), ('writer', 5), ('rommel', 5), ('sorbs', 5), ('descent', 5), ('npov', 5), ('cant', 5), ('noteworthiness', 5), ('market', 5), ('un', 4), ('sea', 4), ('east', 4), ('backward', 4), ('horrible', 4), ('advice', 4), ('posted', 4), ('child', 4), ('ring', 4), ('mistake', 4), ('spell', 4), ('ive', 4), ('following', 4), ('ethnicity', 4), ('happy', 4), ('bs', 4), ('choice', 4), ('among', 4), ('sites', 4), ('letter', 4), ('evil', 4), ('wont', 4), ('trust', 4), ('data', 4), ('info', 4), ('prick', 4), ('creating', 4), ('contain', 4), ('repeatedly', 4), ('sue', 4), ('hypocritical', 4), ('ago', 4), ('cut', 4), ('within', 4), ('lets', 4), ('whats', 4), ('album', 4), ('shot', 4), ('disorder', 4), ('heard', 4), ('response', 4), ('fun', 4), ('gone', 4), ('cheers', 4), ('extremely', 4), ('yall', 4), ('republic', 4), ('k', 4), ('hero', 4), ('equal', 4), ('violate', 4), ('posting', 4), ('armors', 4), ('revision', 4), ('several', 4), ('total', 4), ('minor', 4), ('acts', 4), ('poof', 4), ('google', 4), ('situation', 4), ('putting', 4), ('reported', 4), ('check', 4), ('civil', 4), ('sincerely', 4), ('noticed', 4), ('wants', 4), ('suspect', 4), ('faith', 4), ('chris', 4), ('wtf', 4), ('additions', 4), ('anymore', 4), ('title', 4), ('july', 4), ('straight', 4), ('tired', 4), ('months', 4), ('reasonable', 4), ('bush', 4), ('wikipedians', 4), ('dickhead', 4), ('including', 4), ('marine', 4), ('corps', 4), ('questions', 4), ('insulted', 4), ('vandalising', 4), ('pic', 4), ('jimbo', 4), ('scholar', 4), ('rss', 4), ('sikhs', 4), ('undo', 4), ('speech', 4), ('president', 4), ('fail', 4), ('term', 4), ('jews', 4), ('reverts', 4), ('heavy', 4), ('removed', 4), ('changes', 4), ('gives', 4), ('thats', 4), ('parents', 4), ('basement', 4), ('stalking', 4), ('survived', 4), ('level', 4), ('showed', 4), ('genocide', 4), ('morons', 4), ('attempt', 4), ('push', 4), ('button', 4), ('sentence', 4), ('children', 4), ('government', 4), ('matters', 4), ('mad', 4), ('hiding', 4), ('came', 4), ('pig', 4), ('likes', 4), ('husband', 4), ('positive', 4), ('administrators', 4), ('tabloid', 4), ('shall', 4), ('politics', 4), ('chance', 4), ('access', 4), ('sake', 4), ('courtesy', 4), ('failed', 4), ('throughout', 4), ('type', 4), ('pseudo', 4), ('takes', 4), ('meet', 4), ('men', 4), ('tells', 4), ('personally', 4), ('cool', 4), ('story', 4), ('bro', 4), ('follow', 4), ('confusing', 4), ('likely', 4), ('planets', 4), ('stole', 4), ('tod', 4), ('save', 4), ('bear', 4), ('huh', 4), ('listed', 4), ('trash', 4), ('n', 4), ('four', 4), ('violated', 4), ('losers', 4), ('scientific', 4), ('stick', 4), ('delusion', 4), ('jewish', 4), ('standards', 4), ('somewhere', 4), ('vandalized', 4), ('control', 4), ('research', 4), ('different', 4), ('totally', 4), ('bold', 4), ('cunts', 4), ('imbecile', 4), ('redirect', 4), ('cult', 4), ('policies', 4), ('edited', 4), ('mention', 4), ('warn', 4), ('pum', 4), ('yellow', 4), ('apparently', 4), ('jamesbwatson', 4), ('conversation', 4), ('childish', 4), ('visit', 4), ('pashtun', 4), ('bitches', 4), ('month', 4), ('certainly', 4), ('scott', 4), ('psychiatry', 4), ('skills', 4), ('idiocy', 4), ('w', 4), ('paranoid', 4), ('minded', 4), ('censor', 4), ('nig', 4), ('nigs', 4), ('provided', 4), ('political', 4), ('vandals', 4), ('crack', 4), ('encyclopedic', 4), ('turned', 4), ('hand', 4)]\n",
            "[('jews', 37), ('people', 33), ('like', 32), ('wikipedia', 31), ('one', 27), ('gay', 27), ('think', 23), ('page', 20), ('know', 19), ('jewish', 18), ('make', 16), ('even', 16), ('anti', 16), ('u', 16), ('muslims', 16), ('black', 15), ('used', 15), ('stop', 14), ('time', 14), ('would', 14), ('want', 14), ('also', 13), ('reason', 13), ('jew', 13), ('user', 12), ('racist', 12), ('well', 12), ('get', 12), ('man', 12), ('go', 12), ('homosexual', 12), ('white', 12), ('islam', 12), ('wait', 12), ('edit', 11), ('say', 11), ('us', 11), ('try', 10), ('muslim', 10), ('list', 10), ('dont', 10), ('hate', 10), ('throated', 9), ('back', 9), ('take', 9), ('comment', 9), ('world', 9), ('see', 9), ('making', 8), ('blocked', 8), ('males', 8), ('funny', 8), ('good', 8), ('give', 8), ('way', 8), ('wrong', 8), ('could', 8), ('please', 8), ('point', 8), ('criteria', 8), ('guy', 8), ('must', 7), ('nothing', 7), ('delete', 7), ('come', 7), ('oh', 7), ('right', 7), ('someone', 7), ('let', 7), ('around', 7), ('banned', 7), ('something', 7), ('really', 7), ('little', 7), ('without', 7), ('islamic', 7), ('post', 7), ('article', 7), ('country', 7), ('words', 7), ('israel', 7), ('yes', 7), ('truth', 6), ('name', 6), ('nigger', 6), ('fight', 6), ('though', 6), ('everyone', 6), ('tell', 6), ('find', 6), ('trying', 6), ('race', 6), ('site', 6), ('friends', 6), ('others', 6), ('said', 6), ('never', 6), ('comes', 6), ('problem', 6), ('still', 6), ('last', 6), ('talk', 6), ('always', 6), ('anything', 6), ('pakis', 6), ('blacks', 6), ('maybe', 6), ('face', 5), ('false', 5), ('editing', 5), ('orange', 5), ('look', 5), ('strong', 5), ('remove', 5), ('pages', 5), ('section', 5), ('call', 5), ('articles', 5), ('keep', 5), ('become', 5), ('thing', 5), ('hope', 5), ('queen', 5), ('term', 5), ('every', 5), ('turn', 5), ('semites', 5), ('called', 5), ('link', 5), ('community', 5), ('slim', 5), ('virgin', 5), ('true', 5), ('real', 5), ('hatred', 5), ('pov', 5), ('idiots', 5), ('death', 5), ('soldiers', 5), ('great', 5), ('many', 5), ('fact', 5), ('change', 5), ('put', 5), ('non', 5), ('sources', 5), ('www', 5), ('throw', 5), ('hell', 5), ('taken', 5), ('countries', 5), ('kill', 5), ('ali', 5), ('sina', 5), ('war', 5), ('things', 5), ('love', 5), ('africa', 5), ('read', 5), ('armenian', 5), ('sorbs', 5), ('information', 5), ('loser', 4), ('barnstar', 4), ('monkey', 4), ('views', 4), ('especially', 4), ('word', 4), ('da', 4), ('blue', 4), ('yellow', 4), ('mental', 4), ('need', 4), ('person', 4), ('course', 4), ('retarded', 4), ('year', 4), ('much', 4), ('far', 4), ('yet', 4), ('yeah', 4), ('fag', 4), ('hitler', 4), ('least', 4), ('watch', 4), ('makes', 4), ('cannot', 4), ('british', 4), ('religion', 4), ('certain', 4), ('order', 4), ('nazis', 4), ('questions', 4), ('text', 4), ('american', 4), ('edits', 4), ('care', 4), ('done', 4), ('kind', 4), ('americans', 4), ('image', 4), ('old', 4), ('already', 4), ('pro', 4), ('com', 4), ('sorry', 4), ('days', 4), ('first', 4), ('criminal', 4), ('romance', 4), ('lead', 4), ('show', 4), ('notable', 4), ('general', 4), ('mean', 4), ('censor', 4), ('another', 4), ('started', 4), ('peace', 4), ('today', 4), ('propaganda', 4), ('turks', 4), ('young', 4), ('christian', 4), ('says', 4), ('inferior', 4), ('day', 4), ('sort', 4), ('personal', 4), ('gays', 4), ('holocaust', 4), ('jesus', 4), ('nig', 4), ('nigs', 4), ('censorship', 4), ('serb', 4), ('bear', 4), ('foul', 3), ('ethnically', 3), ('chinese', 3), ('blocking', 3), ('proven', 3), ('calling', 3), ('whites', 3), ('woman', 3), ('females', 3), ('however', 3), ('away', 3), ('disorder', 3), ('ever', 3), ('probably', 3), ('faggots', 3), ('grew', 3), ('syndrome', 3), ('admin', 3), ('cause', 3), ('somebody', 3), ('getting', 3), ('normal', 3), ('st', 3), ('christians', 3), ('feel', 3), ('added', 3), ('explain', 3), ('hates', 3), ('destroy', 3), ('sure', 3), ('whole', 3), ('rules', 3), ('religious', 3), ('written', 3), ('long', 3), ('enough', 3), ('children', 3), ('women', 3), ('hindu', 3), ('reality', 3), ('difficult', 3), ('government', 3), ('men', 3), ('thought', 3), ('faggot', 3), ('friend', 3), ('along', 3), ('wp', 3), ('facts', 3), ('lie', 3), ('reasons', 3), ('active', 3), ('several', 3), ('side', 3), ('known', 3), ('source', 3), ('statement', 3), ('interest', 3), ('http', 3), ('america', 3), ('evil', 3), ('straight', 3), ('else', 3), ('atheism', 3), ('body', 3), ('homosexuality', 3), ('use', 3), ('free', 3), ('speech', 3), ('seems', 3), ('quite', 3), ('speak', 3), ('knowledge', 3), ('century', 3), ('stand', 3), ('grow', 3), ('obviously', 3), ('explained', 3), ('impartiality', 3), ('actions', 3), ('tried', 3), ('saying', 3), ('lot', 3), ('g', 3), ('talking', 3), ('faith', 3), ('god', 3), ('anyway', 3), ('genocide', 3), ('live', 3), ('told', 3), ('fully', 3), ('eu', 3), ('ukip', 3), ('porn', 3), ('lost', 3), ('india', 3), ('money', 3), ('history', 3), ('alot', 3), ('went', 3), ('saini', 3), ('rajput', 3), ('going', 3), ('male', 3), ('bring', 3), ('evidence', 3), ('state', 3), ('dealing', 3), ('bible', 3), ('matthew', 3), ('ask', 3), ('wanted', 3), ('atheists', 3), ('hi', 3), ('buddhism', 3), ('using', 3), ('killer', 3), ('possible', 3), ('cant', 3), ('deleting', 3), ('groups', 3), ('mr', 3), ('north', 3), ('everything', 3), ('om', 3), ('trolls', 3), ('mate', 2), ('slimy', 2), ('template', 2), ('suggest', 2), ('manchus', 2), ('accusations', 2), ('manchu', 2), ('created', 2), ('blatant', 2), ('policy', 2), ('view', 2), ('barbaric', 2), ('congratulations', 2), ('managed', 2), ('h', 2), ('otherwise', 2), ('gs', 2), ('mexicans', 2), ('coz', 2), ('r', 2), ('lose', 2), ('form', 2), ('pair', 2), ('bonds', 2), ('instead', 2), ('middle', 2), ('defend', 2), ('ones', 2), ('illness', 2), ('society', 2), ('niggers', 2), ('fraud', 2), ('links', 2), ('famous', 2), ('moline', 2), ('teeth', 2), ('obvious', 2), ('racism', 2), ('either', 2), ('completely', 2), ('backward', 2), ('ignorant', 2), ('massacres', 2), ('nobody', 2), ('scum', 2), ('helpful', 2), ('advice', 2), ('rock', 2), ('seem', 2), ('ass', 2), ('mother', 2), ('help', 2), ('luck', 2), ('future', 2), ('convert', 2), ('brains', 2), ('hello', 2), ('familiar', 2), ('wondering', 2), ('became', 2), ('gareth', 2), ('hughes', 2), ('semite', 2), ('accepted', 2), ('existence', 2), ('keeping', 2), ('forum', 2), ('anyone', 2), ('considered', 2), ('father', 2), ('standards', 2), ('purely', 2), ('whilst', 2), ('terrorists', 2), ('exist', 2), ('focus', 2), ('semetic', 2), ('goes', 2), ('claiming', 2), ('banning', 2), ('encourage', 2), ('run', 2), ('related', 2), ('continue', 2), ('corn', 2), ('better', 2), ('standing', 2), ('three', 2), ('elvis', 2), ('son', 2), ('prison', 2), ('sikh', 2), ('realize', 2), ('reverting', 2), ('faggotry', 2), ('im', 2), ('life', 2), ('got', 2), ('attacking', 2), ('subjects', 2), ('concern', 2), ('shit', 2), ('made', 2), ('listen', 2), ('poofter', 2), ('nerd', 2), ('biggest', 2), ('chance', 2), ('ur', 2), ('fat', 2), ('party', 2), ('asian', 2), ('caption', 2), ('second', 2), ('infected', 2), ('sexual', 2), ('believe', 2), ('stereotype', 2), ('half', 2), ('bastard', 2), ('wiki', 2), ('top', 2), ('idiot', 2), ('biased', 2), ('force', 2), ('upon', 2), ('title', 2), ('dates', 2), ('administrator', 2), ('lies', 2), ('doubt', 2), ('reverted', 2), ('mainly', 2), ('regarding', 2), ('press', 2), ('prove', 2), ('inserted', 2), ('pure', 2), ('stupid', 2), ('seen', 2), ('acts', 2), ('act', 2), ('pretty', 2), ('opinion', 2), ('matter', 2), ('antisemite', 2), ('front', 2), ('video', 2), ('okay', 2), ('eternal', 2), ('shri', 2), ('chaitanya', 2), ('becomes', 2), ('warning', 2), ('activity', 2), ('terms', 2), ('authority', 2), ('sexuality', 2), ('lgbt', 2), ('studies', 2), ('particular', 2), ('shows', 2), ('needs', 2), ('example', 2), ('actually', 2), ('understand', 2), ('freedom', 2), ('concept', 2), ('recent', 2), ('years', 2), ('threat', 2), ('western', 2), ('labeled', 2), ('useful', 2), ('states', 2), ('islamists', 2), ('whose', 2), ('within', 2), ('”', 2), ('th', 2), ('deleted', 2), ('criticism', 2), ('judgement', 2), ('based', 2), ('equal', 2), ('accept', 2), ('e', 2), ('cult', 2), ('disturbing', 2), ('hundreds', 2), ('misleading', 2), ('edited', 2), ('soon', 2), ('showing', 2), ('write', 2), ('quotes', 2), ('sites', 2), ('committee', 2), ('check', 2), ('complaints', 2), ('might', 2), ('discuss', 2), ('place', 2), ('loses', 2), ('diaspora', 2), ('armenians', 2), ('examples', 2), ('expelled', 2), ('million', 2), ('russia', 2), ('happened', 2), ('forced', 2), ('slaughtered', 2), ('russian', 2), ('arabs', 2), ('difference', 2), ('yo', 2), ('gonna', 2), ('semitism', 2), ('letting', 2), ('double', 2), ('stick', 2), ('\\\\', 2), ('c', 2), ('pakistani', 2), ('sock', 2), ('puppets', 2), ('europhile', 2), ('libertarian', 2), ('member', 2), ('greatest', 2), ('provided', 2), ('whats', 2), ('demonstrate', 2), ('work', 2), ('beginning', 2), ('case', 2), ('pseudo', 2), ('intellectual', 2), ('honour', 2), ('able', 2), ('adopted', 2), ('seeing', 2), ('changes', 2), ('excellent', 2), ('christ', 2), ('topic', 2), ('smart', 2), ('sitush', 2), ('indian', 2), ('military', 2), ('died', 2), ('forces', 2), ('sad', 2), ('territory', 2), ('taste', 2), ('argument', 2), ('justify', 2), ('law', 2), ('treating', 2), ('superior', 2), ('whereas', 2), ('races', 2), ('kibbutz', 2), ('zionist', 2), ('lybia', 2), ('biological', 2), ('family', 2), ('civility', 2), ('bit', 2), ('org', 2), ('excellency', 2), ('dislike', 2), ('outta', 2), ('admins', 2), ('attack', 2), ('recite', 2), ('camps', 2), ('testament', 2), ('new', 2), ('ben', 2), ('semitic', 2), ('surely', 2), ('question', 2), ('group', 2), ('lynch', 2), ('kidding', 2), ('lol', 2), ('hear', 2), ('damn', 2), ('nonbelievers', 2), ('tend', 2), ('church', 2), ('perhaps', 2), ('whatever', 2), ('gets', 2), ('didnt', 2), ('cracker', 2), ('wanting', 2), ('leaving', 2), ('kids', 2), ('sinner', 2), ('music', 2), ('admit', 2), ('break', 2), ('message', 2), ('leave', 2), ('huggle', 2), ('lives', 2), ('issue', 2), ('block', 2), ('human', 2), ('guesses', 2), ('ivins', 2), ('goyim', 2), ('wars', 2), ('naturally', 2), ('motive', 2), ('enemies', 2), ('referenced', 2), ('informations', 2), ('ethnic', 2), ('serbia', 2), ('crimes', 2), ('crime', 2), ('sick', 2), ('promise', 2), ('start', 2), ('ahbl', 2), ('amendment', 2), ('commies', 2), ('pathetic', 2), ('queer', 2), ('extortionist', 2), ('system', 2), ('numerous', 2), ('valid', 2), ('kicked', 2), ('stay', 2), ('accurate', 2), ('nazi', 2), ('ideas', 2), ('region', 2), ('together', 2), ('berber', 2), ('descent', 2), ('mauritanian', 2), ('part', 2), ('james', 2), ('himmler', 2), ('proxy', 2), ('knows', 2), ('aspergers', 2), ('irving', 2), ('paul', 2), ('f', 2), ('homo', 2), ('donot', 2), ('beating', 2), ('kashmir', 2), ('types', 2), ('chubby', 2), ('niggur', 2), ('russians', 2), ('similar', 2), ('vkm', 2), ('ok', 2), ('sound', 1), ('gayness', 1), ('air', 1), ('escape', 1), ('arilang', 1), ('pretending', 1), ('undeniable', 1), ('users', 1), ('following', 1), ('surprised', 1), ('given', 1), ('ethnicity', 1), ('violation', 1), ('pushing', 1), ('forward', 1), ('fringe', 1), ('banana', 1), ('acting', 1), ('wow', 1), ('earn', 1), ('highly', 1), ('news', 1), ('meatpuppets', 1), ('tracks', 1), ('obvius', 1), ('compete', 1), ('realty', 1), ('foot', 1), ('longs', 1), ('strongest', 1), ('manage', 1), ('snatch', 1), ('mating', 1), ('sized', 1), ('outcompeted', 1), ('smallest', 1), ('coloration', 1), ('mimics', 1), ('disguise', 1), ('approach', 1), ('stronger', 1), ('bonding', 1), ('specimens', 1), ('throats', 1), ('engaged', 1), ('fights', 1), ('era', 1), ('illnesses', 1), ('narcissistic', 1), ('ragheads', 1), ('insane', 1), ('sand', 1), ('crazy', 1), ('heard', 1), ('einstein', 1), ('theory', 1), ('relativity', 1), ('picture', 1), ('remain', 1), ('two', 1), ('external', 1), ('nigerian', 1), ('con', 1), ('artists', 1), ('request', 1), ('corey', 1), ('suggests', 1), ('historical', 1), ('signicance', 1), ('guys', 1), ('confederate', 1), ('hero', 1), ('plantation', 1), ('owner', 1), ('backwood', 1), ('gomer', 1), ('account', 1), ('yankee', 1), ('liar', 1), ('rode', 1), ('hmmm', 1), ('joke', 1), ('hillbilly', 1), ('hee', 1), ('haw', 1), ('israelis', 1), ('committing', 1), ('gaza', 1), ('listens', 1), ('photos', 1), ('exposes', 1), ('permitted', 1), ('abd', 1), ('shithead', 1), ('fuck', 1), ('redirects—clit', 1), ('butt', 1), ('perfectly', 1), ('synonymous', 1), ('names', 1), ('redirected', 1), ('musically', 1), ('philistine', 1), ('crawl', 1), ('internet', 1), ('poof', 1), ('infant', 1), ('house', 1), ('bitch', 1), ('dropping', 1), ('head', 1), ('ho', 1), ('magically', 1), ('developed', 1), ('symptoms', 1), ('older', 1), ('mindless', 1), ('vanda', 1), ('gnome', 1), ('productive', 1), ('less', 1), ('facility', 1), ('best', 1), ('remember', 1), ('thanks', 1), ('medical', 1), ('advances', 1), ('patients', 1), ('slowly', 1), ('integrated', 1), ('peolpel', 1), ('rpck', 1), ('dhs', 1), ('christianity', 1), ('dalits', 1), ('negress', 1), ('hard', 1), ('genetically', 1), ('average', 1), ('iq', 1), ('—', 1), ('preceding', 1), ('unsigned', 1), ('closet', 1), ('jewboy', 1), ('promotes', 1), ('monarchy', 1), ('enjoys', 1), ('behavior', 1), ('involves', 1), ('receiving', 1), ('delivering', 1), ('attention', 1), ('giant', 1), ('assyrians', 1), ('worse', 1), ('existed', 1), ('assyrian', 1), ('allows', 1), ('disgrace', 1), ('hit', 1), ('specialises', 1), ('eye', 1), ('activities', 1), ('reference', 1), ('circumstances', 1), ('confirm', 1), ('stormfront', 1), ('supremist', 1), ('web', 1), ('uses', 1), ('inclusion', 1), ('designed', 1), ('aimed', 1), ('hurting', 1), ('communities', 1), ('allow', 1), ('linkage', 1), ('culture', 1), ('per', 1), ('forth', 1), ('verifiability', 1), ('applied', 1), ('changed', 1), ('claimed', 1), ('plainly', 1), ('worried', 1), ('strapping', 1), ('bombs', 1), ('bodies', 1), ('blowing', 1), ('changing', 1), ('push', 1), ('oppose', 1), ('neo', 1), ('ignoring', 1), ('ties', 1), ('unable', 1), ('answer', 1), ('supported', 1), ('pushers', 1), ('vehement', 1), ('throughout', 1), ('catalyst', 1), ('opposed', 1), ('islamofascists', 1), ('deletion', 1), ('harm', 1), ('dangerous', 1), ('encouraging', 1), ('rename', 1), ('maize', 1), ('crap', 1), ('gone', 1), ('sooner', 1), ('hysteria', 1), ('willie', 1), ('patton', 1), ('hotel', 1), ('fifties', 1), ('overheard', 1), ('buy', 1), ('records', 1), ('shine', 1), ('shoes', 1), ('citation', 1), ('magazine', 1), ('plus', 1), ('atrocious', 1), ('syntax', 1), ('horde', 1), ('diamonds', 1), ('jewlry', 1), ('billion', 1), ('starve', 1), ('devils', 1), ('banks', 1), ('donate', 1), ('zero', 1), ('percent', 1), ('charity', 1), ('moslem', 1), ('raped', 1), ('ranchi', 1), ('lived', 1), ('bore', 1), ('child', 1), ('niggerfags', 1), ('karl', 1), ('marx', 1), ('smacks', 1), ('communist', 1), ('tolerated', 1), ('enjoy', 1), ('assraped', 1), ('taddle', 1), ('tale', 1), ('vandels', 1), ('log', 1), ('complain', 1), ('disturbed', 1), ('motorhead', 1), ('metal', 1), ('shoot', 1), ('em', 1), ('telling', 1), ('peice', 1), ('burger', 1), ('knowing', 1)]\n"
          ],
          "name": "stdout"
        }
      ]
    },
    {
      "cell_type": "markdown",
      "metadata": {
        "id": "jcCO_aXRRtHZ",
        "colab_type": "text"
      },
      "source": [
        "Вот эти слова уже мало что обозначают. То есть часть из них (ту, что не пересекается с множеством severe) можно убрать. "
      ]
    },
    {
      "cell_type": "markdown",
      "metadata": {
        "id": "M-Ncih4Abse7",
        "colab_type": "text"
      },
      "source": [
        "###Бейзлайн модель из sklearn (векторайзер + модель) с отбором признаков (через l1 регуляризацию, на глаз через анализ важных параметров или через permutation importance) - 2 балл"
      ]
    },
    {
      "cell_type": "code",
      "metadata": {
        "id": "MdAmpEaGIEKI",
        "colab_type": "code",
        "colab": {}
      },
      "source": [
        "sample1 = comment_train.sample(frac=0.04, replace=True, random_state=1)"
      ],
      "execution_count": null,
      "outputs": []
    },
    {
      "cell_type": "code",
      "metadata": {
        "id": "nEwzvxgpbr87",
        "colab_type": "code",
        "colab": {}
      },
      "source": [
        "from sklearn.model_selection import train_test_split, StratifiedKFold, KFold, cross_val_score, GridSearchCV, RepeatedStratifiedKFold"
      ],
      "execution_count": null,
      "outputs": []
    },
    {
      "cell_type": "code",
      "metadata": {
        "id": "iTt-oxJ0b39F",
        "colab_type": "code",
        "colab": {}
      },
      "source": [
        "from sklearn.feature_extraction.text import CountVectorizer\n",
        "count_vect = CountVectorizer(max_features=15000, ngram_range=(1, 3))"
      ],
      "execution_count": null,
      "outputs": []
    },
    {
      "cell_type": "code",
      "metadata": {
        "id": "7HqRVBm-iNhN",
        "colab_type": "code",
        "colab": {}
      },
      "source": [
        "X = count_vect.fit_transform(sample1['comment_text'])\n",
        "y = sample1['toxic']"
      ],
      "execution_count": null,
      "outputs": []
    },
    {
      "cell_type": "code",
      "metadata": {
        "id": "MLttmJ5PcYHT",
        "colab_type": "code",
        "colab": {}
      },
      "source": [
        "X_train, X_test, y_train, y_test = train_test_split(X, y, test_size=0.50, random_state=42)"
      ],
      "execution_count": null,
      "outputs": []
    },
    {
      "cell_type": "code",
      "metadata": {
        "id": "0vXn6rcdcZ2T",
        "colab_type": "code",
        "colab": {}
      },
      "source": [
        "stratified_folds = StratifiedKFold(n_splits=5, shuffle=True, random_state=0)"
      ],
      "execution_count": null,
      "outputs": []
    },
    {
      "cell_type": "markdown",
      "metadata": {
        "id": "YigFFvBOcwTr",
        "colab_type": "text"
      },
      "source": [
        "Логрег"
      ]
    },
    {
      "cell_type": "code",
      "metadata": {
        "id": "FpUYNximcv8K",
        "colab_type": "code",
        "colab": {}
      },
      "source": [
        "from sklearn.metrics import f1_score\n",
        "from sklearn import linear_model"
      ],
      "execution_count": 2,
      "outputs": []
    },
    {
      "cell_type": "code",
      "metadata": {
        "id": "_huoyKBMd8zX",
        "colab_type": "code",
        "colab": {}
      },
      "source": [
        "lr = linear_model.LogisticRegression() \n",
        "lr.fit(X_train, y_train)"
      ],
      "execution_count": null,
      "outputs": []
    },
    {
      "cell_type": "code",
      "metadata": {
        "id": "5eC7Q-jh0lJF",
        "colab_type": "code",
        "colab": {
          "base_uri": "https://localhost:8080/",
          "height": 52
        },
        "outputId": "ca03c417-74f4-4912-c9c3-0fcfa93817ac"
      },
      "source": [
        "from sklearn.model_selection import cross_val_score\n",
        "scores = cross_val_score(lr, X_train, y_train, cv=stratified_folds, scoring='roc_auc')\n",
        "print(\"ROC: %0.2f (+/- %0.2f)\" % (scores.mean(), scores.std() * 2))\n",
        "scores = cross_val_score(lr, X_train, y_train, cv=stratified_folds, scoring='accuracy')\n",
        "print(\"Accuracy: %0.2f (+/- %0.2f)\" % (scores.mean(), scores.std() * 2))"
      ],
      "execution_count": null,
      "outputs": [
        {
          "output_type": "stream",
          "text": [
            "ROC: 0.88 (+/- 0.03)\n",
            "Accuracy: 0.93 (+/- 0.01)\n"
          ],
          "name": "stdout"
        }
      ]
    },
    {
      "cell_type": "markdown",
      "metadata": {
        "id": "aO1QyRpt1YdU",
        "colab_type": "text"
      },
      "source": [
        "Eli5"
      ]
    },
    {
      "cell_type": "code",
      "metadata": {
        "id": "mxLHK7C2sw2n",
        "colab_type": "code",
        "colab": {}
      },
      "source": [
        "!pip install eli5"
      ],
      "execution_count": null,
      "outputs": []
    },
    {
      "cell_type": "code",
      "metadata": {
        "id": "VjQrcP5Zsym7",
        "colab_type": "code",
        "colab": {}
      },
      "source": [
        "import eli5"
      ],
      "execution_count": null,
      "outputs": []
    },
    {
      "cell_type": "code",
      "metadata": {
        "id": "hQeZgc7h2unK",
        "colab_type": "code",
        "colab": {}
      },
      "source": [
        "index_to_word = {v:k for k,v in count_vect.vocabulary_.items()}"
      ],
      "execution_count": null,
      "outputs": []
    },
    {
      "cell_type": "code",
      "metadata": {
        "id": "oO1S5dmp3EgL",
        "colab_type": "code",
        "colab": {}
      },
      "source": [
        "#index_to_word"
      ],
      "execution_count": null,
      "outputs": []
    },
    {
      "cell_type": "code",
      "metadata": {
        "id": "OJvtpAvHs05D",
        "colab_type": "code",
        "colab": {
          "base_uri": "https://localhost:8080/",
          "height": 55
        },
        "outputId": "fb8bb40b-0778-430c-c073-24e229ae53df"
      },
      "source": [
        "feats = eli5.formatters.as_dataframe.explain_weights_df(lr)\n",
        "feats_tox = feats[feats['target'] == 1]\n",
        "\n",
        "top_features_tox = [int(i[1:]) for i in feats_tox.feature if 'BIAS' not in i]\n",
        "\n",
        "\n",
        "n = 10000\n",
        "top_tox = []\n",
        "          \n",
        "for index in top_features_tox:\n",
        "  word = index_to_word[index]\n",
        "  if len(top_tox) < n:\n",
        "    top_tox.append(word)\n",
        "  else:\n",
        "    break\n",
        "\n",
        "\n",
        "\n",
        "print(top_tox)"
      ],
      "execution_count": null,
      "outputs": [
        {
          "output_type": "stream",
          "text": [
            "['fucking', 'fuck', 'gay', 'bitch', 'suck', 'stupid', 'crap', 'shit', 'damn', 'asshole', 'idiot', 'bullshit', 'dick', 'racist', 'idiotic', 'sucks', 'fat', 'sockpuppet', 'next', 'arab', 'conspiracy', 'moron', 'idiots', 'ignorant', 'penis', 'his', 'life', 'die', 'youtube', 'what the', 'hate', 'fuck you', 'dude', 'ass', 'off', 'in my', 'kill', 'hell', 'blood', 'wtf', 'that they', 'stupidity', 'vagina', 'to hell', 'fu', 'morning', 'fire', 'here is', 'im', 'for his', 'white', 'constructive', 'retarded', 'dumb', 'do something', 'shitty', 'contribution', 'land', 'against me', 'is an', 'heavy', 'eat', 'ur', 'rude', 'participating in', 'participating', 'stop editing', 'you are', 'wiki', 'loser', 'nigger', 'let', 'arrogant', 'he is the', 'jones', 'case and', 'body', 'family', 'girls', 'me to', 'rubbish', 'contribution to', 'fix it', 'disgrace', 'hating', 'ugly', 'breast', 'lewis', 'put the', 'cock', 'ban me', 'get life', 'this guy', 'joke', 'back on', 'but what', 'fascist', 'motherfucker', 'pathetic', 'write', 'go', 'that he', 'possibly', 'daniel', 'faggot', 'nickname', 'job', 'hard', 'jew', 'message', 'of him', 'saw', 've heard', 'fine', 'weird', 'shut', 'liar', 'should also', 'heard', 'guy is', 'members', 'its', '111', 'wanker', 'those', 'know that', 'you', 'virtual', 'fix', 'then there', 'fuck off', 'mo', 'man', 'mouth', 'huge', 'ban', 'gets', 'silence', 'ya', 'steve', 'cunt', 'nation', 'call me', '80', 'of that', 'individual', 'imo', 'repeat', 'black', '98', 'anyone who', 'palestinian', 'if you are', 'protected', 'worst', 'politics', 'an example', 'you have', 'wikipedia', 'fag', 'and would', 'all those', 'per', 'false', 'likes', 'christ', 'get', 'so much', 'what if', 'that what', 'of honor', 'eating', 'who', 'and anyone', 'brought', 'we have', 'regret', 'what the hell', 'self', 'severe', 'my contribution', 'the more', 'settle', 'in any', 'to write', 'needs to', 'you obviously', 'corner', 'cool', 'right now', 'rape', 'believed to', 'believed', 'son of', 'school', 'award', 'to stop', 'balls', 'touch', 'horrible', 'it all', 'take this', 'state', 'delete', 'just', 'coming', 'you like to', 'absolute', 'discussing', 'in there', 'yo', 'on wp', 'and on', 'yeah it', '220', 'look at the', 'the person', 'shut up', 'would rather', 'new section', 'the british', 'afraid', 'in space', 'admit', 'editing', 'become', 'the difference', 'to understand', 'giant', 'our', '185', 'on top of', 'of your', 'want it', 'doing this', 'gays', 'on top', 'contribute', 'people', 'to suggest that', 'town', 'terrorist', 'is just', 'the worst', 'into', 'it with', 'you are the', 'there that', 'they will', 'jewish', 'website', 'song', 'public', 'ive', 'motivated', 'troll', 'fool', 'confusion', 'denial', 'who doesn', 'call', 'to be honest', 'ice', 'complaining', 'kill you', 'just so', 'the world', 'suck my', 'sex', 'came out', 'and it', 'you re an', 're an', 'will', 'stolen', 'mental', 'can', 'not worth', 'fact is', 'be honest', 'to be', 'on your', 'that for', 'king', 'january', 'don really', 'wikipedia page', 'believe that', 'keep', 'stop', 'big', 'son', 'this one', 'honest', 'on another', 'rude and', 'is all', 'that she', 'high', 'army', 'videos', '195', 'aids', 'well', 'jews', '00', 'nick', 'highly', 'contest', 'us all', 'fans', 'are so', 'on earth', 'garbage', 'nonsense', 'bio', 'has been', 'what have', 'suggest that', 'ha', 'anger', 'flying', 'face', 'is non', 'vote', 'sound', 'we should', 'bot', 'don', 'this way', 'imdb', 'length', 'of many', 'way to', 'the truth', 'wait', 'piece of', 'in future', 'summary', 'harass', 'piss', 'piece', 'up my', 'statement of', 'she was', 'should we', 'my dick', 'on with', 'delete it', 'follow', 'pieces', 'high school', 'or you', 'portal', 'copyrighted', 'the category', 'here you', 'shorter', 'read this', 'honor', 'can check', 'is', 'you stupid', 'in the world', 'to suggest', 'with no', 'drmies', 'it says', 'and didn', 'threats', 'who cares', 'at length', 'assuming', 'page please', 'simply', 'enough to', 'can edit', 'have just', 'other than', 'be bothered', 'to watch', 'space', 'some of the', 'than an', 'leave', 'top of', '78', 'stay', 'reason that', 'that he has', 'before making', 'it it', 'the current', 'your', 'nazi', 'wp npov', 'explained in', 'the idea of', 'work in', 'idea of', 'shit about', 'cat', 'my edit', 'wanna', 'assertion', 'cares', 'suggest', 'er', 'decided', 'is the', 'be included', 'you edit', 'sorry for', 'people can', 'article may', 'going on', 'how does', 'imagine', 'as many', 'alone', '176', 'stereotype', 'confirmed', 'have to say', 'lot', 'sit', 'blocked', 'mentally', 'managed', 'and there', 'unsigned', 'funny', 'may have been', 'you have to', 'course', 'read it', 'and don', 'but he', 'go fuck', 'of other', 'written', 'australia', 'are too', 'as well', 'for years', 'bothered to', 'woman', 'dont', 'jerk', 'you really', 'the fuck', 'all', 'parents', 'someone will', 'wait for', 'rapist', 'little', 'let us', 'charles', 'you the', 'tried to', 'look at', 'translation', 'go away', 'fuckin', 'across', 'take the', 'you are an', 'guidelines', 'case', 'differences', 'or is', 'yourself', 'stalin', 'and to', 'future', 'will be', 'vandals', 'ip', '210', 'thoroughly', 'due to', 'ever', 'small', 'bothered', 'for what', 'would', 'year old', 'are an', 'handle', 'in any case', 'any case', 'studied', 'me to be', 'quit', 'so please', 'and people', 'don give', 'on the discussion', 'creative', 'screw', 'angry', 'you know that', 'it up', 'per wp', 'about other', 'win', 'the idea', 'you suck', 'me so', 'statement', 'producer', 'give', 'state of', 'the wikipedia', 'copy', 'fact', 'managed to', 'the page', 'deletions', 'ill', 'at you', 'can do', 'behavior', 'pie', 'previously', 'anybody', 'upload', 'but just', 'close to', 'email', 'edits by', 'want', 'people do', 'nigga', 'accused', '99', 'name is', 'the discussion page', 'if you see', 'wow', 'grasp', 'retard', 'within the', 'are the', 'over', 'ignorance', 'sick', 'vietnam', 'heard of', 'have many', 'control', 'anything about', 'created', 'of this article', 'in her', 'it but', 'the same name', 'same name', 'to claim', 'you actually', 'me that', 'fear', 'leave me', 'around with', 'fuck yourself', 'go fuck yourself', 'this has', 'british', 'began', 'the army', 'my', 'it before', 'are one', 'what is', 'proof of', 'shit and', 'regarding your', 'think so', 'butt', 'new', 'of course', 'people of', '2013 utc', 'more of', 'treat', 'about how', 'all and', 'wolf', 'upset', 'truth', '81', 'politically', 'if they are', 'with you', 'are getting', 'table', 'it like', 'that is', 'he can', 'medal', 'anglo', 'anytime', 'had', 'good that', 'help the', 'the concept of', 'to get', 'to kill', 'other', 'is right', 'of the other', 'life is', 'you fucking', 'there was', 'first in', 'all be', 'wrong with', 'not get', 'deliberately', 'and my', 'hands', 'danny', 'leave it', 'you will never', 'tony', 'you take', 'this user is', 'all day', 'to change', 'have look', 'justification', 'burn', 'it makes', 'me will', 'of personal', 'skills', 'because its', 'you are fucking', 'are fucking', 'instead of', 'within', 'nothing', 'even though the', 'right', 'total', 'to win', 'me please', 'when they', 'out there', 'you re not', 'my work', 'the concept', 'though the', 'it had', 'existed', 'known to', 'kids', 'down on', 'off and', 'like you', 'minorities', 'deal with', 'to do with', 'reasons', 'commenting on', 'credits', 'and feel', 'commenting', 'spastic', 'thanks for', 'the record', 'do with', 'it should', 'to live', 'obviously', 'muslims', 'difference', 'china', 'it has to', 'counter', 'discussion page', '71', 'that their', 'understand', 'and then', 'telling me', 'editing if you', 'rather', 'can understand', 'saying you', 'you on the', 'to represent', 'on you', 'fantasy', 'fucked', 'included', 'quite', 'says the', 'so can', 'says he', 'it quite', 'concept of', 'not only', 'as soon as', 'soon as', 'as soon', 'understood', 'please see the', 're not', 'to make', 'cabal', 'bastard', 'do not', 'that could', 'so the', 'un', 'making', 'user is', 'it down', 'train', 'now', 'vandalizing', 'you with', 'harassing', 'come up', 'come up with', 'that just', 'think of', 'if they', 'either of', 'work the', 'section should', '59', 'write about', 'the page you', 'disagree', 'copy and', 'the right to', '38', 'make sure', 'no more', 'many', 'or your', 'person', 'it only', 'fucker', 'time on', 'as the', 'what you have', 'do not care', 'me message', 'leave me message', 'this would be', 'this would', 'see the', 'is the one', 'live in', 'so is', 'and block', '92', 'not care', 'responded to', 'criticism of', 'responded', 'me', 'out that', 'across the', 'explained', 'cum', 'edit summary', 'pick', 'but it', 'been written', 'you you', 'with an', 'they have', 'live', 'so am', 'xbox', 've ever', 'encyclopedia', 'wikipedia guidelines', 'go in', 'the people who', 'my post', 'this user', 'wikipedia and', 'or not it', 'not it', 'argue', 'myself and', '2007 utc', 'record', 'vandalized', 'your life', 'greeks', 'was told', 'quote from', 'remove this', 'has been done', 'go to', 'you don know', 'to change the', 'does this', 'have had', 'image on', 'the rule', 'concentration', 'head', 'hiding', 'deleted my', 'is the point', '150', 'street', 'of them are', 'not take', 'them are', 'people like', 'please see', 'australian', 'electric', 'photograph', 'sound like', 'italy', 'right that', 'is the best', 'is or', 'korean', 'away', 'thats', 'on the', 'you seem', 'from time to', 'time to time', 'to time', 'from time', 'biography', 'to that', 'known', 'sure you', 'to me', 'intelligent', 'tried', 'can take', 'either', 'utter', 'the amount of', 'the amount', 'century', 'october', 'article it is', 'needs', 'and yet', 'sent to', 'or that', 'moved', 'the above', 'kick', 'release date', 'go back to', 'article is not', 'is and', 'offered', 'due', 'else', 'don have the', 'accuse me', 'greater', 'because am', 'articles or', 'about you', 'equivalent', 'thought that', 'think is', 'scope', 'offensive', 'just trying to', 'just trying', 'democracy', 'discussion about', 'hours', 'furthermore', 'and come', 'that we', 'test', 'give it', 'who created', 'knowledge of', 'he has', 'why do you', 'the letter', 'apparently', 'another article', 'been done', 'the content', 'professional', 'japanese', 'am', 'they re', 'it gets', 'most', 'not going to', 'not going', 'why was', 'really think', 'protection', 'propaganda', 'the bot', 'would be', 'prefer to', 'is not only', 'has the', 'at that', 'water', 'only about', 'and all', 'ho', 'ryan', 'that the', 'represent', 'hey you', 'soon', 'concept', 'implying', 'and paste', 'you may not', 'from editing', 'entire', 'change the', 'type of', 'follow the', 'recall', 'am doing', 'sad', 'content', '255', 'if so', 'article it', 'me what', 'and was', 'do it', 'or the', 'serbs', 'message and', 'like it', 'life and', 'me have', 'the real', 'bit', 'not mean', 'expertise', 'tim', 'some people', '100', 'to read', 'or', 'paste', 'terrible', 'page you are', 'come', 'not like', 'please refrain from', 'please refrain', 'to this', 'because', 'too bad', 'surely', 'with wikipedia', 'going', 'talk page', 'all that', 'the un', 'treatment', 'not one', 'current', 'created this', 'is gay', 'on this article', 'isn the', 'the left', 'more or less', 'or less', 'more or', 'editing if', 'mainly', 'think he', 'turn', 'removed from', 'ridiculous', 'tables', 'concise', 'of me', 'is not relevant', 'not relevant', 'bulgarian', '186', '170', 'what you think', 'the united states', 'the vast majority', 'the vast', 'letter', 'nor', 'edit request on', 'semi protected edit', 'protected edit request', 'protected edit', 'edit request', 'semi protected', 'the united', 'touching', 'to deal', 'to deal with', 'the guidelines', 'is where', 'to block', 'attacks', 'and can', 'having to', 'mean to', 'undoing', 'article has been', 'on its', '48', 'appear to', 'detailed', '204', 'plot', 'would say', 'why don', 'for everyone', 'will never', 'coming from', 'ha ha', 'deleted the', 'you my', 'are not the', 'why am', 'his time', 'passage', 'up the', 'debate', 'november 2006', 'again', 'fraud', 'don delete', 'didn', 'please remove', 'anarchy', 'killed', 'proof', 'most common', 'vandal', 'people like you', 'all over', 'know it', 'gives', 'just an', 'anyone', 'appear to be', 'you people', 'at the', 'come across', 'socks', 'see why', 'but it is', 'biased', 'from the article', 'in any way', 'http', 'spread', 'august', 'mean it', 'dec', 'wikipedia in', 'the debate', 'this site', 'any way', 'empty', '217', 'want this', 'that you don', 'or has', 'new page', 'relate to', 'or else', 'the people', 'relate', 'the link', 'messages', 'on here', 'history', 'pages have', 'patrick', 'this person', 'the various', 'guys are', 'done so', 'semitism', 'anti semitism', 'amount of', 'amount', 'that they were', 'its not', 'hide', '13', 'request on', 'you who', 'that page', 'can we', 'over again', 'out on the', 'did not', 'suck you', 'other people', 'merely', 'my time', 'bs', 'the hell', 'or an', 'pages on', 'important', 'asia', 'boy', 'that fine', 'know the', 'even if', 'some of', 'for the last', 'feature', 'this discussion', 'bloody', 'until you', 'as well as', 'well as', 'on wikipedia and', 'something', 'statement is', 'up in', 'wikipedia is', 'bring', 'break', 'what has', 'for you to', 'living', 'they also', 'had been', 'this is just', 'undo', 'personal attack', 'original research', 'whether you', 'even though', 'is my', 'criticism', 'is one', 'the difference between', 'wind', 'world', 'was more', 'to control', 'page in', 'is the only', 'standing', 'evidence that', 'immature', '114', 'should', 'native', 'understand it', 'much of', 'dirty', 'was there', 'has it', 'say that the', 'freezing', 'and start', 'not you', 'censored', 'mentioned', 'though', 'again you', 'article has', 'wikipedia needs', 'to make sure', 'in front of', 'front of', 'sea', 'if there', 'he should', 'watching', 'to see', 'my account', 'way the', 'receive', 'when did', 'coincidence', 'may have', 'an attempt to', 'the same time', 'same time', 'dont you', 'care to', 'will always', 'deals with', 'deals', 'an attempt', 'see this', 'turning', 'like', 'wikipedia will', 'humor', 'was being', 'admin who', 'page was', 'the admin', 'point of the', 'when you have', 'hindu', 'the most', 'example', 'of wikipedia', 'commonly', 'serves', 'supporters', 've never', 'refrain from', 'as if', 'in wiki', 'have not', 'add to', 'deal', 'other hand', 'the other hand', '27', 'what am', 'of music', '225', 'again to', 'serbia', 'the best', 'the points', 'to get the', 'straight', 'work here', 'time when', 'nicely', 'as much', 'move on', 'name for', 'for her', 'thing is', 'touched', 'the right', 'yet another', 'still have', 'up your', 'unaware', 'drive', 'religious', 'israeli', 'refrain', 'no life', 'kosovo', 'of mine', 'am an', 'known as the', 'that you will', 'turned', 'that don', 'prevent', 'like to see', 'dickhead', 'review of', 'and it would', 'thinks', 'now if you', 'wasting', 'conclude', 'has to', 'at times', 'to as', 'that this article', '2013', 'unblock me', 'of wiki', 'piece of shit', 'comment was', 'anything', 'visual', 'digg', 'alert', 'link in', 'ownership', 'our own', 'well in', 'allowing', 'but there are', 'prominent', 'editorial', 'or should', 'on the basis', 'if you still', 'on the other', 'how dare', 'through this', 'gun', 'be done', 'made', 'editors and', 'page for', 'intend', 'raise', 'deleting', 'the consensus', 'and wikipedia', 'new york', 'other way', 'educated', 'jack', 'is always', 'suggest you', 'also the', 'well as the', 'you on', 'not notable', 'could not', 'dan', 'pointing', 'researched', 'the basis', 'introducing', 'in our', 'forward', 'line of', 'why is', 'power', 'in favor of', 'favor of', 'and still', 'in favor', 'quoting', 'basis', 'schools', 'the song', 'information in', 'page so', 'experiment with', 'mean that', 'work and', 'never been', 'music', 'my page', 'ending', 'ensure', 'then it', 'appreciate you', 'this whole', 'formed', 'out on', 'what are you', 'biggest', 'christians', 'are as', 'at the same', 'trying to make', 'nothing to do', 'useful', '56', 'noticed you', 'you understand', 'quotation', 'the image', 'jesus christ', 'dare', 'can anyone', 'why are you', 'laid', 'letters', 'blindly', 'the only one', 'how this', 'reputable', 'ads', 'semi', 'monkey', 'by others', 'nominate', 'the day', 'money', 'here for', 'accept that', 'part of', 'having', 'license', 'back to the', 'arse', 'to your', 'is you', 'rumor', 'offense', 'at least', 'frankly', 'on some', 'or if you', 'is going', 'academic', 'the situation', 'as they', 'only one', 'in here', 'names', 'no matter what', 'if it', 'reference in', 'dance', 'really want', 'areas', 'threat', 'block you', 'want me', 'not and', 'destroy', 'it didn', 'banning', 'denying', 'the jewish', 'go back', 'that if', 'yours', 'with their', 'you go', 'put up', 'and if it', 'or if', 'joined', 'appreciate', 'this article for', '228', 'wikipedia is not', 'class', 'other articles', 'they aren', '01', 'childish', 'of this', 'checking', 'to other', 'can make', 'is more', 'evidence to', 'don have to', 'dream', 'people here', 'fight', 'expired', 'wikipedia to', 'problem in', 'in case', 'simple', 'miss', 'strength', 'item', 'ask that', 'one article', 'to be blocked', 'moot', 'will see', 'nothing to', 'baseball', 'information you', 'exactly what', 'decided to', 'to our', 'mar 2005', 'mar 2005 utc', 'why not', 'you own', 'follows', 'dab', 'such an', 'history of', 'sake of', 'the sake', 'for the sake', 'the sake of', 'bias', 'is most', 'say you', 'see what you', 'you still', 'but ll', 'an important', 'enjoy', 'just to', 'going through', 'edit or', 'you better', 'sake', 'after you', 'and its', 'because they are', 'short', 'what wikipedia', 'this', 'neutral point of', 'neutral point', 'supporting', 'doesn know', 'an admin and', 'worth', 'and while', 'and even', 'ended', 'outside', 'by the', 'insult', 'on an', 'now if', 'sent', 'experiment', 'id', 'understanding', 'lot of', '10', 'thought of', 'may not', 'article or', 'make any', 'on or', 'the individual', 'limits', 'any reason', 'we don', 'where they', 'of fact', 'years', 'know who', 'remains', 'revision', 'all other', 'and leave', 'in and', 'belongs', 'attack', 'is known', 'lies', 'prefer', 'think the', 'the country', 'to follow', 'has nothing to', 'has nothing', 'combination', 'around the', 'one of those', 'release', 'tone', '16th', 'but wikipedia', 'is completely', 'it is not', 'you decided', 'get that', 'of shit', 'which he', 'for now', 'before and', 'earth', 'uncivil', 'to fix', 'what was', 'stuck', 'fuck up', 'reporting', 'an attack', 'old', 'rolls', 'category', 'known as', 'never said', 'with link', 'so if', 'insults', 'got it', 'own the', 'to do that', 'guy', 'the old', 'somehow', 'to just', 'known by', 'refuse to', 'refuse', 'me on', 'for being', 'bag', 'spending', 'guidelines if', 'meets the', 'meets', 'the answer', 'corporate', 'article of', 'useful information', 're going', 're going to', 'and possibly', 'bye', 'terror', 'channel', 'in few', 'of lies', 'thousands of', 'get the', 'will continue to', 'not really', 'why he', 'but there', 'admin and', 'they just', 'if it were', 'it were', 'had the', 'earlier', 'claim that', 'or not', 'and only', 'this problem', 'my life', 'still not', 'just like', 'bin', 'confirming', 'shame', 'get off', 'grow up', 'the article needs', 'what you want', 'this is all', 'community and', 'whenever', 'by and', 'artists', 'you just', '198', 'that all', 'past', 'will continue', 'matter of', 'that this is', 'don you', 'above', 'and there are', 'not the same', 'name to', 'favour', 'passing', 'interest', 'his page', 'said about', 'was in', 'come back', 'the non', 'showed', 'political', 'something more', 'with', 'doesn belong', 'huh', 'the number of', 'page again', 'and some', 'we have to', 'gives you', 'evidence', 'you again', 'night', 'be on', 'and ve', 'listed as', 'website the', 'hello there', 'whats', 'right to', '14', 'ignore', 'contest the', 'is part', 'is part of', 'punk', 'wrong and', 'point of', 'learn', 'that still', 'waste', 'member', 'how long', 'the number', 'like to', 'to learn', 'supported', 'offended', 'wikipedia thank you', 'wikipedia thank', 'page and', 'ben', 'mar', 'place for', 'please read', 'beyond', 'about me', 'less', 'close', 'are making', 'who don', 'demonstrated', 'as you', 'and how', 'the topic', 'human being', 'discussed', 'don see any', 'either you', 'devil', 'way', 'to try', 'birth', 'countless', 'and also', 'just one', 'low', 'not an', 'dynamic', 'guest', 'be my', 'asking', 'you for the', 'don think', 'in article', '200', 'verifiable', 'there are no', 'difference between', 'happen to', 'by now', 'in with', 'display', 'constructed', 'stop the', 'to argue', 'said', 'what is the', 'to help', 'various', 'and not', 'taste', 'instead', 'been an', 'matters', 'block', 'is what', 'article needs', 'but this is', 'cant', 'why are', 'that you re', '66', 'quote', 'tolerate', 'block me', 'that either', 'it better', 'that what you', 'on their', 'understand this', 'earth is', 'done nothing', 'concerns', 'want to see', 'to delete', 'as my', 'removed the', 'photos', 'see any', 'skip', 'the simple', 'the comments', '1975', 'time the', 'is original research', 'whether', 'collaborative', 'your posts', 'very important', 'everywhere', 'where he', 'the anti', 'hot', 'the admins', 'accuse', 'despite the', 'again and', 'yourself to', 'pure', 'deleting it', 'in the lead', 'attempt to', 'true', 'npov', 'from you', 'of israel', 'in every', 'this time', 'yes but', 'africa', 'make sure you', 'his book', 'all you', 'related article', 'too many', 'that this', 'that not', 'it been', 'on all', 'musical', 'you know it', 'unsigned comment added', 'unsigned comment', 'preceding unsigned', 'preceding unsigned comment', 'comment added by', 'added by', 'comment added', 'bothering', 'out the', 'you leave', 'that needs', 'that needs to', 'really is', 'unreliable', 'element', 'off this', 'are no', 'the references', 'concerned', 'subject and', 'of the subject', 'nothing of', 'of jesus', 'especially in', 'are currently', 'the edits', 'given that', 'yet', 'preceding', 'if my', 'caught', 'in violation of', 'in violation', 'corrupt', 'however that', 'joy', 'you accuse', 'accuse me of', 'up the arse', 'the arse', 'inconsistent', 'be made', 'put', 'appear', 'developed', 'no evidence', 'hey', 'against', 'have it', 'learn to', 'my contributions', 'notice', 'participate in', 'message me', 'avoiding', 'color', 'me of', 'you think you', 'article for', 'happens', 'unless it', 'look forward', 'look forward to', 'forward to', 'correct', 'personal opinion', 'the website', 'attempt', 'now and', 'nothing in', 'treated', 'four', 'to tell me', 'my question', 'think you', 'continues', 'where it', 'other editors', 'how can you', 'have only', 'should know', 'rule', '95', 'question and', 'is in', 'they get', 'fact that the', 'telling', 'and know', 'over the', 'to the fact', 'least', 'here', 'cities', 'proof that', '147', 'november', 'reached', 'indeed', 'views', 'don have', 'vandalise', 'intentionally', 'always be', 'you are trying', 'per the', 'russia', 'that user', 'the last', 'things are', 'page when', 'listed', 'for the record', 'for speedy deletion', 'for speedy', 'but the', 'my ip', 'top', 'press', 'were not', 'also have', 'yet you', 'it up the', 'stop being', 'this to', 'one or more', 'teaching', 'this has been', 'consensus is', 'orthodox', 'be removed from', 'especially since', 'you say', 'frustrated', 'the province', 'revolutionary', 'wall', 'interpretations', 'book is', 'scholarly', 'the study', 'million', 'steps', 'copyedit', 'work of', 'but to', 'made up', 'evil', 'with people', 'joining', 'it did', 'also find', 'point of view', 'millions', 'matter what', 'let you', 'and hope you', 'long before', 'vital', 'wikipedia you', 'also for', 'smaller', 'respected', 'never heard of', 'never heard', 'today and', 'try to', 'there seems', 'there seems to', 'name it', 'look like', 'to many', 'kept', 'slavery', 'what happened', '157', 'too you', 'would not', 'sadly', 'why don you', 're just', 'have good', 'notice that', 'expert', 'talks', 'generations', 'terms of', 'in terms', 'in terms of', 'love', 'the version', 'contemporary', 'disputed', 'task', 'leave this', 'is one of', 'emails', 'aol', 'scholar', 'brain', 'by all', 'of view', 'photo of', 'to contribute to', 'history and', 'shouldn be', 'heart', 'after the', 'is up', 'but why', 'with anything', 'or more', 'talk page of', 'essential', 'alcohol', 'account and', 'he says', 'it now', 'of her', 'to be more', 'and you are', 'your talk page', 'take the time', 'published by', 'require', 'play', 'september', 'well what', 'wikipedia but', 'albanian', 'valuable', 'with any', 'to do it', 'we are talking', 'up to', 'serbian', 'on his talk', 'said before', 'as per', 'message on', 'geographical', 'understand that', 'explaining', 'past few', 'hindus', 'shiv', 'and more', 'punjab', 'date', 'who knows', 'http www', 'your talk', 'internal', 'down', 'album', 'points', 'the town', 'you re saying', 're saying', 'due to the', 'social', 'someone who', 'be in the', 'this is what', 'articles are', 'nothing more', 'the reason', 'last', 'of them', 'kurt', 'he not', 'all this', 'guide to', 'was written', 'those of', 'culture', 'up for', 'point in', 'do you have', 'round', 'which in', 'tea', 'to put the', 'used to', 'more accurate', 'and an', 'battle', 'over to', 'that were', 'that it was', 'anything to do', 'not true', 'as opposed', 'as opposed to', 'opposed to', 'they don', 'many many', 'informed', 'on wiki', 'to be in', 'notes', 'odd', 'them as', 'to put', 'are simply', 'attempts to', 'attempts', 'from this', 'allows', 'you have no', 'headed', 'trust me', 'of their', 'is not my', 'experts', 'you think it', 'it has', 'kidding', 'that have been', 'light', 'happy to', 'porn', 'twitter', 'and his', 'communist', 'if am', 'sexuality', 'different', 'they were', 'such', 'have seen', 'talk page or', 'of the most', 'name and', 'to contribute', 'wales', 'pop', 'blocked and', 'copied from', 'violation of', 'but my', 'stick', 'facebook', 'western', 'stick to', 'watch', '212', 'throwing', 'is here', 'entry', 'looking for', 'again the', 'got to', 'they can', 'your problem', 'is original', 'crisis', 'why should', 'this is the', 'no matter', 'not in the', 'know whether', 'back in', 'minutes', 'takes', 'balkan', 'and were', 'free to edit', 'the course', 'which will', 'course of', 'accusations', 'encyclopaedia', 'to notice', 'to another', 'they make', 'at it', 'reasoning', 'driven', 'the statement', 'einstein', 'up with', 'to edit the', 'violation', 'designed to', 'would suggest', 'publisher', 'amazon', 'personal', 'have access', 'designed', 'provoke', 'not in', 'horse', 'logged in and', 'have been', 'article and', 'argument is', 'the plot', 'modern', 'right about', 'seems to be', 'objective', 'you are not', 'the history of', 'the two', 'be in', 'reality', 'sure it', 'calling someone', 'genocide', 'here on', 'innocent', 'had to', 'percent', 'was also', 'credit', 'you from', 'examination', 'an entire', 'bill', 'say is', 'plain', 'civil and', 'of those', 'to be done', 'page of', '140', 'but only', 'back to', 'wikipedia where', 'york times', 'new york times', 'of articles', 'deleted it', 'they', 'while you', '39', 'alien', 'aid', 'page or', 'be speedily', 'be speedily deleted', 'to improve the', 'here from', 'effort', 'for deletion', 'as possible', 'improvement', 'supposedly', 'care about', 'by your', 'us', 'out of my', 'contained', 'half dozen', 'judaism', 'understanding of', 'http en wikipedia', 'http en', 'the information', 'the new york', 'one or', 'him to', 'discussion but', 'bring it', 'which you', 'wish to', 'he made', 'shouldn', 'bunch of', 'foul', 'present day', 'the present', 'good enough', 've just', 'here http', 'your mom', 'the discussion', 'logged in', 'in front', 'journal', 'think all', 'also not', '199', 'cannot be', 'fuck you you', 'censor', 'junk', 'is real', 'dozen', 'opinion and', 'if you had', 'in reality', 'the deletion', 'prose', 'awards', 'these', 'says', 'saying', 'an idiot', 'bother', 'that it is', 'chinese', 'really', 'near', 'are or', 'second', 'right but', 'participate', 'in english', 'wikipedia org wiki', 'org wiki', 'excuse me', 'shift', 'problem', 'want to', 'excuse', 'another', 'nothing more than', 'hope you', 'deserves', 'but we', 'created by', 'of what', 'all of these', 'block and', 'oi', 'oi please do', 'remove me', 'oi please', 'not remove me', 'perfect', 'removed it', 'cats', 'bigger', 'that someone', 'like that', '218', 'time to', 'it again', 'remove me abusing', 'abusing other', 'me abusing', 'dickhead oi please', 'me abusing other', 'wikipedians dickhead oi', 'wikipedians dickhead', 'dickhead oi', 'abusing other wikipedians', 'other wikipedians dickhead', 'other wikipedians', 'wikipedians', 'becomes', 'you haven', 'really don', 'if there is', 'using the', 'said you', 'best way', 'the best way', 'long time', 'wiki is', 'are completely', 'are the one', 'on your talk', 'especially when', 'another user', 'there was no', 'half', 'poland', 'to anyone', 'required', 'region', 'seem', 'to unblock', 'was no', 'he was', 'to wikipedia', 'master', 'for us', 'rss', 'it bitch', 'unusual', 'his talk page', 'lost', 'research', 'his talk', 'very very', 'you and', 'the ass', 'narrative', 'and hope', 'kinds', 'kinds of', 'in case you', 'road', 'got', 'tired of', 'rather than', 'communication', 'you tell', 'not your', 'have read', 'month', 'find it', 'do things', 'also you', 'claim', 'but now', 'are', 'destroyed', 'of its', 'objections', 'toward the', 'the lead', 'by saying', 'the comment', 'up to you', 'you have done', 'my comment', 'the boo hoo', 'boo hoo', 'shall we do', 'hoo', 'with the boo', 'the boo', 'we do with', 'things to', 'am bad', 'am bad egg', 'bad egg', 'that never', 'nothing about', 'shall we', 'guys', 'borderline', 'egg am', 'egg am bad', 'bad egg am', 'pointless', 'person that', 'babywhat', 'boo hoo babywhat', 'hoo babywhat', 'babywhat shall', 'hoo babywhat shall', 'babywhat shall we', 'toward', 'want to be', 'ii', 'out and', 'all to', 'work you', 'then why', 'even when', 'vast majority of', 'vast majority', 'in the future', 'holocaust', 'arguments', 'of his', 'unacceptable', 'me if', 'remove all', 'in touch', 'tell you that', 'asking for', 'in such', 'people and', 'tired', 'most of it', 'presence', 'balance', 'honestly', 'you enjoy', 'hope you enjoy', 'else to', 'makes the', 'man rapping', 'man rapping for', 'indian man', 'you poo', 'rapping for', 'you poo in', 'indian man rapping', 'rapping', 'yur', 'in yur mouth', 'in yur', 'for you poo', 'rapping for you', 'yur mouth', 'poo in yur', 'poo in', 'to see the', 'do with the', 'that category', 'on this subject', 'and let', 'come to', 'problems with', 'scores', '90', 'plants', 'over this', 'button', 'conclusion', 'aim', 'discussion', 'fourth', 'jury', 'the past', 'unlike', 'bar', 'thinking that', 'other user', 'entire section', 'intelligence', 'there was an', 'the point of', 'wikipedia if', 'by removing', 'talk page that', 'be fixed', 'united states', 'firstly', 'opera', 'turkic', 'to me and', 'yur mouth raowfat', 'mouth raowfat indian', 'raowfat indian man', 'raowfat indian', 'mouth raowfat', 'raowfat', 'if you want', 'equally', 'and discuss', 'had just', 'make the', 'the ones', 'bum bum', 'knowledge', 'to believe that', 'does have', 'then it is', 'bum bum bum', 'it for', 'force', '60', 'has never', 'you re', 'and probably', 'himself', 'international', 'and what is', 'systems', 'claims that', 'this also', 'and saw', 'newspapers', 'saw that', 'one in', 'them in', 'when there', 'you don have', 'last time', 'hitler', 'be just', 'the and', 'beginning', 'you all', 'everyone else', 'information but', 'it will', 'whether it', 'this isn', 'out with', 'or whatever', 'author', 'this shit', 'wikipedia articles', 'matt', 'to continue', 'teach', 'blow', 'no legal', 'jail', 'satisfy', 'article which is', 'collection of', 'other countries', 'thus', 'collection', 'claiming', 'up you', 'well it', 'solely', 'it then', 'perception', 'of how', 'wikipedia rules', 'you used', 'of history', 'doing', 'accounts', 'you probably', 'edit this page', 'essentially', 'put it back', 'wrong in', 'want to have', 'think you can', 'point and', 'and change', 'it you', 'editors who', 'we will', '25', 'speedy deletion', 'my point', 'is the most', 'to them', 'have that', 'capital', 'that to', 'if she', 'might have', 'definition of', 'aggressive', 'guide', 'page that', 'where we', 'which is', 'as an', 'winning', 'cost', 'fc', 'that it has', 'identical', 'version of', 'log in', 'change it', 'you dont', 'to become', 'fucks', 'complete', 'think that the', 'be found', 'jesus', 'wishes', 'same thing', 'used the', 'mario', 'still think', 'yet to', 'is well known', 'it if', 'to leave', 'consider', 'also if you', 'instance', 'about wikipedia', 'been removed', 'cease', 'there no', 'sure that', 'page this', 'sorry but', 'behind', 'that too', 'me alone', 'asked for', 'republic', 'about that', 'certain', 'been able', 'been able to', 'suddenly', 'vice', 'pain', 'fault', 'contacting', 'on her', 'that already', 'to let', 'was an', 'no way', 'more then', 'just don', 'the site', 'him for', 'circle', 'it may', 'so if you', 'them to', 'it the', 'michael', 'read the article', 'this was', 'before the', 'language is', 'should the', 'canadian', 'this just', 'released', 'of which', 'papers', 'be blocked from', 'for us to', 'can have', 'please take', 'sections', 'me this', 'to believe', 'the president', 'the future', 'writing', 'to cause', 'us to', 'say this', 'more than one', 'me about', 'have the time', 'do take', 'the one', 'house', 'into your', 'anything you', 'with the', 'that so', 'mom', 'sick and', 'and be', 'called', '2007', 'one of', 'responsible for', 'feb 2005', 'feb 2005 utc', 'this because', 'if this is', 'contents', 'than one', 'improve the', 'here but', 'could have', 'him', 'it really', 'of my edits', 'which were', 'why', 'double', 'but if', 'do', 'but also', 'the different', 'especially', 'range', 'played', 'know and', 'speedy', 'editor to', 'and articles', 'comment', 'you had', 'the way it', 'at any', 'do your best', 'now have', 'clean', 'census', 'an anti', 'me again', 'definition', 'god damn', 'it will be', 'tiger', 'to answer', 'came', 'the wiki', 'get rid', 'get rid of', 'and make', 'as said', 'my way', 'being the', 'aliens', 'speedily deleted', 'speedily', 'more on', 'deletion of', 'considerable', 'range of', 'you seriously', '254', 'massive', 'quickly', 'the changes', 'you want to', 'way it', 'them all', 'spot', 'strange', 'note', 're doing', 'day', 'opinion is', 'and you will', 'you are you', 'inside', 'york', 'templates', 'by talk contribs', 'added by talk', 'baby', 'said to', 'per se', 'wikipedia standards', 'and thus', 'vast', 'and try', 'and try to', 'to bring', 'really are', 'insist on', 'criteria', 'purpose', 'suck you suck', 'fixed', 'be nice', 'attempted to', 'doesn', 'happen', 'your best', 'it', 'to these', 'ignored', 'the following', 'insist', 'be more', 'is more than', 'line', 'human rights', 'of modern', 'hand', 'bully', 'agrees', 'comprehensive', 'view that', 'and user', 'you will find', 'negative', 'that one', 'another example', 'meant to', 'responsible', 'try', 'championship', 'does it', 'north', 'and very', 'the article should', 'site it', 'request to', '2015', 'feb', 'the talk page', 'sourced', 'but not', 'in an', 'will find', 'time and', 'team', 'something you', 'is stupid', 'rant', 'accessible', 'on my talk', 'off to', 'with some', 'see what', 'waste of', 'facts and', 'eastern', 'and the same', 'this article should', 'your way', 'being blocked', 'of the facts', 'but this', 'attempted', 'hungry', 'to explain', 'he doesn', 'one thing', 'that you need', 'completely', 'pages that', 'just as', 'information that', 'province', 'significant', 'not my', 'you also', 'when people', 'mentioning', 'muslim', 'articles have', 'argued', '76', 'prestigious', 'the high', 'by someone', 'edits you', 'are not', 'because that', 'evidence and', 'situation', 'mind that', 'tom', 'for that', 'it or', 'remark', 'any form', 'you suck you', 'few days', 'must have', 'it your', 'the talk', 'it won', 'by wikipedia', 'from what', 'an excellent', 'any more', 'feed', 'including', 'rejected', 'of all', 'from all', 'number of', 'leave the', 'also if', 'sri', 'irrelevant', 'under the', 'by talk', 'all your', 'move', 'find that', 'this subject', 'page you', 'again if', 'fashion', 'historians', 'african american', 'freedom', 'doesn matter', 'here are', 'of such', 'this page is', 'one person', 'hereby', 'cycle', '135', 'my name', 'article would', 'not as', 'laugh', 'get into', 'readers', 'you don want', 'what', 'rationale', 'think you are', 'fairness', 'the no', 'for people', 'american', 'my own', 'you may', 'rid of', 'rid', 'front', 'an issue with', 'makes me', 'her', 'easy', 'an issue', 'deathcore', 'to tell', 'no other', 'to happen', 'this will', 'united', 'page on', 'sitting', 've put', 'school in', 'the ass in', 'ass in the', 'ass in', 'when he', 'holder', 'modified', 'fuck fuck', 'takes it up', 'takes it', 'arse takes it', 'arse takes', 'the arse takes', 'over and', 'opposed', 'watchlist', 'not on', 'know who you', 'delanoy', 'delanoy is', 'is nigger', 'is nigger delanoy', 'nigger delanoy is', 'nigger delanoy', 'delanoy is nigger', 'will just', 'start to', 'reason why', 'dc', 'is bitchmattythewhite is', 'bitchmattythewhite', 'bitchmattythewhite is', 'is bitchmattythewhite', 'bitchmattythewhite is bitchmattythewhite', 'equipment', 'be given', 'months', 'source or', 'your retarded', 'fired you are', 'fired you', 'are fucking fired', 'fucking fired', 'all for', 'off of', 'retarded your', 'retarded your retarded', 'to stick', 'in second', 'your retarded your', 'that matter', 'the many', 'millions of', 'nate you are', 'damn fired you', 'god damn fired', 'are fucking god', 'nate you', 'damn fired', 'fucking god damn', 'fucking god', 'fucking fired you', 'nate', 'fired nate you', 'fired nate', 'fucking fired nate', 'your friends', 'the bridge', 'slap you', 'that was the', 'discussion of the', 'do not like', 'graduated', 'the neutrality', 'precision', 'explains', 'paying', 'president of', 'mc', 'to draw', 'the discussion of', 'deeply', 'you consider', 'nothing but', 'chzz', 'an easy way', 'an easy', 'yourself then', 'to copy', 'specify', 'deleted one', 'their source', 'too you can', 'engaged', 'engaged in', 'note at', 'been tagged', 'not from', 'jpg image', 'uncensored', 'photography', 'francis', 'you must also', 'the attack', 'way it is', 'oral', 'page currently', 'notion', 'is located at', 'located at', 'selecting image', 'box note', 'selecting image from', 'the my contributions', 'the my', 'and then selecting', 'box note that', 'then selecting', 'the dropdown', 'the dropdown box', 'located at the', 'top of any', 'very top of', 'it is located', 'link it is', 'dropdown box note', 'the very top', 'any wikipedia page', 'wikipedia page when', 'from the dropdown', 'contributions link it', 'very top', 'dropdown box', 'dropdown', 'of any wikipedia', 'then selecting image', 'in and then', 'verification', 'what you ve', 'sorts of', 'erroneous', 'must also', 'death and', 'image image', 'and given', 'is highly', 'isp', 'covering', 'awful', 'there is only', 'literal', 'the black', 'fair use please', 'use please', 'page when you', 'the lead article', 'lead article', 'yet been', 'not yet been', 'an mail', 'permission for', 'gnu', 'august 2010', 'in addition to', 'as mentioned', 'to find out', 'things about', 'is located', 'space and', 'visit the', 'subsequent', 'burning', 'been uploaded as', 'uploaded as described', 'have been uploaded', 'jpg notice', 'jpg notice the', 'or rationale for', 'write out on', 'why its', 'to why its', 'why its use', 'write out', 'no explanation or', 'rationale for why', 'consistent with fair', 'for why', 'using this image', 'at wikipedia fair', 'debt', 'centrifugal force', 'as adding', 'well as adding', 'copyright violation', 'not simply', 'boilerplate', 'fringe theory', 'problem of', 'free images', 'oct', 'confirm its', 'notability under the', 'confirm its subject', 'its subject notability', 'under the guidelines', 'would confirm its', 'suggests that', 'contributions are', 'universities', 'the eastern', 'physicist', 'external link', 'mormon', 'florence', 'week after they', 'after they have', 'after they', 'notable in', 'from which', 'deciding', 'wikipedia fair use', 'wikipedia fair', 'municipalities', 'it is to', 'is consistent', 'is consistent with', 'of the universe', 'on spam', 'exercise', 'the king', 'the deletion notice', 'deletion process', 'proposed deletion process', 'that subject', 'rationale on', 'use rationale on', 'have specified the', 'use rationale for', 'rationale for image', 'to include fair', 'rationale as to', 'use please go', 'rationale as', 'or rationale as', 'use but there', 'include fair use', 'such an explanation', 'it to include', 'include fair', 'lacking such an', 'lacking such', 'specified the', 'constitutes fair use', 'specified the fair', 'constitutes fair', 'to begin', 'of image pages', 'image pages you', 'list of image', 'image pages', 'non free media', 'free media', 'source please', 'reason why this', 'our first', 'vote for', 'at wikimedia dot', 'permissions en', 'dot org', 'leave note at', 'permissions en at', 'have permission from', 'note at talk', 'wikimedia dot', 'wikimedia dot org', 'permission from', 'to permissions en', 'to permissions', 'en at', 're use', 'permission from the', 'en at wikimedia', 'send an', 'at wikimedia', 'pink', 'for bands or', 'for bands', 'on specific types', 'sites for bands', 'bands or for', 'for guidelines', 'for guidelines on', 'guidelines for guidelines', 'bands or', 'guidelines on specific', 'subject importance or', 'subject importance', 'or significance may', 'free license', 'deletion because the', 'by taking', 'brigade', 'do this add', 'this add on', 'gods', 'for image', 'by clicking on', 'have edited by', 'pages you have', 'edited by clicking', 'gravity', 'uploaded other fair', 'the universe', 'guidelines if you', 'subject for which', 'treating', 'centripetal', 'polo', 'floyd', 'mm', 'subculture', 'wisdom of', 'an individual', 'famine', 'been done because', 'survey', 'notability under', 'would confirm', 'subject notability', 'that would confirm', 'subject notability under', 'blatant advertising', 'after this', 'the tagging', 'subject of this', 'tagging to do', 'contest the tagging', 'tagging to', 'the tagging to', 'attract', 'find list of', 'find list', 'can find list', 'have uploaded other', 'uploaded other', 'berkeley', 'the proposed deletion', 'victoria', 'ensure that the', 'be deleted one', 'week after', 'deleted one week', 'one week after', 'for companies', 'of articles you', 'for biographies for', 'out our', 'specific types', 'specific types of', 'web content but', 'content but it', 'companies feel', 'types of articles', 'for companies feel', 'or for companies', 'criteria for biographies', 'for web', 'companies feel free', 'for web sites', 'our criteria', 'our criteria for', 'check out our', 'out our criteria', 'to check out', 'biographies for', 'biographies for web', 'web sites for', 'articles you may', 'notice the image', 'the image page', 'appearances', 'seven days', 'page just below', 'from http', 'under section', 'done under section', 'would would render', 'would render it', 'that would would', 'would would', 'conformance with', 'conformance', 'render it', 'in conformance with', 'more in conformance', 'in conformance', 'conformance with wikipedia', 'render it more', 'in wikipedia articles', 'that any fair', 'any fair use', 'any fair', 'use in wikipedia', 'sinanoglu', 'crowds', 'sarfatti', 'hotels in', 'nezami', 'be about person', 'you have specified', 'have specified', 'as source of', 'have done so', 'deletion because it', 'or web', 'or web content', 'web content', 'done because', 'done because the', 'club company', 'band club', 'band club company', 'sites for', 'told that', 'note that any', 'you can indicate', 'indicate why', 'indicate why the', 'can indicate', 'can indicate why', 'lightgrey', 'physician', 'fair use template', 'use template', 'was placed here', 'this notice was', 'placed here', 'placed here in', 'error you may', 'error you', 'here in error', 'notice was', 'notice was placed', 'in error you', 'that this notice', 'copyright violations', 'ankit fadia', 'poetry', 'airbags', 'liberati', 'to turkey', 'acts of', 'freely licensed image', 'licensed image', 'or rationale', 'explanation or rationale', 'explanation or', 'any time please', 'time please see', 'asian americans', 'position please', 'your position please', 'add on the', 'position please do', 'and leave note', 'walid', 'bani walid', 'use media', 'use media consider', 'other fair use', 'other fair', 'fair use media', 'color f5fffa padding', 'f5fffa padding', 'this notice', 'red ensign', 'ensign', 'accepted as notable', 'for biographies', 'on criteria', 'described on', 'described on criteria', 'as described on', 'on criteria for', 'the authority', 'its use in', 'wikipedia criteria', 'of the criteria', 'adding note', 'meets the criterion', 'adding note on', 'but be aware', 'your position but', 'position but', 'position but be', 'tag coupled with', 'without delay please', 'aware that once', 'once tagged for', 'tag coupled', 'that once tagged', 'be deleted without', 'article meets the', 'deletion by adding', 'deleted without delay', 'delay please do', 'delay please', 'db tag coupled', 'once tagged', 'the article meets', 'with adding note', 'the criterion it', 'criterion it may', 'the deletion by', 'without delay', 'coupled with adding', 'criterion it', '3lw', 'questions please ask', 'questions page thank', 'please ask them', 'media consider checking', 'media consider', 'ranked', 'the beat generation', 'tropical storm', 'woc', 'journals', 'wikidon', 'jpg thanks', 'jpg thanks for', 'used under fair', 'image is being', 'image page specifies', 'oil shale', 'gadhafi', 'is not replaceable', 'not replaceable', 'is notable that', 'or why the', 'is why an', 'indicate how or', 'indicate how', 'not indicate how', 'notable that is', 'how or why', 'how or', 'why an article', 'article about that', 'subject should', 'that subject should', 'why an', 'subject should be', 'about that subject', 'subject is notable', 'what is generally', 'guidelines for what', 'generally accepted as', 'see the guidelines', 'for what is', 'deletion if the', 'image is not', 'this image is', 'vivisection', 'checking that', 'checking that you', 'consider checking that', 'consider checking', 'page specifies', 'page specifies that', 'description page and', 'fair use but', 'and edit it', 'being used under', 'edit it to', 'the unicorn', 'technocracy', 'use but', 'freely licensed', 'in different', 'used under', 'to visit', 'replaceable fair use', 'replaceable fair', 'the third', 'speedy deletion articles', 'deleted at any', 'articles that do', 'deleted at', 'be deleted at', 'deletion articles that', 'deletion articles', 'coupled with', 'coupled', 'existing speedy deletion', 'just below', 'or db tag', 'or db', 'just below the', 'existing speedy', 'speedy deletion or', 'deletion or db', 'contest the deletion', 'the existing speedy', 'spacing', 'page and edit', 'gwen gale', 'azerbaijani', 'tv played by', 'tv played', 'autohotkey', 'questions about this', 'free to leave', 'to leave note', 'any questions about', '48 170', '203 134 48', '134 48 170', '203 134', '134 48', 'been done under', 'done under', 'mount', 'for non free', 'notability class mainpagebg', 'interest notability class', 'notability class', 'chola', 'genesis', 'specifies that the', 'specifies that', 'whittaker', 'copyright holder', 'the copyright holder', 'used in any', 'the guidelines for', 'lancet', 'talk page if', '000000', 'color 000000', 'top color', 'top color 000000', 'align top color', 'athlete', 'romero', 'oswald', 'please go to', 'hesperian', 'fair use image', 'shale', 'color f5fffa getting', 'f5fffa getting', 'deleted without', 'the criterion', 'final fantasy', 'db tag', 'below the existing', 'purchase', 'be appreciated', 'would be appreciated', 'hart', 'abuja', 'about person', 'president harry', 'as president harry', 'president harry truman', 'poincare', 'linga', 'specifies', 'chose to', 'gwen', '1px solid 084080', 'solid 084080 background', '084080 background color', '084080', 'solid 084080', '084080 background', 'beat generation', 'hotels', 'galen', 'cellspacing style vertical', 'in detail', '8px', 'yourself but', 'add information to', 'article that would', 'but don hesitate', 'hesitate to add', 'yourself but don', 'tag yourself but', 'unicorn', 'living persons manual', 'persons manual', 'style three revert', 'style three', 'vandalism deletion policy', 'vandalism deletion', 'spam vandalism deletion', 'of style three', 'persons manual of', 'see where', 'it to add', 'contributions link', 'my contributions link', 'explaining your', 'page explaining your', 'explaining your position', 'talk page explaining', 'specialist', 'why the subject', 'as president', 'back then', 'wikipedia this has', 'edu', 'speedy deletion if', 'you may contest', 'may contest the', 'may contest', 'tobacco', 'help frequently', 'rule sock', 'administrator attention policies', 'comments request', 'comments request administrator', 'request administrator', 'page upload', 'policy conflict', 'policy conflict of', 'ask questions or', 'rule sock puppetry', 'help frequently asked', 'puppetry copyrights', 'administrator attention', 'questions or make', 'deletion policy conflict', 'external links spam', 'revert rule sock', 'use policy external', 'request administrator attention', 'sock puppetry copyrights', 'edit page upload', 'spam vandalism', 'is not biographies', 'or make comments', 'make comments request', 'attention policies and', 'attention policies', 'links spam vandalism', 'of interest notability', 'not biographies', 'not biographies of', 'links spam', 'interest notability', 'it be speedily', 'been placed on', 'requesting that it', 'been placed', 'has been placed', 'assessment', 'remove the speedy', 'speedy deletion tag', 'tag yourself', 'deletion tag yourself', 'from wikipedia this', 'creation myth', 'still in', 'policy external links', 'policy external', 'leave note on', 'tag has', 'tag has been', 'deleted from wikipedia', 'speedily deleted from', 'am now', 'as to why', 'consensus to', 'selecting', 'have left', 'deletion tag', 'criteria for inclusion', 'to articles for', 'that once', 'the form of', 'be necessary', 'that it be', '100 cellpadding cellspacing', 'section of this', 'submitted', 'had to be', 'requesting that', 'welcome to continue', 'the form', 'presentation', 'deletion policy', 'returning', 'played by', 'wwii', 'leave note', 'darwin', 'in that it', 'no personal attacks', 'mainpagebg style width', 'this very', 'the subject is', 'sons', 'ffffff background color', 'ffffff background', 'ffffff', '1px solid ffffff', 'solid ffffff', 'solid ffffff background', 'mainpagebg', 'mainpagebg style', 'class mainpagebg style', 'class mainpagebg', 'cellspacing style', 'cellpadding cellspacing style', 'of image', 'thing and', 'use in', 'criteria for speedy', 'any questions you', 'render', 'would render', '55 border', '55 border 1px', 'width 55 border', 'the committee', '000 frequently', '000 frequently asked', 'encyclopedia under', 'abraham', 'poet', 'one week', 'on the top', 'unfairly', 'launched', 'rocky', 'getting help style', 'permanent', 'unverifiable', 'quotes from', 'or using four', 'or using', 'clicking or using', 'new articles', 'use that', 'in talk', 'help style color', 'help style', 'problem with the', 'links for', 'by clicking or', 'clicking or', 'pages by clicking', 'violate the', 'style width 55', 'scriptures', 'stafford county', 'width 55', 'it is for', 'them from', 'people but', 'color f5fffa vertical', 'f5fffa vertical align', 'f5fffa vertical', 'contributions to wikipedia', 'qualifies', 'please also', 'icon', 'wikipedia image copyright', 'secretary', 'is new', 'other tags', 'tags listed at', 'other tags listed', 'at wikipedia image', 'the other tags', 'tags listed', 'frequently asked questions', 'asked questions', 'frequently asked', 'see wikipedia policies', 'this add', 'wikipedia under', 'necessary for', 'uploading image', 'for uploading image', 'rationale if you', 'use rationale if', 'rationale if', 'copyright problems', 'you can also', 'wikipedia takes', 'takes copyright', 'wikipedia takes copyright', 'horror', 'zone', 'sacred', 'the process of', 'at the media', 'media copyright questions', 'media copyright', 'copyright questions', 'copyright questions page', 'ask them at', 'the media copyright', 'cellspacing', 'cellpadding cellspacing', 'be wrong', 'realized', 'criteria you', 'the fair', 'the fair use', 'heaven', 'are logged', 'are logged in', 'you are logged', 'be created', 'aspect of', 'introduction to', 'followers', 'alternatively you', 'style color 000', 'style color', 'alternatively', 'to wikipedia hope', 'bogus', 'creator', 'tag to', 'clicking on the', 'inheritance', 'article meets', 'of thousands', 'tw', 'color 000', 'place on', 'the open', 'or one of', 'questions feel', 'questions feel free', 'note on the', 'your signature', 'question there please', 'finally please do', 'finally please', 'there please remember', 'of not', 'clicking on', 'you can ask', 'bellamy', 'part in', 'the body of', 'check out getting', 'out getting help', 'below ask', 'help below', 'out getting', 'getting help below', 'below ask me', 'help below ask', 'bow', 'to conduct', 'the incident', 'you decide that', 'decide that you', 'decide that', 'fundamentally', 'been taken', 'importance or significance', 'importance or', 'or significance', 'community portal', 'you do you', 'but after', 'the lord', 'square miles', 'under fair use', 'under fair', 'guideline on', 'ask questions', 'to ask questions', 'about their', 'does not indicate', 'copyrights', 'free encyclopedia', 'not indicate', 'stafford', 'find your', 'away from the', 'any questions please', 'color f5fffa', 'f5fffa', 'background color f5fffa', 'representing', 'put this', 'involvement happy editing', 'your involvement happy', 'summary field below', 'field below are', 'involvement happy', 'field below', 'who you are', 'numbers are', 'miles', 'talk pages by', 'in reliable', 'wikipedia can', 'theory of', 'remember to sign', 'contributors help', 'new contributors', 'contributors help page', 'new contributors help', 'you have edited', 'are some useful', 'some useful links', 'useful links', 'links to facilitate', 'useful links to', 'by clicking', 'to further', 'adult', 'below are some', 'volunteers', 'below are', 'link the', 'unknown', 'only be', 'wish manual', 'to create your', 'article wizard if', 'develop articles', 'wizard if you', 'wizard if', 'your first article', 'first article using', 'create your first', 'create your', 'wish manual of', 'you wish manual', 'to develop articles', 'develop articles how', 'your question on', 'question again', 'discussion pages using', 'messages on discussion', 'on discussion pages', 'question on this', 'question again welcome', 'the question again', 'article using the', 'and how to', 'me before', 'edit page and', 'or why', 'article using', 'or one', 'assumptions', 'instructions', 'issue in', 'director', 'encyclopedia if you', 'scholars', 'educational', 'on september', 'with regard', 'with regard to', 'much of the', 'searches', 'and list', 'ministry', 'to the website', 'free to ask', 'chronological', 'also used', 'the public domain', 'page or ask', 'deletion by', 'measure', 'article appears', 'article appears to', 'the material is', 'what wrote', 'census data', 'found that', 'led to', 'absence', 'respect to', 'order of', 'given in', 'is not in', 'the reliability', 'units', 'editing articles', 'casualties', 'dismiss', 'marketing', 'khoikhoi', 'your school', 'the death', 'editing width 100', 'editing width', 'happy editing width', 'on or ask', 'cellpadding style vertical', '100 cellpadding style', 'your messages on', 'will automatically insert', 'automatically insert', 'sign your messages', 'automatically insert your', 'shortly to', 'shortly to answer', 'answer your questions', 'uploaded as', 'intuitive', 'cellpadding style', 'top getting', 'top getting started', 'align top getting', 'not have any', 'up shortly', 'up shortly to', 'someone will show', 'page and someone', 'show up shortly', 'will show up', 'questions page', 'senate', 'company or', 'top width 100', 'top width', 'align top width', 'macedonia', 'will give', 'in error', 'hello welcome to', 'hello welcome', 'the better', 'note that the', 'use image', 'settled', 'top background', 'width 100 cellpadding', 'align top background', 'top background color', '100 cellpadding', 'germanic', 'of greek', 'milton', 'with link to', 'question and then', 'the question on', 'your question and', 'then place helpme', 'jeffro77', 'objectively', 'of no', 'the local', 'to someone', 'helpme before', 'helpme before the', 'place helpme before', 'make comments', 'ask question help', 'question help', 'release it under', 'to release it', 'it under the', 'release it', 'wikipedia manual', 'wikipedia manual of', 'of wikipedia tutorial', 'insert your username', 'inclusion and', 'an effort', 'to ask question', 'ask question', 'the removal of', 'page again welcome', 'again welcome talk', '1974', 'are plenty of', 'by one', 'iron', 'and someone will', 'focusing', 'contents department', 'contents department directory', 'department directory', 'of contents department', 'your way around', 'finding your way', 'this means', 'your question there', 'way around', 'of contents', 'table of contents', 'broke', 'his death', 'in the lede', 'question there', 'also think', 'you can write', 'and someone', 'this area', 'crash', 'not mention', 'the works', 'sources which', 'status of', 'views on', 'words and', 'the templates', 'because don', 'that could be', 'was placed', 'reader to', 'articles how to', 'proposing', 'articles how', 'how to develop', 'dracula', 'there are plenty', 'are plenty', 'facilitate your', 'to facilitate your', 'facilitate your involvement', 'on user', 'facilitate', 'to facilitate', 'it must', 'lightning rod', 'be noted', 'made for', 'theology', 'your involvement', 'please remember to', 'highlight', 'getting help', 'page or place', 'illustrate', 'coverage of', 'be discussed', 'tramway', 'taken from', 'the relationship', 'where to ask', 'please remember', 'you an', 'then place', 'and then place', 'question on', 'towns', 'but did', 'to re', 'before the question', 'was this', 'cellpadding', 'research and', 'add it to', 'or ask your', 'insert your', 'is something that', 'border background color', '50 border background', 'border background', 'please note that', 'helpme on your', 'pages tutorial how', 'involvement', 'this may be', 'the introduction', 'getting started', 'to why', 'pursue', 'was all', 'officers', 'senior', 'read them', 'removed from the', 'page and ask', 'and ask your', 'help pages tutorial', 'pages tutorial', 'an edit war', 'boards', 'plan to', 'communities', 'being able', 'being able to', 'and certainly', 'wikipedia tutorial how', 'content that', 'wikipedia tutorial', 'or for', 'jws', 'the manual of', 'photographs', 'the case of', 'size of', 'the size of', 'me on or', 'body of the', 'the doctor', 'kolkata', 'of others', 'listed in the', '1972', 'as having', 'reliable sources to', 'fox', 'to reliable sources', 'of group', 'use and', 'the paper', 'recognised', 'place helpme on', 'or place helpme', 'helpme on', 'reliability of', 'contributions hope', 'contributions hope you', 'your contributions hope', 'color vertical align', 'color vertical', 'background color vertical', 'in most', '50 border', 'style width 50', 'width 50 border', 'width 50', 'the chinese', 'great article manual', 'the guide', '100 style background', 'it is important', 'width 100 style', '100 style', 'the specific', 'why there', 'welcome hello and', 'helpful the five', 'still need', 'expansion', 'helpful the', 'find helpful the', 'you remove', 'to address', 'have been made', '1970', 'as more', 'of either', 'them the', 'help us', 'to confirm', 'think we should', 'believe it is', 'style width', 'palestinians', 'lightning', 'of 10', 'produce your name', 'therefore it', 'style hope', 'of style hope', 'style hope you', 'or both', 'substance', 'derived', 'sina', 'article manual', 'article manual of', 'being wikipedian please', 'wikipedian please sign', 'your name and', 'place helpme', 'wikipedian please', 'obsessed', 'welcome hello', 'banned for', 'edited by', 'agreed with', 'again welcome', 'width 100', 'article still', 'removal of the', 'helpme', 'talk pages using', 'officials', '18th', 'but in the', 'name and the', 'align top', 'vertical align top', 'but since', 'targeted', 'transparent', 'tutorial how', 'tutorial how to', 'prove that', 'challenge', 'some pages that', 'might find', 'might find helpful', 'are some pages', 'you might find', 'some pages', 'place and decide', 'the place and', 'like the place', 'questions ask me', 'wikipedia questions', 'wikipedia questions ask', 'out wikipedia questions', 'the criticism', 'so we can', 'stay here are', 'to stay here', 'the date if', 'and decide', 'and decide to', 'hope you like', 'decide to stay', 'this will automatically', 'check out wikipedia', 'of self', 'also has', 'pages that you', 'date if you', 'date if', 'issue and', 'maybe it', 'be written', 'as notable', 'volunteer', 'name on talk', 'your name on', 'name on', 'pages using four', 'tildes this', 'four tildes this', 'tildes this will', 'pages using', 'muhammad', 'could easily', 'help check out', 'help check', 'need help check', 'questions please', 'ask me on', 'in the usa', 'pope', 'faster', 'can find that', 'for new', 'fundamental', 'the deleted', 'please sign your', 'the vote', 'cf', 'the usual', 'is not to', 'this situation', 'really need to', 'for both', 'is that if', 'give us', 'citizen', 'how we', 'are in fact', 'confirm the', 'exception', 'to wikipedia thank', 'darwinism', 'motor', 'then what', 'since that', 'abilities', 'war with', 'not considered', 'your edits to', 'mission', 'experiences', 'subject for', 'use the word', 'you say that', 'attached', 'out in', 'cult', 'about an', 'being that', '20th century', 'implication', 'to explain the', 'wikipedia if you', 'in the last', 'alternatives', 'table of', 'there for', 'thanks for uploading', 'attributed to', 'section on the', 'states that the', 'the archives', 'that you might', 'for uploading', 'be allowed to', '20th', 'budget', 'edit wars', 'change in', 'have an article', 'binary', 'and doesn', 'replaceable', 'failure', 'name was', 'leave message', 'the ability to', 'deletion of the', 'the house', 'for your time', 'up but', 'statistics', 'create the', 'quote the', 'organisations', 'reverted can be', 'the edit have', 'been reverted please', 'reverted please', 'edit have reverted', 'edit should', 'reverted please contact', 'edit should not', 'found here link', 'reverted can', 'have reverted can', 'this edit should', 'here link if', 'believe this edit', 'back to you', 'you believe this', 'of the original', 'performance', 'editing of', 'influences', 'the key', 'dealt with', 'dealt', 'of each', 'islands', 'contributions and', 'dominant', 'elizabeth', 'terrestrial', 'benefit from', 'not having', 'constant', 'mode', 'have on', 'about whether', 'on in', 'hungarian', 'azerbaijan', 'particularly the', 'stephen', 'wikiquette', 'create an account', 'here are some', 'entitled to', 'should it', 'claimed to', 'have posted', 'to break', 'it we', 'the nazi', 'or you can', 'much to', 'leadership', 'while we', 'in fact the', 'that if you', 'addition to the', 'that is what', 'victims', 'your efforts', 'so in the', 'more and', 'destruction', 'for arbitration', 'they may', 'articles for creation', 'for creation', 'systematic', 'no personal', 'of style', 'categorized', 'we have an', 'to user talk', 'the main article', 'main article', 'cambridge', 'regard to', 'the decision', 'the existence of', 'existence of', 'the existence', 'encyclopedia if', 'bots', 'this case the', 'the beginning of', 'the length', 'after that', 'describe the', 'speed', 'term and', 'can easily', 'relatively', 'say in', 'article page', 'please contact', 'please contact me', 'hoffman', 'governments', 'success', 'spirit of', 'here because', 'the spirit', 'to the reader', 'your messages', 'to at least', 'this doesn', 'the product', 'fair use images', 'use images', 'would know', 'sharing', 'you then', 'avoided', 'they are in', 'entities', 'archives', 'for long time', 'credited', 'are that', 'contentious', 'fellowship', 'to simply', 'from their', 'they would have', 'distance', 'the copyright', 'the basis of', 'not clear', 'chose', 'time it', 'bay', 'im not', 'and keep', 'not quite', 'are multiple', 'basis of', 'creative commons', 'been around', 'atlantic', 'and maybe', 'each article', 'no point', 'the article it', 'are really', 'replaced by', 'guard', 'accepted as', 'on each', 'subject of the', 'subject of', 'the subject of', 'accusing me of', 'to dispute', 'worked on', 'appreciate it if', 'the english wikipedia', 'but at least', 'link it', 'to produce', 'for long', 'few months', 'of the city', 'locations', 'comply with', 'comply', 'density', 'on and', 'fiber', 'subject is', 'is being used', 'not necessarily', 'information then', 'santana', 'years after', 'survived', 'beginning of', 'put forward', 'this wikipedia', 'be willing to', 'be willing', 'or place', 'achieved', 'it certainly', 'and open', 'in those', 'mathematical', 'improvements', 'was wondering if', 'fact the', 'to the next', 'them to the', 'deliberate', 'the request', 'involved in the', 'used on', 'manual of style', 'pr', 'manual of', 'hotel', 'be possible', 'just in', 'ears', 'the bible', 'connections', 'we are not', 'their history', 'be best', 'circular', 'texts', 'only on', 'download', 'possibility', 'the possibility', 'information if you', 'information if', 'smoking', 'some cases', 'thought it was', 'dress', 'to the image', 'in the right', 'no issue', 'included in an', 'express', 'be there', 'then they', 'of the many', 'although he', 'have very', 'virtually', 'of words', 'by two', 'edit have', 'the article that', 'have been deleted', 'your message', 'list and', 'here are few', 'and appreciate', 'outdoor', '1956', 'the government', 'over time', 'this may', 'were to', 'parts of the', 'needed to be', 'this makes', 'to release the', 'republic of', 'cited in the', 'fled', 'clicking', 'cited in', 'follow up', 'franchise', 'to answer your', 'articles which', 'a7', 'appeared in', 'recommended', 'the sections', 'please look', 'formal', 'the problem with', 'to release', 'would be the', 'that those', 'widespread', 'benefits', 'be aware that', 'businessweek', 'these things', 'to but', 'there may', 'there may be', 'taylor', 'etiquette', 'and like', 'you can add', 'are by', 'most of my', 'little bit', 'edit to the', 'and perhaps', 'answer your', 'suitable', 'to mention the', 'was only', 'you need help', 'likewise', 'will need to', 'think the article', 'disability', 'are often', 'has become', 'at first', 'statements in', 'can write', 'being used as', 'generated', 'except for', 'are important', 'generation', 'for your contributions', 'clarified', 'was because', 'sequence', 'instead of the', 'olympic', 'which makes', 'not always', 'are correct', 'was one of', 'article before', 'the beatles', 'be seen as', 'editing and', 'up in the', 'with adding', 'that think', 'this content', 'an idea', 'this in the', 'show up', 'connection with', 'has an', 'wikipedia deletion', 'seen as', 'you believe the', 'layout', 'was released', 'practices', 'that said', 'that includes', 'available in', 'in europe', 'and both', 'energy', 'times in', '1979', 'links in', 'may need', 'is important to', 'for which', 'wp music', 'final warning', 'all sorts', 'article in the', 'explanations', 'origins of', 'you two', 'the historical', 'that while', 'wikipedia image', 'mention the', 'acted', 'is mentioned', 'points to', 'that edit', 'constitution of', 'be used in', 'work as', 'in an edit', 'of major', 'image use policy', 'use policy', 'questions you', 'directly to', 'the album', 'fair use rationale', 'beings', 'the reason why', 'use rationale', 'was born in', 'would be very', 'use the term', 'give up', 'if you believe', 'this sort of', 'which should', 'that every', 'the social', 'created in', 'literally', 'this sort', 'but she', 'regions', 'redirected', 'you want me', 'on where', 'are notable', 'took the', 'the way to', 'characteristics', 'sought', 'are invited', 'address the', 'by you', 'new zealand', 'zealand', 'related to the', 'but there is', 'by following', 'significance', 'slap', 'that one of', 'but that is', 'annual', 'companies', 'performed', 'but on', 'logically', 'reliability', 'as or', 'to be used', 'retained', 'to engage in', 'you recently', 'but do not', 'is with', 'in time', 'to sign your', 'guidelines and', 'on the web', 'additionally the', 'an anonymous', 'message on my', 'to the point', 'wp article', 'them up', 'in the main', 'if there were', 'support for', 'the chance', 'the ability', 'image page', 'first article', 'pushed', 'he uses', 'missouri', 'are more than', 'an appropriate', 'the heck', 'talk page as', 'it is you', 'commonly used', 'scotland', 'of research', 'widely used', 'boxes', 'up of', 'template to', 'ranking', 'your first', 'as reliable', 'following the', 'children and', 'queen', '1998', 'you cite', 'was in the', 'to develop', 'article content', 'is the case', 'observed', 'afc', 'question at', 've read', 'the pelasgians', 'pelasgians', 'grateful', 'in edit', 'implemented', '1997', 'any wikipedia', 'this is where', 'section and', 'who did', 'the results', 'his position', 'nominator', 'refers to the', 'feeling', 'is appropriate', 'webpage', 'the minority', 'consequences', 'that there was', 'been published', 'coverage', 'sources can', 'assert the', 'not assert', 'do not assert', 'subjects and', 'the 3rr', 'in the section', 'nasty', 'personal information', 'please see wikipedia', 'column', 'should use', 'regarding edits made', 'regarding edits', 'it is shared', 'address and it', 'edits made during', 'made during', '1992', 'lucky', 'shared by multiple', 'multiple users', 'by multiple users', 'is shared by', 'password', 'laws', 'by multiple', 'nba', 'arbitration committee', 'more likely', 'le', 'but let', 'sell', 'representation of', 'representation', 'ohio', 'otherwise it', 'launch', 'say something', 'would be much', 'you can do', 'that the image', 'on discussion', 'for doing', 'the notability of', 'notability of', 'the notability', 'in the body', 'demonstrate', 'days ago', 'wisdom', 'shared by', 'and after', 'that because', 'polite', 'is misleading', 'different from the', 'you have permission', 'her to', 'source of the', 'copyright problem', 'the source of', 'scholarship', 'talk page to', 'or printed', 'printed material', 'sites or printed', 'or printed material', 'other web', 'text or', 'accept copyrighted text', 'cannot accept copyrighted', 'text or images', 'accept copyrighted', 'sites or', 'borrowed from', 'or images borrowed', 'copyrighted text or', 'images borrowed', 'images borrowed from', 'web sites or', 'or images', 'available for', 'borrowed', 'copyrighted text', 'questioning', 'policies and guidelines', 'additionally', 'we appreciate', 'not reliable source', 'held', 'sources in', 'since we', 'wheelchair', 'trade', 'blanked', 'far from', 'capacity', 'were being', 'not listed', 'was one', 'the artist', 'hope that you', 'willing to help', 'is available', 'the federal', 'are given', 'neutrality of', 'involved with', 'engineers', 'end the', 'improving the', 'how would', 'and guidelines', 'the basic', 'the questions', 'to any', 'and wanted to', 'and wanted', 'stable', 'finding your', 'but not sure', 'wikipedia policies and', 'content in', 'one of you', 'the redirect', 'angle', 'encyclopedia thanks', 'most popular', 'unlikely', 'your contributions to', 'the former', 'contributions to', 'the definition', 'radical', 'only two', 'until then', 'the conflict', 'widely', 'status is', 'whole thing', 'the whole thing', 'on wikipedia your', 'experimenting with the', 'with the page', 'on them', 'picking', 'the proposed', 'so there', 'depth', 'article think', 'honors', 'modify it', 'article not', 'it is true', 'and the article', 'to take it', 'to bring up', 'the terms', 'list is', 'announcement', 'drugs', 'and could', 'doesn really', 'sky', 'fictional', 'and need to', 'and need', 'policy for', 'my name is', 'the front', 'when it comes', 'it comes to', 'comes to', 'faith', 'speedy deletion of', 'tagged for speedy', 'speedy deletion because', 'deletion because', 'criterion', 'tagged for', 'tagged as', 'template you', 'to present', 'the speedy deletion', 'image copyright tags', 'fails', 'of the following', 'justify the', 'ph', 'bare', 'the article for', 'be said', 'stance', 'is no reason', 'wrote that', 'of may', 'quotations', 'the speedy', 'be it', 'may wish to', 'may wish', 'you may wish', 'around the world', 'no reason to', 'we cannot accept', 'not correct', 'should probably be', 'needed to', 'attributed', 'bottom of the', 'bani', 'renamed', 'we welcome', 'up as', 'disappear', 'all but', 'in which the', 'economic', '777', 'thanks again for', 'the article the', 'many other', 'under the gfdl', 'the gfdl', 'complete the', 'if you were', 'led', 'the role', 'replacing', 'even more', 'highway', 'it is my', 'there as', 'when he was', 'role of', 'and when', 'been the', 'the necessary', 'as result of', 'ali', 'have thought', 'the line', 'support of', 'to have been', 'entitled', 'you can help', 'intend to', 'moves', 'there please', 'its content', 'styles', 'which is the', 'argentine', 'crop', 'of copyright', 'the article does', 'copyright tag', 'be deleted please', '7th', 'to correct', 'deleted please', 'controversies', 'an editor who', 'outcome', '19th', 'have their own', 'intended to', 'exist and', 'which does not', 'placed in', 'these were', 'we cannot', 'this if you', 'revert the', 'an explanation', 'wikipedia user', 'very little', 'may be the', 'both of these', 'far more', 'facts are', 'others to', 'than happy to', 'more than happy', 'than happy', 'not to mention', 'trying to add', 'new version', 'assertions', 'in them', 'to introduce', 'an ip address', 'the article wizard', 'how to create', 'using the article', 'article wizard', 'fields', 'inserted', 'the categories', 'being used in', 'of editing', 'herald', 'death in', 'or similar', 'the article you', 'fact that', 'we were', 'printed', 'ask them', 'it has no', 'synth', 'wp synth', 'his her', 'consensus and', 'be addressed', 'works of', 'examine', 'city and', 'that he is', 'the article at', 'extent', 'welcome talk', 'row', 'state the', 'avalanche', 'animals', 'the creation', 'add nonsense to', 'not add nonsense', 'add nonsense', 'mythology', 'to each', 'assert', 'improving', 'swiss', 'student', 'for more information', 'in regards', 'in regards to', 'swedish', 'above the', 'tribute', 'took it', 'pages with', 'am being', 'the german', 'been or', 'has been or', 'was banned', 'do so in', 'substantially', 'before he', 'efforts to', 'image from the', 'image from', 'use for', 'this website', 'again for', 'expanding', 'you wish to', 'not change', 'just now', 'article ve', 'cooperation', 'the characters', 'could use', 'douche', 'privileges', 'not the only', 'the beginning', 'creation of', 'in the talk', 'jpg has been', 'jpg has', 'to define', 'for them', 'all of them', 'other things', 'pages by', 'liking', 'how he', 'cheat', 'define', 'caste', 'whether the', 'describing', 'audience', 'in an encyclopedia', 'was on', 'use them', 'contrary to', 'of india', 'articles if you', 'now is', 'august 2005', 'be left', 'many editors', 'articles if', 'then will', 'logging', 'be for', 'we re not', 'section the', 'km', 'images and media', 'image or', 'media file', 'interpretation of', 'them it', 'the sun', 'edit war on', 'produce your username', 'contributor to', 'will look', 'the body', 'introduction the five', 'username and the', 'introduction the', 'your username and', 'image in', 'have fun', 'edit page help', 'page help', 'page help pages', 'help pages', 'are involved', 'of wikipedia how', 'wikipedia how to', 'the image is', 'enjoy editing here', 'editing here and', 'here and being', 'have edited', 'and being wikipedian', 'being wikipedian', 'enjoy editing', 'you enjoy editing', 'done for', 'wikipedia how', 'grand', 'will automatically produce', 'automatically produce your', 'automatically produce', 'produce your', 'write great', 'great article', 'write great article', 'to write great', 'worked and has', 'sign your name', '500', 'using four', 'using four tildes', 'margin', 'and say', 'will automatically', 'pillars of wikipedia', 'the five pillars', 'five pillars of', 'pillars of', 'five pillars', 'to edit page', 'edit page', 'emailed', 'of the wikipedia', 'nobel', 'articles the', 'could do', 'the content of', 'and media', 'for reverting', 'this article that', 'being used', 'least one', 'at least one', 'codes', 'front page', 'specified', 'he could', 'asked you', 'questions or', 'do not add', 'will be reverted', 'be reverted', 'have in', 'how to write', 'subject to', 'dropped', 'auto', 'the page that', 'to create an', 'to reliable', 'see no', 'so ll', '1980s', 'than in', 'who want', 'effectively', 'would you mind', 'you mind', 'your sources', 'as they are', 'material that', 'discussing the', 'including the', 'moved to the', 'preferred', 'usual', 'hundreds of', 'infrastructure', 'have lot', 'to at', 'was first', 'fbi', 'with four tildes', 'with four', 'basis for', 'defense', 'definitions', 'either way', 'for the first', 'the nomination', 'sight', 'messages on', 'divided', 'linked to', 'of another', 'of notability', 'encouraged', 'or on', 'ss', 'winner', 'salute', 'votes', 'the editor', 'the edit link', 'before it', 'are and', 'harvard', 'review is', 'ga review', 'rely on', 'the article itself', 'want to read', 'search for the', 'for the title', 'image to find', 'file that', 'entry if you', 'file that you', 'entry if', 'is you may', 'this is you', 'to find its', 'find its entry', 'its entry if', 'why this is', 'the image to', 'find its', 'cite your', 'have to search', 'authority to', 'using this', 'the article if', 'footnotes', 'not aware of', 'what they are', 'ability to', 'wikipedia have', 'sexual orientation', 'personal life', 'back in the', 'permissions', 'releases', '1930s', 'was done', 'evidence for', 'you might have', 'continually', 'anything to', 'content but', 'have their', 'to support the', 'for the time', 'the time being', 'the citation', 'time being', 'with and', 'with what', 'but it does', 'the royal', 'but its', 'the size', 'fuel', 'can be used', 'is somewhat', 'when we', 'your removal of', 'your removal', 'tips', 'copyright tags', 'to see why', 'to build', 'the did you', 'many of the', 'create an', 'transcluded', 'edit this', 'your edit summary', 'mean the', 'window', 'biology', 'the average', 'page for the', 'goes on', 'this link', 'ever been', 'introduction', 'get blocked', 'are looking', 'not here', 'visible', 'appeal', 'of the material', 'are of', 'years of', 'of the main', 'natural', 'only in', 'substantial', 'portion', 'be listed', 'need of', 'the page history', 'page history', 'can give', 'pages to', 'section which', 'castle', 'article itself', 'and the date', 'tag and', 'membership', 'industry', 'sweden', 'majority of', 'the holy', 'point that', 'article at', 'been uploaded', 'to be removed', 'issue here', 'removed as', 'decades', 'and please', 'heck', 'this material', 'inclusion in', 'material to', 'on wikipedia but', 'average', 'see above', 'adequate', 'supporting the', 'took place', 'not aware', 'you will see', 'content from wikipedia', 'listed in', 'exact same', 'the exact same', 'articles they', 'backing', 'them to be', 'ships', 'see that you', 'the media', 'are actually', 'point about', 'seat', 'for further', 'not need to', 'do not see', 'not see', 'discuss it', 'amounts to', 'not all of', 'involve', 'translate', 'interpretation', 'support the', 'you have an', 'colspan', 'but don think', 'to maintain', 'protecting', 'source it', 'florida', 'at some point', 'some point', 'the times', 'so have', 'not need', 'to see if', 'copyvio', 'to ensure that', 'compliance', 'obtained', 'where there', 'don have any', '35', 'also there', 'the beat', 'development of', 'why they', 'text and', 'search engine', 'that did not', 'to upload', 'that did', 'hill', 'of the three', 'outline', 'was called', 'the primary', 'by reliable', 'throughout the', 'are considered', 'north america', 'of the articles', 'would be great', 'factors', 'proved', 'page which', 'of sock', 'may have to', 'ensure that', 'in accordance with', 'accordance with', 'accordance', 'in accordance', 'so and', 'of being', 'previous version', 'employed', 'to add information', 'add information', 'sanction', 'written the', 'owned', 'yet the', 'ukraine', 'at some', 'ask your question', 'that each', 'we do not', 'the quality of', 'the quality', 'it off', 'attrocities', 'licensed', 'for contributing', 'please ask', 'your question', 'the controversy', 'regular', 'angel', 'founded', 'ask your', 'within wikipedia', 'to the original', 'went on', 'maintain', 'don think it', 'title is', 'have this', 'falls', 'interests', 'champions', 'observation', 'stem', 'jul', 'viewpoints', 'as its', 'results', 'proto', 'to mean', 'to consider', 'abide', 'affected', 'the readers', 'current title', 'concerned about', 'selected', 'it takes', '108', 'help in', 'cannot accept', 'eight', 'tests you want', 'pov and', 'content from', 'built', 'to request', 'nature of the', 'more in', 'copied', 'you clearly', 'want you to', 'is accurate', 'research in', 'as it was', 'called the', 'so that we', '____', 'useful to', 'the indian', 'economy', 'accepted by', 'the wrong', 'the article just', 'controlled', 'article just', 'you disagree with', 'when this', 'removed this', 'not add', 'new one', 'rangers', 'the web', 'has not been', 'notable and', 'edits made', 'not it is', 'slang', 'notable enough for', 'ignore this', 'ignore this warning', 'starts', 'to help you', 'this warning', 'should be used', 'to quote', 'was really', 'has already been', 'not neutral', 'my original', 'restored the', 'to participate in', 'michigan', 'there should be', 'does not mean', 'find some', 'and where', 'and we can', 'that an', 'replacement', 'on whether', 'that particular', 'point it', 'wp agf', 'closing', 'zionist', 'four tildes', 'first edit', 'page and then', 'look at it', 'buildings', 'be no', 'not belong in', 'reversions', 'select', 'far as can', 'brothers', 'over the last', 'whom', 'presume', 'in place', 'which have', 'actively', 'had not', 'experiment please use', 'to experiment please', 'experiment please', 'help but', 'audio', 'request that', 'to solve', 'rhaworth', 'solve', '223', 'in no way', 'tools', 'apologize for the', 'presents', 'while this', 'means that', 'that much', 'and used', 'studies', 'referencing', 'though that', 'declaration', 'checked the', 'lives', 'would be to', 'process of', 'flat', 'to wikipedia the', 'that it would', 'what mean', 'have started', 'edits to the', 'articles should', 'citing sources', 'understand and', 'edits to', 'however the', 'rewritten', 'nothing else', 'sector', 'tower', 'discussion on the', 'be reliable', 'up with the', 'sources the', 'discovered', 'we can find', 'are talking', 'are talking about', 'in two', 'copyright status is', 'if the image', 'on the image', 'may be deleted', 'would probably', 'image description page', 'federal', 'of the image', 'welcome page if', 'like to learn', 'reliable source for', 'what to do', 'are probably', 'key', 'to seek', 'equation', 'there to', 'that they have', 'is hardly', 'even have', 'to replace', 'the issue is', 'this it', 'the event', 'more general', 'and so on', 'ussr', 'more information on', 'the one that', 'technology', 'reveals', 'near the', 'talk page again', 'not saying', 'on there', 'have permission', 'while it', 'was so', 'after he', 'establish', 'broad', 'with the article', 'wholly', 'noticed', 'three years', 'article from', 'this the', 'to be some', 'there should', 'difficulty', 'is unclear', 'the contents', 'flight', 'be replaced', 'the five', 'etymology', 'consistent with', 'and another', 'in on', 'it is also', 'can only', 'see why this', 'move the', 'misinformation', 'figured', 'rules of', 'in the text', 'that now', 'says that the', 'true and', 'the intention', 'and welcome to', 'the enemy', 'could have been', 'with these', 'would be better', 'to us', 'any information', 'back it up', 'back it', 'you that', 'much in', 'protest', 'merge the', 'francisco', 'he went', 'any sources', 'joint', 'being deleted thank', 'deleted thank you', 'deleted thank', 'article is about', 'it up to', 'potentially', 'little or', 'aspect', 'the image description', 'image description', 'and every', 'affect', 'san', 'his wife', 'those who are', 'breaks', 'we may', 'have gone', 'consideration', 'patent', 'with them', 'operations', 'that the term', 'same way', 'opinions on', 'page and how', 'thompson', 'intention of', 'others are', 'permitted', 'louis', 'note on my', 'been given', 'haven been', 'the series', 'an acceptable', 'daily', 'image copyright', 'the report', 'is no explanation', 'for at', 'article states', 'the first paragraph', 'on how', 'can come', 'addressing', 'interview', 'of the sources', 'more importantly', 'articles like', 'stubs', 'the term is', 'article they', 'sock puppetry', 'puppetry', 'or no', 'removes', 'afternoon', 'been made', 'lacking', 'should say', 'it more in', 'can also be', 'on every', 'not revert', 'expert on', 'an expert on', 'nor do', 'anyone know', 'poem', 'those pages', 'issued', 'unless we', 'findings', 'impossible to', 'be on the', 'eat shit and', 'and die', 'shit and die', 'eat shit', 'below the', 'tournament', 'has already', 'especially if', 'and most of', 'strongly', '1966', '49', 'contribute to', 'just been', 'because the article', 'to distinguish', 'requirement for', 'footnote', 'guidance', 'it is in', 'outright', 'impossible', 'guidelines for', 'your new', 'cheatsheet', 'distinguish', 'is never', 'on our', 'this term', 'the sense', 'they want', 'they might', 'limit', 'materials', 'sense that', 'you feel that', 'will show', 'was added', 'correct but', 'corps', 'not sure if', 'like this', 'genetic', 'once in', 'uses the', 'an expert', 'time he', 'are allowed', 'dna', 'me on my', 'help page', 'youth', 'fights', 'kennedy', 'to note', 'importantly', 'did you know', 'thus the', 'wrote the', 'in it not', 'grey', 'don forget', 'it not being', 'article could', 'which also', 'of making', 'is for the', 'work with', 'options', 'is not valid', 'estimate', 'use some', 'is that it', 'article does not', 'username and', 'information on the', 'where it is', 'circumstances', 'probably be', 'explain that', 'to be deleted', 'to see how', 'information in the', 'to move', 'about his', 'be sent', 'and most', 'add comments', 'to add comments', 'add comments to', 'you uploaded or', 'been listed at', 'or altered', 'uploaded or', 'its entry', 'uploaded or altered', 'not being deleted', 'being deleted', 'listed at wikipedia', 'listed at', 'altered', 'the article seems', 'primary sources', 'check your', 'responding to', 'fail to', 'promised', 'of the first', 'caused by', 'forget to', 'and look', 'automated', 'an external', 'which the', 'examples of', 'pre', 'an npov', 'on talk pages', 'influenced', 'hello and', 'hello and welcome', 'no explanation', 'that you uploaded', 'core', 'keep an', 'this claim', 'however if', 'to show that', 'all his', 'sees', 'your contributions', 'shop', 'claims to', 'would seem to', 'world war ii', 'war ii', 'that do not', 'railway', 'you uploaded', 'is unacceptable', 'help if', 'stated that', 'that might', 'which they', 'to be able', 'to convince', 'this article it', 'many sources', 'brings', 'extreme', 'thank you talk', 'there are few', 'two points', 'with wp', 'is wp', 'convince', 'information the', 'the life', 'done it', 'that by', 'of england', 'believe they', 'protests', 'provided by', 'belong to the', 'described as', 'assume you', 'by people who', 'by people', 'those are', 'dispute resolution', 'the legal', 'this helps', 'hope this helps', 'storm', 'blocking me', 'in but', 'are few', 'wholesale', 'warranted', 'interested in it', 'to how', 'given to', 'occurred', 'find them', 'think that it', 'not trying to', 'not trying', 'to the edit', 'long ago', 'entered', 'imagine that', 'in all the', 'article as it', 'by their', '1000', 'did so', 'european', 'meet the', 'wish you', 'of links', 'youleave me alone', 'reference to the', 'is necessary', 'in the wrong', 'be at', 'the article so', 'fair and', 'nothing to youleave', 'to youleave me', 'to youleave', 'youleave me', 'youleave', 'under the criteria', 'the sources', 'searching', 'of the list', 'alone did', 'did nothing to', 'alone did nothing', 'me alone did', 'as not', 'randomly', 'grew', 'compared to', 'one that', 'does that', 'it more', 'organization', 'help with', 'web site', 'as reference', 'for another', 'language of', 'found in', 'population', 'find more', 'reverting the', 'whose', 'effects of', 'to merge', 'what did', 'professor', 'from there', 'section but', 'issue is', 'movies', 'rely', 'most important', 'is best', 'to source', 'roles', 'the article in', 'the article because', 'block was', 'unclear', 'from talk', 'that we have', 'you it', 'to be an', 'months ago', 'scale', 'of various', 'point is that', 'all there', 'link is', 'in fact it', 'point the', 'netherlands', 'as to the', 'article does', 'emphasis', 'discussion for', 'states the', 'changing username', 'buddy', 'army of', 'subsequently', 'happy editing', 'the catholic', 'agree that the', 'denied', 'guardian', 'able to find', 'article however', 'of islam', 'but thanks', 'trained', 'account of', 'she has', 'or by', 'the status', 'which does', 'image use', 'to show the', 'factually', 'and little', 'manager', 'result in', 'co uk', 'find source', 'and call', 'your recent edits', 'they could', 'exceptions', 'violated', 'to read the', 'restore the', 'crimes', 'security', 'not acceptable', 'not meet', 'would have been', 'which it', 'copyright status', 'reversion', 'real person', 'accidentally', 'answers', 'am willing', 'am willing to', 'editors to', 'will need', 'exchange', 'wider', 'seconds', 'image and', 'on the issue', 'that such', 'constitute', 'incorrectly', 'the usage', 'the usage of', 'property', 'this there', 'to engage', 'howard', 'even if they', 'to provide', 'and send', 'be blocked for', 'for the article', 'than to', 'unrelated', 'notable that', 'role in', 'demanding', 'they say', 'have few', 'sources to', 'to be very', 'you are free', 'are free to', 'are free', 'we ve', 'link to the', 'condition', 'look for', 'tfd', 'but with', 'which can be', 'it being', 'towards the', 'participated', 'participated in', 'in editing', 'so that the', 'is entirely', 'according to the', 'be here', 'victim', 'chicken', 'no problem with', 'need the', 'this is very', 'pressure', 'voted', 'worth mentioning', 'would seem', 'infoboxes', 'be very', 'circuit', 'can add', 'to the top', 'placed on', 'to the wikipedia', 'oversight', 'not make the', 'orphaned', 'some of your', 'and provide', 'scientist', 'the press', 'to my talk', 'to be made', 'programs', 'deletion notice', 'case that', 'you can use', 'finding', 'move it', 'is under', 'what wikipedia is', 'to be about', 'anything on', '1987', 'to return to', 'to ignore', 'page thank you', 'page thank', 'be about', 'the article was', 'defined as', 'carried', 'throw', 'so that it', 'involved in', 'since he', 'than that', 'not find', 'bbc', 'truly', 'will soon', 'soon be', 'with all', 'edit and', 'non notable', 'article also', 'for good', 'was already', 'creates', 'image that', 'view the', 'lists', 'short of', 'this could', 'if the article', 'be moved to', 'discussed in', 'google search', 'is no need', 'princess', 'biblical', 'expected', 'recently', 'licensing', 'and can be', 'from editing if', 'can assure you', 'of things', 'do as', 'edit summary field', 'please do your', 'always fill', 'always fill in', 'summary field', 'your best to', 'to always fill', 'best to always', 'to always', 'sources on', 'should be added', 'an interesting', 'editors have', 'ambiguous', 'deletion please', 'for deletion please', 'an independent', 'edit it', 'was actually', 'should be made', 'in your own', 'as am', 'comedy', 'links to the', 'is any', 'much appreciated', 'which may', 'your own words', 'own words', 'assure you that', 'assure you', 'no real', 'to thank you', 'of the country', 'mere', 'the first', 'so how', 'if possible', 'fill in the', 'fill in', 'the nature of', 'the nature', 'give the', 'motion', 'to ask you', 'looking at the', 'sufficient', 'seemed to', 'the first sentence', 'his edits', 'designated', 'do not know', 'part of this', 'introduced', 'are from', 'that we can', 'poster', 'unblock', 'disney', 'is fairly', 'of the name', 'pages for', 'be restored', 'comments on the', 'was created', 'use to', 'iv', 'to insert', 'have already', 'insert', 'deletion review', 'to see what', 'happened', 'forms of', 'was taken', 'violence', 'from reliable', 'would help', 'content of', 'response to your', 'displayed', 'and must', 'hostile', 'relationship with', 'quite few', 'accordingly', 'when it is', 'proves', 'we will have', 'stage', 'your work', 'or so', 'top of the', 'my understanding', 'you read the', 'is called', 'not familiar', 'not familiar with', 'here the', 'by sa', 'cc by', 'cc by sa', 'bias and', 'article while', 'proposed deletion', 'con', 'nature of', 'behind the', 'normal', 'only to', 'socialism', 'of the fact', 'representative of', 'encountered', 'also to', 'him from', 'tracks', 'leads to', 'is pov', 'massacre', 'cc', 'closer to', 'the alternative', 'didn get', 'done by', 'which one', 'representative', 'strip', 'made by', 'decided that', 'user and', 'there is some', 'and you re', 'gallery', 'even the', 'translation of', 'at his', 'so they', 'and once', 'happens to', 'from being', 'true that', 'not have the', 'mention it', 'weight to', 'stated in', 'consider the', 'if you read', 'nominating', 'believe it', 'centrifugal', 'this group', 'hl en sa', 'ved', 'sa ei', 'onepage', 'en sa', 'en sa ei', 'dq', 'the obvious', 'added some', 'participate in the', 'matthew', 'before they', 'requested move', 'iraq', 'edits which', 'this article on', 'in the case', 'him in', 'are also', 'providing', 'fill', 'please discuss', 'that you were', 'discussion pages', 'area and', 'no discussion', 'believe that the', 'designation', 'to ensure', 'did this', 'the earth', 'could reasonably', 'translations', 'tell the', 'perspective', 'the usa', 'operation', 'few people', 'continued to', 'side of the', 'my first', 'continued', 'but guess', 'you any', 'consistently', 'if anything', 'also did', 'too far', 'of your edits', 'not do', 'the middle of', 'middle of', 'the heading', 'in the middle', 'but like', 'the page and', 'where to', 'are available', 'comparison', 'the inclusion', 'inclusion of', 'issue the', 'why we', 'would take', 'reason the', 'the general', 'the major', 'be correct', 'growing', 'the external links', 'the external', 'slaves', 'style background color', 'padding 3px', 'turkish', 'together to', 'individuals', 'does not have', '3px', 'view is', 'on the matter', 'it no', 're the', 'said it', 'would just', 'lovely', 'text in', 'shows that', 'there in', 'to fit', 'we want', 'contact with', 'disputes', 'see my', 'high quality', 'so much for', 'now in', 'warm', 'to figure out', 'ie', 'to figure', 'the move', 'dot', 'seeking', 'that would be', 'alter', 'aware of the', 'the lede', 'lede', 'belief that', 'plagiarism', 'the initial', 'emotions', 'enough for', 'is obviously', 'focused', 'different from', 'nomination of', 'are always', 'hint', 'and should be', 'an example of', 'pages are', 'not the', 'the post', 'of references', 'crowd', 'disagreement', 'to clean up', 'help on', 'should also be', 'that makes', 'the policy', 'server', 'sandbox thank', 'sandbox thank you', 'the sandbox thank', 'didn make any', 'if can', 'you may also', 'but that was', 'politely', 'confirmation', 'regarding this', 'side of', 'it is very', 'message to the', 'in wp', 'the file', 'to sort', 'to wikipedia it', 'owner of', 'the owner of', 'the commonwealth', 'tied', 'consistency', '1986', 'editing the article', 'both sides', 'historically', 'uninvolved', 'as ve', 'significantly', 'about yourself', 'just go', 'your point', 'debates', 'actually be', 'to the page', 'this week', 'two or', 'wikipedia please', 'easy to', 'your comments on', 'polls', 'has ever', 'unconstructive edits', 'any unconstructive', 'any unconstructive edits', 'make any unconstructive', 'svg', 'is used', 'however there', 'not read', 'benefit', 'essay', 'harder', 'tagging', 'urge', 'links are', 'out how to', 'this stuff', 'material in', 'yesterday', 'thanks talk', 'did have', 'talked', 'formation', 'style background', 'changes in', 'requirement', 'day of', 'the complete', 'which is why', 'the author of', 'author of', 'me to the', 'rich', 'just few', 'have said', 'to become an', 'become an', 'not part', 'not part of', 'proceed', 'desire to', 'wondering if you', 'wondering if', 'etc the', 'print', 'oxford', 'planning', 'be added to', 'path', 'in several', 'we had', 'if any', '192', 'gained', 'the link to', 'be changed', 'of jewish', 'opinion that', 'adding nonsense to', 'guideline', 'bank', 'have done', 'to search', 'to search for', 'one of them', 'you both', 'hi thanks for', 'hi thanks', 'been used', 'albert', 'only when', 'experiment use the', 'to experiment use', 'experiment use', 'is not an', 'the other one', 'keep your', 'in the us', 'with little', 'don we', 'prophet', 'switzerland', 'would need to', 'baptist', '52', 'it either', 'this issue', 'is important', 'you good', 'that that', 'initial', 'appearing', 'few hours', 'ft', 'relevance of', 'should be removed', 'sure if', 'not already', 'the lines of', 'along the lines', 'especially on', 'deleting the', 'includes', 'the same as', 'to thank', 'long as you', 'cerebral palsy', 'cerebral', 'palsy', 'compatible', 'household', 'classic', 'this morning', 'reverted the', 'disabled', 'is perfectly', 'which had', 'sister', 'you create', 'are listed', 'comic', 'you about', 'the details', 'the roman', 'but most', 'in dispute', 'is made', 'us and', 'recent edits', 'may not be', 'dated', 'make them', 'one to', 'believing', 'ultra', 'seeing', 'article now', 'taken to', 'be verifiable', 'made no', 'article so', 'structure', 'to delete the', 'uruguay', 'the court', 'the page to', 'wikipedia hope', 'didn have', 'can be done', 'added to the', 'the south', 'his life', 'overview', 'in america', 'the intro', 'of talk', 'worldwide', 'titled', 'marine', 'closely', 'you can not', 'is absolutely', 'appreciated', 'talk page you', 'but in', 'people who have', 'nonsense to', 'nonsense to wikipedia', 'left out', 'with this', 'following', 'is no longer', 'emotional', 'tests you may', 'you do it', 'suicide', 'seen it', 'documents', 'religion', 'please give', 'and did not', 'sorts', 'it under', 'preview', 'jim', 'is their', 'unit', 'meta', 'presumably', 'note of', 'to decide', 'the owner', 'plenty of', 'terminology', 'themselves as', 'and did', 'page to learn', 'welcome page to', 'very poor', 'hope you will', 'documentation', 'given the', 'benjamin', '1953', 'for something', 'like to experiment', 'we use', 'to others', 'be nice to', 'plenty', 'in very', 'if ever', 'on which', 'from me', 'greece', 'might as', 'might as well', 'him the', 'contributors', 'can be verified', 'charged', 'straw', 'those that', 'to send', 'move to', 'resemblance', 'if you need', 'the national', 'to user', 'violates', 'undue weight', 'absurd', 'advertisement', 'have time to', 'and later', 'matches', 'apple', 'things you', 'worked and it', 'last year', 'pages of', 'shape', 'for discussion', 'you didn make', 'see the discussion', 'and support', 'proven', 'put that', 'to gain', 'eyes and', 'informative', 'are on', 'watched', 'of power', 'there are only', 'happened to', 'said the', 'and it has', 'focus on', 'support your', 'compared', 'else is', 'johnson', 'should be in', 'you check', 'to write an', 'write an', 'me to do', 'first place', 'the first place', 'in way', 'new here', 'racial', 'structured', 'was removed', 'reading it', 'member of the', 'contain', 'activist', 'if it was', 'to reflect', 'gotten', 'said in', 'the pictures', 'sides', 'to find the', 'note on', 'comfortable', 'use this', 'changing the', 'article seems to', 'socialist', 'article seems', 'are different', 'that article', 'questionable', 'to offer', 'result of the', 'the effects', 'find any', 'my response', 'be happy to', 'to clean', 'width', 'for it to', 'of the term', 'continues to', 'its talk page', 'this article the', 'not sure how', 'sure how', 'camera', 'committed', 'mails', 'into the article', 'be added', 'access to', 'note that you', 'good thing', 'set of', 'tie', 'claimed that', 'occasions', 'that very', 'using it', 'policies and', 'which of', 'way to get', 'superior', 'my comments', 'days and', 'for non', 'with wikipedia your', 'step', 'or removed please', 'performer', 'or make', 'no consensus', 'more work', 'put it in', 'classification', 'the pages', 'europeans', 'ends', 'explain the', 'torture', 'claiming that', 'the pov', 'are to', 'version of the', 'video', 'sufficiently', 'this file', 'decade', 'the did', 'template on', 'writings', 'but they are', 'or the other', 'edit wikipedia', 'anime', 'article don', 'used it', 'to wikipedia we', 'agent', 'that both', 'obscure', 'the church', 'is reached', 'tribes', 'scientists', 'there are several', 'are several', 'powerful', 'valid reason', 'place where', 'that we should', 'be great', 'left the', 'appear in', 'returns', 'them is', 'for general', 'has even', 'at the article', 'with other editors', 'and in the', 'experimenting with wikipedia', 'removed please use', 'minute', 'sam', 'not used', 'considered vandalism if', 'vandalism if you', 'vandalism if', 'you for experimenting', 'in the edit', 'jacob', 'appeals', 'generic', 'don feel', 'affiliation', 'and new', 'every other', 'both are', 'should be on', 'members of the', 'members of', 'references for', 'as if it', 'gale', 'operating', 'wikipedia your test', 'wikipedia your', 'stars', 'thousand', 'of science', 'discussion of', 'you thank you', 'you thank', 'time think', 'edit war', 'completely different', 'that case', 'word for', 'the context of', 'context of', 'in the context', 'the claims', 'one time', 'was it', 'would agree', 'in the area', 'not too', 'claims of', 'limited to', 'the military', 'no one has', 'efforts', 'function', 'the origin of', 'the origin', 'the article has', 'and completely', 'could find', 'working in', 'ethnic', 'mos', 'forth', 'totalitarian', 'is left', 'the place to', 'work together', 'for example the', 'example the', 'paint', 'to you and', 'be allowed', 'and many', 'editors on', 'is worth', 'have no problem', 'word of', 'people as', 'than it', 'area of', 'your test', 'for experimenting', 'test worked', 'test worked and', 'worked and', 'experimenting', 'for experimenting with', 'your test worked', 'experimenting with', 'sandbox for any', 'other tests', 'for any other', 'tests you', 'do take look', 'the sandbox for', 'to do take', 'other tests you', 'any other tests', 'sandbox for', 'at any rate', 'any rate', 'wikilink', 'as whole', 'edits were', 'entity', 'hl en', 'hl', 'correctly', 'didn make', 'to put it', 'came up', 'comes from', 'is listed', '1988', 'develop', 'ready to', 'minimum', 'edits consider creating', 'edits consider', 'relevance', 'the context', 'it obvious', 'is another', 'has been reverted', 'blocked from editing', 'he did not', 'that you ve', 'page can', 'the article will', 'it hard to', 'have provided', 'admin to', 'one source', 'the heads', 'issue with', 'want the', 'be to', 'end', 'of use', 'corrections', 'want to check', 'is considered vandalism', 'ask if', 'here are the', 'born in', 'the father', 'magazine', 'to some', 'article should be', 'confused', 'hmmm', 'etc are', 'edit is', 'no need to', 'promise', 'adolf', 'show the', 'to see that', 'make sure that', 'are your', 'article on the', 'ethnicity', 'used to be', 'the area', 'for help', 'the opening', 'the issue of', 'is by', 'not appear', 'that can be', 'since there', 'please sign', 'reverted or removed', 'been reverted or', 'it probably', 'at the welcome', 'contributing to our', 'to our encyclopedia', 'our encyclopedia', 'bit too', 'more about contributing', 'tests', 'bother to', 'would be good', 'redirects to', 'it says that', 'redirects', 'volume', 'curious', 'clinical', 'source which', 'would go', 'the welcome page', 'to learn more', 'welcome page', 'articles but', 'in another', 'northern', 'hard work', 'think your', 'stations', 'issue of', 'that only', 'even if it', 'it remains', 'we would', 'images for', 'accused of', 'to defend', 'be verified', 'procedure', 'the quote', 'origin of', 'it even', 'institution', 'read through', 'was blocked', 'opened', 'appeared on', 'opponents', 'as was', 'market', 'fighting', 'which says', 'was from', 'seek', 'fa', 'he got', 'serve', 'families', 'words in', 'is true', 'you agree', 'promotion', 'because there is', 'by an', 'matter to', 'started the', 'to even', 'the exact', 'of user', 'six months', 'deletion if you', 'deletion if', 'some sources', 'deleted from', 'conversation', 'article you', 'written in', 'capable of', 'capable', 'this kind of', 'your attention', 'war on', 'the topic of', 'topic of', 'them will', 'promotes', 'you added', 'to the talk', 'not feel', 'rotation', 'outdated', 'this seems', 'is different', 'majority', 'represented', 'romanian', 'remember to', '73', 'noted that', 'tank', 'school and', 'encyclopedia and', 'one of my', 'group of people', 'place in', 'never seen', 'case for', 'this but', 'have tried to', 'its use', 'turks', 'for its', 'long and', 'create articles', 'was given', 'concerning the', 'donating', 'coordinates', 'on him', 'what you mean', 'production', 'logo', 'the english language', 'ended up', 'seemed', 'post on', 'just have', 'the time of', 'institutions', 'what your', 'you deserve', 'songs', 'several times', 'opposing', 'as it stands', 'were in', 'why this', 'was used', 'is even', 'ideas', 'assistance', 'environment', 'script', 'the hard', 'captions', 'districts', 'versions of', 'for every', 'good for', 'in the deletion', 'our policies', 'if they do', 'it stands', 'the names of', 'or it', 'change and', 'in response', 'in response to', 'are more', 'arbitration', 'this matter', 'enemy', 'sudden', 'divine', 'climate change', 'get deleted', 'one other', 'at best', 'for how', 'the internet', 'contract', 'then please', 'ww2', 'listed for', 'listed for deletion', 'page also', 'tags to', 'for yourself so', 'further irrelevant', 'yourself so', 'consider creating', 'yourself so you', 'avoid further irrelevant', 'consider creating an', 'can avoid further', 'avoid further', 'account for yourself', 'an account for', 'you can avoid', 'can avoid', 'account for', 'of us', 'endless', 'larry', 'it still', 'trying to get', 'and especially', 'felt that', 'get me', 'to editing', 'article for the', 'if there was', 'case of', 'assigned', 'book and', 'citation needed', 'thanks for all', 'they need', 'improved', 'anywhere', 'posted on', 'covers', 'reliable sources that', 'an account', 'few of', 'are willing to', 'are willing', 'it gives', 'you have uploaded', 'partially', 'comment on the', 'more specific', 'for adminship', 'persistent', 'be an', 'points in', 'the article about', 'skin', 'be found here', 'found here', 'the biggest', 'treason', 'gaza', 'other one', '2012 utc', 'for wp', 'distinct', 'ethics', 'article which', 'me is', 'also please', 'chart', 'of doing', 'others have', 'your input', 'really not', 'absolutely nothing', 'images of', 'people with', 'lived', 'available on', 'all over the', 'the burden of', 'the burden', 'not want to', 'versus', 'this type', 'this type of', 'did not make', 've noticed', 'copies', 'fair use', 'defined', 'article and the', 'london', 'middle padding', 'align middle padding', 'you claim', 'felt', 'harry truman', 'truman', 'one', 'sims', 'page is not', 'is well', 'they had', 'are saying', 'congress', 'of what you', 'accept the', 'section of the', 'typically', 'the period', 'degrees', 'article into', 'but by', 'to agree', 'not because', 'storms', 'of death', 'still needs', 'korea', 'these links', 'review this', 'the few', 'remove it', 'loved', 'how to do', 'development', 'cricket', 'been trying to', 'been trying', 'not to be', 'in other', 'loaded', 'meaningful', 'poll', 'response to', 'have tried', 'the guy', 'christopher', 'of the discussion', 'division', 'article on wikipedia', 'add to the', 'smile', 'which means', 'similarly', 'to either', 'the page is', 'vaccines', 'answer', 'reputation', 'who added', 'it very', 'the entry', 'pet', 'there still', 'revealed', 'expressed', 'rhetoric', 'comments are', 'the information you', 'uncited', 'wikimedia foundation', 'the wikimedia foundation', 'the wikimedia', 'it was the', 'you started', 'improve it', 'living person', 'this article to', 'also see', 'there were', 'to accuse', 've found', 'they have been', 'my edits and', 'means the', 'minister', 'blah', 'have ever', 'life of', 'relevant to the', 'to something', 'for comment', 'with more', 'this place', 'and is not', 'even if you', 'that others', 'please participate', 'adding your comments', 'by adding your', 'well and', 'is shared ip', 'this is shared', 'shared ip address', 'but be', '2000', 'without discussion', 'manga', 'is about the', 'and the other', 'weapons', '120', 'other article', 're added', 'point out that', 'find this', 'some sort of', 'some sort', 'the events', 'and want to', 'of editors', 'fact that you', 'have been reverted', 'other editor', 'and added', 'freely', 'believe that it', 'set up', 'you mentioned', 'modify', 'is said', 'on my own', 'page there', 'the modern', 'in articles', 'not me', 'aircraft', 'is shared', 'amy', 'quality of', 'museum', 'mine', 'they re not', 'repeating', 'no source', 'the latter', 'latter', 'to link', 'fifth', 'prime', 'fit in', 'the way that', 'voting', 'ancestry', 'by using', 'at one', 'nations', 'is incorrect', 'conform to', 'bum', 'deletion', 'and you have', 'in each', 'comments at', 'about the article', 'this sentence', 'all have', 'first and', 'page that you', 'no mention of', 'watson', 'gfdl', 'the reason for', 'at me', 'write the', 'where can', 'heat', 'hans', 'conform', 'information about the', 'align center', 'knowledge of the', 'not by', 'not actually', 'help to', 'first it', 'in your edit', 'will also', 'has been listed', 'been listed', 'for instance', 'technical', 'indicated', 'was very', 'and as such', 'and talk', 'for over', 'route', 'deleted because', 'page will', 'intact', 'able', 'able to', 'hated', 'nine', 'trivial', 'wide', 'that do', 'the program', 'opening', 'kings', 'immediate', 'the law', 'if anyone', 'oil', 'can also', 'that at', 'alaska', 'this image', 'my talkpage', 'something about', 'learning', 'and no', 'holds', 'it hard', 'know that the', 'pulled', 'case the', 'any new', 'mechanics', 'time of', 'might be interested', 'court of', 'you are very', 'statements', 'issues with', 'few more', 'with wikipedia policies', 'but please', 'post the', 'to those', 'sugar', 'use is', 'since they', 'want to do', 'stands', 'the entire article', 'entire article', 'talk page for', 'clinton', 'be used to', 'applied to', 'the wording', 'as source', 'theatre', 'in short', 'up', 'professors', 'bigot', 'would have to', 'didn mean', 'didn mean to', 'comments to', 'but if you', 'on the list', 'choice', 'sources that', 'have taken', 'one way or', 'way or', 'just for', 'something to do', 'wp rm', 'arabic', 'mention of the', 'rob', 'we do', 'signing', 'that why', 'shortly', 'just another', 'first paragraph', 'hi there', 'geography', 'at any time', 'scan', 'given that the', 'text that', 'he is not', 'respectfully', 'to recognize', 'are the same', 'admitted', 'did he', 'wins', 'of the links', 'that there are', 'reflect the', 'autoformatting', 'clear to', 'they are the', 'you talk', 'rm', 'your edit to', 'him on', 'there are some', 'note the', 'indicating', 'shi', 'the afd', 'qualify', 'doubt that', 'to make this', 'to remain', 'hundreds', 'used by the', 'engineering', 'an old', 'are some', 'the french', 'extensive', 'notable enough', 'your actions', 'not seem', 'make this', '215', 'view of', 'the system', 'are two', 'the games', 'practical', 'in mind that', 'whilst', 'been there', 'not have been', 'should not have', 'served', 'to resolve', 'to where', 'on this', 'favorite', 'the advice', 'body of', 'reason to', 'database', 'to stand', 'to do the', 'on for', 'there has been', 'page see', 'one of these', 'is much', 'them and', 'euro', 'station', 'going back', 'did that', 'as you have', 'these days', 'caution', 'in both', 'is based on', 'medical', 'the upper', 'answer to', 'is based', 'first of all', 'first of', 'to protect', 'recognize', 'this book', 'shot', 'secondary sources', 'claim to', 'engine', 'all the time', 'in its', 'questions about', 'any further', 'nuclear', 'figure out', 'the work', 'my very', 'and others', 'outside of', 'software', 'this article with', 'many thanks', 'isn about', 'to speak', 'in order to', 'friends', 'figures', 'act like', 'but it was', 'the official name', 'the language', 'interviews', 'from here', 'effect on', 'review the', 'to anything', 'tells', 'technically', 'which can', 'interest of', 'handled', 'don see', 'responding', 'privacy', 'impressed', 'the unblock', 'consensus for', 'should get', 'removed please', 'page explaining', 'to take look', 'let it', 'he won', 'reasonably', 'effects', 'deletion or', 'most likely', 'order to', 'wp or', 'policy to', 'for those', 'expression', 'any other', 'rules and', 'misunderstanding', 'ips', 'not the case', 'dictionary', 'ago and', 'instances', 'gas', 'page has been', 'at this point', 'talk contrib', 'contrib', 'much for your', 'very much for', 'physics', 'the history', 'associated with the', 'granted', 'refer to the', 'can see the', 'but had', 'demonstrates', 'on the main', 'correct the', 'is full of', 'linguistic', 'sysop', 'but was', 'links from', 'pretty', 'wp own', 'players', 'article talk page', 'pacific', 'talk list of', 'talk list', 'losing', 'more info', 'methods', 'already said', 'ought to be', 'it was just', 'down the', 'an argument', 'moreover', 'which was', 'the village', 'to name', 'wikipedia notability', 'admins', 'third party', 'page to', 'meaningless', 'purposes', 'the section', 'recognized', 'profile', 'be clear', 'mainstream', 'comments and', 'link for', 'authorities', 'preference', 'logged', 'but should', 'reverse', 'add some', 'would need', 'edits in', 'his comments', 'each of', 'in addition', 'they should', 'requesting', 'beliefs', 'the cia', 'at the very', 'concepts', 'all in', 'is on', 'regime', 'in line', 'or anything', 'punishment', 'applied', 'it about', 'were all', 'of new', 'now we', 'other sources', 'pointing out', 'hits', 'association', 'and it not', 'mention that', 'there has', 'and that you', 'person and', 'well written', 'adding to the', 'is written', 'ought', 'ought to', 'it shows', 'and with', 'is allowed', 'as have', 'administrators', '1976', 'material is', 'history the', 'yeah', 'welcome and', 'flags', 'for someone', 'description page', 'put them', 'minded', 'links to', 'the bottom of', 'they don have', 'reason is', 'way and', 'ms', '1st', 'summaries', 'edit summaries', 'not enough', 'add this', 'source to', 'name in', 'what kind of', 'what kind', 'be true', 'you try', 'hypothesis', 'navy', 'defending', 'troops', 'did nothing', 'this article and', 'watt', 'living people', 'newer', 'changes to the', 'forums', 'have come', 'that he was', 'thousands', 'the main page', 'supremacist', 'central', 'main', 'of thing', 'who isn', 'those articles', 'the years', 'goal', 'investigate', 'officially', 'forced to', 'only as', 'license and', 'continental', 'however it is', '2009 utc', 'hunt', 'but rather', 'related to', 'slander', 'primarily', 'closer', 'point to', 'screen', 'about him', 'acknowledge', 'village pump', 'appearance', 'marked', 'sources as', 'elite', 'not there', 'conclusion that', 'the article to', 'has its', 'section for', 'in history', 'trees', 'more neutral', 'you prefer', 'safety', 'points of', 'established', 'to sign', 'tough', 'contrast', 'format', 'why the', 'that when', 'life in', 'to make the', 'with our', 'to which', 'directory', 'the change', 'wikipedia wikipedia', 'publicly', 'prison', 'content dispute', 'can agree', 'actress', '54', 'situation and', 'forces', 'reference the', 'was the first', 'am trying to', 'am trying', 'teams', 'liked', 'to you but', 'changed to', 'another editor', 'clause', 'produce', 'the article or', 'remains that', 'to expand', 'to hold', 'not know', 'video game', 'and got', 'opportunity to', 'only way', 'the only way', 'my own talk', 'the stuff', 'feels', 'there but', 'critics', 'article what', 'login', 'just the', 'fighters', 'factory', 'fought', 'proposals', 'aug', 'and sourced', 'you know of', 'lifted', 'not edit', 'fresh', 'that source', 'place of', 'the conclusion', 'feet', 'on talk page', 'oppose the', 'sources are', 'singles', 'handed', 'risk', 'it what', 'mary', 'and the only', 'and wp', 'say the', 'exist in', 'it is an', 'have looked', 'on from', 'details of', 'some time', 'to state', 'to one', 'its talk', 'with regards to', 'classes', 'with regards', 'saying the', 'and had', 'only the', 'it there', 'it thanks', 'an actual', 'currently is', 'with another', 'anniversary', 'tildes', 'have something', 'want me to', 'an', 'levels', 'taking the', 'with someone', 'how to edit', 'religions', 'the australian', 'the description', 'registered', 'challenged', 'exclusively', 'have created', 'norway', 'would appreciate', 'nationalist', 'whether or not', 'whether or', 'admitting', 'because we', 'this in', 'on page', 'click here', 'the region', 'this talk page', 'the correct', 'if you did', 'really have', 'this evidence', 'the numbers', 'regards to', 'building', 'know was', 'comments about', 'the others', 'the impression that', 'impression that', 'the impression', 'serving', 'if you look', 'the users', 'work that', 'numbers of', 'do not remove', 'have one', 'items', 'see talk', 'info and', 'was changed', 'artillery', 'permitting', 'can not', 'you add', 'similar to', 'it is still', '2011 utc', 'maine', 'whole section', 'the discussion at', 'return to', 'at all the', '190', 'you did not', 'cases', 'from those', 'although it', 'what is your', 'represents the', 'spirituality', 'represents', 'the back', 'one could', 'alexander', 'different than', 'temporary', 'baker', 'to apologize', 'unblock request', 'stop this', '53', 'along the', 'up here', 'section about', 'such as the', 'poisoning', 'for each', 'walking', 'them that', 'in these', 'be taken', 'open to', 'to the subject', '193', 'for short', 'have access to', 'has not', 'are already', 'bands', 'pages which', 'made an', 'own article', 'have found', 'among the', 'term is', 'the long', 'your recent', 'maybe you', 'gold', 'minority', 'asian', 'so think', 'the greek', 'thanks and', 'help and', 'the article on', 'effort to', 'people not', 'show that', 'may also', 'phenomenon', 'an email', 'that the article', 'additional information', 'claiming to', 'the new article', 'belief', 'burden', 'as part', 'as part of', 'foundation', 'adds', 'should take', 'somewhere', 'to death', 'question the', 'the ground', 'of space', 'does not belong', 'title of the', 'sentence is', 'coast', 'as some', 'to the new', 'myself', 'not belong', 'the disambiguation page', 'the disambiguation', 'in new', 'because it was', 'it why', 'monday', 'sets', 'agreed to', 'gonna', 'read wikipedia', 'in the same', 'square', 'hundred', 'this point', 'same as', 'tool', 'fringe', 'the purpose of', 'purpose of', 'the purpose', 'case you', 'rationale for', 'तर', 'തല', 'all the best', 'easily', 'time that', 'not yet', 'but until', 'is to be', 'the title of', 'title of', 'the tv', 'be used', 'be blocked', 'secondary', 'already been', 'in the next', 'doesn exist', 'agf', 'good article', 'wikiprojects', 'empire', 'has done', 'the canadian', 'to do', 'have uploaded', 'be so', 'once the', 'article thanks', 'birds', 'and by', 'the use of', 'roots', 'the use', 'wishing', 'she did', 'no place', 'suck my dick', 'the subject matter', 'summary of', 'guess what', 'don do', 'end of the', 'pump', 'the battle', 'enjoyed', 'that but', 'till', 'copy of', 'for more', 'the paragraph', 'middle east', 'lift', 'complex', 'reflect', 'source but', 'meant to be', 'exists', 'nomination for', 'becoming', 'considered reliable', 'yellow', 'very much', 'please be', 'don seem to', 'don seem', 'making it', 'prepared to', 'removed and', 'as good', 'mountain', 'only people', 'unique', 'some of them', 'wikipedia wikiproject', 'he never', 'infamous', 'subjective', 'it could be', 'delete my', 'during his', 'the dispute', 'know why', 'of non', 'if you could', 've removed', 'new to wikipedia', 'battle of', 'wikipedia articles for', 'suggests', 'wikipedia as you', 'of the page', 'so why', 'alternative', 'are better', 'there will be', 'there will', 'the evidence', 'to add it', 'is wikipedia', 'also be', 'newly', 'user space', 'keep in', 'ana', 'potential', 'line is', 'system and', 'sources for', 'll take', 'of the two', 'this if', 'just about', 'be as', 'stand', 'is in the', 'like to know', 'to fix the', 'investigation', 'fix the', 'are reliable', 'to and', 'that really', 'place and', 'but ve', 'english language', 'it best', 'can be seen', 'blanking', 'the contrary', 'articles for deletion', 'do anything', 'wrestling', 'and believe', 'not mentioned', 'draft', 'be seen', 'both of', 'been reverted', 'the so called', 'the so', 'many articles', 'as that', 'simply because', 'cd', 'it is now', 'waiting for', 'it can be', 'in bad faith', 'an image', 'roberts', 'was for', 'waiting', 'what it is', 'addition to', 'prepared', 'now ve', 'groups', 'of the word', 'saw your', 'ultimately', 'having an', 'confidence', 'question of', 'contains', 'to remove the', 'begin', 'the data', 'your support', 'page of the', 'and that the', 'to this page', 'since it is', 'at the end', 'agree that', 'wikipedia editors', 'pillars', 'section it', 'jan 2005 utc', 'jan 2005', 'there no need', 'discouraged', 'in the early', 'provides', 'the discussion to', 'can use', 'specially', 'signature', 'considered vandalism', 'sourcing', 'hi just', 'not necessary', 'regard', 'talk page is', 'they seem to', 'they seem', 'regional', 'amazing', 'believe this', 'couldn find', 'to publish', 'anything but', 'any kind of', 'nationalistic', 'article should', 'physically', 'based on', 'the temple', 'stating that', 'of two', 'published in', 'have another', 'no mention', 'he has been', 'that paragraph', 'because they', 'paragraph is', 'the date of', 'product', 'are interested in', 'you are interested', 'organized', 'guess that', 'are interested', 'for the rest', 'hong', 'to discuss', 'on may', 'far as know', 'can help', 'banned from', 'christianity', 'evolution', 'edit in', 'know how to', 'reliable source', 'the film', 'and here', 'to reduce', 'reduce', 'contrary', 'of the united', 'might not', 'diagram', 'grade', 'the phrase', 'that being', 'is great', 'greatly', 'perceived', 'that not the', 'the opinion', 'by creating', 'actually the', 'aviation', 'in one', 'to both', 'know this', 'images and', 'largely', 'resource', 'to refer to', 'to refer', 'but think', 'hebrew', 'web page', 'do your', 'the only thing', 'only thing', 'ron', 'png', 'editing talk', 'philosophy', 'so it is', 'it means', 'on the same', 'by adding to', 'something that', 'of evidence', 'realize that', 'worked', 'myths', 'is meant', 'moral', 'publish', 'meaning of the', 'version and', 'thorough', 'delete this', 'uses', 'on these', 'the state', 'consider this', 'as there is', 'as there', 'to add to', 'what this', 'hidden', 'userspace', 'and it was', 'that need', 'enemies', 'psychology', 'in good faith', 'articles for', 'biographical', 'engage in', 'now the', '1990s', 'with in', 'articles you', 'there isn', 'in good', 'do not have', 'time please', 'article will be', 'edited the', 'remember the', 'the article talk', '2014 utc', 'twisted', 'is that you', 'right in', 'for the', 'description of the', 'was just', 'would be more', 'pages you', 'jobs', 'indicate the', 'to the same', 'visited', 'thanks for your', 'let see', 'working on', 'not appropriate', 'the help desk', 'help desk', 'ghost', 'forms', 'with which', 'this you', 'bits', 'suggesting that', 'court', 'which is not', 'click on', 'if you know', 'that with', 'on my user', 'being sent to', 'being sent', 'was deleted', 'dealing with', 'dealing', 'adding nonsense', 'it back to', 'and because', 'your block', 'village', 'comment and', 'any help', 'he would', 'it could', 'it talk', 'wonder if', 'for all of', 'blocked me', 'gives the', 'here is the', 'realize', 'lots', 'and hopefully', 'scrutiny', 'returned to', 'user_talk', 'നത', 'ഒര', 'വന', 'once you', 'make an', 'the way the', 'appropriate to', 'is full', 'source of', 'will be deleted', 'http books', 'books id', 'books google', 'http books google', 'refs', 'needs some', 'gender', 'chronology', 'noticeboard incidents', 'wikipedia administrators', 'one if', 'in the book', 'do not vandalize', 'not vandalize pages', 'an entry', 'article can', 'brown', 'do nothing', 'wikipedia talk', 'to be one', 'when have', 'shared ip', 'thoughts on', 'group of', 'pastor', 'the family', 'not create', 'this so', 'to respond to', 'stretch', 'seeing as', 'that you should', 'inclined to', 'unsourced and', 'know of', 'to articles', 'has written', 'be deleted if', 'deleted if', 'citation for', 'wikipedia it is', 'wikipedia it', 'learn more about', 'claims', 'it this', 'air', 'मध', 'आपल', 'provide evidence', 'he did', 'at talk', 'not valid', 'you help', 'inclined', 'got the', 'knox', 'the names', 'be happy', 'images are', 'think that you', 'users who', 'but your', 'address and you', 'learn more', 'wasn there', 'wikipedia policies', 'this does', 'stopped', 'of in', 'the meaning of', 'to identify', 'the largest', 'one way', 'actions are', 'match', 'thank you very', 'to hear', 'resolve', 'proposal', 'inspired', 'of any', 'principal', 'ip address and', 'address and', 'education', 'regularly', 'strategy', 'need to do', 'intentional', 'the issue', 'that as', 'students', 'the importance', 'and happy', 'stay in', 'be helpful', 'weather', 'the background', 'opportunity', 'organisation', 'visit', 'remember that', 'to do this', 'here we', 'obvious that', 'it in the', 'the deletion discussion', 'deletion discussion', 'returned', 'william', 'luther', 'he wasn', 'these issues', 'as of', 'name the', 'choosing', 'updates', 'peer review', 'cites', 'the books', 'enforcement', 'any such', 'any kind', 'more about', 'all about', 'spent', 'bottom of', 'complicated', 'or to', 'that many', 'caption', 'search for', 'of both', 'need to know', 'the american', 'we need to', 'differ', 'which are not', 'don think this', 'to discuss the', 'ways to', 'suggesting', 'first you', 'submission', 'more than', 'blatant', 'eagle', 'opinion of', 'considering the', 'jacksonville', 'happy new year', 'happy new', 'to his', 'on those', 'ukrainian', 'fact it', 'doesn mean', 'richard', 'article in', 'dylan', 'the group', 'whereas', 'gave you', 'for this section', 'sales', 'the existing', 'web sites', 'existing', 'libel', 'synthesis', 'propose', 'need help', 'could someone', 'gothic', 'new year', 'added to', 'the need to', 'continue to do', 'do so you', 'so you will', 'there is not', 'although the', 'apr', 'in the uk', 'years old', 'spell', 'please note', 'your post', 'need more', 'universe', 'the meaning', 'pasted', 'you did to', 'did to', 'with her', 'to the other', 'my friend', 'to assume that', 'democratic', 'couple of', 'strict', 'edits on', 'an encyclopedia article', 'the appropriate', 'to vandalize pages', 'names of', 'citizens', 'consensus on', 'read and', 'considered as', 'user talk page', 'be the best', 'this page and', 'editors are', 'ground', 'on specific', 'to reach', 'to assume', 'weekend', 'think it should', 'article by', 'begins', 'the uk', 'and might', 'anon', 'shocking', 'violation of wp', 'revolution', 'attack and', 'dark', 'list it', 'have more', 'climate', 'it seems to', 'that the only', 'makes', 'ex', 'one sided', 'sided', 'couple', 'there needs', 'categories', 'have removed the', 'application of', 'your own', 'well be', 'is it possible', 'name as', 'have been involved', 'been involved', 'argument', 'you why', 'reliably', 'use of the', 'whatsoever', 'vandalism and', 'in the process', 'times the', 'link if you', 'memory', 'noteworthy', 'link if', '24 hour', 'please do', 'go out', 'britain', 'anything that', 'in the history', 'hawaii', 'god is', 'formatting', 'what ve', 'is of', 'one has', 'not remove', 'your head', 'and of', 'they both', 'you need to', 'the term', 'beat', 'the election', 'identify', 'explanation of', 'fyrom', 'google com', 'on the subject', 'are used', 'the university of', 'release the', 'section on', 'linking', 'just add', 'it is all', 'and get', 'sources you', 'peer reviewed', 'such as this', 'errors', 'please leave', 'page not', 'in the infobox', 'sense to', 'one or two', 'their way', 'the university', 'your concerns', 'their talk', 'all we', 'adding the', 'site that', 'done in', 'way that', 'the actual', 'hopefully', 'perform', 'regarding', 'know if you', 'have added', 'the links', 'hero', 'the lds', 'lds', 'some editors', 'tropical', 'to the main', 'there lot', 'done to', 'ങള', 'about her', 'page about', 'which has', 'some more', 'my talk page', 'my talk', 'correct and', 'so that you', 'reconsider', 'journalists', 'person is', 'integrity', 'is certainly not', 'pattern', 'here in', '91', 'brought up', 'accurately', 'bizarre', 'evidence of', 'virginia', 'design', 'advise', 'be good', 'searched', 'information on', 'placed', 'no problems', 'you ve', 'net', 'can assure', 'the science', 'your questions', 'obviously not', 'spoke', 'dependent', 'it an', 'assure', 'the text', 'at the time', 'female', 'articles that', 'ethnic groups', 'do you know', 'contributed to', 'see also', 'theory', 'the middle', 'part of the', 'application', 'occupation', 'wp 3rr', 'was about', 'one day', 'find anything', 'the review', 'to place', 'image is', 'is likely', 'an article about', 'to block me', 'but you are', 'title and', 'split', 'brackets', 'the tag', 'an american', 'get more', 'combination of', 'on to', 'be moved', 'told you', 'discussion is', 'large number of', 'large number', 'to add the', 'references and', 'first sentence', 'conducted', 'hence the', 'has made', 'chemistry', 'solutions', 'authors', 'click', 'don need', 'appreciate the', 'but will', 'cut and', 'from one', 'is something', 'would it', 'notices', 'dedicated to', 'aka', 'loss of', 'every day', 'site is', 'track', 'impact', 'what that', 'some useful', 'you now', 'thing as', 'positive', 'language and', 'please do so', 'microsoft', 'competition', 'on vandalism', 'administrators noticeboard', 'tomorrow', 'grant', 'thoughts', 'something like', 'less than', 'the late', 'in discussion', 'the fact is', 'ideal', 'add the', 'someone else', 'runs', 'the very', 'moving', 'though you', 'in order', 'is certainly', 'noticed that you', 'from my', 'would not be', 'relationship between', 'likely to be', 'user name', 'narrow', 'one else', 'no one else', 'the removal', 'the person who', 'thread', 'department of', 'the reader', 'content to', 'exactly the', 'രങ ങന', 'person in', 'improve this', 'review and', 'seems to me', 'and blocked', 'be of', 'completed', 'lawdy', 'not allowed', 'purely', 'you are welcome', 'are welcome to', 'attitude', 'dozens of', 'dozens', 'input', 'they do not', 'england', 'say so', 'the japanese', 'no you', 'your opinions', 'from his', 'page it is', 'shoot', 'to it and', 'hoping', 'one with', 'material you', 'cia', 'belongs to', 'again please', 'you should be', 'together with', 'series of', 'indication', 'it appears', 'page and you', 'car', 'of knowledge', 'cite', 'the infobox', 'up this', 'viewing', 'we know', 'check out the', 'rev', 'produced', 'not seeing', 'it to be', 'abusive', 'the process', 'of years', 'alphabet', 'editing here', 'relating to', 'relating', '2008 utc', 'of citations', 'it back', 'reception', 'status', 'upon the', 'to participate', 'invented', 'with other', 'that statement', 'conservative', 'need some', 'listed on the', 'listed on', 'out what', 'possible that', 'article the', 'makes no', 'looking through', 'tactics', 'look', 'deadly', 'to update', 'authorship', 'you disagree', 'encyclopedia article', 'never be', 'more details', 'wizard', 'here so', 'briefly', 'the date', 'defining', 'discuss', 'river', 'you may have', 'by his', 'go on', 'it right', 'davis', 'supported by', 'you call', 'who would', 'see his', 'protect', 'be useful', 'territories', 'showing', 'but an', 're your', 'decisions', 'disagree with the', 're talking about', 're talking', 'doesn have', 'do not use', 'it is clear', 'warn', 'italian', 'acts', 'websites', 'in relation', 'in relation to', 'relation to', 'we might', 'which are', 'not use', 'as to whether', 'to whether', 'in an article', 'the information is', 'scene', 'to date', 'which only', 'or two', 'does not exist', 'voice', 'that person', 'some are', 'the public', 'so you can', 'document', 'unless the', 'the article with', 'since you', 'own talk', 'own talk page', 'content is', 'delay', 'reviewer', 'please help', 'proposed', 'useful for', 'so you may', 'to arbcom', 'and you didn', 'edit on', 'it was', 'where she', 'the early', 'not exist', 'too long', 'especially the', 'the facts', 'elected', 'next to', 'removing the', 'ങന', 'primary source', 'improve the article', 'very hard', 'update the', 'also in', 'that in the', 'to in', 'states that', 'years and', 'regarded as', 'regarded', 'you took', 'multi', 'to describe', 'trying to be', 'the article as', 'are welcome', 'flagged', 'van', 'sin', 'then we', 'member of', 'the north', 'however this', 'be that', 'catch', 'you wish', 'me know if', 'most of them', 'fame', 'would never', 'historic', '19', 'to point out', 'let alone', 'adopted', 'should be mentioned', 'the images', 'reading the', 'logos', 'be included in', 'feel the', 'fit', 'wouldn have', 'fail', 'citing', 'frame', 'put on', 'and at', 'is there any', 'columbia', 'photographic', 'to cite', 'it is the', 'it would have', 'books and', 'used for', 'because there', 'and ask', 'correction', 'says it', 'can be found', 'descent', 'moon', 'sun', 'pointed out', 'chicago', 'the meantime', 'in the meantime', 'meantime', 'bring this up', 'the need', 'of sources', 'institute', 'spotted', 'normally', 'in high', 'see it', 'hospital', 'invited', 'you re going', 'can provide', 'on any', 'project and', 'se', 'is neither', 'this up', 'to accept', 'subpage', 'for me to', 'dates', 'single page', 'and take', 'the help', 'reverted or', 'agree with the', 'is quite', 'not remove the', 'pointed', 'genuine', 'some', 'par', 'they ll', 'only for', 'thinking about', 'doing that', 'should be included', 'really do', 'they didn', 'filter', 'blogs', 'suggested', 'and am not', 'please go', 'referred to as', 'clock', 'heading', 'good faith and', 'faith and', 'does not make', 'real', 'has also', 'patients', 'appeared', 'copying', 'it clear', 'easier to', 'it actually', 'legitimate', 'include this', 'adding your', 'people the', 'surface', 'something to', 'resolution', 'really need', 'any time', 'lifetime', 'work', 'he seems', 'he seems to', 'chosen', 'progress', 'invite', 'assuming good faith', 'assuming good', 'would make', 'connected', 'for taking', 'case is', 'your information', 'good work', 'wanted to let', 'your original', 'of the same', 'friendly', 'rather than just', 'the fact that', 've done', 'external links', 'starting', 'someone you', 'typing', 'responses', 'not make any', 'heads up', 'from that', 'drv', 'remaining', 'asp', 'please stop adding', 'page would', 'who can', 'mexico', 'continuing to', 'alleged', 'fish', 'with references', 'this as', 'journalist', 'it over', 'opinion it', 'up to the', 'claim of', 'doing so', 'rate', 'have removed', 'leaves', 'only been', 'destroying', 'and verified', 'of life', 'apply to', 'rod', 'ship', 'it when', 'ask for', 'and being', 'but when', 'located', 'be back', 'talk page and', 'broken', 'me as', 'can see how', 'not about', 'article space', 'value', 'you never', 'required to', 'it to the', 'that they re', 'because of', 'the band', 'place to', 'will try to', 'problematic', 'because you have', 'hope to', 'will try', 'article there', 'leads', 'the good work', 'an ip', 'records', 'with the same', 'was wrong', 'to determine', 'sorry to', 'extremely', 'cars', 'allegations', 'by me', 'the suggestion', 'and there is', 'nationalism', 'on both', 'in bad', 'this is why', 'the common', 'my rfa', 'refers to', 'refers', 'hmm', 'is needed', 'the red', 'involves', 'the lack', 'the lack of', 'policy you', 'created the', 'need to get', 'type', 'to actually', 'url', 'direction', 'mentioned that', 'article will', 'requirements', 'my view', 'well documented', 'but at', 'आम', 'the majority of', 'biases', 'to what', 'appears in', 'apparent', 'people who', 'on wikipedia for', 'be worth', 'to pass', 'impression', 'don even', 'perhaps it', 'temple', 'assume good faith', 'assume good', 'golden', 'when was', 'containing', 'you can just', 'can just', 'determine', 'the war', 'you think that', 'information to the', 'was thinking', 'but from', 'on my page', 'the result of', 'love to', 'about my', 'documentary', 'arabs', 'of edits', 'anything else', 'interested in the', 'soccer', 'in the first', 'conflict of', 'conflict of interest', 'my personal', 'health', 'justification for', 'the result', 'conclusions', 'newsletter', 'approach', 'world view', 'book or', 'dedicated', 'make that', 'in the past', 'the palestinian', 'was made', 'unjustified', 'over and over', 'the research', 'view and', 'other pages', 'bit more', 'your changes', 'show me', 'looked like', 'but as', 'and thanks for', 'assumed', 'describes', 'thanks to', 'mike', 'found at', 'it possible', 'shows', 'your argument', 'of the people', 'you said', '1980', 'is ridiculous', 'one might', 'reviews', 'sanchez', 'wikipedia as', 'poorly written', 'affair', 'wild']\n"
          ],
          "name": "stdout"
        }
      ]
    },
    {
      "cell_type": "code",
      "metadata": {
        "id": "dmzw8SOe4Snz",
        "colab_type": "code",
        "colab": {
          "base_uri": "https://localhost:8080/",
          "height": 35
        },
        "outputId": "07983aca-bf73-4dd7-81ee-87ca551a108b"
      },
      "source": [
        "len(top_tox)"
      ],
      "execution_count": null,
      "outputs": [
        {
          "output_type": "execute_result",
          "data": {
            "text/plain": [
              "10000"
            ]
          },
          "metadata": {
            "tags": []
          },
          "execution_count": 184
        }
      ]
    },
    {
      "cell_type": "markdown",
      "metadata": {
        "id": "86EmKm7ew5pc",
        "colab_type": "text"
      },
      "source": [
        "Теперь сравним этот список со списками самых частотных слов с нулём в колонке 'toxic', но единичкой в какой-то другой. Данные слова не обязательно указывают на токсичность комментария, а значит их наличие в тренировочной выборке может негативно сказываться на качестве модели. Однако если слово при этом, содержится и в списке severe, то удалять его не будем. "
      ]
    },
    {
      "cell_type": "code",
      "metadata": {
        "id": "GnnhHjyuwM-N",
        "colab_type": "code",
        "colab": {}
      },
      "source": [
        "delete_lst = []\n",
        "for word in top_tox:\n",
        "  if word in severe:\n",
        "    continue\n",
        "  elif word in NT_obs or word in NT_thr or word in word in NT_ins or word in NT_ih:\n",
        "    delete_lst.append(word)\n",
        "  else:\n",
        "    continue"
      ],
      "execution_count": null,
      "outputs": []
    },
    {
      "cell_type": "code",
      "metadata": {
        "id": "31G3U6SDxmHq",
        "colab_type": "code",
        "colab": {
          "base_uri": "https://localhost:8080/",
          "height": 35
        },
        "outputId": "9b90c420-65cf-4e72-9b41-318bfa0edcb9"
      },
      "source": [
        "len(delete_lst)"
      ],
      "execution_count": null,
      "outputs": [
        {
          "output_type": "execute_result",
          "data": {
            "text/plain": [
              "754"
            ]
          },
          "metadata": {
            "tags": []
          },
          "execution_count": 186
        }
      ]
    },
    {
      "cell_type": "markdown",
      "metadata": {
        "id": "sH0-khKcxmnr",
        "colab_type": "text"
      },
      "source": [
        "Теперь отфильтруем эти слова. "
      ]
    },
    {
      "cell_type": "code",
      "metadata": {
        "id": "k5HDzf-T4L4I",
        "colab_type": "code",
        "colab": {}
      },
      "source": [
        "def normalize2(text):\n",
        "  text = re.sub('\\n|\\t|\\s\\\"', ' ', text)\n",
        "  text = re.sub(f'[{punctuation}]', ' ', text)\n",
        "  text = re.sub('\\d+', ' ', text)\n",
        "  text = text.lower()\n",
        "  #print(type(text))\n",
        "  for word in delete_lst:\n",
        "    text = text.replace(word, '')\n",
        "    #text = re.sub(en_stops, ' ', text)\n",
        "  text = re.sub('\\s+', ' ', text)\n",
        "\n",
        "  return text"
      ],
      "execution_count": null,
      "outputs": []
    },
    {
      "cell_type": "code",
      "metadata": {
        "id": "OHB3Cp-l4x84",
        "colab_type": "code",
        "colab": {}
      },
      "source": [
        "sample1['comment_text_norm'] = sample1['comment_text'].apply(normalize2)"
      ],
      "execution_count": null,
      "outputs": []
    },
    {
      "cell_type": "code",
      "metadata": {
        "id": "QBSXUOtE8TZL",
        "colab_type": "code",
        "colab": {
          "base_uri": "https://localhost:8080/",
          "height": 494
        },
        "outputId": "d9624a88-c6a2-4487-e85a-c70bf4dff807"
      },
      "source": [
        "sample1.head(10)"
      ],
      "execution_count": null,
      "outputs": [
        {
          "output_type": "execute_result",
          "data": {
            "text/html": [
              "<div>\n",
              "<style scoped>\n",
              "    .dataframe tbody tr th:only-of-type {\n",
              "        vertical-align: middle;\n",
              "    }\n",
              "\n",
              "    .dataframe tbody tr th {\n",
              "        vertical-align: top;\n",
              "    }\n",
              "\n",
              "    .dataframe thead th {\n",
              "        text-align: right;\n",
              "    }\n",
              "</style>\n",
              "<table border=\"1\" class=\"dataframe\">\n",
              "  <thead>\n",
              "    <tr style=\"text-align: right;\">\n",
              "      <th></th>\n",
              "      <th>id</th>\n",
              "      <th>comment_text</th>\n",
              "      <th>toxic</th>\n",
              "      <th>severe_toxic</th>\n",
              "      <th>obscene</th>\n",
              "      <th>threat</th>\n",
              "      <th>insult</th>\n",
              "      <th>identity_hate</th>\n",
              "      <th>comment_text_norm</th>\n",
              "    </tr>\n",
              "  </thead>\n",
              "  <tbody>\n",
              "    <tr>\n",
              "      <th>128037</th>\n",
              "      <td>acd47a6c06c4d1f8</td>\n",
              "      <td>Fuck Wikipedia!!! \\n\\nPeace (except to Wikipedia)</td>\n",
              "      <td>1</td>\n",
              "      <td>1</td>\n",
              "      <td>1</td>\n",
              "      <td>0</td>\n",
              "      <td>0</td>\n",
              "      <td>0</td>\n",
              "      <td>fuck wikipedia peace cept to wikipedia</td>\n",
              "    </tr>\n",
              "    <tr>\n",
              "      <th>208780</th>\n",
              "      <td>c40dc2b2890a95ab</td>\n",
              "      <td>::That is discussion among experts. 1965 war m...</td>\n",
              "      <td>0</td>\n",
              "      <td>0</td>\n",
              "      <td>0</td>\n",
              "      <td>0</td>\n",
              "      <td>0</td>\n",
              "      <td>0</td>\n",
              "      <td>that is discuion among war maybe un ceafire w...</td>\n",
              "    </tr>\n",
              "    <tr>\n",
              "      <th>5192</th>\n",
              "      <td>0dd47ea93d47e518</td>\n",
              "      <td>Re-adding anti-barnstar\\n Anti-Barnstar</td>\n",
              "      <td>0</td>\n",
              "      <td>0</td>\n",
              "      <td>0</td>\n",
              "      <td>0</td>\n",
              "      <td>0</td>\n",
              "      <td>0</td>\n",
              "      <td>re adding anti barnstar anti barnstar</td>\n",
              "    </tr>\n",
              "    <tr>\n",
              "      <th>50057</th>\n",
              "      <td>85c6afcc7c206a1a</td>\n",
              "      <td>\"\\nCopying to talk page. serenC \"</td>\n",
              "      <td>0</td>\n",
              "      <td>0</td>\n",
              "      <td>0</td>\n",
              "      <td>0</td>\n",
              "      <td>0</td>\n",
              "      <td>0</td>\n",
              "      <td>to talk page renc</td>\n",
              "    </tr>\n",
              "    <tr>\n",
              "      <th>109259</th>\n",
              "      <td>484bf6015ebcb2e2</td>\n",
              "      <td>On edit: forgot to actually .</td>\n",
              "      <td>0</td>\n",
              "      <td>0</td>\n",
              "      <td>0</td>\n",
              "      <td>0</td>\n",
              "      <td>0</td>\n",
              "      <td>0</td>\n",
              "      <td>on edit forgot to actually</td>\n",
              "    </tr>\n",
              "    <tr>\n",
              "      <th>73349</th>\n",
              "      <td>c43da478b3a8acde</td>\n",
              "      <td>Who is in charge of Russia? Putin or Medevev? ...</td>\n",
              "      <td>0</td>\n",
              "      <td>0</td>\n",
              "      <td>0</td>\n",
              "      <td>0</td>\n",
              "      <td>0</td>\n",
              "      <td>0</td>\n",
              "      <td>who is in charge of ruia putin or medevev i ga...</td>\n",
              "    </tr>\n",
              "    <tr>\n",
              "      <th>117583</th>\n",
              "      <td>74384ecc7212b9c8</td>\n",
              "      <td>I had posted this as an edit description but i...</td>\n",
              "      <td>0</td>\n",
              "      <td>0</td>\n",
              "      <td>0</td>\n",
              "      <td>0</td>\n",
              "      <td>0</td>\n",
              "      <td>0</td>\n",
              "      <td>i had posted this as an edit description but i...</td>\n",
              "    </tr>\n",
              "    <tr>\n",
              "      <th>21440</th>\n",
              "      <td>3881c4bba57c1b25</td>\n",
              "      <td>\"\\n\\nNo Tom, I am not saying that you intentio...</td>\n",
              "      <td>0</td>\n",
              "      <td>0</td>\n",
              "      <td>0</td>\n",
              "      <td>0</td>\n",
              "      <td>0</td>\n",
              "      <td>0</td>\n",
              "      <td>no tom i am not saying that you ly added fal ...</td>\n",
              "    </tr>\n",
              "    <tr>\n",
              "      <th>151681</th>\n",
              "      <td>810c7aee2b93dd30</td>\n",
              "      <td>Excuse me, but my Cobain edits are fine and I ...</td>\n",
              "      <td>0</td>\n",
              "      <td>0</td>\n",
              "      <td>0</td>\n",
              "      <td>0</td>\n",
              "      <td>0</td>\n",
              "      <td>0</td>\n",
              "      <td>cu me but my cobain edits are fine and i would...</td>\n",
              "    </tr>\n",
              "    <tr>\n",
              "      <th>180172</th>\n",
              "      <td>51e296f21be1829f</td>\n",
              "      <td>Hi, Welcome. I notice that you're making a num...</td>\n",
              "      <td>0</td>\n",
              "      <td>0</td>\n",
              "      <td>0</td>\n",
              "      <td>0</td>\n",
              "      <td>0</td>\n",
              "      <td>0</td>\n",
              "      <td>hi welcome i notice that you re making a numbe...</td>\n",
              "    </tr>\n",
              "  </tbody>\n",
              "</table>\n",
              "</div>"
            ],
            "text/plain": [
              "                      id                                       comment_text  \\\n",
              "128037  acd47a6c06c4d1f8  Fuck Wikipedia!!! \\n\\nPeace (except to Wikipedia)   \n",
              "208780  c40dc2b2890a95ab  ::That is discussion among experts. 1965 war m...   \n",
              "5192    0dd47ea93d47e518            Re-adding anti-barnstar\\n Anti-Barnstar   \n",
              "50057   85c6afcc7c206a1a                  \"\\nCopying to talk page. serenC \"   \n",
              "109259  484bf6015ebcb2e2                      On edit: forgot to actually .   \n",
              "73349   c43da478b3a8acde  Who is in charge of Russia? Putin or Medevev? ...   \n",
              "117583  74384ecc7212b9c8  I had posted this as an edit description but i...   \n",
              "21440   3881c4bba57c1b25  \"\\n\\nNo Tom, I am not saying that you intentio...   \n",
              "151681  810c7aee2b93dd30  Excuse me, but my Cobain edits are fine and I ...   \n",
              "180172  51e296f21be1829f  Hi, Welcome. I notice that you're making a num...   \n",
              "\n",
              "        toxic  severe_toxic  obscene  threat  insult  identity_hate  \\\n",
              "128037      1             1        1       0       0              0   \n",
              "208780      0             0        0       0       0              0   \n",
              "5192        0             0        0       0       0              0   \n",
              "50057       0             0        0       0       0              0   \n",
              "109259      0             0        0       0       0              0   \n",
              "73349       0             0        0       0       0              0   \n",
              "117583      0             0        0       0       0              0   \n",
              "21440       0             0        0       0       0              0   \n",
              "151681      0             0        0       0       0              0   \n",
              "180172      0             0        0       0       0              0   \n",
              "\n",
              "                                        comment_text_norm  \n",
              "128037            fuck wikipedia peace cept to wikipedia   \n",
              "208780   that is discuion among war maybe un ceafire w...  \n",
              "5192                re adding anti barnstar anti barnstar  \n",
              "50057                                  to talk page renc   \n",
              "109259                        on edit forgot to actually   \n",
              "73349   who is in charge of ruia putin or medevev i ga...  \n",
              "117583  i had posted this as an edit description but i...  \n",
              "21440    no tom i am not saying that you ly added fal ...  \n",
              "151681  cu me but my cobain edits are fine and i would...  \n",
              "180172  hi welcome i notice that you re making a numbe...  "
            ]
          },
          "metadata": {
            "tags": []
          },
          "execution_count": 189
        }
      ]
    },
    {
      "cell_type": "markdown",
      "metadata": {
        "id": "x1HqFdRG8hLk",
        "colab_type": "text"
      },
      "source": [
        "Новая бейзлайн регрессия\n"
      ]
    },
    {
      "cell_type": "code",
      "metadata": {
        "id": "afCVkEEQ8gBD",
        "colab_type": "code",
        "colab": {}
      },
      "source": [
        "X = count_vect.fit_transform(sample1['comment_text_norm'])\n",
        "y = sample1['toxic']"
      ],
      "execution_count": null,
      "outputs": []
    },
    {
      "cell_type": "code",
      "metadata": {
        "id": "1u8-rJ5C8gPZ",
        "colab_type": "code",
        "colab": {}
      },
      "source": [
        "X_train, X_test, y_train, y_test = train_test_split(X, y, test_size=0.50, random_state=42)"
      ],
      "execution_count": null,
      "outputs": []
    },
    {
      "cell_type": "code",
      "metadata": {
        "id": "eAUZzeJU875L",
        "colab_type": "code",
        "colab": {}
      },
      "source": [
        "lr2 = linear_model.LogisticRegression()\n",
        "lr2.fit(X_train, y_train)"
      ],
      "execution_count": null,
      "outputs": []
    },
    {
      "cell_type": "code",
      "metadata": {
        "id": "fwAJQxeJ88a7",
        "colab_type": "code",
        "colab": {
          "base_uri": "https://localhost:8080/",
          "height": 884
        },
        "outputId": "eb470cea-3c34-4c20-b4eb-951a8884fee2"
      },
      "source": [
        "scores = cross_val_score(lr2, X_train, y_train, cv=stratified_folds, scoring='roc_auc')\n",
        "print(\"ROC: %0.2f (+/- %0.2f)\" % (scores.mean(), scores.std() * 2))\n",
        "\n",
        "scores = cross_val_score(lr2, X_train, y_train, cv=stratified_folds, scoring='accuracy')\n",
        "print(\"Accuracy: %0.2f (+/- %0.2f)\" % (scores.mean(), scores.std() * 2))"
      ],
      "execution_count": null,
      "outputs": [
        {
          "output_type": "stream",
          "text": [
            "/usr/local/lib/python3.6/dist-packages/sklearn/linear_model/_logistic.py:940: ConvergenceWarning: lbfgs failed to converge (status=1):\n",
            "STOP: TOTAL NO. of ITERATIONS REACHED LIMIT.\n",
            "\n",
            "Increase the number of iterations (max_iter) or scale the data as shown in:\n",
            "    https://scikit-learn.org/stable/modules/preprocessing.html\n",
            "Please also refer to the documentation for alternative solver options:\n",
            "    https://scikit-learn.org/stable/modules/linear_model.html#logistic-regression\n",
            "  extra_warning_msg=_LOGISTIC_SOLVER_CONVERGENCE_MSG)\n",
            "/usr/local/lib/python3.6/dist-packages/sklearn/linear_model/_logistic.py:940: ConvergenceWarning: lbfgs failed to converge (status=1):\n",
            "STOP: TOTAL NO. of ITERATIONS REACHED LIMIT.\n",
            "\n",
            "Increase the number of iterations (max_iter) or scale the data as shown in:\n",
            "    https://scikit-learn.org/stable/modules/preprocessing.html\n",
            "Please also refer to the documentation for alternative solver options:\n",
            "    https://scikit-learn.org/stable/modules/linear_model.html#logistic-regression\n",
            "  extra_warning_msg=_LOGISTIC_SOLVER_CONVERGENCE_MSG)\n",
            "/usr/local/lib/python3.6/dist-packages/sklearn/linear_model/_logistic.py:940: ConvergenceWarning: lbfgs failed to converge (status=1):\n",
            "STOP: TOTAL NO. of ITERATIONS REACHED LIMIT.\n",
            "\n",
            "Increase the number of iterations (max_iter) or scale the data as shown in:\n",
            "    https://scikit-learn.org/stable/modules/preprocessing.html\n",
            "Please also refer to the documentation for alternative solver options:\n",
            "    https://scikit-learn.org/stable/modules/linear_model.html#logistic-regression\n",
            "  extra_warning_msg=_LOGISTIC_SOLVER_CONVERGENCE_MSG)\n"
          ],
          "name": "stderr"
        },
        {
          "output_type": "stream",
          "text": [
            "ROC: 0.88 (+/- 0.03)\n"
          ],
          "name": "stdout"
        },
        {
          "output_type": "stream",
          "text": [
            "/usr/local/lib/python3.6/dist-packages/sklearn/linear_model/_logistic.py:940: ConvergenceWarning: lbfgs failed to converge (status=1):\n",
            "STOP: TOTAL NO. of ITERATIONS REACHED LIMIT.\n",
            "\n",
            "Increase the number of iterations (max_iter) or scale the data as shown in:\n",
            "    https://scikit-learn.org/stable/modules/preprocessing.html\n",
            "Please also refer to the documentation for alternative solver options:\n",
            "    https://scikit-learn.org/stable/modules/linear_model.html#logistic-regression\n",
            "  extra_warning_msg=_LOGISTIC_SOLVER_CONVERGENCE_MSG)\n",
            "/usr/local/lib/python3.6/dist-packages/sklearn/linear_model/_logistic.py:940: ConvergenceWarning: lbfgs failed to converge (status=1):\n",
            "STOP: TOTAL NO. of ITERATIONS REACHED LIMIT.\n",
            "\n",
            "Increase the number of iterations (max_iter) or scale the data as shown in:\n",
            "    https://scikit-learn.org/stable/modules/preprocessing.html\n",
            "Please also refer to the documentation for alternative solver options:\n",
            "    https://scikit-learn.org/stable/modules/linear_model.html#logistic-regression\n",
            "  extra_warning_msg=_LOGISTIC_SOLVER_CONVERGENCE_MSG)\n",
            "/usr/local/lib/python3.6/dist-packages/sklearn/linear_model/_logistic.py:940: ConvergenceWarning: lbfgs failed to converge (status=1):\n",
            "STOP: TOTAL NO. of ITERATIONS REACHED LIMIT.\n",
            "\n",
            "Increase the number of iterations (max_iter) or scale the data as shown in:\n",
            "    https://scikit-learn.org/stable/modules/preprocessing.html\n",
            "Please also refer to the documentation for alternative solver options:\n",
            "    https://scikit-learn.org/stable/modules/linear_model.html#logistic-regression\n",
            "  extra_warning_msg=_LOGISTIC_SOLVER_CONVERGENCE_MSG)\n"
          ],
          "name": "stderr"
        },
        {
          "output_type": "stream",
          "text": [
            "Accuracy: 0.93 (+/- 0.01)\n"
          ],
          "name": "stdout"
        }
      ]
    },
    {
      "cell_type": "markdown",
      "metadata": {
        "id": "mUCm45wuZSMt",
        "colab_type": "text"
      },
      "source": [
        "Ничего не изменилось. Наверное, отсеивание мусорных фич нивелировалось тем, что тексты были приведены к ниженему регистру (капс, быть может, является сильным показателем токсичности)"
      ]
    },
    {
      "cell_type": "markdown",
      "metadata": {
        "id": "5p9LFkoyzJ-c",
        "colab_type": "text"
      },
      "source": [
        "###Стакинг бустингов (как минимум 2 уровня xboost/catboost/lightgbm, можно использовать публичные кернелы любых соревнований) - 3 балла\n"
      ]
    },
    {
      "cell_type": "code",
      "metadata": {
        "id": "oW42A4o1zJwO",
        "colab_type": "code",
        "colab": {}
      },
      "source": [
        "!pip install catboost"
      ],
      "execution_count": null,
      "outputs": []
    },
    {
      "cell_type": "code",
      "metadata": {
        "id": "LyYI5HgnzWRj",
        "colab_type": "code",
        "colab": {}
      },
      "source": [
        "from catboost import CatBoostClassifier"
      ],
      "execution_count": 5,
      "outputs": []
    },
    {
      "cell_type": "code",
      "metadata": {
        "id": "r33acbErzZSc",
        "colab_type": "code",
        "colab": {}
      },
      "source": [
        "import xgboost as xgb"
      ],
      "execution_count": 7,
      "outputs": []
    },
    {
      "cell_type": "code",
      "metadata": {
        "id": "5gR9wchQzjEH",
        "colab_type": "code",
        "colab": {
          "base_uri": "https://localhost:8080/",
          "height": 72
        },
        "outputId": "d394c4bb-e4b6-4e69-b0d2-38e1722862c5"
      },
      "source": [
        "from mlxtend.classifier import StackingClassifier"
      ],
      "execution_count": 14,
      "outputs": [
        {
          "output_type": "stream",
          "text": [
            "/usr/local/lib/python3.6/dist-packages/sklearn/externals/six.py:31: FutureWarning: The module is deprecated in version 0.21 and will be removed in version 0.23 since we've dropped support for Python 2.7. Please rely on the official version of six (https://pypi.org/project/six/).\n",
            "  \"(https://pypi.org/project/six/).\", FutureWarning)\n"
          ],
          "name": "stderr"
        }
      ]
    },
    {
      "cell_type": "code",
      "metadata": {
        "id": "LkgSHwvyz5sN",
        "colab_type": "code",
        "colab": {
          "base_uri": "https://localhost:8080/",
          "height": 72
        },
        "outputId": "3c3450da-9b1b-4793-d61a-0c50aa65922e"
      },
      "source": [
        "import itertools\n",
        "import seaborn as sns\n",
        "import matplotlib.pyplot as plt\n",
        "import matplotlib.gridspec as gridspec"
      ],
      "execution_count": null,
      "outputs": [
        {
          "output_type": "stream",
          "text": [
            "/usr/local/lib/python3.6/dist-packages/statsmodels/tools/_testing.py:19: FutureWarning: pandas.util.testing is deprecated. Use the functions in the public API at pandas.testing instead.\n",
            "  import pandas.util.testing as tm\n"
          ],
          "name": "stderr"
        }
      ]
    },
    {
      "cell_type": "code",
      "metadata": {
        "id": "l4lhflC6z8gt",
        "colab_type": "code",
        "colab": {}
      },
      "source": [
        "from mlxtend.plotting import plot_learning_curves\n",
        "from mlxtend.plotting import plot_decision_regions use_best_model"
      ],
      "execution_count": null,
      "outputs": []
    },
    {
      "cell_type": "code",
      "metadata": {
        "id": "MH5IuMLFdozT",
        "colab_type": "code",
        "colab": {}
      },
      "source": [
        "from sklearn.ensemble import AdaBoostClassifier"
      ],
      "execution_count": 12,
      "outputs": []
    },
    {
      "cell_type": "code",
      "metadata": {
        "id": "hvuQfMSzidgT",
        "colab_type": "code",
        "colab": {}
      },
      "source": [
        "from sklearn.svm import NuSVC, SVC"
      ],
      "execution_count": 10,
      "outputs": []
    },
    {
      "cell_type": "code",
      "metadata": {
        "id": "TgZUDdcWcu1t",
        "colab_type": "code",
        "colab": {}
      },
      "source": [
        "from sklearn.neighbors import KNeighborsClassifier\n",
        "from sklearn.naive_bayes import GaussianNB \n",
        "from sklearn.ensemble import RandomForestClassifier"
      ],
      "execution_count": 9,
      "outputs": []
    },
    {
      "cell_type": "code",
      "metadata": {
        "id": "CRdAA3h-0Bdk",
        "colab_type": "code",
        "colab": {}
      },
      "source": [
        "clf1 = linear_model.LogisticRegression() \n",
        "boosting1 = xgb.XGBClassifier(base_estimator=clf1, n_estimators=10, verbosity=0)\n",
        "boosting2 = CatBoostClassifier(n_estimators=10, verbose=0)\n",
        "clf3 = RandomForestClassifier(random_state=1)\n",
        "boosting3 = AdaBoostClassifier(base_estimator=clf3, n_estimators=10)\n",
        "mc = SVC(probability = True, verbose=False)\n",
        "sclf = StackingClassifier(classifiers=[boosting1, boosting2, boosting3],\n",
        "                            use_probas = True, \n",
        "                          meta_classifier=mc)"
      ],
      "execution_count": 15,
      "outputs": []
    },
    {
      "cell_type": "code",
      "metadata": {
        "id": "RCkC8nFH0VZV",
        "colab_type": "code",
        "colab": {
          "base_uri": "https://localhost:8080/",
          "height": 156
        },
        "outputId": "4fd48d95-78f5-4197-8329-d96aa2365b87"
      },
      "source": [
        "label = ['XG', 'CAT', 'ADA', 'Stacking Classifier']\n",
        "clf_list = [boosting1, boosting2, boosting3, sclf]\n",
        "    \n",
        "    \n",
        "for clf, label in zip(clf_list, label):\n",
        "        \n",
        "    scores = cross_val_score(clf, X_train, y_train, cv=3, scoring='roc_auc')\n",
        "    print (\"ROC: %.2f (+/- %.2f) [%s]\" %(scores.mean(), scores.std(), label))\n",
        "\n",
        "    scores = cross_val_score(clf, X_train, y_train, cv=3, scoring='accuracy')\n",
        "    print (\"Accuracy: %.2f (+/- %.2f) [%s]\" %(scores.mean(), scores.std(), label))\n",
        "  "
      ],
      "execution_count": null,
      "outputs": [
        {
          "output_type": "stream",
          "text": [
            "ROC: 0.77 (+/- 0.03) [XG]\n",
            "Accuracy: 0.92 (+/- 0.01) [XG]\n",
            "ROC: 0.82 (+/- 0.02) [CAT]\n",
            "Accuracy: 0.93 (+/- 0.00) [CAT]\n",
            "ROC: 0.87 (+/- 0.02) [ADA]\n",
            "Accuracy: 0.92 (+/- 0.00) [ADA]\n",
            "ROC: 0.87 (+/- 0.02) [Stacking Classifier]\n",
            "Accuracy: 0.92 (+/- 0.00) [Stacking Classifier]\n"
          ],
          "name": "stdout"
        }
      ]
    },
    {
      "cell_type": "markdown",
      "metadata": {
        "id": "gRJdoN4El_av",
        "colab_type": "text"
      },
      "source": [
        "ROC: 0.77 (+/- 0.03) [XG]\n",
        "\n",
        "Accuracy: 0.92 (+/- 0.01) [XG]\n",
        "\n",
        "ROC: 0.82 (+/- 0.02) [CAT]\n",
        "\n",
        "Accuracy: 0.93 (+/- 0.00) [CAT]\n",
        "\n",
        "ROC: 0.87 (+/- 0.02) [ADA]\n",
        "\n",
        "Accuracy: 0.92 (+/- 0.00) [ADA]\n",
        "\n",
        "ROC: 0.87 (+/- 0.02) [Stacking Classifier]\n",
        "\n",
        "Accuracy: 0.92 (+/- 0.00) [Stacking Classifier]\n"
      ]
    },
    {
      "cell_type": "markdown",
      "metadata": {
        "id": "-UCWBWPb-hsS",
        "colab_type": "text"
      },
      "source": [
        "###Любая нейронная модель (минимум 5 слоев) с Dropout, Pooling и колбеками - 2 балла\n"
      ]
    },
    {
      "cell_type": "code",
      "metadata": {
        "id": "Spxc2EmXPAOz",
        "colab_type": "code",
        "colab": {}
      },
      "source": [
        "import tensorflow as tf"
      ],
      "execution_count": null,
      "outputs": []
    },
    {
      "cell_type": "code",
      "metadata": {
        "id": "08AzZsoKPHkQ",
        "colab_type": "code",
        "colab": {}
      },
      "source": [
        "def preprocess(text):\n",
        "    tokens = text.lower().split()\n",
        "    return tokens"
      ],
      "execution_count": null,
      "outputs": []
    },
    {
      "cell_type": "code",
      "metadata": {
        "id": "kBNUh2mUPKle",
        "colab_type": "code",
        "colab": {}
      },
      "source": [
        "vocab = Counter()\n",
        "\n",
        "for text in sample1['comment_text_norm']:\n",
        "    vocab.update(preprocess(text))"
      ],
      "execution_count": null,
      "outputs": []
    },
    {
      "cell_type": "code",
      "metadata": {
        "id": "GE_L6mkPPNGs",
        "colab_type": "code",
        "colab": {
          "base_uri": "https://localhost:8080/",
          "height": 35
        },
        "outputId": "8e4f246b-c11a-44a3-bb4b-92f01c8fa79e"
      },
      "source": [
        "len(vocab)"
      ],
      "execution_count": null,
      "outputs": [
        {
          "output_type": "execute_result",
          "data": {
            "text/plain": [
              "31871"
            ]
          },
          "metadata": {
            "tags": []
          },
          "execution_count": 233
        }
      ]
    },
    {
      "cell_type": "code",
      "metadata": {
        "id": "TXgWi9NoPaVy",
        "colab_type": "code",
        "colab": {}
      },
      "source": [
        "filtered_vocab = set()\n",
        "\n",
        "for word in vocab:\n",
        "    if vocab[word] > 3:\n",
        "        filtered_vocab.add(word)"
      ],
      "execution_count": null,
      "outputs": []
    },
    {
      "cell_type": "code",
      "metadata": {
        "id": "SebaXwPNPf9M",
        "colab_type": "code",
        "colab": {
          "base_uri": "https://localhost:8080/",
          "height": 35
        },
        "outputId": "2398e42b-d488-499e-9c7e-cbd75047df74"
      },
      "source": [
        "len(filtered_vocab)"
      ],
      "execution_count": null,
      "outputs": [
        {
          "output_type": "execute_result",
          "data": {
            "text/plain": [
              "7838"
            ]
          },
          "metadata": {
            "tags": []
          },
          "execution_count": 236
        }
      ]
    },
    {
      "cell_type": "code",
      "metadata": {
        "id": "v2r2cPesLNif",
        "colab_type": "code",
        "colab": {}
      },
      "source": [
        "#filtered_vocab"
      ],
      "execution_count": null,
      "outputs": []
    },
    {
      "cell_type": "code",
      "metadata": {
        "id": "Aeo399bOPi0G",
        "colab_type": "code",
        "colab": {}
      },
      "source": [
        "word2id = {'UNK':1, 'PAD':0}\n",
        "\n",
        "for word in filtered_vocab:\n",
        "    word2id[word] = len(word2id)"
      ],
      "execution_count": null,
      "outputs": []
    },
    {
      "cell_type": "code",
      "metadata": {
        "id": "3foqsnihPm2D",
        "colab_type": "code",
        "colab": {}
      },
      "source": [
        "id2word = {i:word for word, i in word2id.items()}"
      ],
      "execution_count": null,
      "outputs": []
    },
    {
      "cell_type": "code",
      "metadata": {
        "id": "Su45DeeXPp1r",
        "colab_type": "code",
        "colab": {}
      },
      "source": [
        "X_new = []\n",
        "\n",
        "for text in sample1['comment_text_norm']:\n",
        "    tokens = preprocess(text)\n",
        "    ids = [word2id.get(token, 1) for token in tokens]\n",
        "    X_new.append(ids)"
      ],
      "execution_count": null,
      "outputs": []
    },
    {
      "cell_type": "code",
      "metadata": {
        "id": "0QTZ3AW2Qun-",
        "colab_type": "code",
        "colab": {}
      },
      "source": [
        "MAX_LEN = max(len(x) for x in X_new)"
      ],
      "execution_count": null,
      "outputs": []
    },
    {
      "cell_type": "code",
      "metadata": {
        "id": "ZyoWKNLuQzzb",
        "colab_type": "code",
        "colab": {
          "base_uri": "https://localhost:8080/",
          "height": 35
        },
        "outputId": "38ae0f20-88a8-4fdf-fd4a-5614652c0f10"
      },
      "source": [
        "MAX_LEN "
      ],
      "execution_count": null,
      "outputs": [
        {
          "output_type": "execute_result",
          "data": {
            "text/plain": [
              "1354"
            ]
          },
          "metadata": {
            "tags": []
          },
          "execution_count": 249
        }
      ]
    },
    {
      "cell_type": "code",
      "metadata": {
        "id": "fRNESiBvROFE",
        "colab_type": "code",
        "colab": {}
      },
      "source": [
        "X_new = tf.keras.preprocessing.sequence.pad_sequences(X_new, maxlen=MAX_LEN)"
      ],
      "execution_count": null,
      "outputs": []
    },
    {
      "cell_type": "code",
      "metadata": {
        "id": "OWURBz87Rby7",
        "colab_type": "code",
        "colab": {}
      },
      "source": [
        "X_train_new, X_valid, y_train_new, y_valid = train_test_split(X_new, y, test_size=0.05, stratify=y)"
      ],
      "execution_count": null,
      "outputs": []
    },
    {
      "cell_type": "code",
      "metadata": {
        "id": "gagH3WaNR9Ad",
        "colab_type": "code",
        "colab": {}
      },
      "source": [
        ""
      ],
      "execution_count": null,
      "outputs": []
    },
    {
      "cell_type": "code",
      "metadata": {
        "id": "aNdHDQTkR_M9",
        "colab_type": "code",
        "colab": {}
      },
      "source": [
        "inputs = tf.keras.layers.Input(shape=(MAX_LEN,))\n",
        "\n",
        "embeddings = tf.keras.layers.Embedding(input_dim=len(word2id), output_dim=60)(inputs)\n",
        "\n",
        "conv = tf.keras.layers.Conv1D(kernel_size=5, filters=32, strides=1, \n",
        "                                               kernel_regularizer='l2',\n",
        "                                              activation='relu')(embeddings)\n",
        "\n",
        "convs1 = []\n",
        "for ks in [2,3,4,5]:\n",
        "    conv1 = tf.keras.layers.Conv1D(kernel_size=ks, filters=32, padding='same',strides=1)(conv)\n",
        "    conv2 = tf.keras.layers.Conv1D(kernel_size=ks, filters=32, padding='same',strides=1, \n",
        "                                  kernel_regularizer='l2', activation='relu')(conv1)\n",
        "    convs1.append(conv2)\n",
        "\n",
        "concat1 = tf.keras.layers.concatenate(convs1, axis=2)\n",
        "\n",
        "drop1 = tf.keras.layers.Dropout(0.2)(concat1)\n",
        "\n",
        "convs2 = []\n",
        "for ks in [2,3,4,5]:\n",
        "    conv1 = tf.keras.layers.Conv1D(kernel_size=ks, filters=32, padding='same',strides=1)(drop1)\n",
        "    conv2 = tf.keras.layers.Conv1D(kernel_size=ks, filters=32, padding='same',strides=1, \n",
        "                                  kernel_regularizer='l2', activation='relu')(conv1)\n",
        "    convs2.append(conv2)\n",
        "\n",
        "concat2 = tf.keras.layers.concatenate(convs2, axis=2)  \n",
        "\n",
        "conv3 = tf.keras.layers.Conv1D(kernel_size=5, filters=32, strides=1, \n",
        "                                               kernel_regularizer='l2',\n",
        "                                              activation='relu')(concat2)\n",
        "pool = tf.keras.layers.MaxPool1D()(conv3)\n",
        "\n",
        "conv_global = tf.keras.layers.Conv1D(kernel_size=5, filters=32, strides=1)(pool)\n",
        "flatten = tf.keras.layers.Flatten()(conv_global)\n",
        "dense = tf.keras.layers.Dense(50, activation='relu')(flatten)\n",
        "outputs = tf.keras.layers.Dense(1, activation='sigmoid')(dense)\n",
        "\n",
        "model = tf.keras.Model(inputs=inputs, outputs=outputs)\n",
        "optimizer = tf.keras.optimizers.Adam(learning_rate=0.001)\n",
        "model.compile(optimizer=optimizer,\n",
        "              loss='binary_crossentropy',\n",
        "              metrics=[tf.keras.metrics.Accuracy(), tf.keras.metrics.AUC()])"
      ],
      "execution_count": null,
      "outputs": []
    },
    {
      "cell_type": "code",
      "metadata": {
        "id": "OVZQcGO1SEqK",
        "colab_type": "code",
        "colab": {
          "base_uri": "https://localhost:8080/",
          "height": 1000
        },
        "outputId": "018c9c6e-a5ba-4f00-aa6b-b280f647160a"
      },
      "source": [
        "model.summary()"
      ],
      "execution_count": null,
      "outputs": [
        {
          "output_type": "stream",
          "text": [
            "Model: \"model_12\"\n",
            "__________________________________________________________________________________________________\n",
            "Layer (type)                    Output Shape         Param #     Connected to                     \n",
            "==================================================================================================\n",
            "input_19 (InputLayer)           [(None, 1354)]       0                                            \n",
            "__________________________________________________________________________________________________\n",
            "embedding_18 (Embedding)        (None, 1354, 60)     470400      input_19[0][0]                   \n",
            "__________________________________________________________________________________________________\n",
            "conv1d_286 (Conv1D)             (None, 1350, 32)     9632        embedding_18[0][0]               \n",
            "__________________________________________________________________________________________________\n",
            "conv1d_287 (Conv1D)             (None, 1350, 32)     2080        conv1d_286[0][0]                 \n",
            "__________________________________________________________________________________________________\n",
            "conv1d_289 (Conv1D)             (None, 1350, 32)     3104        conv1d_286[0][0]                 \n",
            "__________________________________________________________________________________________________\n",
            "conv1d_291 (Conv1D)             (None, 1350, 32)     4128        conv1d_286[0][0]                 \n",
            "__________________________________________________________________________________________________\n",
            "conv1d_293 (Conv1D)             (None, 1350, 32)     5152        conv1d_286[0][0]                 \n",
            "__________________________________________________________________________________________________\n",
            "conv1d_288 (Conv1D)             (None, 1350, 32)     2080        conv1d_287[0][0]                 \n",
            "__________________________________________________________________________________________________\n",
            "conv1d_290 (Conv1D)             (None, 1350, 32)     3104        conv1d_289[0][0]                 \n",
            "__________________________________________________________________________________________________\n",
            "conv1d_292 (Conv1D)             (None, 1350, 32)     4128        conv1d_291[0][0]                 \n",
            "__________________________________________________________________________________________________\n",
            "conv1d_294 (Conv1D)             (None, 1350, 32)     5152        conv1d_293[0][0]                 \n",
            "__________________________________________________________________________________________________\n",
            "concatenate_31 (Concatenate)    (None, 1350, 128)    0           conv1d_288[0][0]                 \n",
            "                                                                 conv1d_290[0][0]                 \n",
            "                                                                 conv1d_292[0][0]                 \n",
            "                                                                 conv1d_294[0][0]                 \n",
            "__________________________________________________________________________________________________\n",
            "dropout_15 (Dropout)            (None, 1350, 128)    0           concatenate_31[0][0]             \n",
            "__________________________________________________________________________________________________\n",
            "conv1d_295 (Conv1D)             (None, 1350, 32)     8224        dropout_15[0][0]                 \n",
            "__________________________________________________________________________________________________\n",
            "conv1d_297 (Conv1D)             (None, 1350, 32)     12320       dropout_15[0][0]                 \n",
            "__________________________________________________________________________________________________\n",
            "conv1d_299 (Conv1D)             (None, 1350, 32)     16416       dropout_15[0][0]                 \n",
            "__________________________________________________________________________________________________\n",
            "conv1d_301 (Conv1D)             (None, 1350, 32)     20512       dropout_15[0][0]                 \n",
            "__________________________________________________________________________________________________\n",
            "conv1d_296 (Conv1D)             (None, 1350, 32)     2080        conv1d_295[0][0]                 \n",
            "__________________________________________________________________________________________________\n",
            "conv1d_298 (Conv1D)             (None, 1350, 32)     3104        conv1d_297[0][0]                 \n",
            "__________________________________________________________________________________________________\n",
            "conv1d_300 (Conv1D)             (None, 1350, 32)     4128        conv1d_299[0][0]                 \n",
            "__________________________________________________________________________________________________\n",
            "conv1d_302 (Conv1D)             (None, 1350, 32)     5152        conv1d_301[0][0]                 \n",
            "__________________________________________________________________________________________________\n",
            "concatenate_32 (Concatenate)    (None, 1350, 128)    0           conv1d_296[0][0]                 \n",
            "                                                                 conv1d_298[0][0]                 \n",
            "                                                                 conv1d_300[0][0]                 \n",
            "                                                                 conv1d_302[0][0]                 \n",
            "__________________________________________________________________________________________________\n",
            "conv1d_303 (Conv1D)             (None, 1346, 32)     20512       concatenate_32[0][0]             \n",
            "__________________________________________________________________________________________________\n",
            "max_pooling1d_15 (MaxPooling1D) (None, 673, 32)      0           conv1d_303[0][0]                 \n",
            "__________________________________________________________________________________________________\n",
            "conv1d_304 (Conv1D)             (None, 669, 32)      5152        max_pooling1d_15[0][0]           \n",
            "__________________________________________________________________________________________________\n",
            "flatten_13 (Flatten)            (None, 21408)        0           conv1d_304[0][0]                 \n",
            "__________________________________________________________________________________________________\n",
            "dense_26 (Dense)                (None, 50)           1070450     flatten_13[0][0]                 \n",
            "__________________________________________________________________________________________________\n",
            "dense_27 (Dense)                (None, 1)            51          dense_26[0][0]                   \n",
            "==================================================================================================\n",
            "Total params: 1,677,061\n",
            "Trainable params: 1,677,061\n",
            "Non-trainable params: 0\n",
            "__________________________________________________________________________________________________\n"
          ],
          "name": "stdout"
        }
      ]
    },
    {
      "cell_type": "code",
      "metadata": {
        "id": "bWtmitsKSHEc",
        "colab_type": "code",
        "colab": {
          "base_uri": "https://localhost:8080/",
          "height": 228
        },
        "outputId": "d1834351-67f8-4e9e-ca13-70d8b1e2aeca"
      },
      "source": [
        "model.fit(X_train_new, y_train_new, \n",
        "          validation_data=(X_valid, y_valid),\n",
        "          batch_size=64,\n",
        "         epochs=5)"
      ],
      "execution_count": null,
      "outputs": [
        {
          "output_type": "stream",
          "text": [
            "Epoch 1/5\n",
            "133/133 [==============================] - 382s 3s/step - loss: 1.5677 - accuracy: 0.0000e+00 - auc_7: 0.5712 - val_loss: 0.5604 - val_accuracy: 0.0000e+00 - val_auc_7: 0.6633\n",
            "Epoch 2/5\n",
            "133/133 [==============================] - 375s 3s/step - loss: 0.4057 - accuracy: 0.0000e+00 - auc_7: 0.5922 - val_loss: 0.3272 - val_accuracy: 0.0000e+00 - val_auc_7: 0.6608\n",
            "Epoch 3/5\n",
            "133/133 [==============================] - 374s 3s/step - loss: 0.3133 - accuracy: 0.0000e+00 - auc_7: 0.6101 - val_loss: 0.3050 - val_accuracy: 0.0000e+00 - val_auc_7: 0.6583\n",
            "Epoch 4/5\n",
            "133/133 [==============================] - 357s 3s/step - loss: 0.3054 - accuracy: 0.0000e+00 - auc_7: 0.6216 - val_loss: 0.2985 - val_accuracy: 0.0000e+00 - val_auc_7: 0.6519\n",
            "Epoch 5/5\n",
            "133/133 [==============================] - 348s 3s/step - loss: 0.3010 - accuracy: 0.0000e+00 - auc_7: 0.6241 - val_loss: 0.2977 - val_accuracy: 0.0000e+00 - val_auc_7: 0.6555\n"
          ],
          "name": "stdout"
        },
        {
          "output_type": "execute_result",
          "data": {
            "text/plain": [
              "<tensorflow.python.keras.callbacks.History at 0x7f05e81725c0>"
            ]
          },
          "metadata": {
            "tags": []
          },
          "execution_count": 307
        }
      ]
    },
    {
      "cell_type": "markdown",
      "metadata": {
        "id": "DTPkD3a9tbYn",
        "colab_type": "text"
      },
      "source": [
        "###Использование эмбедингов в модели (предобученные или обученные с нуля word2vec, fastext, glove) - 1.25 балла"
      ]
    },
    {
      "cell_type": "code",
      "metadata": {
        "id": "tDZEBtBbtaoZ",
        "colab_type": "code",
        "colab": {}
      },
      "source": [
        "import gensim"
      ],
      "execution_count": null,
      "outputs": []
    },
    {
      "cell_type": "code",
      "metadata": {
        "id": "bkfcS27-O0LK",
        "colab_type": "code",
        "colab": {}
      },
      "source": [
        "texts = sample1['comment_text_norm'].tolist()"
      ],
      "execution_count": null,
      "outputs": []
    },
    {
      "cell_type": "code",
      "metadata": {
        "id": "eQye09Asta9s",
        "colab_type": "code",
        "colab": {}
      },
      "source": [
        "w2v = gensim.models.Word2Vec([text.split() for text in texts], size=50, sg=1)"
      ],
      "execution_count": null,
      "outputs": []
    },
    {
      "cell_type": "code",
      "metadata": {
        "id": "vFbRFMMDQUz_",
        "colab_type": "code",
        "colab": {}
      },
      "source": [
        "ft = gensim.models.FastText([text.split() for text in texts], size=60, iter=2)"
      ],
      "execution_count": null,
      "outputs": []
    },
    {
      "cell_type": "code",
      "metadata": {
        "id": "ufahFzc5N6Cq",
        "colab_type": "code",
        "colab": {}
      },
      "source": [
        "weights = np.zeros((len(word2id), 60))\n",
        "\n",
        "for word, i in word2id.items():\n",
        "    # вектор паддинга оставим нулевым\n",
        "    if word == 'PAD':\n",
        "        continue\n",
        "    \n",
        "    # для UNK будем использовать какой-то рандомный вектор\n",
        "    if word == 'UNK':\n",
        "        weights[i] = ft['asffaf']\n",
        "    \n",
        "    try:\n",
        "        weights[i] = ft[word]\n",
        "    \n",
        "    \n",
        "    except KeyError:\n",
        "        # для слов, которых нет в модели тоже возьмем какой-то  рандомный вектор\n",
        "        weights[i] = ft['agsgsafasdasZF']"
      ],
      "execution_count": null,
      "outputs": []
    },
    {
      "cell_type": "code",
      "metadata": {
        "id": "6V4DBY1_KgZd",
        "colab_type": "code",
        "colab": {}
      },
      "source": [
        "Inputs = tf.keras.layers.Input(shape=(MAX_LEN,))\n",
        "\n",
        "embeddings = tf.keras.layers.Embedding(input_dim=len(word2id), output_dim=60, trainable=False,\n",
        "                                      weights=[weights])(inputs)\n",
        "\n",
        "conv = tf.keras.layers.Conv1D(kernel_size=5, filters=32, strides=1, \n",
        "                                               kernel_regularizer='l2',\n",
        "                                              activation='relu')(embeddings)\n",
        "\n",
        "convs1 = []\n",
        "for ks in [2,3,4,5]:\n",
        "    conv1 = tf.keras.layers.Conv1D(kernel_size=ks, filters=32, padding='same',strides=1)(conv)\n",
        "    conv2 = tf.keras.layers.Conv1D(kernel_size=ks, filters=32, padding='same',strides=1, \n",
        "                                  kernel_regularizer='l2', activation='relu')(conv1)\n",
        "    convs1.append(conv2)\n",
        "\n",
        "concat1 = tf.keras.layers.concatenate(convs1, axis=2)\n",
        "\n",
        "drop1 = tf.keras.layers.Dropout(0.2)(concat1)\n",
        "\n",
        "convs2 = []\n",
        "for ks in [2,3,4,5]:\n",
        "    conv1 = tf.keras.layers.Conv1D(kernel_size=ks, filters=32, padding='same',strides=1)(drop1)\n",
        "    conv2 = tf.keras.layers.Conv1D(kernel_size=ks, filters=32, padding='same',strides=1, \n",
        "                                  kernel_regularizer='l2', activation='relu')(conv1)\n",
        "    convs2.append(conv2)\n",
        "\n",
        "concat2 = tf.keras.layers.concatenate(convs2, axis=2)  \n",
        "\n",
        "conv3 = tf.keras.layers.Conv1D(kernel_size=5, filters=32, strides=1, \n",
        "                                               kernel_regularizer='l2',\n",
        "                                              activation='relu')(concat2)\n",
        "pool = tf.keras.layers.MaxPool1D()(conv3)\n",
        "\n",
        "conv_global = tf.keras.layers.Conv1D(kernel_size=5, filters=32, strides=1)(pool)\n",
        "flatten = tf.keras.layers.Flatten()(conv_global)\n",
        "dense = tf.keras.layers.Dense(50, activation='relu')(flatten)\n",
        "outputs = tf.keras.layers.Dense(1, activation='sigmoid')(dense)\n",
        "\n",
        "model2 = tf.keras.Model(inputs=inputs, outputs=outputs)\n",
        "optimizer = tf.keras.optimizers.Adam(learning_rate=0.001)\n",
        "model2.compile(optimizer=optimizer,\n",
        "              loss='binary_crossentropy',\n",
        "              metrics=[tf.keras.metrics.Accuracy(), tf.keras.metrics.AUC()])"
      ],
      "execution_count": null,
      "outputs": []
    },
    {
      "cell_type": "code",
      "metadata": {
        "id": "LntwlXQDRUQu",
        "colab_type": "code",
        "colab": {
          "base_uri": "https://localhost:8080/",
          "height": 1000
        },
        "outputId": "f38a7b55-c045-4a17-e0c7-665a2eb2504b"
      },
      "source": [
        "model2.summary()"
      ],
      "execution_count": null,
      "outputs": [
        {
          "output_type": "stream",
          "text": [
            "Model: \"model_11\"\n",
            "__________________________________________________________________________________________________\n",
            "Layer (type)                    Output Shape         Param #     Connected to                     \n",
            "==================================================================================================\n",
            "input_16 (InputLayer)           [(None, 1354)]       0                                            \n",
            "__________________________________________________________________________________________________\n",
            "embedding_17 (Embedding)        (None, 1354, 60)     470400      input_16[0][0]                   \n",
            "__________________________________________________________________________________________________\n",
            "conv1d_267 (Conv1D)             (None, 1350, 32)     9632        embedding_17[0][0]               \n",
            "__________________________________________________________________________________________________\n",
            "conv1d_268 (Conv1D)             (None, 1350, 32)     2080        conv1d_267[0][0]                 \n",
            "__________________________________________________________________________________________________\n",
            "conv1d_270 (Conv1D)             (None, 1350, 32)     3104        conv1d_267[0][0]                 \n",
            "__________________________________________________________________________________________________\n",
            "conv1d_272 (Conv1D)             (None, 1350, 32)     4128        conv1d_267[0][0]                 \n",
            "__________________________________________________________________________________________________\n",
            "conv1d_274 (Conv1D)             (None, 1350, 32)     5152        conv1d_267[0][0]                 \n",
            "__________________________________________________________________________________________________\n",
            "conv1d_269 (Conv1D)             (None, 1350, 32)     2080        conv1d_268[0][0]                 \n",
            "__________________________________________________________________________________________________\n",
            "conv1d_271 (Conv1D)             (None, 1350, 32)     3104        conv1d_270[0][0]                 \n",
            "__________________________________________________________________________________________________\n",
            "conv1d_273 (Conv1D)             (None, 1350, 32)     4128        conv1d_272[0][0]                 \n",
            "__________________________________________________________________________________________________\n",
            "conv1d_275 (Conv1D)             (None, 1350, 32)     5152        conv1d_274[0][0]                 \n",
            "__________________________________________________________________________________________________\n",
            "concatenate_29 (Concatenate)    (None, 1350, 128)    0           conv1d_269[0][0]                 \n",
            "                                                                 conv1d_271[0][0]                 \n",
            "                                                                 conv1d_273[0][0]                 \n",
            "                                                                 conv1d_275[0][0]                 \n",
            "__________________________________________________________________________________________________\n",
            "dropout_14 (Dropout)            (None, 1350, 128)    0           concatenate_29[0][0]             \n",
            "__________________________________________________________________________________________________\n",
            "conv1d_276 (Conv1D)             (None, 1350, 32)     8224        dropout_14[0][0]                 \n",
            "__________________________________________________________________________________________________\n",
            "conv1d_278 (Conv1D)             (None, 1350, 32)     12320       dropout_14[0][0]                 \n",
            "__________________________________________________________________________________________________\n",
            "conv1d_280 (Conv1D)             (None, 1350, 32)     16416       dropout_14[0][0]                 \n",
            "__________________________________________________________________________________________________\n",
            "conv1d_282 (Conv1D)             (None, 1350, 32)     20512       dropout_14[0][0]                 \n",
            "__________________________________________________________________________________________________\n",
            "conv1d_277 (Conv1D)             (None, 1350, 32)     2080        conv1d_276[0][0]                 \n",
            "__________________________________________________________________________________________________\n",
            "conv1d_279 (Conv1D)             (None, 1350, 32)     3104        conv1d_278[0][0]                 \n",
            "__________________________________________________________________________________________________\n",
            "conv1d_281 (Conv1D)             (None, 1350, 32)     4128        conv1d_280[0][0]                 \n",
            "__________________________________________________________________________________________________\n",
            "conv1d_283 (Conv1D)             (None, 1350, 32)     5152        conv1d_282[0][0]                 \n",
            "__________________________________________________________________________________________________\n",
            "concatenate_30 (Concatenate)    (None, 1350, 128)    0           conv1d_277[0][0]                 \n",
            "                                                                 conv1d_279[0][0]                 \n",
            "                                                                 conv1d_281[0][0]                 \n",
            "                                                                 conv1d_283[0][0]                 \n",
            "__________________________________________________________________________________________________\n",
            "conv1d_284 (Conv1D)             (None, 1346, 32)     20512       concatenate_30[0][0]             \n",
            "__________________________________________________________________________________________________\n",
            "max_pooling1d_14 (MaxPooling1D) (None, 673, 32)      0           conv1d_284[0][0]                 \n",
            "__________________________________________________________________________________________________\n",
            "conv1d_285 (Conv1D)             (None, 669, 32)      5152        max_pooling1d_14[0][0]           \n",
            "__________________________________________________________________________________________________\n",
            "flatten_12 (Flatten)            (None, 21408)        0           conv1d_285[0][0]                 \n",
            "__________________________________________________________________________________________________\n",
            "dense_24 (Dense)                (None, 50)           1070450     flatten_12[0][0]                 \n",
            "__________________________________________________________________________________________________\n",
            "dense_25 (Dense)                (None, 1)            51          dense_24[0][0]                   \n",
            "==================================================================================================\n",
            "Total params: 1,677,061\n",
            "Trainable params: 1,206,661\n",
            "Non-trainable params: 470,400\n",
            "__________________________________________________________________________________________________\n"
          ],
          "name": "stdout"
        }
      ]
    },
    {
      "cell_type": "code",
      "metadata": {
        "id": "iLR3dAKxRYmH",
        "colab_type": "code",
        "colab": {
          "base_uri": "https://localhost:8080/",
          "height": 228
        },
        "outputId": "4f91e1be-bc81-4a67-d6fb-f70b2e15d504"
      },
      "source": [
        "model2.fit(X_train_new, y_train_new, \n",
        "          validation_data=(X_valid, y_valid),\n",
        "          batch_size=64,\n",
        "         epochs=5)"
      ],
      "execution_count": null,
      "outputs": [
        {
          "output_type": "stream",
          "text": [
            "Epoch 1/5\n",
            "133/133 [==============================] - 341s 3s/step - loss: 1.5778 - accuracy: 0.0000e+00 - auc_6: 0.5920 - val_loss: 0.5733 - val_accuracy: 0.0000e+00 - val_auc_6: 0.6665\n",
            "Epoch 2/5\n",
            "133/133 [==============================] - 341s 3s/step - loss: 0.3981 - accuracy: 0.0000e+00 - auc_6: 0.6123 - val_loss: 0.3222 - val_accuracy: 0.0000e+00 - val_auc_6: 0.6634\n",
            "Epoch 3/5\n",
            "133/133 [==============================] - 342s 3s/step - loss: 0.3148 - accuracy: 0.0000e+00 - auc_6: 0.6053 - val_loss: 0.3056 - val_accuracy: 0.0000e+00 - val_auc_6: 0.6581\n",
            "Epoch 4/5\n",
            "133/133 [==============================] - 342s 3s/step - loss: 0.3040 - accuracy: 0.0000e+00 - auc_6: 0.6179 - val_loss: 0.3010 - val_accuracy: 0.0000e+00 - val_auc_6: 0.6526\n",
            "Epoch 5/5\n",
            "133/133 [==============================] - 345s 3s/step - loss: 0.3044 - accuracy: 0.0000e+00 - auc_6: 0.6055 - val_loss: 0.3206 - val_accuracy: 0.0000e+00 - val_auc_6: 0.6516\n"
          ],
          "name": "stdout"
        },
        {
          "output_type": "execute_result",
          "data": {
            "text/plain": [
              "<tensorflow.python.keras.callbacks.History at 0x7f05e8140f60>"
            ]
          },
          "metadata": {
            "tags": []
          },
          "execution_count": 304
        }
      ]
    }
  ]
}
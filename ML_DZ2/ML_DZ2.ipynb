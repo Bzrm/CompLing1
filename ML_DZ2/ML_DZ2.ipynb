{
  "nbformat": 4,
  "nbformat_minor": 0,
  "metadata": {
    "colab": {
      "name": "ML2(shabl).ipynb",
      "provenance": []
    },
    "kernelspec": {
      "name": "python3",
      "display_name": "Python 3"
    }
  },
  "cells": [
    {
      "cell_type": "markdown",
      "metadata": {
        "id": "8E_8STNNE7vA",
        "colab_type": "text"
      },
      "source": [
        "#Датесет"
      ]
    },
    {
      "cell_type": "code",
      "metadata": {
        "id": "iJfdurKME9tw",
        "colab_type": "code",
        "outputId": "fd21ba6f-e9a4-4c3b-e83d-2f8337b1cadd",
        "colab": {
          "resources": {
            "http://localhost:8080/nbextensions/google.colab/files.js": {
              "data": "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",
              "ok": true,
              "headers": [
                [
                  "content-type",
                  "application/javascript"
                ]
              ],
              "status": 200,
              "status_text": ""
            }
          },
          "base_uri": "https://localhost:8080/",
          "height": 75
        }
      },
      "source": [
        "from google.colab import files\n",
        "uploaded = files.upload()"
      ],
      "execution_count": 1,
      "outputs": [
        {
          "output_type": "display_data",
          "data": {
            "text/html": [
              "\n",
              "     <input type=\"file\" id=\"files-baee9a5a-7d45-4729-85c6-7a104fbf600d\" name=\"files[]\" multiple disabled />\n",
              "     <output id=\"result-baee9a5a-7d45-4729-85c6-7a104fbf600d\">\n",
              "      Upload widget is only available when the cell has been executed in the\n",
              "      current browser session. Please rerun this cell to enable.\n",
              "      </output>\n",
              "      <script src=\"/nbextensions/google.colab/files.js\"></script> "
            ],
            "text/plain": [
              "<IPython.core.display.HTML object>"
            ]
          },
          "metadata": {
            "tags": []
          }
        },
        {
          "output_type": "stream",
          "text": [
            "Saving aclImdb.zip to aclImdb.zip\n"
          ],
          "name": "stdout"
        }
      ]
    },
    {
      "cell_type": "code",
      "metadata": {
        "id": "GK9dNsyCHKcX",
        "colab_type": "code",
        "colab": {}
      },
      "source": [
        "!unzip aclImdb.zip"
      ],
      "execution_count": 0,
      "outputs": []
    },
    {
      "cell_type": "code",
      "metadata": {
        "id": "jSayFLz9K8Cw",
        "colab_type": "code",
        "colab": {}
      },
      "source": [
        "from sklearn import datasets"
      ],
      "execution_count": 0,
      "outputs": []
    },
    {
      "cell_type": "code",
      "metadata": {
        "id": "qt8HoqCIKBgq",
        "colab_type": "code",
        "colab": {}
      },
      "source": [
        "train = datasets.load_files('aclImdb/train/', categories = ['neg', 'pos'], random_state = 42)\n",
        "test = datasets.load_files('aclImdb/test/', random_state = 42)"
      ],
      "execution_count": 0,
      "outputs": []
    },
    {
      "cell_type": "code",
      "metadata": {
        "id": "nbyVxGXem-St",
        "colab_type": "code",
        "colab": {}
      },
      "source": [
        "from sklearn.feature_extraction.text import CountVectorizer, TfidfVectorizer"
      ],
      "execution_count": 0,
      "outputs": []
    },
    {
      "cell_type": "code",
      "metadata": {
        "id": "aBPzaQPTMASq",
        "colab_type": "code",
        "colab": {}
      },
      "source": [
        "tfidf_vect = TfidfVectorizer(max_features=1000, min_df=6, max_df=0.3, ngram_range=(1,2))\n",
        "X_train_tfidf = tfidf_vect.fit_transform(train.data)\n",
        "X_test = tfidf_vect.transform(test.data)"
      ],
      "execution_count": 0,
      "outputs": []
    },
    {
      "cell_type": "markdown",
      "metadata": {
        "id": "U979PsE_E1pt",
        "colab_type": "text"
      },
      "source": [
        "#Метрики"
      ]
    },
    {
      "cell_type": "code",
      "metadata": {
        "id": "79Z1C-kumJ3t",
        "colab_type": "code",
        "colab": {}
      },
      "source": [
        "import numpy as np\n",
        "from sklearn.metrics import roc_auc_score, roc_curve\n",
        "from matplotlib import pyplot\n",
        "from sklearn.metrics import *"
      ],
      "execution_count": 0,
      "outputs": []
    },
    {
      "cell_type": "code",
      "metadata": {
        "id": "mxg8L7bCIs-F",
        "colab_type": "code",
        "colab": {}
      },
      "source": [
        "def metrics(predicted, true):\n",
        "  acc = accuracy_score(predicted, true)\n",
        "  f1 = f1_score(predicted, true, average = 'binary')\n",
        "  p = precision_score(predicted, true, average = 'binary')\n",
        "  r = recall_score(predicted, true, average = 'binary')\n",
        "  print('acc={0:1.4f}'.format(acc))\n",
        "  print('F1={0:1.4f}, P={1:1.4f}, R={2:1.4f}'.format(f1, p, r))\n"
      ],
      "execution_count": 0,
      "outputs": []
    },
    {
      "cell_type": "code",
      "metadata": {
        "id": "12U9VL0pLJyY",
        "colab_type": "code",
        "colab": {}
      },
      "source": [
        "def roc(true, predicted):\n",
        "  y_true = true\n",
        "  y_predicted = predicted\n",
        "  fpr, tpr, _ = roc_curve(y_true, y_predicted)\n",
        "  pyplot.plot(fpr, tpr, marker='.', label='Test')\n",
        "  # axis labels\n",
        "  pyplot.xlabel('False Positive Rate')\n",
        "  pyplot.ylabel('True Positive Rate')\n",
        "  # show the legend\n",
        "  pyplot.legend()\n",
        "  # show the plot\n",
        "  pyplot.show()"
      ],
      "execution_count": 0,
      "outputs": []
    },
    {
      "cell_type": "code",
      "metadata": {
        "id": "sxWqLvHpICSX",
        "colab_type": "code",
        "colab": {}
      },
      "source": [
        "def my_metrics(predicted, true):\n",
        "  tp = 0\n",
        "  fp = 0\n",
        "  tn = 0\n",
        "  fn = 0\n",
        "  for pr, tr in zip(predicted, true):\n",
        "    if pr == tr == 1:\n",
        "      tp += 1\n",
        "    elif pr == tr == 0:\n",
        "      tn += 1\n",
        "    elif pr == 1 and tr == 0:\n",
        "      fp += 1\n",
        "    elif pr == 0 and tr == 1:\n",
        "      fn += 1\n",
        "  precision = tp / (tp + fp)\n",
        "  recall = tp / (tp + fn)\n",
        "  F2 = 2 * precision * recall / (precision + recall)\n",
        "  accuracy = (tp + tn) / (tp + fp + tn + fn)\n",
        "  print('acc = {0:1.4f}'.format(accuracy))\n",
        "  print('F1 = {0:1.4f}, P = {1:1.4f}, R = {2:1.4f}'.format(F2, precision, recall))"
      ],
      "execution_count": 0,
      "outputs": []
    },
    {
      "cell_type": "markdown",
      "metadata": {
        "id": "boivg1kXE44H",
        "colab_type": "text"
      },
      "source": [
        "#1 модель - Мультиноминальный Байес\n"
      ]
    },
    {
      "cell_type": "code",
      "metadata": {
        "id": "6tqSF07LE4an",
        "colab_type": "code",
        "colab": {}
      },
      "source": [
        "from sklearn.naive_bayes import MultinomialNB\n",
        "clf_MNM = MultinomialNB().fit(X_train_tfidf, train.target)\n",
        "predicted = clf_MNB.predict(X_test)"
      ],
      "execution_count": 0,
      "outputs": []
    },
    {
      "cell_type": "code",
      "metadata": {
        "id": "jXhHaYoKE4s_",
        "colab_type": "code",
        "outputId": "4fbfb38d-d781-4117-d141-3b99068f6b44",
        "colab": {
          "base_uri": "https://localhost:8080/",
          "height": 52
        }
      },
      "source": [
        "metrics(predicted, test.target)"
      ],
      "execution_count": 0,
      "outputs": [
        {
          "output_type": "stream",
          "text": [
            "acc=0.8262\n",
            "F1=0.8272, P=0.8321, R=0.8223\n"
          ],
          "name": "stdout"
        }
      ]
    },
    {
      "cell_type": "code",
      "metadata": {
        "id": "7AHa-uUakSi8",
        "colab_type": "code",
        "outputId": "f3fa3d5a-6078-4ced-ef6d-b52710025a8a",
        "colab": {
          "base_uri": "https://localhost:8080/",
          "height": 279
        }
      },
      "source": [
        "roc(test.target, predicted)"
      ],
      "execution_count": 0,
      "outputs": [
        {
          "output_type": "display_data",
          "data": {
            "image/png": "[encoded data removed]",
            "text/plain": [
              "<Figure size 432x288 with 1 Axes>"
            ]
          },
          "metadata": {
            "tags": []
          }
        }
      ]
    },
    {
      "cell_type": "code",
      "metadata": {
        "id": "U5w_FeQ5Ch8_",
        "colab_type": "code",
        "outputId": "3986ebf5-3e26-406b-a6b4-0fe0f9c0a22b",
        "colab": {
          "base_uri": "https://localhost:8080/",
          "height": 35
        }
      },
      "source": [
        "print(roc_auc_score(test.target, predicted))"
      ],
      "execution_count": 0,
      "outputs": [
        {
          "output_type": "stream",
          "text": [
            "0.82616\n"
          ],
          "name": "stdout"
        }
      ]
    },
    {
      "cell_type": "markdown",
      "metadata": {
        "id": "UDi4wbmAFoRQ",
        "colab_type": "text"
      },
      "source": [
        "#Модель 2 - Логистическая регрессия "
      ]
    },
    {
      "cell_type": "code",
      "metadata": {
        "id": "SnPpK1RIFvLA",
        "colab_type": "code",
        "colab": {}
      },
      "source": [
        "from sklearn.linear_model import LogisticRegression\n",
        "clf_LR = LogisticRegression().fit(X_train_tfidf, train.target)\n",
        "predicted = clf_LR.predict(X_test)"
      ],
      "execution_count": 0,
      "outputs": []
    },
    {
      "cell_type": "code",
      "metadata": {
        "id": "qez7BGiCFv7A",
        "colab_type": "code",
        "outputId": "55b4a9da-de33-4788-d01c-ed001e873c91",
        "colab": {
          "base_uri": "https://localhost:8080/",
          "height": 52
        }
      },
      "source": [
        "metrics(predicted, test.target)"
      ],
      "execution_count": 51,
      "outputs": [
        {
          "output_type": "stream",
          "text": [
            "acc=0.8522\n",
            "F1=0.8533, P=0.8596, R=0.8470\n"
          ],
          "name": "stdout"
        }
      ]
    },
    {
      "cell_type": "code",
      "metadata": {
        "id": "aBSJDep9COuh",
        "colab_type": "code",
        "colab": {
          "base_uri": "https://localhost:8080/",
          "height": 52
        },
        "outputId": "ee476450-15d0-4dfa-eeda-c38c4e72a501"
      },
      "source": [
        "my_metrics(predicted, test.target) #здесь нужно перезапустить, потому что редактил функцию подсчёта уже после того как загрузил"
      ],
      "execution_count": 66,
      "outputs": [
        {
          "output_type": "stream",
          "text": [
            "acc = 0.8522\n",
            "F1 = 0.8533, P = 0.8596, R = 0.8470\n"
          ],
          "name": "stdout"
        }
      ]
    },
    {
      "cell_type": "code",
      "metadata": {
        "id": "oQ1Ef4OfFzc5",
        "colab_type": "code",
        "outputId": "db5bd5f5-c9c6-46fe-ebe6-3e93083e941d",
        "colab": {
          "base_uri": "https://localhost:8080/",
          "height": 279
        }
      },
      "source": [
        "roc(test.target, predicted)"
      ],
      "execution_count": 0,
      "outputs": [
        {
          "output_type": "display_data",
          "data": {
            "image/png": "[encoded data removed]",
            "text/plain": [
              "<Figure size 432x288 with 1 Axes>"
            ]
          },
          "metadata": {
            "tags": []
          }
        }
      ]
    },
    {
      "cell_type": "code",
      "metadata": {
        "id": "MeO-7aLZCgLE",
        "colab_type": "code",
        "outputId": "c8fc2d92-ffdb-4844-ed6c-5b0ca0e08682",
        "colab": {
          "base_uri": "https://localhost:8080/",
          "height": 35
        }
      },
      "source": [
        "print(roc_auc_score(test.target, predicted))"
      ],
      "execution_count": 0,
      "outputs": [
        {
          "output_type": "stream",
          "text": [
            "0.85216\n"
          ],
          "name": "stdout"
        }
      ]
    },
    {
      "cell_type": "markdown",
      "metadata": {
        "id": "9xwu6jTYF5z4",
        "colab_type": "text"
      },
      "source": [
        "#Модель 3 - деревья решений"
      ]
    },
    {
      "cell_type": "code",
      "metadata": {
        "id": "QAJh7rALF-8g",
        "colab_type": "code",
        "colab": {}
      },
      "source": [
        "from sklearn.tree import DecisionTreeClassifier\n",
        "clf_DTC = DecisionTreeClassifier().fit(X_train_tfidf, train.target)\n",
        "predicted = clf_DTC.predict(X_test)"
      ],
      "execution_count": 0,
      "outputs": []
    },
    {
      "cell_type": "code",
      "metadata": {
        "id": "rAqn9IriF_jJ",
        "colab_type": "code",
        "outputId": "b9d4c34f-3a02-4577-fd35-972942cd52dc",
        "colab": {
          "base_uri": "https://localhost:8080/",
          "height": 52
        }
      },
      "source": [
        "metrics(predicted, test.target)"
      ],
      "execution_count": 0,
      "outputs": [
        {
          "output_type": "stream",
          "text": [
            "acc=0.6953\n",
            "F1=0.6921, P=0.6850, R=0.6994\n"
          ],
          "name": "stdout"
        }
      ]
    },
    {
      "cell_type": "code",
      "metadata": {
        "id": "X7IbPKvflk24",
        "colab_type": "code",
        "outputId": "bb36b3c7-3bbe-4baf-a5ce-6ac51e40b171",
        "colab": {
          "base_uri": "https://localhost:8080/",
          "height": 279
        }
      },
      "source": [
        "roc(test.target, predicted)"
      ],
      "execution_count": 0,
      "outputs": [
        {
          "output_type": "display_data",
          "data": {
            "image/png": "[encoded data removed]",
            "text/plain": [
              "<Figure size 432x288 with 1 Axes>"
            ]
          },
          "metadata": {
            "tags": []
          }
        }
      ]
    },
    {
      "cell_type": "code",
      "metadata": {
        "id": "O_DTLx_3CANV",
        "colab_type": "code",
        "outputId": "f8fa3c02-101e-415f-bec6-dc9b50964dd2",
        "colab": {
          "base_uri": "https://localhost:8080/",
          "height": 35
        }
      },
      "source": [
        "print(roc_auc_score(test.target, predicted))"
      ],
      "execution_count": 0,
      "outputs": [
        {
          "output_type": "stream",
          "text": [
            "0.6952799999999999\n"
          ],
          "name": "stdout"
        }
      ]
    },
    {
      "cell_type": "markdown",
      "metadata": {
        "id": "V17gE03u5JMK",
        "colab_type": "text"
      },
      "source": [
        "#Результаты"
      ]
    },
    {
      "cell_type": "markdown",
      "metadata": {
        "id": "WJwgXaGAAYqD",
        "colab_type": "text"
      },
      "source": [
        "Логистическая регрессия даёт наилучший результат. На втором месте Мультиноминальный Байес (с очень небольшим отставанием). И замыкают деревья решений: результаты значительно хуже, а время обучения - выше. Даже по РОК-кривой деревьев решений можно видеть, насколько меньшую площадь охватывает данный метод. \n",
        "\n",
        "Мультиноминальный Байес:\n",
        "acc=0.8262\n",
        "F1=0.8272, P=0.8321, R=0.8223,\n",
        "roc_auc:0.82616\n",
        "\n",
        "Логистическая регрессия:\n",
        "acc=0.8522\n",
        "F1=0.8533, P=0.8596, R=0.8470,\n",
        "roc_auc:0.85216\n",
        "\n",
        "Деревья решений:\n",
        "acc=0.6953\n",
        "F1=0.6921, P=0.6850, R=0.6994,\n",
        "roc_auc:0.6952799999999999\n"
      ]
    },
    {
      "cell_type": "markdown",
      "metadata": {
        "id": "PUvgi3xDMDff",
        "colab_type": "text"
      },
      "source": [
        "#Probs"
      ]
    },
    {
      "cell_type": "code",
      "metadata": {
        "colab_type": "code",
        "id": "dhS3fHExKEol",
        "colab": {}
      },
      "source": [
        "probabilities = clf_LR.predict_proba(X_test)[:, 1]"
      ],
      "execution_count": 0,
      "outputs": []
    },
    {
      "cell_type": "code",
      "metadata": {
        "id": "A7T93RIuL6i4",
        "colab_type": "code",
        "colab": {
          "base_uri": "https://localhost:8080/",
          "height": 52
        },
        "outputId": "8d560542-d59f-4e75-c510-342bf594d905"
      },
      "source": [
        "#probabilities"
      ],
      "execution_count": 69,
      "outputs": [
        {
          "output_type": "execute_result",
          "data": {
            "text/plain": [
              "array([0.12262239, 0.9736194 , 0.97205229, ..., 0.61913442, 0.83664074,\n",
              "       0.96632189])"
            ]
          },
          "metadata": {
            "tags": []
          },
          "execution_count": 69
        }
      ]
    },
    {
      "cell_type": "markdown",
      "metadata": {
        "id": "tYepRF5x4u03",
        "colab_type": "text"
      },
      "source": [
        "#Самые негативные рецензии."
      ]
    },
    {
      "cell_type": "code",
      "metadata": {
        "id": "8F_84tPg6E3j",
        "colab_type": "code",
        "colab": {}
      },
      "source": [
        "neg_prob = probabilities.argsort()[:15]"
      ],
      "execution_count": 0,
      "outputs": []
    },
    {
      "cell_type": "code",
      "metadata": {
        "id": "Orf_bQEY8A5D",
        "colab_type": "code",
        "outputId": "71ea3b4a-9345-41be-cfcb-4d1a466123ca",
        "colab": {
          "base_uri": "https://localhost:8080/",
          "height": 52
        }
      },
      "source": [
        "#neg_prob"
      ],
      "execution_count": 0,
      "outputs": [
        {
          "output_type": "execute_result",
          "data": {
            "text/plain": [
              "array([14717, 20032, 24458, 10751, 17852,  8479, 19152, 20861,  1400,\n",
              "       15095, 12962, 10046, 11920, 20727, 17291])"
            ]
          },
          "metadata": {
            "tags": []
          },
          "execution_count": 37
        }
      ]
    },
    {
      "cell_type": "code",
      "metadata": {
        "id": "XZUCteDM7P0s",
        "colab_type": "code",
        "outputId": "39fe3cd8-db2f-46eb-cb83-f97a34c189f5",
        "colab": {
          "base_uri": "https://localhost:8080/",
          "height": 297
        }
      },
      "source": [
        "negs = []\n",
        "for sample in neg_prob:\n",
        "  negs.append(test.data[sample])\n",
        "\n",
        "for text in negs:\n",
        "  print(text)"
      ],
      "execution_count": 0,
      "outputs": [
        {
          "output_type": "stream",
          "text": [
            "b'As you can tell from the other comments, this movie is just about the WORST film ever made. Let me see how many different words I can use to describe it: Boring, Unbearable, Laughable, Lousy, Stupid, Horrible.....<br /><br />I could go on with such descriptions but you probably get the point.<br /><br />I would have given this a 0, if possible--bad acting, bad directing, bad production, bad plot.<br /><br />This was made in 2001 and it looks more like 1965. Very low budget, boring plot, horrible acting, really bad special effects, etc...<br /><br />I rarely ever see a Sci-Fi film I absolutely think is this bad. I mean this is pure garbage. It has nothing going for it either. As far as a \"B-movie\" this is the very bottom of the lot.<br /><br />I think I would be more entertained by staring at a blank piece of paper for 90 minutes. Junk like this gives good low-budget \"B\" movies a bad name. This makes Ed Wood movies look good.<br /><br />The thing about watching direct-to-video movies is, just when you think you\\'ve seen the worst, you see something even worse!<br /><br />DJ Perry is a horrible actor and has no individual characteristics that make him stand out.<br /><br />Avoid this waste at all costs! Oh the humanity!'\n",
            "b\"Cheerleader Massacre was supposed to be the fourth installment of the Slumber Party Massacre series; if that's what they were doing (which it is considering ONE actress from the original returns in a small cameo role), they have failed miserably and made, by far, the worst installment of the 'quadrilogy'. Cheerleader Massacre seamlessly combines bad acting, a horrible plot, a dumb killer, dull and boring deaths, boring scenery, and hideous camera work to make it one of the worst films ever made. Did I already mention how bad it was? Don't get me wrong: this cheesy and retarded excuse for a horror film is nowhere near as bad as Napoleon Dynamite, but it is undeniably a horrible movie.<br /><br />Cheerleader Massacre is an exact polar opposite of the original Slumber Party Massacre. Stay away by all means! This movie is utter garbage!\"\n",
            "b\"This is just the same old crap that is spewed from amateur idiots who have no clue how to make a movie--gee maybe that's why it is a straight-to-video wanna-be movie!<br /><br />I guess it is my fault for actually spending money to see it (one of the worst decisions I have ever made). What a waste. I usually like B movies, some of them are actually quite good--but this is just too ridiculous and stupid to even be funny.<br /><br />The losers that made this junk deserve to be put out of business for wasting everyone's time and money making a movie that obviously doesn't even deserve to be on film! These so-called movie makers have absolutely NO talent!<br /><br />Stupid plot, horrible acting (especially the drag queens--what sicko would actually find that sexy?!), lame writing (if there even was a script--seems like the kinda bull**** someone just made up on the spot)<br /><br />What is stunning about this movie is its utter lack of anything well-done at all.<br /><br />How much attention to detail would it take to insure that every frame of a film would be so far below any reasonable standards? I don't think it would be possible to make such a bad movie intentionally, and it is inconceivable that sheer bad luck could produce such consistently awful results.<br /><br />Anyway, avoid this stink bomb at all costs!!!!!!!!!!!!!!!!\"\n",
            "b\"This was obviously the worst movie ever made...ketchup was the starring role in this movie and would be the only nominee for an award..cause the plot, actors, and anything related to this farce was absolutely horrible and ridiculous. I could have made a better horror flick in my backyard within two hours with a hand-held camera using grass stuffed dummies as the actors, atleast the acting would have been better! Don't waste your time or money on this one...it's extremely cheesy and horrible!!\"\n",
            "b\"This movie is pathetic in every way possible. Bad acting, horrible script (was there one?), terrible editing, lousy cinematography, cheap humor. Just plain horrible.<br /><br />I had seen 'The Wishmaster' a couple weeks before this movie and I thought it was a dead-ringer for worst movie of the year. Then, I saw 'The Pest' and suddenly 'The Wishmaster' didn't seem so bad at all.<br /><br />Bad Bad Bad. Excruciatingly bad.\"\n",
            "b\"Komodo vs. Cobra starts as 'One Planet' environmentalist Jerry Ryan (Ryan McTavish) & his girlfriend Carrie (Renee Talbert) hire Captain Michael Stoddard (executive producer Michael Par\\xc3\\xa9) to take them to an island in the South Pacific, at first Stoddard is reluctant since the island is a top secret military research base but soon changes his mind when a load of cash is offered. Along with TV news reporter Sandra Crescent (Jeri Manthey) they set sail for the island & once ashore find out that the military have been funding illegal DNA genetic experiments which have resulted in huge Komodo Dragon's & King Cobra's that have eaten almost every other living thing there & Stoddard & co are next on the menu...<br /><br />Co-written & directed by the ever awful Jim Wynorski under his Jay Andrews pseudonym this is just plain awful, this is just plain hard to sit through & is even worse than the usual rubbish 'Creature Features' the Sci-Fi Channel have the nerve to air if that's possible. The script is terrible, predictable & utterly boring, some giant monsters of some sort are created by scientists messing around with DNA, a group of people are trapped with said monsters & have to try to escape being eaten. That's it, that's the whole plot of Komodo vs. Cobra, maybe this was trying to rip-off AVP: Alien vs. Predator (2004) with the title but all the 'vs.' bit amounts to is a rubbish thirty second stand-off between the two titular beasts at the very end, boring as hell & surely a big disappointment to anyone hoping to have a full on monster mash. The character's are poor, the dialogue is awful, the pace is slow, the story is predictable & clich\\xc3\\xa9 ridden & the whole film just sucks really with a lazy script that states wrongly that both Komodo Dragon's & Cobra's are amphibious which they are not. Hell, Komodo vs. Cobra isn't even worth watching for any unintentional laughs since it's so dull & hardly anything ever happens although the sight of a woman hiding behind the smallest rock on the beach from the Cobra is quite funny for the wrong reasons.<br /><br />How does Wynorski keep getting directing jobs? He is probably consistently the worst director currently working, how can he keep getting fun sounding films set on beautiful locations with half decent casts & still churn out such an awful film? I think this was cut to get a PG or for it's TV showing since every time someone swears it's masked by a Parrot squeak! There's zero gore or violence & the monster scenes are limp, people just sort of stand there, the monsters just sort of stands there too hissing or roaring & that's about it. The CGI computer effects are terrible, this is really poor stuff that just looks horrible.<br /><br />With a supposed budget of about $450,000 this looks as cheap as it was, the Hawaiian locations are nice to look at but that's about it. The acting is poor from an uninterested looking cast.<br /><br />Komodo vs. Cobra is an absolutely terrible Sci-Fi Channel 'Creature Feature' from Jim Wynorski, films don't get much worse than this.\"\n",
            "b\"The Capture Of Bigfoot is one of the silliest and worst movies of all time. I love Sasquatch and Bigfoot movies but this one is just a sheer waste of one's time.Terrible, terrible, terrible!I watched this movie last night, and it was all I could do to finish watching.I understood that this weird crazy man wanted to capture Bigfoot,but that was the only thing that made sense in this movie.It did have some amusing parts though.There was this very cheesy and corny disco club with very bad disco dancing that seemed to go on for far too long in the movie.I think the director was trying to fill time.The worst thing was the way the Bigfoot looked.The obvious man in a suit looked like a pink faux fur Bigfoot.It was laughable.If you want to see a very bad Bigfoot movie, then I suggest that you purchase this movie.Personally, I wasted my time and my money on this one!\"\n",
            "b\"OK, I would give this a 1, but I'm gonna give it a two because I laughed while watching this film...First of all, I can make a much better movie than this one...in a week...The special effects made this film look like a joke. One shouldn't make such films with horrible special effects because then people won't take it seriously. The acting and direction was also horrible. The screenplay had many plot holes and the whole film wasn't believable at all. This has to be the worst Indian film ever. The songs were also bad. The acting was bad and artificial. Need I say more. Don't watch this movie unless you are curious to see how bad it is. That's why I watched it. I am going into film and I wanted to see how bad a bad film can get. Trust me, I watched one of the worst films in history if not THE worst film.\"\n",
            "b\"Now we know where they got the idea of Snakes on a Plane. To put it bluntly, do not pay to see this movie. If you really want to waste 90 minutes of your life, then either catch it on cable, or get it as a free pick from NetFlix or Blockbuster. Do not pay to rent this. If you do pay to rent this, then you are one stupid individual. The acting was awful, the plot was awful, everything was awful except for the snakes. Whether they were real or CGI generated, they did look pretty good. But that being said, still this movie has to be one of the worst movies I have ever seen. Even the nude dancing scene was pretty bad that I actually fast forwarded through that. Don't sat I did not warn you.\"\n",
            "b'Boring, ridicules and stupid \"Submerged\" is a waste of time. The shootouts were a joke, real people do not just stand out in the open with out any cover, hoping to get shot first! So many things wrong or bad, not worth the effort to list, except one major flaw. At 500 mph for 20 minutes = about 166 miles west of L.A. and the water is 100ft deep??? Even at that, none of the people would have survived the decompression from being subjected to 100ft of water pressure for more then 20 hours when they were brought up. Just a awful.'\n",
            "b'This movie was a complete waste of time. The soundtrack was bad, story was lame and predictable, and the acting was terrible. One of the worst 25 movies I have ever seen. After the first ten minutes, the rest of the film was completely obvious.'\n",
            "b'A few words for the people here in germen\\'s cine club: The worst crap ever seen on this honorable cinema. A very poor script, a very bad actors, and a very bad movie. Don\\'t waste your time looking this movie, see the very good \"mutantes verdes fritos anarquia radioactiva\", or any movie have been good commented by me. Say no more.'\n",
            "b'At last, a film to rival \\'El Padrino\\' and \\'Darkness Falls\\' in terms of sheer and utter dullness. This is actually the first film I\\'ve ever given 1 out of 10 for on IMDb, and with good reason.<br /><br />For one, the cast is nothing special. That\\'s usually not a problem for me except that the only character that\\'s in anyways interesting or different from all the rest is Grand L. Bush\\'s Harrington. Secondly, the production values a substandard - television sci-fi such as \\'Stargate\\' has more convincing sets, and all of the underwater scenes NOT handled by the SFX teams are filmed on dry sets with \\'falling particles\\' that aren\\'t very convincing. This film is literally \\'drydocked\\'. The worst part though is that this film is BORING. For the first 45 minutes, I felt as if we were going round and round in circles: \"It\\'s a prehistoric shark.\" \"Bullsh*t.\" \"No really.\" \"Bullsh*t.\" \"I\\'m not making this up.\" \"Bullsh*t.\" \"There it is now!\" \"I didn\\'t see anything.\" \"Let me guess?\" \"Yup. Bullsh*t.\" After then it picks up ever so slightly for about twenty minutes or so. Then we\\'re back to the dialog run-around. Dialog is not a bad thing, but that\\'s all this film has. Characters talking. That too, is not a bad thing, except this film isn\\'t very good at it. The dialog is often contrived and clich\\xc3\\xa9d, and is not very interesting to listen to. I don\\'t see any point slandering the special effects; this film has worse qualities.<br /><br />The sets are small and unrealistic. The acting is sub-par. The script - oh Lord, the script - is worse than a garbage of sci-fi television has to dredge up. It makes you wonder where the budget of this film is or was.<br /><br />Yet another awful, awful addition to the \\'Megaloadon\\' (there\\'s about four) series of films. Bring on Steve Alten, please...'\n",
            "b\"I felt like I was watching an example of how not to make a movie. I think the director filmed it in his back yard! There was no real plot. <br /><br />Terrible script.<br /><br />Terrible acting.<br /><br />The worst production I have ever witnessed. A couple of bad CG effects and then the rest of the movies was spent walking around in what looked like a junk yard.<br /><br />I don't normally write reviews to movies but was moved to warn everyone about this one.<br /><br />Life is to short to waste your time with this movie!\"\n",
            "b\"Why can't there be better TV movies made I was at a loose end today and watched this film on a satellite channel in the UK. What a terrible waste of my time it was . Poor sets, Poor acting & Oh my god what a terrible flood . Blimey that woman can even outrun a torrent of water too!.<br /><br />I really wish that people would make TV movies using better effects, better or at least more believable plots & far better acting. Killer Flood is well up there with poor acting. A few bits of ham couldn't act any worse.<br /><br />1 final thing I really agree with the comment about the dog, but I believe it would of already scarpered in real life!\"\n"
          ],
          "name": "stdout"
        }
      ]
    },
    {
      "cell_type": "markdown",
      "metadata": {
        "id": "e1pj0o_-4gf8",
        "colab_type": "text"
      },
      "source": [
        "#Самые позитивные рецензии."
      ]
    },
    {
      "cell_type": "code",
      "metadata": {
        "id": "k4souF4bA9ce",
        "colab_type": "code",
        "colab": {}
      },
      "source": [
        "pos_prob = probabilities.argsort()[-15:]"
      ],
      "execution_count": 0,
      "outputs": []
    },
    {
      "cell_type": "code",
      "metadata": {
        "id": "IH_fJcfBBrjc",
        "colab_type": "code",
        "outputId": "19abe5cc-064b-4d9a-df3d-af7d756de6a4",
        "colab": {
          "base_uri": "https://localhost:8080/",
          "height": 52
        }
      },
      "source": [
        "#pos_prob"
      ],
      "execution_count": 0,
      "outputs": [
        {
          "output_type": "execute_result",
          "data": {
            "text/plain": [
              "array([15124, 21064, 17883, 24742,  7294, 21732,  2771, 12974, 16029,\n",
              "       10121,  6185, 22216, 14226,  9736, 24154])"
            ]
          },
          "metadata": {
            "tags": []
          },
          "execution_count": 75
        }
      ]
    },
    {
      "cell_type": "code",
      "metadata": {
        "id": "3rnnXj1N13Mr",
        "colab_type": "code",
        "outputId": "b2b226f7-f76a-4d10-a8b1-c1a74e5fe274",
        "colab": {
          "base_uri": "https://localhost:8080/",
          "height": 297
        }
      },
      "source": [
        "pos = []\n",
        "for sample in pos_prob:\n",
        "  pos.append(test.data[sample])\n",
        "\n",
        "for text in pos:\n",
        "  print(text)"
      ],
      "execution_count": 0,
      "outputs": [
        {
          "output_type": "stream",
          "text": [
            "b'This is absolutely one of our favourites of 2007.<br /><br />The tale of two boys who come from different worlds but are as close as brothers is brilliantly told.<br /><br />Beautifully shot, and scripted - from childhood to the adulthood it never falters.<br /><br />A brilliant insight into a lost culture, and a very good way to understand Farsi cultures and traditions this is also an exceptional tale in its own right. It is both compassionate and thrilling, uplifting and filled with immense sorrow, joyful and depressing.<br /><br />With excellent performances from the cast and great technical skills behind the camera this really is film at its best.<br /><br />Highest recommendation: a real slice of life that uplifts and informs.'\n",
            "b'This wonderful movie captures so many elements of what makes a family comedy funny, entertaining, sweet and memorable, it\\'s difficult to decide where to start.<br /><br />From the opening number, \"Rainbow Connection,\" Paul Williams\\'s excellent score sung with gusto by Kermit D. Frog, which gives us a prologue of what the whole adventure is about, throughout the story, this is one fun movie.<br /><br />Essentially, it\\'s a road trip movie, where Kermit travels cross-country with a dream of pursuing a \"rich and famous contract\" to entertain. Along the way, our green hero meets a series of other aspiring actors, comedians, singers, and musicians, who coincidentally, are muppets like Kermit himself. Is this how the Muppets really started? \"Approximately how it happened,\" Kermit tells us.<br /><br />Not since \"It\\'s a Mad, Mad, Mad, Mad World\" has the cameo formula been used so prolifically and successfully. The aspiring stars encounter many recognizable faces during their Odyssey; some just blink across the screen, but others have very memorable cameos. Steve Martin\\'s amusing bit as a rude waiter is probably the best. Puppeteer Jim Henson\\'s nod to his inspiration, Edgar Bergen, is especially touching.<br /><br />Anyone who ever watched the Muppets TV show will get to see all of their favorite characters, they\\'re all here. The puppetry work is magnificent; look especially for Kermit riding a bicycle (how dey do dat???) In-jokes and references to old movies are everywhere, but the best one-liners are reserved for Kermit himself. An example: when the crooks are terrorizing Kermit and Piggy, she affectionately says to her short, green, and handsome beau, \"I wouldn\\'t give up this evening together for anything, would you?\" \"Uhhh, make me an offer....\" I also love the gunfight at the OK Corral scene: brilliantly absurd silliness.<br /><br />Gotta get \"Movin\\' right along\" now, but to summarize: a good natured movie that can be enjoyed by anyone, regardless of age or movie genre taste. Highly recommended.'\n",
            "b'Adapting his own novel \"Cabal\" for the screen, author / screenwriter / director Clive Barker fashioned this marvelous story of outr\\xc3\\xa9 horror and fantasy. Craig Sheffer plays Boone, a young man who becomes suspected of being a serial killer. The cops gun him down in front of Midian, on the surface a cemetery but which is actually a haven for monsters that have been shunned by society. When they lay claim to Boone and make him one of their own, this causes repercussions for everybody, including Boone\\'s sweet girlfriend (the very cute Anne Bobby) and dubious psychiatrist (a most enjoyable David Cronenberg).<br /><br />\"Nightbreed\" displays the kind of wild and twisted imagination that I don\\'t see in movies all that often. For one thing, Ralph McQuarrie, an old hand at conceptual art having worked on such films as the initial three \"Star Wars\" entries, helps Barker to create excellent visuals for \"Nightbreed\", starting right away with the opening credit sequence. The visual and makeup effects are elaborate, and production design and cinematography quite impressive. Barker and crew do a wonderful job at creating this whole other world with compelling characters. It\\'s colorful and flamboyant entertainment and is a pleasure to take in. And of course there\\'s the strong sense of social commentary regarding intolerance and bigotry, not to mention the heavy consequences that can result from a person\\'s actions.<br /><br />Great supporting performances add to the fun. Cronenberg oozes lots of malevolent intent and is a real gas as the bad doctor, while Charles Haid is a fine love-to-hate-him type of antagonist, a rather nasty police captain. Doug \"Pinhead\" Bradley once again gets buried under heavy makeup as the weary Lylesberg, and is solid as a rock. Hugh Ross is great fun as Narcisse, as is Catherine Chevalier as Rachel (as an added bonus, she bares her breasts in one sequence). Simon Bamford, who played the \"Butterball Cenobite\" in the first two \"Hellraiser\" pictures, turns up here as well. There\\'s even a cool cameo by 50\\'s and 60\\'s sci-fi star John Agar.<br /><br />Danny Elfman supplies another of his fantastic scores, and Barker leads us steadily through the intriguing story towards a terrific apocalyptic showdown.<br /><br />\"Nightbreed\" is an excellent genre film worth checking out for anybody who hasn\\'t seen it. I give it a hearty recommendation.<br /><br />9/10'\n",
            "b'1904. The North African nation of Morocco is hanging onto a tenuous Independence, as the various European powers - France, Germany, Britain, Russia, Spain, and now the United States - are vying for influence in the region. The Sultan (Marc Zuber) is a weak puppet; his uncle, the Bashaw (Vladek Sheybal), who is being manipulated by the French and Germans, is the real power behind the throne. Enter Berber Chieftan Raisuli (Sean Connery), the leader of the Rif tribe and \"the last of the Barbary Pirates\", who kidnaps an American missionary, Eden Pedecaris (Candice Bergen) and her two children and takes them hostage. Back in the US, President Theodore Roosevelt (Brian Keith) threatens to go to war over the issue: \"Pedecaris Alive or Raisuli Dead!\" - seeing the issue as the perfect way to exercise his \"Big Stick\" diplomacy, though Secretary of State John Hay (John Huston) is not so confident. However, the Raisuli has less sinister plans for the Pedecarises, who are more than capable of handling themselves in any event.<br /><br />John Milius\\'s great historical film, based VERY loosely off of a true story (i.e. Pedecaris was a middle-aged man), is a wonderful bit of escapism. It has some amazing action scenes, a witty, well-written script, a fine cast enjoying themselves with the material, and does not overstay its welcome like, say, \"Pirates of the Caribbean\" or the \"Lord of the Rings\" movies. It\\'s not really an \"epic\" film in the strictest sense, but it\\'s one of the best pure action movies ever made.<br /><br />While the historical context is shaky, the storyline is interesting, and as some reviewers point out, it is even more pertinent today than it was when made. As President Roosevelt says, \"America is like a grizzly bear\" - fierce, strong, but a little blind and reckless at times. At the time of the film\\'s setting, America has just been propelled onto the world stage as superpower, following their resounding victory in the Spanish-American War - and Roosevelt seizes this incident as a way to prove America\\'s worth. In real life, it didn\\'t quite work out that way, but allegorically it works well. While written from a right-wing perspective, Milius\\'s screenplay is pretty accurate in assessing America and its place in the world. He admires Roosevelt and his method of \"big stick\" diplomacy, and correctly recognizes (in the words of Roosevelt) that while America may be feared and respected, they\\'ll never be truly \"loved\" by the world, no matter what they do. And there are some scenes - like Roosevelt\\'s target shooting of European leaders and the almost-comic surprise attack by Marines on the Bashaw\\'s palace - which show America\\'s reckless and violent side, while others - the climactic showdown with the Germans - show their heroism.<br /><br />The historical/political context of the film is, of course, merely meat on the bones of what is essentially a rousing action/adventure film. There are some brilliantly done action scenes, such as Raisuli\\'s rescue of the Pedecaris\\'s from double-crossing tribesmen, which features some of the best swordplay in any film. The opening entrance of the Raisuli and the aforementioned march and attack of the US Marines are brilliantly done bravura set pieces. And the final battle, which combines elements of \"Lawrence of Arabia\" and \"The Wild Bunch\", while a major historical fantasy (a three-way battle between Germans, Americans, and the Rifs), is a superbly staged, adrenaline-pumping sequence.<br /><br />The excellent cast gives some wonderful performances. Everyone seems to be having a fun time with the film, and it shows. Sean Connery is surprisingly convincing as a Berber with a Scottish accent, but manages to pull off his interesting, well-drawn and chivalrous character who comes to respect his hostage and abhors modern, uncivil warfare. Candice Bergen, an actress whom I\\'ve never been fond of, gives a fine performance as the feisty Eden Pedecaris, who is every bit as tough as her captor. Brian Keith is an amazingly convincing TR - you really feel he must have been like this, an athletic, blustering, yet practical and intelligent man with an admirable sense of self. The scenes of Roosevelt boxing and target-shooting while discussing foreign policy are some of the greatest \"bad ass\" moments in movie history - and who can forget lines like \"Why spoil the beauty of the thing with legality?\" John Huston provides solid support as the weary, cautious Hay, acting as a perfect foil to the much more impetuous Roosevelt. <br /><br />Among the fine supporting cast, the best are Geoffrey Lewis as Samuel Gummere, the cynical Ambassador caught in the middle of the political intrigue, and Steve Kanaly, as the gung-ho Marine Captain who cheerfully advocates (and carries out) \"Military intervention!\" as the blunt and simple solution to the whole complex situation. Other familiar faces such as Vladek Sheybal, Nadim Sawalha, Roy Jenson, Larry Cross, Marc Zuber, and Darrell Fetty also do fine work, no matter how small their role. Spaghetti Western fans will recognize Antoine Saint-John (\"A Fistful of Dynamite\") as the German general and Aldo Sambrell as one of Raisuli\\'s tribesmen.<br /><br />\"The Wind and the Lion\" is, all around, a wonderfully done adventure film. It has something for everyone: wonderful gun- and swordplay, a lot of humor, a tough, feisty heroine (and her two cute children), a nice (if unconsummated) romance, and an interesting (if fanciful) political/historical context. It\\'s not a masterpiece, but hey, it wasn\\'t trying to be. I give \"The Wind and the Lion\" a stirring nine stars and my highest recommendation.'\n",
            "b\"This movie is great. Stylish, fun, good acting. I'd seen it described variously as 'Lock, Stock and Two Smoking Muskets' and 'Reservoir Fops', both of which are excellent descriptions. The plot is simple, but it does not detract from the enjoyment. Carlyle is a brilliant ruffian and Miller is an excellent drunken gentleman. The sets and costumes are stunning, and the music and camerawork are refleshingly unusual for a 'costume drama'. Sense and Sensibility it definitely is not!!!!! My recommendation? Go see it, sit back with a huge tub of popcorn and have a damn good time.\"\n",
            "b'Universal Studios version of \"Flipper\" (1996) is a great heartwarming film for the entire family with good values and sentimentality. It is the story of Sandy Ricks, a teenager from Chicago who reluctantly spends his vacation with his Uncle Porter Ricks in the Bahamas. This ultimately changes the teenagers life and he grows up in the process. He learns to appreciate nature and to have a respect for the environment. I grew up in the 1960\\'s and the NBC television show \"Flipper\" was my favorite childhood show. Elijah Wood is perfectly cast as a 1990\\'s Sandy Ricks and gives an excellent performance. As much as I liked the NBC television show and MGM theatrical feature films with Luke Halpin as Sandy in the 1960\\'s I liked this feature the best! I feel Elijah Wood is the best Sandy Ricks. With respect to Luke Halpin I feel Elijah Wood has more of a range of acting talent and emotes more as an actor which makes his performance excellent and more believable. I think Elijah Wood is the best young actor working today in films. Director Alan Shapiro also wrote the screenplay and has done an excellent job as both writer and director of this film. Paul Hogan gives a comical and likable performance as Sandy\\'s Uncle Porter Ricks. Mr. Hogan\\'s performance perfectly offsets Elijah\\'s role as Sandy. I am a big fan of underwater films. This film was beautifully shot in the Bahamas like \"Thunderball\" (1965 UA) was. The director of photography was Bill Butler A.S.C. who lensed the film \"Jaws\" in 1975. Mr. Butler is a very talented cinematographer. The underwater director of photography was Pete Romano. He did a superb job with the underwater cinematography. I enjoyed the film score by Joel McNeely. This good film score featured Crosby, Stills and Nash among other talented artists. This motion picture was shot in Panavision like \"Thunderball\" in the aspect ratio of 2.35:1 If possible try to see this film in a scope version as originally framed and visioned by Alan Shapiro and Bill Butler. Another very nice thing is that Mr. Shapiro gave the \"original\" Sandy Ricks (Luke Halpin) a small part in this remake. He portrayed Bounty Fisherman #3 in this film. This was a very kind gesture on Mr. Shapiro\\'s part! As you can tell I am a real true fan of this film. Sadly this beautiful film was met with harsh words by the majority of movie critics. I originally saw this movie on my birthday, May 31st of 1996 in a movie theater. It meant a lot to me. I have it on numerous video versions. The VHS versions are in \"pan and scan\". The laserdisc version is \"letterboxed\" 2.35:1! I even have a VCD in 2.35:1 from Hong Kong which is \"letterboxed\". But my most prized possession is an \"original\" 16mm theatrical feature print which I will treasure for the rest of my life! Thank you Mr. Shapiro, Elijah Wood, Paul Hogan and everyone involved for making this a memorable movie for me to enjoy!<br /><br />P.S. I must add that the quality of the Universal DVD is superb! It is the best DVD as far as quality I have ever seen. The color and resolution is spectacular. The soundtrack is great. I think Universal must have used the same transfer for the DVD that they did for the laserdisc version. The 35mm scope print is \"mint\" and Alan\\'s film really has a wonderful look to it. A great tribute to a wonderful film! The DVD\\'s resolution is even superior to the laserdisc quality! It\\'s just spectacular! Thank you Universal Home Video for the great quality control and transfer. Many thank\\'s for doing a superb job on this wonderful family film. Also many thank\\'s to you Alan for all your extreme kindness to me!!! It\\'s a real honor to know you!!! (Review Revised/Updated June 27, 2005)'\n",
            "b'Horror-genius Dario Argento is one of my personal favorite directors, and his films \"Suspiria\", \"Phenomena\" and \"Profondo Rosso\" range high on my personal all-time favorite list. \"Opera\" of 1987 is yet another tantalizing and brilliant film that no Horror lover can afford to miss, and that will keep you on the edge of your chair from the beginning to the end. This stunning and ultra-violent Giallo could well be described as the master\\'s nastiest film, which is quite something considering that Argento\\'s films are not exactly known for the tameness of their violence. The violence is extreme and very stylized in a brilliant way that makes Opera a film censor\\'s nightmare.<br /><br />- Warning! SPOILERS ahead! - <br /><br />Just when Betty (Christina Marsillach), a young opera singer, is becoming successful, a murderous and incredibly sadistic psychopath starts stalking her... The murders are truly brutal, and of particularly sadistic nature. The killer attaches needles to the tied up Betty\\'s eyelids, so she has to keep them open and watch while he brutally murders people close to her in abhorrent ways. When done with the butchering, the killer releases Betty and leaves, just to come back for other friends of hers...<br /><br />As usual for Argento\\'s films, the violence is extremely graphic and very stylized. \"Opera\" truly is a brutal film, and what a stylish and atmospheric film it is. This film is absolutely tantalizing and pure suspense from the beginning to the end. The performances are entirely very good, especially Christina Marsillach is brilliant in the lead. A stunning beauty and great actress alike, Marsillach fits perfectly in her role of the talented singer, whose fear and horrid experiences are slowly making her crazy. Other great performances include those of Ian Charleston as a Horror film director who is directing an Opera, and director Argento\\'s real-life girlfriend Daria Nicolodi, who has a role in many of his movies. The camera work is excellent as in all Argento films and The huge Opera House is an excellent setting that contributes a lot both to the film\\'s beauty and its permanently creepy atmosphere. The score, which is partly classical music and partly heavy metal is great too, even though I slightly missed Goblin\\'s brilliant Progressive Rock Soundtracks that are such a distinguishing element of most other Argento movies. \"Opera\" truly is a terrifying and absolutely breathtaking Giallo experience. This is an absolute must-see for any Horror lover, and I highly recommend it to any other film-fan who is not too sensitive when it comes to extreme violence. Excellent and absolutely tantalizing!'\n",
            "b\"This film did a wonderful job of capturing NYC stereotypes at there best. If you want a simple, cute story however, you won't find it here. The related tales are woven together in a manner that does an excellent job of capturing the close-knit yet contrastingly anonymous lifestyle that is Manhattan. A perfect watch for those who enjoy and can laugh at New York life in its most natural state.\"\n",
            "b\"This is a great Valentine's Day gift. A gorgeous guy and a pretty girl fall in love while trying to beat the competition at a baking contest. Very romantic. I'm a real fan of Costas Mandylor since his days at Picket Fences and he hasn't lost his appeal. Lauren Holly is still lovely and adorable and the two still have great chemistry together. The supporting cast was good as well. Seeing all those wonderful desserts being made was a delicious sight in itself. I loved that Costas and Lauren teamed up to win in the baking competition and in love. This is the kind of film that satifies all palates, romantic and otherwise. Hallmark always shows excellence in their programming and this is no exception. The whole family can view this film. Also shows that sometimes love triumphs over any adversity. I found myself sighing and wishing for more for this film and also yearning for those wonderful desserts. I recommend this film highly for all ages. A great treat for all.\"\n",
            "b\"Any Batman fan will know just how great the films are, they've been a major success. Batman Returns however is by far the best film in the series. A combination of excellent directing, brilliant acting and settings makes this worthy of watching on a night in.<br /><br />Tim Burton, who directed this movie, has specifically made sure that this film gives a realistic atmosphere and he's done a great job. Danny Devito (Penguin man) is a man who has inherited penguin characteristics as a baby, and grown up to become a hideous and ugly...thing! Michelle Pfiffer plays the sleek and very seducing 'Catwoman' after cats had given her there genes from being bitten. The result in both the character changes is excellent and both Catwoman and Penguin man play a very important role in this excellent film. The mysterious Catwoman is great fun to watch - her classic sayings and a funny part in which skips with her whip in a jewelry shop adds such fun to the film. Danny Devito also does well, his ability to impersonate some strange creature was vital, and he adds a great atmosphere to the film that takes us back to the dull sewers where he lives.<br /><br />You can't forget Batman though. Micheal Keaton once again pulls of a comfortable performance, and shows us a different side to Batman. His affection is let loose when he confronts Catwoman at the end of the film, and his meetings with her when she's a normal person, Selina Kyle, result in him being seduced badly in his own home. There's a clever part after this when they leave, and the film is full of great scenes. Its worth noting that Bruce Wayne's Bat mobile is not used as much as in the other Batman films, as close combat and story telling scenes make up this film.<br /><br />The winter setting is created perfectly in Gotham City with most of the scenes being set at night, and with the town being filled with snow. Therefore, if you watch this film during the summer like I have, it doesn't feel the same. Best watch it during the winter.<br /><br />Overall, its an amazing movie. All the credit goes to Tom Burton and the cast, they've done an incredible job.\"\n",
            "b\"When I saw this movie for the first time I was both surprised and a little shocked by the blatant vibrance of the story. It is a very artistic drama with incredible special effects, spectacular acting, not to mention a very excellent job in the makeup department. Jennifer Lopez has pulled herself out of past roles that dug into her career with this movie, portraying a very sensitive child psychologist who works with a team of engineers to enter the minds of comatose patients to treat them. Vincent D'onofrio played amazingly well. His portrayal of a sadist serial killer was perfect to a T. The sheer emotion conveyed by his performance is astounding. Vince Vaughn isn't my favorite, but still performed exceptionally well. The symbolism and artistry was intriguing and titillating, sometimes surprising, and other times shocking. Overall, I say this is a wonderful movie, with excellent acting and beautiful artwork.\"\n",
            "b\"What a wonderful film, filled with eccentric, unique characters who are wonderfully realized by a great ensemble cast. The director also did a great job keeping the story held together, getting those wonderful performances (on not messing with them) and using music (and what wonderful music it is) to great effect. S. Epatha in the lead role is great. I had always heard what a brilliant stage actor she is, and although I have enjoyed her on Law and Order, this really shows what she can do with a filled out, complex role. Macy Gray is terrific, Mos Def, as usual, wonderful. Lou Gossett, great. Jimmy Smits, terrific, and doesn't try to pull focus because he's a star. A true piece of ensemble acting. <br /><br />Rent it, enjoy it, groove to it, and treasure it. Something special.\"\n",
            "b\"AAA is my favorite movie... I have seen it a number of times (don't remember the count now) and every time I just love it.... This is the best movie of Raj Kumar Santoshi..The comedy, dialogues, and performance is amazing.. All the actors and actresses have done a superb job... You cannot stop laughing while watching this movie... its just hilarious... Amir khan and Salman Khan have done a great job... and acting by Paresh Rawal was excellent as always..... The music is inspired from the old Hindi movies (60s music) and is good...the entire cast of the movie has done great job... <br /><br />Overall its a great Indian comedy movie to watch...\"\n",
            "b\"Jim Henson's The Muppet Movie is a charming, funny and brilliant film that can be watched AND enjoyed by adults and kids. I feel this is my favorite childhood film because it combines great characters, great story, and great wit that it is irresistable. The plot involves Kermit the frog (puppeteered and voiced by Henson) in his odyssey across America to follow his dream in Hollywood. Along the way, he meets Fozzie Bear, The Great Gonzo (my favorite), Miss Piggy, Rolf, and DR. Teeth and the electric mayhem.<br /><br />This film has so many good things I can't even say them. But it is memorable and every time I think of a puppet or muppet, I will think of this film. Look for cameos from Mel Brooks, Dom DeLouise, Paul Williams, Madeline Kahn, Bob Hope, Richard Pryor, Steve martin, Edgar Bergen (and Charlie McCarthey), Elliot Gould, Carol Kane and the great Orson Welles. Excellent and spectacular, one of the best films of the 70's. A++\"\n",
            "b\"This is one of Bruce's most underrated films in my opinion, its an awesome heartwarming film, with a neat story and an amazing performance from Bruce Willis!. All the characters are great, and I thought Willis and Spencer Breslin were just awesome together, plus Bruce Willis is simply amazing in this!. This is definitely one of Bruce's best comedic performances (The waaaaaaaaaamabulance thing was great) and I thought it was very well written and made as well, plus The finale is especially cool!. It's good natured and it was cool how you can see Russell's (Willis) character change throughout the film! plus the ending was pretty good. I think this should be higher then 6.0 and it's one of the best Disney films I have ever seen! plus it has many surprising moments throughout. All the characters are extremely likable, and it also has a cute love story angle too it as well, plus Bruce and Spencer Breslin both had some really funny lines (Holy Smokes!). This is one of Bruce's most underrated films in my opinion, its an awesome heartwarming film, with a neat story and an an amazing performance from Bruce Willis and I say its a must see!. The Direction is great!. Jon Turteltaub does a great job here with really good camera work, and just keeping the film at a very fast pace. The Acting is excellent!. Bruce Willis is amazing as always and is amazing here, he gives one of his best comedic performances, is hilarious had wonderful chemistry with both Spencer Breslin and Emily Mortimer, had some funny lines, and was dead on throughout the movie, he was one of the main reasons I liked this movie so much! (Willis Rules!!!!!!!). Spencer Breslin is fantastic as the younger version of Russell, he was very funny and didn't get on my nerves once, he is one of the better child actors out there!. Emily Mortimer is good as Amy and was really cute I liked her she had decent chemistry with Bruce too. Lily Tomlin is funny as Janet I liked her quite a bit. Jean Smart is good with what she had to do, which was not much. Rest of the cast do fine. Overall a must see!. **** out pf 5\"\n"
          ],
          "name": "stdout"
        }
      ]
    }
  ]
}

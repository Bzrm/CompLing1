{
  "nbformat": 4,
  "nbformat_minor": 0,
  "metadata": {
    "colab": {
      "name": "Untitled17.ipynb",
      "provenance": []
    },
    "kernelspec": {
      "name": "python3",
      "display_name": "Python 3"
    }
  },
  "cells": [
    {
      "cell_type": "markdown",
      "metadata": {
        "id": "W5wqyJos51Q9",
        "colab_type": "text"
      },
      "source": [
        "\n",
        "# Задание 2\n",
        "\n",
        "\n"
      ]
    },
    {
      "cell_type": "code",
      "metadata": {
        "id": "x9LFSOug-u5V",
        "colab_type": "code",
        "outputId": "09e6ad1a-8f32-4e8f-838c-bc62176bc990",
        "colab": {
          "resources": {
            "http://localhost:8080/nbextensions/google.colab/files.js": {
              "data": "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",
              "ok": true,
              "headers": [
                [
                  "content-type",
                  "application/javascript"
                ]
              ],
              "status": 200,
              "status_text": ""
            }
          },
          "base_uri": "https://localhost:8080/",
          "height": 75
        }
      },
      "source": [
        "from google.colab import files\n",
        "uploaded = files.upload()"
      ],
      "execution_count": 2,
      "outputs": [
        {
          "output_type": "display_data",
          "data": {
            "text/html": [
              "\n",
              "     <input type=\"file\" id=\"files-1ddd25d4-d07f-4726-9226-e6e67a8dedea\" name=\"files[]\" multiple disabled />\n",
              "     <output id=\"result-1ddd25d4-d07f-4726-9226-e6e67a8dedea\">\n",
              "      Upload widget is only available when the cell has been executed in the\n",
              "      current browser session. Please rerun this cell to enable.\n",
              "      </output>\n",
              "      <script src=\"/nbextensions/google.colab/files.js\"></script> "
            ],
            "text/plain": [
              "<IPython.core.display.HTML object>"
            ]
          },
          "metadata": {
            "tags": []
          }
        },
        {
          "output_type": "stream",
          "text": [
            "Saving data.csv to data.csv\n"
          ],
          "name": "stdout"
        }
      ]
    },
    {
      "cell_type": "code",
      "metadata": {
        "id": "F7b19iE8Dt_R",
        "colab_type": "code",
        "colab": {}
      },
      "source": [
        "import pandas as pd"
      ],
      "execution_count": 0,
      "outputs": []
    },
    {
      "cell_type": "code",
      "metadata": {
        "id": "k8foCAfUDkbV",
        "colab_type": "code",
        "colab": {}
      },
      "source": [
        "data = pd.read_csv('data.csv')"
      ],
      "execution_count": 0,
      "outputs": []
    },
    {
      "cell_type": "code",
      "metadata": {
        "id": "x9VuE9yfDxdL",
        "colab_type": "code",
        "outputId": "9d37f432-1df3-4ced-d6f8-3f0bf73687ff",
        "colab": {
          "base_uri": "https://localhost:8080/",
          "height": 482
        }
      },
      "source": [
        "data.tail(5)"
      ],
      "execution_count": 5,
      "outputs": [
        {
          "output_type": "execute_result",
          "data": {
            "text/html": [
              "<div>\n",
              "<style scoped>\n",
              "    .dataframe tbody tr th:only-of-type {\n",
              "        vertical-align: middle;\n",
              "    }\n",
              "\n",
              "    .dataframe tbody tr th {\n",
              "        vertical-align: top;\n",
              "    }\n",
              "\n",
              "    .dataframe thead th {\n",
              "        text-align: right;\n",
              "    }\n",
              "</style>\n",
              "<table border=\"1\" class=\"dataframe\">\n",
              "  <thead>\n",
              "    <tr style=\"text-align: right;\">\n",
              "      <th></th>\n",
              "      <th>item_id</th>\n",
              "      <th>user_id</th>\n",
              "      <th>region</th>\n",
              "      <th>city</th>\n",
              "      <th>parent_category_name</th>\n",
              "      <th>category_name</th>\n",
              "      <th>param_1</th>\n",
              "      <th>param_2</th>\n",
              "      <th>param_3</th>\n",
              "      <th>title</th>\n",
              "      <th>description</th>\n",
              "      <th>price</th>\n",
              "      <th>item_seq_number</th>\n",
              "      <th>activation_date</th>\n",
              "      <th>user_type</th>\n",
              "      <th>image</th>\n",
              "      <th>image_top_1</th>\n",
              "      <th>deal_probability</th>\n",
              "    </tr>\n",
              "  </thead>\n",
              "  <tbody>\n",
              "    <tr>\n",
              "      <th>138710</th>\n",
              "      <td>5da3c1a0b09c</td>\n",
              "      <td>d3a29dbacfa1</td>\n",
              "      <td>Краснодарский край</td>\n",
              "      <td>Сочи</td>\n",
              "      <td>Недвижимость</td>\n",
              "      <td>Земельные участки</td>\n",
              "      <td>Продам</td>\n",
              "      <td>Поселений (ИЖС)</td>\n",
              "      <td>NaN</td>\n",
              "      <td>Участок 7 сот. (ИЖС)</td>\n",
              "      <td>Продается земельный участок в поселке Совет-Кв...</td>\n",
              "      <td>1700000.0</td>\n",
              "      <td>1738</td>\n",
              "      <td>2017-03-23</td>\n",
              "      <td>Shop</td>\n",
              "      <td>ecd17db17e628f94b2c5a5d608d3d0174153dc9167712b...</td>\n",
              "      <td>1285.0</td>\n",
              "      <td>0.12205</td>\n",
              "    </tr>\n",
              "    <tr>\n",
              "      <th>138711</th>\n",
              "      <td>192562b5fb5a</td>\n",
              "      <td>10c6a12cff32</td>\n",
              "      <td>Нижегородская область</td>\n",
              "      <td>Нижний Новгород</td>\n",
              "      <td>Транспорт</td>\n",
              "      <td>Автомобили</td>\n",
              "      <td>С пробегом</td>\n",
              "      <td>ВАЗ (LADA)</td>\n",
              "      <td>1111 Ока</td>\n",
              "      <td>ВАЗ 1111 Ока, 2004</td>\n",
              "      <td>Состояние хорошее</td>\n",
              "      <td>60000.0</td>\n",
              "      <td>1</td>\n",
              "      <td>2017-03-15</td>\n",
              "      <td>Private</td>\n",
              "      <td>c767a6666ce0d9bcaa8a92ba126f7d2e93f4cd09c490c8...</td>\n",
              "      <td>1055.0</td>\n",
              "      <td>0.73760</td>\n",
              "    </tr>\n",
              "    <tr>\n",
              "      <th>138712</th>\n",
              "      <td>7177e036a9fe</td>\n",
              "      <td>5069d63c1e47</td>\n",
              "      <td>Калининградская область</td>\n",
              "      <td>Калининград</td>\n",
              "      <td>Для дома и дачи</td>\n",
              "      <td>Ремонт и строительство</td>\n",
              "      <td>Инструменты</td>\n",
              "      <td>NaN</td>\n",
              "      <td>NaN</td>\n",
              "      <td>Бензопила интерскол пцб 16\\40л</td>\n",
              "      <td>на запчасти,не заводится</td>\n",
              "      <td>1000.0</td>\n",
              "      <td>9</td>\n",
              "      <td>2017-03-15</td>\n",
              "      <td>Private</td>\n",
              "      <td>3952624a7d6f508cffde9b93816d65ca0b9a046f9848b4...</td>\n",
              "      <td>1243.0</td>\n",
              "      <td>0.20123</td>\n",
              "    </tr>\n",
              "    <tr>\n",
              "      <th>138713</th>\n",
              "      <td>8d3fe2371954</td>\n",
              "      <td>5e563726eb59</td>\n",
              "      <td>Самарская область</td>\n",
              "      <td>Самара</td>\n",
              "      <td>Для бизнеса</td>\n",
              "      <td>Готовый бизнес</td>\n",
              "      <td>Торговля</td>\n",
              "      <td>NaN</td>\n",
              "      <td>NaN</td>\n",
              "      <td>Свадебный салон именно для вас</td>\n",
              "      <td>Продажа готового бизнеса в преддверии свадебно...</td>\n",
              "      <td>200000.0</td>\n",
              "      <td>28</td>\n",
              "      <td>2017-03-18</td>\n",
              "      <td>Company</td>\n",
              "      <td>3c34a0a365c12d0186b37e8b6076e4f6a406fa5c47e993...</td>\n",
              "      <td>559.0</td>\n",
              "      <td>0.00000</td>\n",
              "    </tr>\n",
              "    <tr>\n",
              "      <th>138714</th>\n",
              "      <td>875a1dc9575a</td>\n",
              "      <td>b2b28b445fa4</td>\n",
              "      <td>Саратовская область</td>\n",
              "      <td>Саратов</td>\n",
              "      <td>Личные вещи</td>\n",
              "      <td>Товары для детей и игрушки</td>\n",
              "      <td>Детские коляски</td>\n",
              "      <td>NaN</td>\n",
              "      <td>NaN</td>\n",
              "      <td>Продам прогулочную коляску Corol</td>\n",
              "      <td>Коляска легкая и крепкая, сезон зима-лето в хо...</td>\n",
              "      <td>4000.0</td>\n",
              "      <td>3</td>\n",
              "      <td>2017-03-20</td>\n",
              "      <td>Private</td>\n",
              "      <td>b3c67f05d7f7bfc3b4df66060af017d673a4d7421b5002...</td>\n",
              "      <td>999.0</td>\n",
              "      <td>0.00000</td>\n",
              "    </tr>\n",
              "  </tbody>\n",
              "</table>\n",
              "</div>"
            ],
            "text/plain": [
              "             item_id       user_id  ... image_top_1 deal_probability\n",
              "138710  5da3c1a0b09c  d3a29dbacfa1  ...      1285.0          0.12205\n",
              "138711  192562b5fb5a  10c6a12cff32  ...      1055.0          0.73760\n",
              "138712  7177e036a9fe  5069d63c1e47  ...      1243.0          0.20123\n",
              "138713  8d3fe2371954  5e563726eb59  ...       559.0          0.00000\n",
              "138714  875a1dc9575a  b2b28b445fa4  ...       999.0          0.00000\n",
              "\n",
              "[5 rows x 18 columns]"
            ]
          },
          "metadata": {
            "tags": []
          },
          "execution_count": 5
        }
      ]
    },
    {
      "cell_type": "code",
      "metadata": {
        "id": "ENKGG5KFP2-v",
        "colab_type": "code",
        "colab": {}
      },
      "source": [
        "#data['description'].head(50)"
      ],
      "execution_count": 0,
      "outputs": []
    },
    {
      "cell_type": "code",
      "metadata": {
        "id": "yicGkgaIPdbX",
        "colab_type": "code",
        "colab": {}
      },
      "source": [
        "import numpy as np\n",
        "from sklearn.metrics import mean_squared_error"
      ],
      "execution_count": 0,
      "outputs": []
    },
    {
      "cell_type": "code",
      "metadata": {
        "id": "EVWbtz2eV1po",
        "colab_type": "code",
        "colab": {}
      },
      "source": [
        "from sklearn.model_selection import train_test_split"
      ],
      "execution_count": 0,
      "outputs": []
    },
    {
      "cell_type": "code",
      "metadata": {
        "id": "RthdcKH2V3fe",
        "colab_type": "code",
        "colab": {}
      },
      "source": [
        "from sklearn.linear_model import LinearRegression, Ridge, Lasso\n",
        "from sklearn.svm import LinearSVR"
      ],
      "execution_count": 0,
      "outputs": []
    },
    {
      "cell_type": "code",
      "metadata": {
        "id": "fOvjqvQQSp-K",
        "colab_type": "code",
        "colab": {}
      },
      "source": [
        "from sklearn.feature_extraction.text import CountVectorizer, TfidfVectorizer"
      ],
      "execution_count": 0,
      "outputs": []
    },
    {
      "cell_type": "markdown",
      "metadata": {
        "id": "uKdm-TlcuKSY",
        "colab_type": "text"
      },
      "source": [
        ""
      ]
    },
    {
      "cell_type": "code",
      "metadata": {
        "id": "gzX_m-VxQaOd",
        "colab_type": "code",
        "colab": {}
      },
      "source": [
        "data['text_len'] = data['description'].apply(len)\n",
        "data['text_len_tokens'] = data['description'].apply(lambda x: len(x.split()))\n",
        "data['number_of_caps'] = data['description'].apply(lambda x: len([ch for ch in x if ch.isupper()]))\n",
        "data['number_of_nonalphanum'] = data['description'].apply(lambda x: len([ch for ch in x if not ch.isalnum()]))\n",
        "data['number_of_products'] = data['description'].apply(lambda x: len([ch for ch in x if ch == '+']))\n",
        "data['used'] = data['description'].apply(lambda x: len([word for word in x.split() if word == 'б/у']))\n",
        "data['excl'] = data['description'].apply(lambda x: len([ch for ch in x if ch == '!']))\n",
        "data['condition'] = data['description'].apply(lambda x: len([word for word in x.split() if word == 'идеальном' or word == 'идеальное']))\n",
        "data['eco'] = data['description'].apply(lambda x: len([word for word in x.split() if word == 'эко' or word == 'eco']))"
      ],
      "execution_count": 0,
      "outputs": []
    },
    {
      "cell_type": "markdown",
      "metadata": {
        "id": "5IGF-H9dirt2",
        "colab_type": "text"
      },
      "source": [
        "data['number_of_products'] - количество плюсов. Чем больше плюсов, тем больше сопутсвующих товаров и аксессуаров, и тем, возможно, больше вероятность покупки.\n",
        "\n",
        "data['used'] - б/у. Наверняка, на этот показатель покупатель тоже обращает внимание. \n",
        "\n",
        "data['excl'] - восклицательные знаки. Как я думаю, может уменьшать вероятность покупки. \n",
        "\n",
        "data['condition'] - говорит о состоянии продукта. Не факт, что влияет на вероятность (хотя должен), потому что \"в идеальном состоянии\" уже своего рода клише. \n",
        "\n",
        "data['eco'] - слова типа Эко-, эко или eco. Сейчас эта характеристика, вроде как, важна для покупателя (или, по крайней мере, важнее, чем раньше). "
      ]
    },
    {
      "cell_type": "code",
      "metadata": {
        "id": "1WXS6vhOVXsk",
        "colab_type": "code",
        "colab": {}
      },
      "source": [
        "X = data[['used', 'text_len', 'text_len_tokens', 'number_of_caps', 'number_of_nonalphanum', 'number_of_products', 'excl', 'condition', 'eco']].values\n",
        "y = data.deal_probability.values"
      ],
      "execution_count": 0,
      "outputs": []
    },
    {
      "cell_type": "code",
      "metadata": {
        "id": "tLS8Io8hVpxh",
        "colab_type": "code",
        "outputId": "792cea85-dc38-4c6d-c191-4cff521f77c7",
        "colab": {
          "base_uri": "https://localhost:8080/",
          "height": 35
        }
      },
      "source": [
        "X.shape"
      ],
      "execution_count": 14,
      "outputs": [
        {
          "output_type": "execute_result",
          "data": {
            "text/plain": [
              "(138715, 9)"
            ]
          },
          "metadata": {
            "tags": []
          },
          "execution_count": 14
        }
      ]
    },
    {
      "cell_type": "code",
      "metadata": {
        "id": "Egia5CaWVr7P",
        "colab_type": "code",
        "colab": {}
      },
      "source": [
        "X_train, X_test, y_train, y_test = train_test_split(X, y, random_state=42)"
      ],
      "execution_count": 0,
      "outputs": []
    },
    {
      "cell_type": "code",
      "metadata": {
        "id": "cpAiwgYFWe7_",
        "colab_type": "code",
        "outputId": "ec3a5552-3153-4243-bdb2-96a6110b43f4",
        "colab": {
          "base_uri": "https://localhost:8080/",
          "height": 35
        }
      },
      "source": [
        "regressor = Ridge(alpha=1)\n",
        "regressor.fit(X_train, y_train)\n",
        "preds = regressor.predict(X_test)\n",
        "np.sqrt(mean_squared_error(y_test, preds))"
      ],
      "execution_count": 16,
      "outputs": [
        {
          "output_type": "execute_result",
          "data": {
            "text/plain": [
              "0.26335659420046176"
            ]
          },
          "metadata": {
            "tags": []
          },
          "execution_count": 16
        }
      ]
    },
    {
      "cell_type": "markdown",
      "metadata": {
        "id": "whpjCvIOdKn0",
        "colab_type": "text"
      },
      "source": [
        "Новые характеристики улучшают качество, но совсем уж незначительно (примерно 0.00002 процента). Возможно, больше влияют какие-то метахарактеристики (типа размера текста, наличия или отсутсвия латиницы и т.д.). Видимо, интуитивно понятная логика в таких задачах малоприменима. "
      ]
    },
    {
      "cell_type": "markdown",
      "metadata": {
        "id": "TKfxQWijwB9W",
        "colab_type": "text"
      },
      "source": [
        ""
      ]
    },
    {
      "cell_type": "code",
      "metadata": {
        "id": "p68WUC7_XSjg",
        "colab_type": "code",
        "colab": {}
      },
      "source": [
        "from sklearn.linear_model import SGDRegressor"
      ],
      "execution_count": 0,
      "outputs": []
    },
    {
      "cell_type": "code",
      "metadata": {
        "id": "DJdIsHUDtx-3",
        "colab_type": "code",
        "colab": {}
      },
      "source": [
        "from scipy.sparse import hstack"
      ],
      "execution_count": 0,
      "outputs": []
    },
    {
      "cell_type": "code",
      "metadata": {
        "id": "7PRWBYLm1yi-",
        "colab_type": "code",
        "colab": {}
      },
      "source": [
        "cv = CountVectorizer(max_features=500, min_df=3, max_df=0.1, ngram_range=(1,2))\n",
        "tfidf = TfidfVectorizer(max_features=500, min_df=3,analyzer='char', ngram_range=(3,3), max_df=0.1)\n",
        "\n",
        "X_cv = cv.fit_transform(data.description)\n",
        "X_tfidf = tfidf.fit_transform(data.description)\n",
        "\n",
        "X = hstack([X_cv, X_tfidf])"
      ],
      "execution_count": 0,
      "outputs": []
    },
    {
      "cell_type": "code",
      "metadata": {
        "id": "az4wMav_tx-7",
        "colab_type": "code",
        "outputId": "5d990a59-5e0b-408d-ec1f-7d5c839ce1e4",
        "colab": {
          "base_uri": "https://localhost:8080/",
          "height": 35
        }
      },
      "source": [
        "X_cv.shape, X_tfidf.shape"
      ],
      "execution_count": 113,
      "outputs": [
        {
          "output_type": "execute_result",
          "data": {
            "text/plain": [
              "((138715, 500), (138715, 500))"
            ]
          },
          "metadata": {
            "tags": []
          },
          "execution_count": 113
        }
      ]
    },
    {
      "cell_type": "code",
      "metadata": {
        "id": "2SnuIOX-tx_A",
        "colab_type": "code",
        "colab": {}
      },
      "source": [
        "X_train, X_test, y_train, y_test = train_test_split(X, y, random_state=42)"
      ],
      "execution_count": 0,
      "outputs": []
    },
    {
      "cell_type": "code",
      "metadata": {
        "id": "N2nIsn82tx_E",
        "colab_type": "code",
        "outputId": "05df30d0-3759-4f67-8674-bec1a7a41c4d",
        "colab": {
          "base_uri": "https://localhost:8080/",
          "height": 35
        }
      },
      "source": [
        "regressor = SGDRegressor(max_iter=100, alpha=1)\n",
        "regressor.fit(X_train, y_train)\n",
        "preds = regressor.predict(X_test)\n",
        "np.sqrt(mean_squared_error(y_test, preds))"
      ],
      "execution_count": 115,
      "outputs": [
        {
          "output_type": "execute_result",
          "data": {
            "text/plain": [
              "0.2625618984489414"
            ]
          },
          "metadata": {
            "tags": []
          },
          "execution_count": 115
        }
      ]
    },
    {
      "cell_type": "markdown",
      "metadata": {
        "id": "Bfy9mhqWX_AQ",
        "colab_type": "text"
      },
      "source": [
        "Качество, пусть и не сильно, но повысилось. У векторизаторов уменьшил максимальное количество фич (так как значимых показателей в таких текстах, думаю, не очень много, и не хочется переобучить), min_df (потому что могут быть опечатки, и хотя бы три случая одинакового написания говорят о том, что слово может быть значимым) и max_df (потому что слова, которые ни на что не влияют (продам, куплю), встречаются часто).\n",
        "\n",
        "У регрессора увеличил количетво итераций в два раза и подкрутил регуляризацию (что, кстати, более заметно повлияло на качество). \n",
        "\n",
        "Общая точность повысилась до 0.26256\n",
        "\n"
      ]
    }
  ]
}
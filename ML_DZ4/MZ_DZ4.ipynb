{
  "nbformat": 4,
  "nbformat_minor": 0,
  "metadata": {
    "colab": {
      "name": "Untitled23.ipynb",
      "provenance": []
    },
    "kernelspec": {
      "name": "python3",
      "display_name": "Python 3"
    }
  },
  "cells": [
    {
      "cell_type": "code",
      "metadata": {
        "id": "e5bOkt2Kxp7g",
        "colab_type": "code",
        "outputId": "38490562-159c-49c2-9de8-a25a5b44c49f",
        "colab": {
          "base_uri": "https://localhost:8080/",
          "height": 124
        }
      },
      "source": [
        "from google.colab import drive\n",
        "drive.mount('/content/gdrive')"
      ],
      "execution_count": 1,
      "outputs": [
        {
          "output_type": "stream",
          "text": [
            "Go to this URL in a browser: https://accounts.google.com/o/oauth2/auth?client_id=947318989803-6bn6qk8qdgf4n4g3pfee6491hc0brc4i.apps.googleusercontent.com&redirect_uri=urn%3aietf%3awg%3aoauth%3a2.0%3aoob&response_type=code&scope=email%20https%3a%2f%2fwww.googleapis.com%2fauth%2fdocs.test%20https%3a%2f%2fwww.googleapis.com%2fauth%2fdrive%20https%3a%2f%2fwww.googleapis.com%2fauth%2fdrive.photos.readonly%20https%3a%2f%2fwww.googleapis.com%2fauth%2fpeopleapi.readonly\n",
            "\n",
            "Enter your authorization code:\n",
            "··········\n",
            "Mounted at /content/gdrive\n"
          ],
          "name": "stdout"
        }
      ]
    },
    {
      "cell_type": "code",
      "metadata": {
        "id": "EN0sKY_Gxyxm",
        "colab_type": "code",
        "colab": {}
      },
      "source": [
        "path = 'gdrive/My Drive/data.csv'"
      ],
      "execution_count": 0,
      "outputs": []
    },
    {
      "cell_type": "code",
      "metadata": {
        "id": "pMGWM5U2kapo",
        "colab_type": "code",
        "colab": {}
      },
      "source": [
        "import pandas as pd"
      ],
      "execution_count": 0,
      "outputs": []
    },
    {
      "cell_type": "code",
      "metadata": {
        "id": "ncg9Nj9VkgbE",
        "colab_type": "code",
        "colab": {}
      },
      "source": [
        "data = pd.read_csv(path)"
      ],
      "execution_count": 0,
      "outputs": []
    },
    {
      "cell_type": "code",
      "metadata": {
        "id": "Gn7ZHRDPkfdd",
        "colab_type": "code",
        "colab": {}
      },
      "source": [
        "data = data[['category_name', 'title']]"
      ],
      "execution_count": 0,
      "outputs": []
    },
    {
      "cell_type": "code",
      "metadata": {
        "id": "NCFUGEcUyHlr",
        "colab_type": "code",
        "outputId": "1bbb08a2-cdd7-4a1a-e9ad-4d4ed636800c",
        "colab": {
          "base_uri": "https://localhost:8080/",
          "height": 202
        }
      },
      "source": [
        "data.head()"
      ],
      "execution_count": 95,
      "outputs": [
        {
          "output_type": "execute_result",
          "data": {
            "text/html": [
              "<div>\n",
              "<style scoped>\n",
              "    .dataframe tbody tr th:only-of-type {\n",
              "        vertical-align: middle;\n",
              "    }\n",
              "\n",
              "    .dataframe tbody tr th {\n",
              "        vertical-align: top;\n",
              "    }\n",
              "\n",
              "    .dataframe thead th {\n",
              "        text-align: right;\n",
              "    }\n",
              "</style>\n",
              "<table border=\"1\" class=\"dataframe\">\n",
              "  <thead>\n",
              "    <tr style=\"text-align: right;\">\n",
              "      <th></th>\n",
              "      <th>category_name</th>\n",
              "      <th>title</th>\n",
              "    </tr>\n",
              "  </thead>\n",
              "  <tbody>\n",
              "    <tr>\n",
              "      <th>0</th>\n",
              "      <td>Детская одежда и обувь</td>\n",
              "      <td>Платье праздничное для девочки</td>\n",
              "    </tr>\n",
              "    <tr>\n",
              "      <th>1</th>\n",
              "      <td>Мебель и интерьер</td>\n",
              "      <td>Кровать двухспальная</td>\n",
              "    </tr>\n",
              "    <tr>\n",
              "      <th>2</th>\n",
              "      <td>Телефоны</td>\n",
              "      <td>Samsung S3 mini gt-i8190</td>\n",
              "    </tr>\n",
              "    <tr>\n",
              "      <th>3</th>\n",
              "      <td>Одежда, обувь, аксессуары</td>\n",
              "      <td>Красивое платье на одно плечо, в идеале размер м</td>\n",
              "    </tr>\n",
              "    <tr>\n",
              "      <th>4</th>\n",
              "      <td>Детская одежда и обувь</td>\n",
              "      <td>Стильная панама</td>\n",
              "    </tr>\n",
              "  </tbody>\n",
              "</table>\n",
              "</div>"
            ],
            "text/plain": [
              "               category_name                                             title\n",
              "0     Детская одежда и обувь                    Платье праздничное для девочки\n",
              "1          Мебель и интерьер                              Кровать двухспальная\n",
              "2                   Телефоны                          Samsung S3 mini gt-i8190\n",
              "3  Одежда, обувь, аксессуары  Красивое платье на одно плечо, в идеале размер м\n",
              "4     Детская одежда и обувь                                   Стильная панама"
            ]
          },
          "metadata": {
            "tags": []
          },
          "execution_count": 95
        }
      ]
    },
    {
      "cell_type": "code",
      "metadata": {
        "id": "zyz0P1Rxkixl",
        "colab_type": "code",
        "colab": {}
      },
      "source": [
        "pd.set_option('display.max_rows', 500)"
      ],
      "execution_count": 0,
      "outputs": []
    },
    {
      "cell_type": "code",
      "metadata": {
        "id": "jSP1dbh_klRe",
        "colab_type": "code",
        "colab": {}
      },
      "source": [
        "from sklearn.cluster import AffinityPropagation, AgglomerativeClustering, DBSCAN, \\\n",
        "                            KMeans, MiniBatchKMeans, Birch, MeanShift, SpectralClustering\n",
        "from sklearn.metrics import adjusted_rand_score, adjusted_mutual_info_score, \\\n",
        "                            silhouette_score\n",
        "\n",
        "from sklearn.feature_extraction.text import CountVectorizer\n",
        "from sklearn.feature_extraction.text import TfidfVectorizer\n",
        "from sklearn.decomposition import TruncatedSVD\n",
        "from sklearn.decomposition import NMF\n",
        "from sklearn import metrics\n",
        "from sklearn.datasets import make_blobs"
      ],
      "execution_count": 0,
      "outputs": []
    },
    {
      "cell_type": "markdown",
      "metadata": {
        "id": "Z8PfgHY5k4jF",
        "colab_type": "text"
      },
      "source": [
        "#Задание 1"
      ]
    },
    {
      "cell_type": "markdown",
      "metadata": {
        "id": "peCYbz4alcMW",
        "colab_type": "text"
      },
      "source": [
        "AffinityPropagation"
      ]
    },
    {
      "cell_type": "code",
      "metadata": {
        "id": "gqLHdVrHk3fm",
        "colab_type": "code",
        "colab": {}
      },
      "source": [
        "sample = data.sample(frac=0.01)"
      ],
      "execution_count": 0,
      "outputs": []
    },
    {
      "cell_type": "code",
      "metadata": {
        "id": "BdP_fdjJlmz9",
        "colab_type": "code",
        "colab": {}
      },
      "source": [
        "cv = CountVectorizer(max_features=500, min_df=4, max_df=0.3, ngram_range = (1,3))\n",
        "tf = TfidfVectorizer(max_features = 500, min_df = 4, max_df = 0.3, ngram_range = (1,3))\n",
        "\n",
        "X_cv = cv.fit_transform(sample['title'])\n",
        "X_tf = tf.fit_transform(sample['title'])\n",
        "\n",
        "y = sample['category_name']"
      ],
      "execution_count": 0,
      "outputs": []
    },
    {
      "cell_type": "code",
      "metadata": {
        "id": "psyN5dblmQzP",
        "colab_type": "code",
        "outputId": "a07bd844-96dd-4635-f38b-c816d647f10a",
        "colab": {
          "base_uri": "https://localhost:8080/",
          "height": 69
        }
      },
      "source": [
        "AP_cluster_cv = AffinityPropagation(damping=0.8, preference=-2, \n",
        "                              max_iter=400, verbose=2)\n",
        "AP_cluster_cv.fit(X_cv)"
      ],
      "execution_count": 108,
      "outputs": [
        {
          "output_type": "stream",
          "text": [
            "Converged after 349 iterations.\n"
          ],
          "name": "stdout"
        },
        {
          "output_type": "execute_result",
          "data": {
            "text/plain": [
              "AffinityPropagation(affinity='euclidean', convergence_iter=15, copy=True,\n",
              "                    damping=0.8, max_iter=400, preference=-2, verbose=2)"
            ]
          },
          "metadata": {
            "tags": []
          },
          "execution_count": 108
        }
      ]
    },
    {
      "cell_type": "code",
      "metadata": {
        "id": "oMAot6qime5V",
        "colab_type": "code",
        "outputId": "9b7b5d18-6590-4d57-a87e-87b8d173497f",
        "colab": {
          "base_uri": "https://localhost:8080/",
          "height": 69
        }
      },
      "source": [
        "AP_cluster_tf = AffinityPropagation(damping=0.8, preference=-2, \n",
        "                              max_iter=400, verbose=2)\n",
        "AP_cluster_tf.fit(X_tf)"
      ],
      "execution_count": 109,
      "outputs": [
        {
          "output_type": "stream",
          "text": [
            "Converged after 336 iterations.\n"
          ],
          "name": "stdout"
        },
        {
          "output_type": "execute_result",
          "data": {
            "text/plain": [
              "AffinityPropagation(affinity='euclidean', convergence_iter=15, copy=True,\n",
              "                    damping=0.8, max_iter=400, preference=-2, verbose=2)"
            ]
          },
          "metadata": {
            "tags": []
          },
          "execution_count": 109
        }
      ]
    },
    {
      "cell_type": "code",
      "metadata": {
        "id": "7dqlHR4gmlI3",
        "colab_type": "code",
        "colab": {}
      },
      "source": [
        "AP_labels_cv = AP_cluster_cv.labels_\n",
        "AP_labels_tf = AP_cluster_tf.labels_"
      ],
      "execution_count": 0,
      "outputs": []
    },
    {
      "cell_type": "code",
      "metadata": {
        "id": "8drIHQgbocR4",
        "colab_type": "code",
        "colab": {}
      },
      "source": [
        "def silh(X, labels):\n",
        "  print(\"Silhouette Coefficient: %0.3f\"\n",
        "        % metrics.silhouette_score(X[:10000], labels[:10000]))"
      ],
      "execution_count": 0,
      "outputs": []
    },
    {
      "cell_type": "code",
      "metadata": {
        "id": "dx4mi9ltooOg",
        "colab_type": "code",
        "outputId": "74b83693-c045-4423-854d-8e29a11cb7f6",
        "colab": {
          "base_uri": "https://localhost:8080/",
          "height": 35
        }
      },
      "source": [
        "silh(X_cv, AP_labels_cv)"
      ],
      "execution_count": 112,
      "outputs": [
        {
          "output_type": "stream",
          "text": [
            "Silhouette Coefficient: 0.562\n"
          ],
          "name": "stdout"
        }
      ]
    },
    {
      "cell_type": "code",
      "metadata": {
        "id": "pVHZHWyToodA",
        "colab_type": "code",
        "outputId": "26ff99c0-b611-41f7-9c23-3922c4343e05",
        "colab": {
          "base_uri": "https://localhost:8080/",
          "height": 35
        }
      },
      "source": [
        "silh(X_tf, AP_labels_tf)"
      ],
      "execution_count": 113,
      "outputs": [
        {
          "output_type": "stream",
          "text": [
            "Silhouette Coefficient: 0.566\n"
          ],
          "name": "stdout"
        }
      ]
    },
    {
      "cell_type": "code",
      "metadata": {
        "id": "QDtntYfTmo4W",
        "colab_type": "code",
        "colab": {}
      },
      "source": [
        "def score(y, labels):\n",
        "  # эти три метрки что-то вроде точности, полноты и ф-меры для кластеризации\n",
        "  print(\"Homogeneity: %0.3f\" % metrics.homogeneity_score(y, labels)) # проверяет, что в кластере объекты одного класса\n",
        "  print(\"Completeness: %0.3f\" % metrics.completeness_score(y, labels)) # проверяет, что объекты класса только в одном кластере\n",
        "  print(\"V-measure: %0.3f\" % metrics.v_measure_score(y, labels)) # превращает обе метрики в одну \n",
        "\n",
        "  print(\"Adjusted Rand Index: %0.3f\"\n",
        "      % metrics.adjusted_rand_score(y, labels))\n",
        "  print(\"Adjusted Mutual Information: %0.3f\"\n",
        "      % metrics.adjusted_mutual_info_score(y, labels))"
      ],
      "execution_count": 0,
      "outputs": []
    },
    {
      "cell_type": "code",
      "metadata": {
        "id": "xlfGZ5bym39G",
        "colab_type": "code",
        "outputId": "a9231271-9671-498e-dae7-c759473b9eaa",
        "colab": {
          "base_uri": "https://localhost:8080/",
          "height": 104
        }
      },
      "source": [
        "score(y, AP_labels_cv)"
      ],
      "execution_count": 115,
      "outputs": [
        {
          "output_type": "stream",
          "text": [
            "Homogeneity: 0.578\n",
            "Completeness: 0.376\n",
            "V-measure: 0.456\n",
            "Adjusted Rand Index: -0.006\n",
            "Adjusted Mutual Information: 0.223\n"
          ],
          "name": "stdout"
        }
      ]
    },
    {
      "cell_type": "code",
      "metadata": {
        "id": "RwjY85g_nHI_",
        "colab_type": "code",
        "outputId": "5d296d1d-629e-454b-c377-96f5fa44211b",
        "colab": {
          "base_uri": "https://localhost:8080/",
          "height": 104
        }
      },
      "source": [
        "score(y, AP_labels_tf)"
      ],
      "execution_count": 116,
      "outputs": [
        {
          "output_type": "stream",
          "text": [
            "Homogeneity: 0.559\n",
            "Completeness: 0.389\n",
            "V-measure: 0.459\n",
            "Adjusted Rand Index: -0.003\n",
            "Adjusted Mutual Information: 0.277\n"
          ],
          "name": "stdout"
        }
      ]
    },
    {
      "cell_type": "markdown",
      "metadata": {
        "id": "U8XJNB-L_EmP",
        "colab_type": "text"
      },
      "source": [
        "Здесь у tfidf показатели получше, хотя cv выигрывает в гомогенности (незначительно). "
      ]
    },
    {
      "cell_type": "markdown",
      "metadata": {
        "id": "77nS_edbnwQH",
        "colab_type": "text"
      },
      "source": [
        "Kmeans"
      ]
    },
    {
      "cell_type": "code",
      "metadata": {
        "id": "TYJ9xO2DR0XB",
        "colab_type": "code",
        "colab": {}
      },
      "source": [
        "sample = data.sample(frac=0.1)"
      ],
      "execution_count": 0,
      "outputs": []
    },
    {
      "cell_type": "code",
      "metadata": {
        "id": "nnJXfKe8Tiq-",
        "colab_type": "code",
        "colab": {}
      },
      "source": [
        "X_cv = cv.fit_transform(sample['title'])\n",
        "X_tf = tf.fit_transform(sample['title'])\n",
        "\n",
        "y = sample['category_name']"
      ],
      "execution_count": 0,
      "outputs": []
    },
    {
      "cell_type": "code",
      "metadata": {
        "id": "eVow_c-LnxyP",
        "colab_type": "code",
        "outputId": "b912cb50-7ebb-4774-f759-f92583802b6e",
        "colab": {
          "base_uri": "https://localhost:8080/",
          "height": 69
        }
      },
      "source": [
        "KM_cluster_cv = KMeans(n_clusters=100, n_init=20, tol = 0.00001)\n",
        "KM_cluster_cv.fit(X_cv)"
      ],
      "execution_count": 121,
      "outputs": [
        {
          "output_type": "execute_result",
          "data": {
            "text/plain": [
              "KMeans(algorithm='auto', copy_x=True, init='k-means++', max_iter=300,\n",
              "       n_clusters=100, n_init=20, n_jobs=None, precompute_distances='auto',\n",
              "       random_state=None, tol=1e-05, verbose=0)"
            ]
          },
          "metadata": {
            "tags": []
          },
          "execution_count": 121
        }
      ]
    },
    {
      "cell_type": "code",
      "metadata": {
        "id": "hNzzkqyeoE8Z",
        "colab_type": "code",
        "outputId": "0c832c66-4b68-40bf-8e0f-71b7ec5939c1",
        "colab": {
          "base_uri": "https://localhost:8080/",
          "height": 69
        }
      },
      "source": [
        "KM_cluster_tf = KMeans(n_clusters=100, n_init=12, tol = 0.00001)\n",
        "KM_cluster_tf.fit(X_tf)"
      ],
      "execution_count": 122,
      "outputs": [
        {
          "output_type": "execute_result",
          "data": {
            "text/plain": [
              "KMeans(algorithm='auto', copy_x=True, init='k-means++', max_iter=300,\n",
              "       n_clusters=100, n_init=12, n_jobs=None, precompute_distances='auto',\n",
              "       random_state=None, tol=1e-05, verbose=0)"
            ]
          },
          "metadata": {
            "tags": []
          },
          "execution_count": 122
        }
      ]
    },
    {
      "cell_type": "code",
      "metadata": {
        "id": "gyQQv05MqK8S",
        "colab_type": "code",
        "colab": {}
      },
      "source": [
        ""
      ],
      "execution_count": 0,
      "outputs": []
    },
    {
      "cell_type": "code",
      "metadata": {
        "id": "xWzVVNOioNcn",
        "colab_type": "code",
        "colab": {}
      },
      "source": [
        "KM_labels_cv = KM_cluster_cv.labels_"
      ],
      "execution_count": 0,
      "outputs": []
    },
    {
      "cell_type": "code",
      "metadata": {
        "id": "pdNhfog3oUbH",
        "colab_type": "code",
        "colab": {}
      },
      "source": [
        "KM_labels_tf = KM_cluster_tf.labels_"
      ],
      "execution_count": 0,
      "outputs": []
    },
    {
      "cell_type": "code",
      "metadata": {
        "id": "xZkrU3-WqLen",
        "colab_type": "code",
        "colab": {}
      },
      "source": [
        ""
      ],
      "execution_count": 0,
      "outputs": []
    },
    {
      "cell_type": "code",
      "metadata": {
        "id": "9gDdFrF8oXFB",
        "colab_type": "code",
        "outputId": "b6216616-ae96-4d87-8172-556a84b5bd48",
        "colab": {
          "base_uri": "https://localhost:8080/",
          "height": 35
        }
      },
      "source": [
        "silh(X_cv, KM_labels_cv)"
      ],
      "execution_count": 125,
      "outputs": [
        {
          "output_type": "stream",
          "text": [
            "Silhouette Coefficient: 0.331\n"
          ],
          "name": "stdout"
        }
      ]
    },
    {
      "cell_type": "code",
      "metadata": {
        "id": "ZH7IXxZ7ozMB",
        "colab_type": "code",
        "outputId": "aa6b645e-59a9-435a-cea4-dc562e0857a9",
        "colab": {
          "base_uri": "https://localhost:8080/",
          "height": 35
        }
      },
      "source": [
        "silh(X_tf, KM_labels_tf)"
      ],
      "execution_count": 126,
      "outputs": [
        {
          "output_type": "stream",
          "text": [
            "Silhouette Coefficient: 0.396\n"
          ],
          "name": "stdout"
        }
      ]
    },
    {
      "cell_type": "code",
      "metadata": {
        "id": "9sLnwtbKo9C-",
        "colab_type": "code",
        "colab": {}
      },
      "source": [
        ""
      ],
      "execution_count": 0,
      "outputs": []
    },
    {
      "cell_type": "code",
      "metadata": {
        "id": "TO_9RpQIo4iY",
        "colab_type": "code",
        "outputId": "09e19552-a4bc-4b41-9882-9d704d5a30cc",
        "colab": {
          "base_uri": "https://localhost:8080/",
          "height": 104
        }
      },
      "source": [
        "score(y, KM_labels_cv)"
      ],
      "execution_count": 127,
      "outputs": [
        {
          "output_type": "stream",
          "text": [
            "Homogeneity: 0.315\n",
            "Completeness: 0.350\n",
            "V-measure: 0.331\n",
            "Adjusted Rand Index: -0.021\n",
            "Adjusted Mutual Information: 0.312\n"
          ],
          "name": "stdout"
        }
      ]
    },
    {
      "cell_type": "code",
      "metadata": {
        "id": "yRyh1E90o8lh",
        "colab_type": "code",
        "outputId": "8b51f4fe-5709-4589-f5b1-64ae1aa3688d",
        "colab": {
          "base_uri": "https://localhost:8080/",
          "height": 104
        }
      },
      "source": [
        "score(y, KM_labels_tf)"
      ],
      "execution_count": 128,
      "outputs": [
        {
          "output_type": "stream",
          "text": [
            "Homogeneity: 0.366\n",
            "Completeness: 0.361\n",
            "V-measure: 0.364\n",
            "Adjusted Rand Index: -0.008\n",
            "Adjusted Mutual Information: 0.345\n"
          ],
          "name": "stdout"
        }
      ]
    },
    {
      "cell_type": "markdown",
      "metadata": {
        "id": "xbqs09tN3ZVl",
        "colab_type": "text"
      },
      "source": [
        "Классификатор KMeans обученный при помощи tfidf-векторизатора всё равно показывает лучший результат, чем классификатор, обученный при помощи countvectorizer'а. Однако первый классификатор оказался более чувствителен к увеличению количества инициализаций (n_init). Качество, правда, росло совсем незначительно. "
      ]
    },
    {
      "cell_type": "code",
      "metadata": {
        "id": "o9gL5Fe0yrlJ",
        "colab_type": "code",
        "colab": {}
      },
      "source": [
        "sample['cluster'] = KM_cluster_tf.labels_"
      ],
      "execution_count": 0,
      "outputs": []
    },
    {
      "cell_type": "markdown",
      "metadata": {
        "id": "1RfjZBYQpHBZ",
        "colab_type": "text"
      },
      "source": [
        "MiniBatchKMeans"
      ]
    },
    {
      "cell_type": "code",
      "metadata": {
        "id": "mXsqHCZPzmm2",
        "colab_type": "code",
        "colab": {}
      },
      "source": [
        "X_cv = cv.fit_transform(data['title'])\n",
        "X_tf = tf.fit_transform(data['title'])\n",
        "\n",
        "y = data['category_name']"
      ],
      "execution_count": 0,
      "outputs": []
    },
    {
      "cell_type": "code",
      "metadata": {
        "id": "exODNHaYpMgj",
        "colab_type": "code",
        "colab": {}
      },
      "source": [
        "MBK_cluster_cv = MiniBatchKMeans(n_clusters=1000, init_size=2000, verbose=1, max_iter=500, batch_size = 200,\n",
        "                          max_no_improvement=2000, reassignment_ratio=0.4)\n",
        "MBK_cluster_cv.fit(X_cv)"
      ],
      "execution_count": 0,
      "outputs": []
    },
    {
      "cell_type": "code",
      "metadata": {
        "id": "zYKniz_bpr7p",
        "colab_type": "code",
        "colab": {}
      },
      "source": [
        "MBK_cluster_tf = MiniBatchKMeans(n_clusters=1000, init_size=2000, verbose=1, max_iter=500, batch_size = 200,\n",
        "                          max_no_improvement=600, reassignment_ratio=0.5)\n",
        "MBK_cluster_tf.fit(X_tf)"
      ],
      "execution_count": 0,
      "outputs": []
    },
    {
      "cell_type": "code",
      "metadata": {
        "id": "0AV_GlNUp1IM",
        "colab_type": "code",
        "colab": {}
      },
      "source": [
        "MBK_labels_cv = MBK_cluster_cv.labels_"
      ],
      "execution_count": 0,
      "outputs": []
    },
    {
      "cell_type": "code",
      "metadata": {
        "id": "W0tfJBXip5ki",
        "colab_type": "code",
        "colab": {}
      },
      "source": [
        "MBK_labels_tf = MBK_cluster_tf.labels_"
      ],
      "execution_count": 0,
      "outputs": []
    },
    {
      "cell_type": "code",
      "metadata": {
        "id": "7KNxIjw9qJ0V",
        "colab_type": "code",
        "colab": {}
      },
      "source": [
        ""
      ],
      "execution_count": 0,
      "outputs": []
    },
    {
      "cell_type": "code",
      "metadata": {
        "id": "wW-cgAJ5qBZo",
        "colab_type": "code",
        "outputId": "b2bc9b3a-4d80-4b0e-d9f2-2188ae9db4c0",
        "colab": {
          "base_uri": "https://localhost:8080/",
          "height": 35
        }
      },
      "source": [
        "silh(X_cv, MBK_labels_cv)"
      ],
      "execution_count": 136,
      "outputs": [
        {
          "output_type": "stream",
          "text": [
            "Silhouette Coefficient: 0.639\n"
          ],
          "name": "stdout"
        }
      ]
    },
    {
      "cell_type": "code",
      "metadata": {
        "id": "tRA9nGftqExC",
        "colab_type": "code",
        "outputId": "d9ceafa3-34e6-4a19-b051-70bec2d923a7",
        "colab": {
          "base_uri": "https://localhost:8080/",
          "height": 35
        }
      },
      "source": [
        "silh(X_tf, MBK_labels_tf)"
      ],
      "execution_count": 137,
      "outputs": [
        {
          "output_type": "stream",
          "text": [
            "Silhouette Coefficient: 0.689\n"
          ],
          "name": "stdout"
        }
      ]
    },
    {
      "cell_type": "code",
      "metadata": {
        "id": "w3oZvHhPqMqN",
        "colab_type": "code",
        "colab": {}
      },
      "source": [
        ""
      ],
      "execution_count": 0,
      "outputs": []
    },
    {
      "cell_type": "code",
      "metadata": {
        "id": "FSh7cPaLqNBF",
        "colab_type": "code",
        "outputId": "5b968e50-c157-439e-a182-a988ea6a170c",
        "colab": {
          "base_uri": "https://localhost:8080/",
          "height": 104
        }
      },
      "source": [
        "score(y, MBK_labels_cv)"
      ],
      "execution_count": 138,
      "outputs": [
        {
          "output_type": "stream",
          "text": [
            "Homogeneity: 0.516\n",
            "Completeness: 0.306\n",
            "V-measure: 0.384\n",
            "Adjusted Rand Index: -0.012\n",
            "Adjusted Mutual Information: 0.372\n"
          ],
          "name": "stdout"
        }
      ]
    },
    {
      "cell_type": "code",
      "metadata": {
        "id": "9n0chd5FqOc_",
        "colab_type": "code",
        "outputId": "35e59876-0b1e-485b-83d4-5ccd19215f4f",
        "colab": {
          "base_uri": "https://localhost:8080/",
          "height": 104
        }
      },
      "source": [
        "score(y, MBK_labels_tf)"
      ],
      "execution_count": 139,
      "outputs": [
        {
          "output_type": "stream",
          "text": [
            "Homogeneity: 0.520\n",
            "Completeness: 0.308\n",
            "V-measure: 0.387\n",
            "Adjusted Rand Index: -0.013\n",
            "Adjusted Mutual Information: 0.375\n"
          ],
          "name": "stdout"
        }
      ]
    },
    {
      "cell_type": "markdown",
      "metadata": {
        "id": "pM_2DcqCV77x",
        "colab_type": "text"
      },
      "source": [
        "Лучше справляется tfidf-векторизатор. CV тоже можно подкрутить, но у меня он всё равно так и не достиг результатов tfidf. Особенно заметна разница с MiniBatchKMeans."
      ]
    },
    {
      "cell_type": "markdown",
      "metadata": {
        "id": "m19vWA8cRPCe",
        "colab_type": "text"
      },
      "source": [
        "#Задание 2"
      ]
    },
    {
      "cell_type": "markdown",
      "metadata": {
        "id": "jQF4D5aVSDMd",
        "colab_type": "text"
      },
      "source": [
        "AgglomerativeClustering"
      ]
    },
    {
      "cell_type": "code",
      "metadata": {
        "id": "9hn-0PunRObt",
        "colab_type": "code",
        "colab": {}
      },
      "source": [
        "sample = data.sample(frac=0.05)"
      ],
      "execution_count": 0,
      "outputs": []
    },
    {
      "cell_type": "code",
      "metadata": {
        "id": "g_3kIo6TSLUl",
        "colab_type": "code",
        "colab": {}
      },
      "source": [
        "svd = TruncatedSVD(50)\n",
        "nmf = NMF(init='random', random_state=0)"
      ],
      "execution_count": 0,
      "outputs": []
    },
    {
      "cell_type": "code",
      "metadata": {
        "id": "O0EjyulFVWoB",
        "colab_type": "code",
        "colab": {}
      },
      "source": [
        "X_tf = tf.fit_transform(sample['title'])"
      ],
      "execution_count": 0,
      "outputs": []
    },
    {
      "cell_type": "code",
      "metadata": {
        "id": "xQxflmtwSr5e",
        "colab_type": "code",
        "colab": {}
      },
      "source": [
        "X_svd = svd.fit_transform(X_tf)\n",
        "X_nmf = nmf.fit_transform(X_tf)"
      ],
      "execution_count": 0,
      "outputs": []
    },
    {
      "cell_type": "code",
      "metadata": {
        "id": "ZZMDCFaqTBeX",
        "colab_type": "code",
        "colab": {}
      },
      "source": [
        "y = sample['category_name']"
      ],
      "execution_count": 0,
      "outputs": []
    },
    {
      "cell_type": "code",
      "metadata": {
        "id": "8RAkEbGeTyw7",
        "colab_type": "code",
        "outputId": "2221f40f-5514-43d8-8708-b126730d0e0f",
        "colab": {
          "base_uri": "https://localhost:8080/",
          "height": 69
        }
      },
      "source": [
        "AC_cluster_svd = AgglomerativeClustering(n_clusters=200)\n",
        "AC_cluster_svd.fit(X_svd)"
      ],
      "execution_count": 145,
      "outputs": [
        {
          "output_type": "execute_result",
          "data": {
            "text/plain": [
              "AgglomerativeClustering(affinity='euclidean', compute_full_tree='auto',\n",
              "                        connectivity=None, distance_threshold=None,\n",
              "                        linkage='ward', memory=None, n_clusters=200)"
            ]
          },
          "metadata": {
            "tags": []
          },
          "execution_count": 145
        }
      ]
    },
    {
      "cell_type": "code",
      "metadata": {
        "id": "PPAn6MQ8T5zy",
        "colab_type": "code",
        "outputId": "1f9cff80-c0ec-4bc3-a2dc-c1d864684923",
        "colab": {
          "base_uri": "https://localhost:8080/",
          "height": 69
        }
      },
      "source": [
        "AC_cluster_nmf = AgglomerativeClustering(n_clusters=200)\n",
        "AC_cluster_nmf.fit(X_nmf)"
      ],
      "execution_count": 146,
      "outputs": [
        {
          "output_type": "execute_result",
          "data": {
            "text/plain": [
              "AgglomerativeClustering(affinity='euclidean', compute_full_tree='auto',\n",
              "                        connectivity=None, distance_threshold=None,\n",
              "                        linkage='ward', memory=None, n_clusters=200)"
            ]
          },
          "metadata": {
            "tags": []
          },
          "execution_count": 146
        }
      ]
    },
    {
      "cell_type": "code",
      "metadata": {
        "id": "jd97rrHrUA9s",
        "colab_type": "code",
        "colab": {}
      },
      "source": [
        "AC_labels_svd = AC_cluster_svd.labels_"
      ],
      "execution_count": 0,
      "outputs": []
    },
    {
      "cell_type": "code",
      "metadata": {
        "id": "_oEH3A9HUdrD",
        "colab_type": "code",
        "colab": {}
      },
      "source": [
        "AC_labels_nmf = AC_cluster_nmf.labels_"
      ],
      "execution_count": 0,
      "outputs": []
    },
    {
      "cell_type": "code",
      "metadata": {
        "id": "XldKU2VqLG7S",
        "colab_type": "code",
        "colab": {}
      },
      "source": [
        ""
      ],
      "execution_count": 0,
      "outputs": []
    },
    {
      "cell_type": "code",
      "metadata": {
        "id": "kbz_5s4xUg-S",
        "colab_type": "code",
        "outputId": "831b1703-f01a-4782-8aa5-15e1f5db6f55",
        "colab": {
          "base_uri": "https://localhost:8080/",
          "height": 35
        }
      },
      "source": [
        "print(\"Silhouette Coefficient: %0.3f\"\n",
        "      % metrics.silhouette_score(X_svd, AC_labels_svd))"
      ],
      "execution_count": 149,
      "outputs": [
        {
          "output_type": "stream",
          "text": [
            "Silhouette Coefficient: 0.630\n"
          ],
          "name": "stdout"
        }
      ]
    },
    {
      "cell_type": "code",
      "metadata": {
        "id": "zSPGo8pB_zeG",
        "colab_type": "code",
        "outputId": "05fb4fd2-626d-4845-95b1-4deb9ced2e27",
        "colab": {
          "base_uri": "https://localhost:8080/",
          "height": 35
        }
      },
      "source": [
        "print(\"Silhouette Coefficient: %0.3f\"\n",
        "      % metrics.silhouette_score(X_nmf, AC_labels_nmf))"
      ],
      "execution_count": 150,
      "outputs": [
        {
          "output_type": "stream",
          "text": [
            "Silhouette Coefficient: 0.434\n"
          ],
          "name": "stdout"
        }
      ]
    },
    {
      "cell_type": "code",
      "metadata": {
        "id": "ohplbGYqLFmN",
        "colab_type": "code",
        "colab": {}
      },
      "source": [
        ""
      ],
      "execution_count": 0,
      "outputs": []
    },
    {
      "cell_type": "code",
      "metadata": {
        "id": "FeUmExZAUOgh",
        "colab_type": "code",
        "outputId": "6243d52c-d4fc-4d8e-91e3-112986d2635b",
        "colab": {
          "base_uri": "https://localhost:8080/",
          "height": 104
        }
      },
      "source": [
        "score(y, AC_labels_svd)"
      ],
      "execution_count": 153,
      "outputs": [
        {
          "output_type": "stream",
          "text": [
            "Homogeneity: 0.414\n",
            "Completeness: 0.345\n",
            "V-measure: 0.376\n",
            "Adjusted Rand Index: -0.006\n",
            "Adjusted Mutual Information: 0.325\n"
          ],
          "name": "stdout"
        }
      ]
    },
    {
      "cell_type": "code",
      "metadata": {
        "id": "WVAGm4QPUkJr",
        "colab_type": "code",
        "outputId": "96443bae-11ba-4149-aea6-02786b462d4b",
        "colab": {
          "base_uri": "https://localhost:8080/",
          "height": 104
        }
      },
      "source": [
        "score(y, AC_labels_nmf)"
      ],
      "execution_count": 154,
      "outputs": [
        {
          "output_type": "stream",
          "text": [
            "Homogeneity: 0.388\n",
            "Completeness: 0.329\n",
            "V-measure: 0.356\n",
            "Adjusted Rand Index: -0.020\n",
            "Adjusted Mutual Information: 0.300\n"
          ],
          "name": "stdout"
        }
      ]
    },
    {
      "cell_type": "markdown",
      "metadata": {
        "id": "akc-JkBfCzok",
        "colab_type": "text"
      },
      "source": [
        "\n",
        "Я пробовал менять показатели affinity и linkage для AC, однако со стандартными параметрами (немного подкрутил n_clusters) работала она лучше. "
      ]
    },
    {
      "cell_type": "markdown",
      "metadata": {
        "id": "HwxSWibWUrr_",
        "colab_type": "text"
      },
      "source": [
        "Spectral Clustering\n",
        "\n"
      ]
    },
    {
      "cell_type": "code",
      "metadata": {
        "id": "DjR8gtJuUrWo",
        "colab_type": "code",
        "colab": {}
      },
      "source": [
        "sample = data.sample(frac=0.01)"
      ],
      "execution_count": 0,
      "outputs": []
    },
    {
      "cell_type": "code",
      "metadata": {
        "id": "8ameNqtmVIXr",
        "colab_type": "code",
        "colab": {}
      },
      "source": [
        "X_tf = tf.fit_transform(sample['title'])"
      ],
      "execution_count": 0,
      "outputs": []
    },
    {
      "cell_type": "code",
      "metadata": {
        "id": "QbEMF-hRViBE",
        "colab_type": "code",
        "colab": {}
      },
      "source": [
        "X_svd = svd.fit_transform(X_tf)\n",
        "X_nmf = nmf.fit_transform(X_tf)"
      ],
      "execution_count": 0,
      "outputs": []
    },
    {
      "cell_type": "code",
      "metadata": {
        "id": "d-Gs9eqRVlMr",
        "colab_type": "code",
        "colab": {}
      },
      "source": [
        "y = sample['category_name']"
      ],
      "execution_count": 0,
      "outputs": []
    },
    {
      "cell_type": "code",
      "metadata": {
        "id": "yjBPyEgKVl1D",
        "colab_type": "code",
        "outputId": "b08c8e9c-a707-4884-ddcf-b33b574a2022",
        "colab": {
          "base_uri": "https://localhost:8080/",
          "height": 87
        }
      },
      "source": [
        "SC_cluster_svd = SpectralClustering(n_clusters=100, n_init = 5, gamma=1.2)\n",
        "SC_cluster_svd.fit(X_svd)"
      ],
      "execution_count": 166,
      "outputs": [
        {
          "output_type": "execute_result",
          "data": {
            "text/plain": [
              "SpectralClustering(affinity='rbf', assign_labels='kmeans', coef0=1, degree=3,\n",
              "                   eigen_solver=None, eigen_tol=0.0, gamma=1.2,\n",
              "                   kernel_params=None, n_clusters=100, n_components=None,\n",
              "                   n_init=5, n_jobs=None, n_neighbors=10, random_state=None)"
            ]
          },
          "metadata": {
            "tags": []
          },
          "execution_count": 166
        }
      ]
    },
    {
      "cell_type": "code",
      "metadata": {
        "id": "ghzcsoYQVuGf",
        "colab_type": "code",
        "outputId": "6d222621-ef1d-4ac7-d734-a1a9095f5aa8",
        "colab": {
          "base_uri": "https://localhost:8080/",
          "height": 87
        }
      },
      "source": [
        "SC_cluster_nmf = SpectralClustering(n_clusters=100, n_init=5, gamma=1.2)\n",
        "SC_cluster_nmf.fit(X_nmf)"
      ],
      "execution_count": 167,
      "outputs": [
        {
          "output_type": "execute_result",
          "data": {
            "text/plain": [
              "SpectralClustering(affinity='rbf', assign_labels='kmeans', coef0=1, degree=3,\n",
              "                   eigen_solver=None, eigen_tol=0.0, gamma=1.2,\n",
              "                   kernel_params=None, n_clusters=100, n_components=None,\n",
              "                   n_init=5, n_jobs=None, n_neighbors=10, random_state=None)"
            ]
          },
          "metadata": {
            "tags": []
          },
          "execution_count": 167
        }
      ]
    },
    {
      "cell_type": "code",
      "metadata": {
        "id": "vSVk1Af7VxPX",
        "colab_type": "code",
        "colab": {}
      },
      "source": [
        "SC_labels_svd = SC_cluster_svd.labels_"
      ],
      "execution_count": 0,
      "outputs": []
    },
    {
      "cell_type": "code",
      "metadata": {
        "id": "60r2PppLV18o",
        "colab_type": "code",
        "colab": {}
      },
      "source": [
        "SC_labels_nmf = SC_cluster_nmf.labels_"
      ],
      "execution_count": 0,
      "outputs": []
    },
    {
      "cell_type": "code",
      "metadata": {
        "id": "zVYBsn3ZV4oh",
        "colab_type": "code",
        "colab": {}
      },
      "source": [
        ""
      ],
      "execution_count": 0,
      "outputs": []
    },
    {
      "cell_type": "code",
      "metadata": {
        "id": "3sN0wD7fH8e2",
        "colab_type": "code",
        "outputId": "4c8f8622-243f-4f66-c59e-c737399fc47e",
        "colab": {
          "base_uri": "https://localhost:8080/",
          "height": 35
        }
      },
      "source": [
        "print(\"Silhouette Coefficient: %0.3f\"\n",
        "      % metrics.silhouette_score(X_svd, SC_labels_svd))"
      ],
      "execution_count": 170,
      "outputs": [
        {
          "output_type": "stream",
          "text": [
            "Silhouette Coefficient: 0.600\n"
          ],
          "name": "stdout"
        }
      ]
    },
    {
      "cell_type": "code",
      "metadata": {
        "id": "mv0mWPNGH9GW",
        "colab_type": "code",
        "outputId": "37b3ba06-57eb-4fa7-a56b-f06539b2787e",
        "colab": {
          "base_uri": "https://localhost:8080/",
          "height": 35
        }
      },
      "source": [
        "print(\"Silhouette Coefficient: %0.3f\"\n",
        "      % metrics.silhouette_score(X_nmf, SC_labels_nmf))"
      ],
      "execution_count": 171,
      "outputs": [
        {
          "output_type": "stream",
          "text": [
            "Silhouette Coefficient: 0.332\n"
          ],
          "name": "stdout"
        }
      ]
    },
    {
      "cell_type": "code",
      "metadata": {
        "id": "I1B5bY_MWErM",
        "colab_type": "code",
        "colab": {}
      },
      "source": [
        ""
      ],
      "execution_count": 0,
      "outputs": []
    },
    {
      "cell_type": "code",
      "metadata": {
        "id": "fWYAtgp-WEvU",
        "colab_type": "code",
        "outputId": "50ec2835-c913-4d0a-9471-53545cb9daa4",
        "colab": {
          "base_uri": "https://localhost:8080/",
          "height": 104
        }
      },
      "source": [
        "score(y, SC_labels_svd)"
      ],
      "execution_count": 172,
      "outputs": [
        {
          "output_type": "stream",
          "text": [
            "Homogeneity: 0.394\n",
            "Completeness: 0.388\n",
            "V-measure: 0.391\n",
            "Adjusted Rand Index: -0.010\n",
            "Adjusted Mutual Information: 0.280\n"
          ],
          "name": "stdout"
        }
      ]
    },
    {
      "cell_type": "code",
      "metadata": {
        "id": "F0gyRlDHWJI1",
        "colab_type": "code",
        "outputId": "ee4d4d8e-1377-43f0-caf9-15c40adce6ae",
        "colab": {
          "base_uri": "https://localhost:8080/",
          "height": 104
        }
      },
      "source": [
        "score(y, SC_labels_nmf)"
      ],
      "execution_count": 173,
      "outputs": [
        {
          "output_type": "stream",
          "text": [
            "Homogeneity: 0.119\n",
            "Completeness: 0.382\n",
            "V-measure: 0.182\n",
            "Adjusted Rand Index: 0.006\n",
            "Adjusted Mutual Information: 0.075\n"
          ],
          "name": "stdout"
        }
      ]
    },
    {
      "cell_type": "markdown",
      "metadata": {
        "id": "oTninfoINQtU",
        "colab_type": "text"
      },
      "source": [
        "svd пока лучше по всем показателям"
      ]
    },
    {
      "cell_type": "markdown",
      "metadata": {
        "id": "tKXv6V-2WNCr",
        "colab_type": "text"
      },
      "source": [
        "MeanShift"
      ]
    },
    {
      "cell_type": "code",
      "metadata": {
        "id": "FGo2FzVrWOuV",
        "colab_type": "code",
        "colab": {}
      },
      "source": [
        "sample = data.sample(frac=0.01)"
      ],
      "execution_count": 0,
      "outputs": []
    },
    {
      "cell_type": "code",
      "metadata": {
        "id": "W1E7Vd5VWQ-i",
        "colab_type": "code",
        "colab": {}
      },
      "source": [
        "X_tf = tf.fit_transform(sample['title'])"
      ],
      "execution_count": 0,
      "outputs": []
    },
    {
      "cell_type": "code",
      "metadata": {
        "id": "8uloEJQkWS-6",
        "colab_type": "code",
        "colab": {}
      },
      "source": [
        "X_svd = svd.fit_transform(X_tf)\n",
        "X_nmf = nmf.fit_transform(X_tf)"
      ],
      "execution_count": 0,
      "outputs": []
    },
    {
      "cell_type": "code",
      "metadata": {
        "id": "TNSZHMIbWUnO",
        "colab_type": "code",
        "colab": {}
      },
      "source": [
        "y = sample['category_name']"
      ],
      "execution_count": 0,
      "outputs": []
    },
    {
      "cell_type": "code",
      "metadata": {
        "id": "WRIvPKdq78Os",
        "colab_type": "code",
        "colab": {
          "base_uri": "https://localhost:8080/",
          "height": 35
        },
        "outputId": "d189eb10-47f4-4e9b-8812-89f65c99d423"
      },
      "source": [
        "import sklearn\n",
        "sklearn.cluster.estimate_bandwidth(X_svd)"
      ],
      "execution_count": 183,
      "outputs": [
        {
          "output_type": "execute_result",
          "data": {
            "text/plain": [
              "0.4645504738146529"
            ]
          },
          "metadata": {
            "tags": []
          },
          "execution_count": 183
        }
      ]
    },
    {
      "cell_type": "code",
      "metadata": {
        "id": "NhT47mhSWqOg",
        "colab_type": "code",
        "outputId": "ebc4ee0f-dd92-4226-e2b4-7e4757a1009e",
        "colab": {
          "base_uri": "https://localhost:8080/",
          "height": 52
        }
      },
      "source": [
        "MS_cluster_svd = MeanShift(cluster_all=False, bandwidth=0.7, max_iter = 400)\n",
        "MS_cluster_svd.fit(X_svd)"
      ],
      "execution_count": 184,
      "outputs": [
        {
          "output_type": "execute_result",
          "data": {
            "text/plain": [
              "MeanShift(bandwidth=0.7, bin_seeding=False, cluster_all=False, max_iter=400,\n",
              "          min_bin_freq=1, n_jobs=None, seeds=None)"
            ]
          },
          "metadata": {
            "tags": []
          },
          "execution_count": 184
        }
      ]
    },
    {
      "cell_type": "code",
      "metadata": {
        "id": "6-aL2xNBWxB-",
        "colab_type": "code",
        "outputId": "f4b16327-20fb-4763-a80f-7533549a80dc",
        "colab": {
          "base_uri": "https://localhost:8080/",
          "height": 52
        }
      },
      "source": [
        "MS_cluster_nmf = MeanShift(cluster_all=False, bandwidth=0.7, max_iter = 400)\n",
        "MS_cluster_nmf.fit(X_nmf)"
      ],
      "execution_count": 185,
      "outputs": [
        {
          "output_type": "execute_result",
          "data": {
            "text/plain": [
              "MeanShift(bandwidth=0.7, bin_seeding=False, cluster_all=False, max_iter=400,\n",
              "          min_bin_freq=1, n_jobs=None, seeds=None)"
            ]
          },
          "metadata": {
            "tags": []
          },
          "execution_count": 185
        }
      ]
    },
    {
      "cell_type": "code",
      "metadata": {
        "id": "dpCQ8dYlWzrS",
        "colab_type": "code",
        "colab": {}
      },
      "source": [
        "MS_labels_svd = MS_cluster_svd.labels_"
      ],
      "execution_count": 0,
      "outputs": []
    },
    {
      "cell_type": "code",
      "metadata": {
        "id": "sQCxTF17W673",
        "colab_type": "code",
        "colab": {}
      },
      "source": [
        "MS_labels_nmf = MS_cluster_nmf.labels_"
      ],
      "execution_count": 0,
      "outputs": []
    },
    {
      "cell_type": "code",
      "metadata": {
        "id": "ZXDXICqzW-Fk",
        "colab_type": "code",
        "colab": {}
      },
      "source": [
        ""
      ],
      "execution_count": 0,
      "outputs": []
    },
    {
      "cell_type": "code",
      "metadata": {
        "id": "OxwYKBDnW-WZ",
        "colab_type": "code",
        "outputId": "b1e5e815-c2f9-4ff5-b81b-c45235f66383",
        "colab": {
          "base_uri": "https://localhost:8080/",
          "height": 35
        }
      },
      "source": [
        "print(\"Silhouette Coefficient: %0.3f\"\n",
        "      % metrics.silhouette_score(X_svd, MS_labels_svd))"
      ],
      "execution_count": 188,
      "outputs": [
        {
          "output_type": "stream",
          "text": [
            "Silhouette Coefficient: 0.461\n"
          ],
          "name": "stdout"
        }
      ]
    },
    {
      "cell_type": "code",
      "metadata": {
        "id": "M4rKy4fcXBZM",
        "colab_type": "code",
        "outputId": "f9b8d393-bf9f-4e7c-9e5a-1110a705f794",
        "colab": {
          "base_uri": "https://localhost:8080/",
          "height": 35
        }
      },
      "source": [
        "print(\"Silhouette Coefficient: %0.3f\"\n",
        "      % metrics.silhouette_score(X_nmf, MS_labels_nmf))"
      ],
      "execution_count": 189,
      "outputs": [
        {
          "output_type": "stream",
          "text": [
            "Silhouette Coefficient: 0.607\n"
          ],
          "name": "stdout"
        }
      ]
    },
    {
      "cell_type": "code",
      "metadata": {
        "id": "2HjmC0eaXP41",
        "colab_type": "code",
        "colab": {}
      },
      "source": [
        ""
      ],
      "execution_count": 0,
      "outputs": []
    },
    {
      "cell_type": "code",
      "metadata": {
        "id": "8ar3UNjJXQJU",
        "colab_type": "code",
        "outputId": "7e863054-e1c5-4736-dddd-511101d5204d",
        "colab": {
          "base_uri": "https://localhost:8080/",
          "height": 104
        }
      },
      "source": [
        "score(y, MS_labels_svd)"
      ],
      "execution_count": 190,
      "outputs": [
        {
          "output_type": "stream",
          "text": [
            "Homogeneity: 0.130\n",
            "Completeness: 0.282\n",
            "V-measure: 0.178\n",
            "Adjusted Rand Index: -0.028\n",
            "Adjusted Mutual Information: 0.125\n"
          ],
          "name": "stdout"
        }
      ]
    },
    {
      "cell_type": "code",
      "metadata": {
        "id": "a4DBNN5vXXU2",
        "colab_type": "code",
        "outputId": "312af58a-23ed-4232-d251-93c6aa8c0bb7",
        "colab": {
          "base_uri": "https://localhost:8080/",
          "height": 104
        }
      },
      "source": [
        "score(y, MS_labels_nmf)"
      ],
      "execution_count": 191,
      "outputs": [
        {
          "output_type": "stream",
          "text": [
            "Homogeneity: 0.572\n",
            "Completeness: 0.368\n",
            "V-measure: 0.447\n",
            "Adjusted Rand Index: -0.021\n",
            "Adjusted Mutual Information: 0.161\n"
          ],
          "name": "stdout"
        }
      ]
    },
    {
      "cell_type": "markdown",
      "metadata": {
        "id": "Ek-7U6MaICaB",
        "colab_type": "text"
      },
      "source": [
        "А вот здесь уже nmf значительно лучше."
      ]
    },
    {
      "cell_type": "markdown",
      "metadata": {
        "id": "Zcin8R4hXdFo",
        "colab_type": "text"
      },
      "source": [
        "На 2 из 3 моделей svd показало результаты лучше, чем nmf, однако c MeanShift nmf оказалось значительно лучше. В общем, получается, что svd получше, но явно не во всех случаях. "
      ]
    },
    {
      "cell_type": "markdown",
      "metadata": {
        "id": "2lr3EHjTX77s",
        "colab_type": "text"
      },
      "source": [
        "#Задание 3"
      ]
    },
    {
      "cell_type": "code",
      "metadata": {
        "id": "QAHOuwozwzvV",
        "colab_type": "code",
        "colab": {}
      },
      "source": [
        "sample['cluster'] = MS_cluster_svd.labels_"
      ],
      "execution_count": 0,
      "outputs": []
    },
    {
      "cell_type": "code",
      "metadata": {
        "id": "38UGcuIRYC23",
        "colab_type": "code",
        "colab": {
          "base_uri": "https://localhost:8080/",
          "height": 1000
        },
        "outputId": "bab099b9-7630-40b0-fa94-38885cbde7bd"
      },
      "source": [
        "sample[sample.cluster==-1].head(50)"
      ],
      "execution_count": 196,
      "outputs": [
        {
          "output_type": "execute_result",
          "data": {
            "text/html": [
              "<div>\n",
              "<style scoped>\n",
              "    .dataframe tbody tr th:only-of-type {\n",
              "        vertical-align: middle;\n",
              "    }\n",
              "\n",
              "    .dataframe tbody tr th {\n",
              "        vertical-align: top;\n",
              "    }\n",
              "\n",
              "    .dataframe thead th {\n",
              "        text-align: right;\n",
              "    }\n",
              "</style>\n",
              "<table border=\"1\" class=\"dataframe\">\n",
              "  <thead>\n",
              "    <tr style=\"text-align: right;\">\n",
              "      <th></th>\n",
              "      <th>category_name</th>\n",
              "      <th>title</th>\n",
              "      <th>cluster</th>\n",
              "    </tr>\n",
              "  </thead>\n",
              "  <tbody>\n",
              "    <tr>\n",
              "      <th>6314</th>\n",
              "      <td>Детская одежда и обувь</td>\n",
              "      <td>Костюм для карате</td>\n",
              "      <td>-1</td>\n",
              "    </tr>\n",
              "    <tr>\n",
              "      <th>109546</th>\n",
              "      <td>Коллекционирование</td>\n",
              "      <td>На концертах Владимира Высоцкого</td>\n",
              "      <td>-1</td>\n",
              "    </tr>\n",
              "    <tr>\n",
              "      <th>30513</th>\n",
              "      <td>Детская одежда и обувь</td>\n",
              "      <td>Комбинезон весна-осень</td>\n",
              "      <td>-1</td>\n",
              "    </tr>\n",
              "    <tr>\n",
              "      <th>8107</th>\n",
              "      <td>Мебель и интерьер</td>\n",
              "      <td>Светильники для спальни</td>\n",
              "      <td>-1</td>\n",
              "    </tr>\n",
              "    <tr>\n",
              "      <th>85141</th>\n",
              "      <td>Одежда, обувь, аксессуары</td>\n",
              "      <td>Брючный костюм с жилетом</td>\n",
              "      <td>-1</td>\n",
              "    </tr>\n",
              "    <tr>\n",
              "      <th>160052</th>\n",
              "      <td>Детская одежда и обувь</td>\n",
              "      <td>Сапоги резиновые</td>\n",
              "      <td>-1</td>\n",
              "    </tr>\n",
              "    <tr>\n",
              "      <th>153541</th>\n",
              "      <td>Квартиры</td>\n",
              "      <td>1-к квартира, 36 м², 4/10 эт.</td>\n",
              "      <td>-1</td>\n",
              "    </tr>\n",
              "    <tr>\n",
              "      <th>247091</th>\n",
              "      <td>Товары для детей и игрушки</td>\n",
              "      <td>Балдахин и держатель для него</td>\n",
              "      <td>-1</td>\n",
              "    </tr>\n",
              "    <tr>\n",
              "      <th>81491</th>\n",
              "      <td>Одежда, обувь, аксессуары</td>\n",
              "      <td>Продам женскуюодежду</td>\n",
              "      <td>-1</td>\n",
              "    </tr>\n",
              "    <tr>\n",
              "      <th>78398</th>\n",
              "      <td>Товары для компьютера</td>\n",
              "      <td>Новая топовая сво ekwb, полный комплект</td>\n",
              "      <td>-1</td>\n",
              "    </tr>\n",
              "    <tr>\n",
              "      <th>66103</th>\n",
              "      <td>Земельные участки</td>\n",
              "      <td>Участок 17 сот. (ИЖС)</td>\n",
              "      <td>-1</td>\n",
              "    </tr>\n",
              "    <tr>\n",
              "      <th>46048</th>\n",
              "      <td>Квартиры</td>\n",
              "      <td>Сниму 2-к квартиру</td>\n",
              "      <td>-1</td>\n",
              "    </tr>\n",
              "    <tr>\n",
              "      <th>191209</th>\n",
              "      <td>Мебель и интерьер</td>\n",
              "      <td>Продам солевую лампу</td>\n",
              "      <td>-1</td>\n",
              "    </tr>\n",
              "    <tr>\n",
              "      <th>244434</th>\n",
              "      <td>Детская одежда и обувь</td>\n",
              "      <td>Комбинезон утепленный</td>\n",
              "      <td>-1</td>\n",
              "    </tr>\n",
              "    <tr>\n",
              "      <th>113646</th>\n",
              "      <td>Детская одежда и обувь</td>\n",
              "      <td>Лыжный комбинезон</td>\n",
              "      <td>-1</td>\n",
              "    </tr>\n",
              "    <tr>\n",
              "      <th>38937</th>\n",
              "      <td>Автомобили</td>\n",
              "      <td>ВАЗ 2106, 1989</td>\n",
              "      <td>-1</td>\n",
              "    </tr>\n",
              "    <tr>\n",
              "      <th>234102</th>\n",
              "      <td>Телефоны</td>\n",
              "      <td>Бронестекла iPhone 5,6,7</td>\n",
              "      <td>-1</td>\n",
              "    </tr>\n",
              "    <tr>\n",
              "      <th>192430</th>\n",
              "      <td>Одежда, обувь, аксессуары</td>\n",
              "      <td>Новые брюки Columbia р-р 54</td>\n",
              "      <td>-1</td>\n",
              "    </tr>\n",
              "    <tr>\n",
              "      <th>60057</th>\n",
              "      <td>Товары для детей и игрушки</td>\n",
              "      <td>Самокаты, Новые м-н Настенька</td>\n",
              "      <td>-1</td>\n",
              "    </tr>\n",
              "    <tr>\n",
              "      <th>64447</th>\n",
              "      <td>Детская одежда и обувь</td>\n",
              "      <td>Сапоги резиновые</td>\n",
              "      <td>-1</td>\n",
              "    </tr>\n",
              "    <tr>\n",
              "      <th>179094</th>\n",
              "      <td>Автомобили</td>\n",
              "      <td>ВАЗ 2110, 1999</td>\n",
              "      <td>-1</td>\n",
              "    </tr>\n",
              "    <tr>\n",
              "      <th>111404</th>\n",
              "      <td>Детская одежда и обувь</td>\n",
              "      <td>Комбинезон х/б</td>\n",
              "      <td>-1</td>\n",
              "    </tr>\n",
              "    <tr>\n",
              "      <th>5491</th>\n",
              "      <td>Детская одежда и обувь</td>\n",
              "      <td>Комбинезон Mothercare (6-9 мес.) хлопок</td>\n",
              "      <td>-1</td>\n",
              "    </tr>\n",
              "    <tr>\n",
              "      <th>173060</th>\n",
              "      <td>Одежда, обувь, аксессуары</td>\n",
              "      <td>Брюки черные</td>\n",
              "      <td>-1</td>\n",
              "    </tr>\n",
              "    <tr>\n",
              "      <th>122586</th>\n",
              "      <td>Детская одежда и обувь</td>\n",
              "      <td>Комбинезон весна-осень</td>\n",
              "      <td>-1</td>\n",
              "    </tr>\n",
              "    <tr>\n",
              "      <th>253100</th>\n",
              "      <td>Готовый бизнес</td>\n",
              "      <td>Кофе на вынос</td>\n",
              "      <td>-1</td>\n",
              "    </tr>\n",
              "    <tr>\n",
              "      <th>219453</th>\n",
              "      <td>Телефоны</td>\n",
              "      <td>Телефон Samsung Galaxy j1 (6)</td>\n",
              "      <td>-1</td>\n",
              "    </tr>\n",
              "    <tr>\n",
              "      <th>192630</th>\n",
              "      <td>Детская одежда и обувь</td>\n",
              "      <td>Обувь для девочки</td>\n",
              "      <td>-1</td>\n",
              "    </tr>\n",
              "    <tr>\n",
              "      <th>148651</th>\n",
              "      <td>Детская одежда и обувь</td>\n",
              "      <td>Резиновые сапоги Mothercare</td>\n",
              "      <td>-1</td>\n",
              "    </tr>\n",
              "    <tr>\n",
              "      <th>239942</th>\n",
              "      <td>Аудио и видео</td>\n",
              "      <td>LG 49UH610V</td>\n",
              "      <td>-1</td>\n",
              "    </tr>\n",
              "    <tr>\n",
              "      <th>230476</th>\n",
              "      <td>Детская одежда и обувь</td>\n",
              "      <td>Комбинезон</td>\n",
              "      <td>-1</td>\n",
              "    </tr>\n",
              "    <tr>\n",
              "      <th>40486</th>\n",
              "      <td>Книги и журналы</td>\n",
              "      <td>Продам книги: Фантастический детектив</td>\n",
              "      <td>-1</td>\n",
              "    </tr>\n",
              "    <tr>\n",
              "      <th>72657</th>\n",
              "      <td>Одежда, обувь, аксессуары</td>\n",
              "      <td>Новые плавки</td>\n",
              "      <td>-1</td>\n",
              "    </tr>\n",
              "    <tr>\n",
              "      <th>120890</th>\n",
              "      <td>Детская одежда и обувь</td>\n",
              "      <td>Комбинезон новый</td>\n",
              "      <td>-1</td>\n",
              "    </tr>\n",
              "    <tr>\n",
              "      <th>133052</th>\n",
              "      <td>Детская одежда и обувь</td>\n",
              "      <td>Куртка</td>\n",
              "      <td>-1</td>\n",
              "    </tr>\n",
              "    <tr>\n",
              "      <th>82312</th>\n",
              "      <td>Детская одежда и обувь</td>\n",
              "      <td>Комплект Pelican, новый</td>\n",
              "      <td>-1</td>\n",
              "    </tr>\n",
              "    <tr>\n",
              "      <th>73787</th>\n",
              "      <td>Планшеты и электронные книги</td>\n",
              "      <td>Asus fonepad 8</td>\n",
              "      <td>-1</td>\n",
              "    </tr>\n",
              "    <tr>\n",
              "      <th>182922</th>\n",
              "      <td>Одежда, обувь, аксессуары</td>\n",
              "      <td>Куртка</td>\n",
              "      <td>-1</td>\n",
              "    </tr>\n",
              "    <tr>\n",
              "      <th>155637</th>\n",
              "      <td>Кошки</td>\n",
              "      <td>Взрослая элитная кошка мейн-кун - для души</td>\n",
              "      <td>-1</td>\n",
              "    </tr>\n",
              "    <tr>\n",
              "      <th>169632</th>\n",
              "      <td>Одежда, обувь, аксессуары</td>\n",
              "      <td>Вечерний Топ на одно плечо</td>\n",
              "      <td>-1</td>\n",
              "    </tr>\n",
              "    <tr>\n",
              "      <th>89297</th>\n",
              "      <td>Мебель и интерьер</td>\n",
              "      <td>Корзина для белья Икея</td>\n",
              "      <td>-1</td>\n",
              "    </tr>\n",
              "    <tr>\n",
              "      <th>46241</th>\n",
              "      <td>Детская одежда и обувь</td>\n",
              "      <td>Кроссовки</td>\n",
              "      <td>-1</td>\n",
              "    </tr>\n",
              "    <tr>\n",
              "      <th>221422</th>\n",
              "      <td>Квартиры</td>\n",
              "      <td>Сниму 2-к квартиру</td>\n",
              "      <td>-1</td>\n",
              "    </tr>\n",
              "    <tr>\n",
              "      <th>147048</th>\n",
              "      <td>Детская одежда и обувь</td>\n",
              "      <td>Комбинезон для девочки рост 74</td>\n",
              "      <td>-1</td>\n",
              "    </tr>\n",
              "    <tr>\n",
              "      <th>18879</th>\n",
              "      <td>Билеты и путешествия</td>\n",
              "      <td>Сочи на майские</td>\n",
              "      <td>-1</td>\n",
              "    </tr>\n",
              "    <tr>\n",
              "      <th>102997</th>\n",
              "      <td>Комнаты</td>\n",
              "      <td>Комната 9 м² в 4-к, 2/2 эт.</td>\n",
              "      <td>-1</td>\n",
              "    </tr>\n",
              "    <tr>\n",
              "      <th>175772</th>\n",
              "      <td>Одежда, обувь, аксессуары</td>\n",
              "      <td>Новая блуза Serginnetti</td>\n",
              "      <td>-1</td>\n",
              "    </tr>\n",
              "    <tr>\n",
              "      <th>213305</th>\n",
              "      <td>Товары для животных</td>\n",
              "      <td>Защитный коврик для машины для перевозки собак</td>\n",
              "      <td>-1</td>\n",
              "    </tr>\n",
              "    <tr>\n",
              "      <th>111194</th>\n",
              "      <td>Планшеты и электронные книги</td>\n",
              "      <td>Новый тонкий планшет Samsung Galaxy Tab S2</td>\n",
              "      <td>-1</td>\n",
              "    </tr>\n",
              "    <tr>\n",
              "      <th>101415</th>\n",
              "      <td>Квартиры</td>\n",
              "      <td>1-к квартира, 38 м², 2/5 эт.</td>\n",
              "      <td>-1</td>\n",
              "    </tr>\n",
              "  </tbody>\n",
              "</table>\n",
              "</div>"
            ],
            "text/plain": [
              "                       category_name  ... cluster\n",
              "6314          Детская одежда и обувь  ...      -1\n",
              "109546            Коллекционирование  ...      -1\n",
              "30513         Детская одежда и обувь  ...      -1\n",
              "8107               Мебель и интерьер  ...      -1\n",
              "85141      Одежда, обувь, аксессуары  ...      -1\n",
              "160052        Детская одежда и обувь  ...      -1\n",
              "153541                      Квартиры  ...      -1\n",
              "247091    Товары для детей и игрушки  ...      -1\n",
              "81491      Одежда, обувь, аксессуары  ...      -1\n",
              "78398          Товары для компьютера  ...      -1\n",
              "66103              Земельные участки  ...      -1\n",
              "46048                       Квартиры  ...      -1\n",
              "191209             Мебель и интерьер  ...      -1\n",
              "244434        Детская одежда и обувь  ...      -1\n",
              "113646        Детская одежда и обувь  ...      -1\n",
              "38937                     Автомобили  ...      -1\n",
              "234102                      Телефоны  ...      -1\n",
              "192430     Одежда, обувь, аксессуары  ...      -1\n",
              "60057     Товары для детей и игрушки  ...      -1\n",
              "64447         Детская одежда и обувь  ...      -1\n",
              "179094                    Автомобили  ...      -1\n",
              "111404        Детская одежда и обувь  ...      -1\n",
              "5491          Детская одежда и обувь  ...      -1\n",
              "173060     Одежда, обувь, аксессуары  ...      -1\n",
              "122586        Детская одежда и обувь  ...      -1\n",
              "253100                Готовый бизнес  ...      -1\n",
              "219453                      Телефоны  ...      -1\n",
              "192630        Детская одежда и обувь  ...      -1\n",
              "148651        Детская одежда и обувь  ...      -1\n",
              "239942                 Аудио и видео  ...      -1\n",
              "230476        Детская одежда и обувь  ...      -1\n",
              "40486                Книги и журналы  ...      -1\n",
              "72657      Одежда, обувь, аксессуары  ...      -1\n",
              "120890        Детская одежда и обувь  ...      -1\n",
              "133052        Детская одежда и обувь  ...      -1\n",
              "82312         Детская одежда и обувь  ...      -1\n",
              "73787   Планшеты и электронные книги  ...      -1\n",
              "182922     Одежда, обувь, аксессуары  ...      -1\n",
              "155637                         Кошки  ...      -1\n",
              "169632     Одежда, обувь, аксессуары  ...      -1\n",
              "89297              Мебель и интерьер  ...      -1\n",
              "46241         Детская одежда и обувь  ...      -1\n",
              "221422                      Квартиры  ...      -1\n",
              "147048        Детская одежда и обувь  ...      -1\n",
              "18879           Билеты и путешествия  ...      -1\n",
              "102997                       Комнаты  ...      -1\n",
              "175772     Одежда, обувь, аксессуары  ...      -1\n",
              "213305           Товары для животных  ...      -1\n",
              "111194  Планшеты и электронные книги  ...      -1\n",
              "101415                      Квартиры  ...      -1\n",
              "\n",
              "[50 rows x 3 columns]"
            ]
          },
          "metadata": {
            "tags": []
          },
          "execution_count": 196
        }
      ]
    },
    {
      "cell_type": "markdown",
      "metadata": {
        "id": "n0a9ZJ_2YFHP",
        "colab_type": "text"
      },
      "source": [
        "Для некоторых заголовков вполне можно объяснить, почему они попали в мусорный класс. \"Кофе на вынос\", например, действительно сложно было бы отнести к категории \"Готовый бизнес\" (нет никаких значимых слов, говорящих о принадлежности к классу, и, скорее всего, подобных предложений больше не встречалось). Встречаются варианты типа \"Продам женскуюодежду\", что также определяется в мусорный класс (наверное, алгоритмы кластеризации не умеют работать с такими вот слитно написанными словами). Встречалась и просто редкая лексика, типа \"кожанка\". Учитывая, что контекс зачастую ничего не говорит о принадлежности к классу (\"Продам...\" или \"Куплю...\") - ничего удивительного. Но странно, что заголовки типа  \"Продам книги: Фантастический детектив\" не попали в отдельный кластер. Возможно, те заголовки, которые по каким-то причинам попали в мусорный кластер, обладая при этом явной принадлежностью к чему-то, не добрали по количеству и не смогли образовать собственный кластер. "
      ]
    },
    {
      "cell_type": "code",
      "metadata": {
        "id": "BApHuwm2OdXd",
        "colab_type": "code",
        "colab": {
          "base_uri": "https://localhost:8080/",
          "height": 87
        },
        "outputId": "bc89d2c9-4e79-4740-bf48-10b365b99f86"
      },
      "source": [
        "sample[sample.category_name=='Книги и журналы'].cluster.value_counts()"
      ],
      "execution_count": 198,
      "outputs": [
        {
          "output_type": "execute_result",
          "data": {
            "text/plain": [
              " 0     10\n",
              "-1      2\n",
              " 16     1\n",
              "Name: cluster, dtype: int64"
            ]
          },
          "metadata": {
            "tags": []
          },
          "execution_count": 198
        }
      ]
    },
    {
      "cell_type": "markdown",
      "metadata": {
        "id": "etBiw3XsOws7",
        "colab_type": "text"
      },
      "source": [
        "Видимо, да. Слишком мало вхождений."
      ]
    },
    {
      "cell_type": "code",
      "metadata": {
        "id": "yNSWnQQgO0b5",
        "colab_type": "code",
        "colab": {
          "base_uri": "https://localhost:8080/",
          "height": 69
        },
        "outputId": "3ae51828-1670-404c-efa8-63b73fd17300"
      },
      "source": [
        "sample[sample.category_name=='Готовый бизнес'].cluster.value_counts()"
      ],
      "execution_count": 199,
      "outputs": [
        {
          "output_type": "execute_result",
          "data": {
            "text/plain": [
              " 0    3\n",
              "-1    3\n",
              "Name: cluster, dtype: int64"
            ]
          },
          "metadata": {
            "tags": []
          },
          "execution_count": 199
        }
      ]
    },
    {
      "cell_type": "markdown",
      "metadata": {
        "id": "wOq5gTG0O55t",
        "colab_type": "text"
      },
      "source": [
        "И здесь тоже"
      ]
    },
    {
      "cell_type": "markdown",
      "metadata": {
        "id": "xRssBmTiO9UZ",
        "colab_type": "text"
      },
      "source": [
        "В общем, основная причина попадания в мусорный класс - судя по всему, недобор. Слишком мало вхождений на категорию, а значит алгоритм не может собрать кластер и считает такие штуки выбросами. "
      ]
    }
  ]
}